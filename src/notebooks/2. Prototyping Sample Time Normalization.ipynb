{
 "cells": [
  {
   "cell_type": "markdown",
   "id": "c8b22ba3",
   "metadata": {},
   "source": [
    "# 0. Reading the Data\n",
    "I will start with ride ID = 2975587283 which is the first ride of 2020 "
   ]
  },
  {
   "cell_type": "code",
   "execution_count": 1,
   "id": "ac81f785",
   "metadata": {},
   "outputs": [],
   "source": [
    "import pandas as pd\n",
    "import numpy as np\n",
    "import matplotlib.pyplot as plt\n",
    "import seaborn as sns\n",
    "\n",
    "#pd.set_option(\"display.max_rows\", 1000)\n",
    "pd.set_option(\"display.max_columns\", 100)"
   ]
  },
  {
   "cell_type": "code",
   "execution_count": 2,
   "id": "b108ed70",
   "metadata": {},
   "outputs": [],
   "source": [
    "file_paths = {'in':'../../data/processed/activities/2975587283.csv'\n",
    "             }"
   ]
  },
  {
   "cell_type": "code",
   "execution_count": 8,
   "id": "9202cfb5",
   "metadata": {},
   "outputs": [],
   "source": [
    "df = pd.read_csv(file_paths['in'])\n",
    "\n",
    "# guarantee the timestamps are datetime objects\n",
    "df['time'] = pd.to_datetime(df['time'])"
   ]
  },
  {
   "cell_type": "code",
   "execution_count": 9,
   "id": "ff42c13c",
   "metadata": {},
   "outputs": [
    {
     "data": {
      "text/html": [
       "<div>\n",
       "<style scoped>\n",
       "    .dataframe tbody tr th:only-of-type {\n",
       "        vertical-align: middle;\n",
       "    }\n",
       "\n",
       "    .dataframe tbody tr th {\n",
       "        vertical-align: top;\n",
       "    }\n",
       "\n",
       "    .dataframe thead th {\n",
       "        text-align: right;\n",
       "    }\n",
       "</style>\n",
       "<table border=\"1\" class=\"dataframe\">\n",
       "  <thead>\n",
       "    <tr style=\"text-align: right;\">\n",
       "      <th></th>\n",
       "      <th>track</th>\n",
       "      <th>segment_id</th>\n",
       "      <th>time</th>\n",
       "      <th>elevation</th>\n",
       "      <th>latitude</th>\n",
       "      <th>longitude</th>\n",
       "    </tr>\n",
       "  </thead>\n",
       "  <tbody>\n",
       "    <tr>\n",
       "      <th>0</th>\n",
       "      <td>2975587283</td>\n",
       "      <td>0</td>\n",
       "      <td>2020-01-02 14:02:58+00:00</td>\n",
       "      <td>224.3</td>\n",
       "      <td>40.042824</td>\n",
       "      <td>-83.027358</td>\n",
       "    </tr>\n",
       "    <tr>\n",
       "      <th>1</th>\n",
       "      <td>2975587283</td>\n",
       "      <td>0</td>\n",
       "      <td>2020-01-02 14:03:00+00:00</td>\n",
       "      <td>224.2</td>\n",
       "      <td>40.042877</td>\n",
       "      <td>-83.027490</td>\n",
       "    </tr>\n",
       "    <tr>\n",
       "      <th>2</th>\n",
       "      <td>2975587283</td>\n",
       "      <td>0</td>\n",
       "      <td>2020-01-02 14:03:02+00:00</td>\n",
       "      <td>224.2</td>\n",
       "      <td>40.042914</td>\n",
       "      <td>-83.027581</td>\n",
       "    </tr>\n",
       "    <tr>\n",
       "      <th>3</th>\n",
       "      <td>2975587283</td>\n",
       "      <td>0</td>\n",
       "      <td>2020-01-02 14:03:04+00:00</td>\n",
       "      <td>224.2</td>\n",
       "      <td>40.042934</td>\n",
       "      <td>-83.027644</td>\n",
       "    </tr>\n",
       "    <tr>\n",
       "      <th>4</th>\n",
       "      <td>2975587283</td>\n",
       "      <td>0</td>\n",
       "      <td>2020-01-02 14:06:04+00:00</td>\n",
       "      <td>224.2</td>\n",
       "      <td>40.042900</td>\n",
       "      <td>-83.027659</td>\n",
       "    </tr>\n",
       "  </tbody>\n",
       "</table>\n",
       "</div>"
      ],
      "text/plain": [
       "        track  segment_id                      time  elevation   latitude  \\\n",
       "0  2975587283           0 2020-01-02 14:02:58+00:00      224.3  40.042824   \n",
       "1  2975587283           0 2020-01-02 14:03:00+00:00      224.2  40.042877   \n",
       "2  2975587283           0 2020-01-02 14:03:02+00:00      224.2  40.042914   \n",
       "3  2975587283           0 2020-01-02 14:03:04+00:00      224.2  40.042934   \n",
       "4  2975587283           0 2020-01-02 14:06:04+00:00      224.2  40.042900   \n",
       "\n",
       "   longitude  \n",
       "0 -83.027358  \n",
       "1 -83.027490  \n",
       "2 -83.027581  \n",
       "3 -83.027644  \n",
       "4 -83.027659  "
      ]
     },
     "execution_count": 9,
     "metadata": {},
     "output_type": "execute_result"
    }
   ],
   "source": [
    "df.head()"
   ]
  },
  {
   "cell_type": "code",
   "execution_count": 10,
   "id": "35be6a88",
   "metadata": {},
   "outputs": [
    {
     "name": "stdout",
     "output_type": "stream",
     "text": [
      "<class 'pandas.core.frame.DataFrame'>\n",
      "RangeIndex: 872 entries, 0 to 871\n",
      "Data columns (total 6 columns):\n",
      " #   Column      Non-Null Count  Dtype              \n",
      "---  ------      --------------  -----              \n",
      " 0   track       872 non-null    int64              \n",
      " 1   segment_id  872 non-null    int64              \n",
      " 2   time        872 non-null    datetime64[ns, UTC]\n",
      " 3   elevation   872 non-null    float64            \n",
      " 4   latitude    872 non-null    float64            \n",
      " 5   longitude   872 non-null    float64            \n",
      "dtypes: datetime64[ns, UTC](1), float64(3), int64(2)\n",
      "memory usage: 41.0 KB\n"
     ]
    }
   ],
   "source": [
    "df.info()"
   ]
  },
  {
   "cell_type": "markdown",
   "id": "8f6acc15",
   "metadata": {},
   "source": [
    "# 1. Creating Delta Time"
   ]
  },
  {
   "cell_type": "code",
   "execution_count": 11,
   "id": "1a03c154",
   "metadata": {},
   "outputs": [],
   "source": [
    "# Temporarily get the number of seconds since Jan. 1, 1970 as the UTC timestamp\n",
    "df['time_utc'] = df['time'].apply(lambda x: x.timestamp())"
   ]
  },
  {
   "cell_type": "code",
   "execution_count": 12,
   "id": "01643aaa",
   "metadata": {},
   "outputs": [],
   "source": [
    "# Calculate the row-wise difference in time (in seconds)\n",
    "df['delta_time'] = df['time_utc'].diff()"
   ]
  },
  {
   "cell_type": "code",
   "execution_count": 13,
   "id": "60efccdb",
   "metadata": {},
   "outputs": [
    {
     "data": {
      "text/html": [
       "<div>\n",
       "<style scoped>\n",
       "    .dataframe tbody tr th:only-of-type {\n",
       "        vertical-align: middle;\n",
       "    }\n",
       "\n",
       "    .dataframe tbody tr th {\n",
       "        vertical-align: top;\n",
       "    }\n",
       "\n",
       "    .dataframe thead th {\n",
       "        text-align: right;\n",
       "    }\n",
       "</style>\n",
       "<table border=\"1\" class=\"dataframe\">\n",
       "  <thead>\n",
       "    <tr style=\"text-align: right;\">\n",
       "      <th></th>\n",
       "      <th>track</th>\n",
       "      <th>segment_id</th>\n",
       "      <th>time</th>\n",
       "      <th>elevation</th>\n",
       "      <th>latitude</th>\n",
       "      <th>longitude</th>\n",
       "      <th>time_utc</th>\n",
       "      <th>delta_time</th>\n",
       "    </tr>\n",
       "  </thead>\n",
       "  <tbody>\n",
       "    <tr>\n",
       "      <th>0</th>\n",
       "      <td>2975587283</td>\n",
       "      <td>0</td>\n",
       "      <td>2020-01-02 14:02:58+00:00</td>\n",
       "      <td>224.3</td>\n",
       "      <td>40.042824</td>\n",
       "      <td>-83.027358</td>\n",
       "      <td>1.577974e+09</td>\n",
       "      <td>NaN</td>\n",
       "    </tr>\n",
       "    <tr>\n",
       "      <th>1</th>\n",
       "      <td>2975587283</td>\n",
       "      <td>0</td>\n",
       "      <td>2020-01-02 14:03:00+00:00</td>\n",
       "      <td>224.2</td>\n",
       "      <td>40.042877</td>\n",
       "      <td>-83.027490</td>\n",
       "      <td>1.577974e+09</td>\n",
       "      <td>2.0</td>\n",
       "    </tr>\n",
       "    <tr>\n",
       "      <th>2</th>\n",
       "      <td>2975587283</td>\n",
       "      <td>0</td>\n",
       "      <td>2020-01-02 14:03:02+00:00</td>\n",
       "      <td>224.2</td>\n",
       "      <td>40.042914</td>\n",
       "      <td>-83.027581</td>\n",
       "      <td>1.577974e+09</td>\n",
       "      <td>2.0</td>\n",
       "    </tr>\n",
       "    <tr>\n",
       "      <th>3</th>\n",
       "      <td>2975587283</td>\n",
       "      <td>0</td>\n",
       "      <td>2020-01-02 14:03:04+00:00</td>\n",
       "      <td>224.2</td>\n",
       "      <td>40.042934</td>\n",
       "      <td>-83.027644</td>\n",
       "      <td>1.577974e+09</td>\n",
       "      <td>2.0</td>\n",
       "    </tr>\n",
       "    <tr>\n",
       "      <th>4</th>\n",
       "      <td>2975587283</td>\n",
       "      <td>0</td>\n",
       "      <td>2020-01-02 14:06:04+00:00</td>\n",
       "      <td>224.2</td>\n",
       "      <td>40.042900</td>\n",
       "      <td>-83.027659</td>\n",
       "      <td>1.577974e+09</td>\n",
       "      <td>180.0</td>\n",
       "    </tr>\n",
       "  </tbody>\n",
       "</table>\n",
       "</div>"
      ],
      "text/plain": [
       "        track  segment_id                      time  elevation   latitude  \\\n",
       "0  2975587283           0 2020-01-02 14:02:58+00:00      224.3  40.042824   \n",
       "1  2975587283           0 2020-01-02 14:03:00+00:00      224.2  40.042877   \n",
       "2  2975587283           0 2020-01-02 14:03:02+00:00      224.2  40.042914   \n",
       "3  2975587283           0 2020-01-02 14:03:04+00:00      224.2  40.042934   \n",
       "4  2975587283           0 2020-01-02 14:06:04+00:00      224.2  40.042900   \n",
       "\n",
       "   longitude      time_utc  delta_time  \n",
       "0 -83.027358  1.577974e+09         NaN  \n",
       "1 -83.027490  1.577974e+09         2.0  \n",
       "2 -83.027581  1.577974e+09         2.0  \n",
       "3 -83.027644  1.577974e+09         2.0  \n",
       "4 -83.027659  1.577974e+09       180.0  "
      ]
     },
     "execution_count": 13,
     "metadata": {},
     "output_type": "execute_result"
    }
   ],
   "source": [
    "df.head()"
   ]
  },
  {
   "cell_type": "code",
   "execution_count": 14,
   "id": "30ebaaee",
   "metadata": {},
   "outputs": [
    {
     "data": {
      "text/plain": [
       "2.0      455\n",
       "1.0      403\n",
       "3.0        8\n",
       "180.0      1\n",
       "23.0       1\n",
       "15.0       1\n",
       "10.0       1\n",
       "29.0       1\n",
       "Name: delta_time, dtype: int64"
      ]
     },
     "execution_count": 14,
     "metadata": {},
     "output_type": "execute_result"
    }
   ],
   "source": [
    "df['delta_time'].value_counts()"
   ]
  },
  {
   "cell_type": "markdown",
   "id": "903073b5",
   "metadata": {},
   "source": [
    "# 2. Creating the Elapsed Time Column"
   ]
  },
  {
   "cell_type": "code",
   "execution_count": 15,
   "id": "04231e5c",
   "metadata": {},
   "outputs": [],
   "source": [
    "# create an elapsed time column\n",
    "df['elapsed_time'] = df['delta_time'].cumsum()"
   ]
  },
  {
   "cell_type": "markdown",
   "id": "8f91a222",
   "metadata": {},
   "source": [
    "# 3. Visualize the Row-wise Time Discontinuities"
   ]
  },
  {
   "cell_type": "code",
   "execution_count": 16,
   "id": "da3da005",
   "metadata": {},
   "outputs": [
    {
     "data": {
      "image/png": "[encoded data removed]",
      "text/plain": [
       "<Figure size 576x432 with 1 Axes>"
      ]
     },
     "metadata": {
      "needs_background": "light"
     },
     "output_type": "display_data"
    }
   ],
   "source": [
    "# visualize the jumps of cumulative time \n",
    "fig = plt.figure(figsize=(8,6))\n",
    "\n",
    "_ = plt.plot(df['elapsed_time'])\n",
    "_ = plt.xlabel('Row Index', fontsize=16)\n",
    "_ = plt.ylabel('Elapsed Time (seconds)', fontsize=16)\n",
    "_ = plt.title('Time Sample Continuity', fontsize=20)\n",
    "_ = plt.grid()"
   ]
  },
  {
   "cell_type": "code",
   "execution_count": 19,
   "id": "bbb8c939",
   "metadata": {},
   "outputs": [
    {
     "data": {
      "image/png": "[encoded data removed]",
      "text/plain": [
       "<Figure size 576x216 with 1 Axes>"
      ]
     },
     "metadata": {
      "needs_background": "light"
     },
     "output_type": "display_data"
    }
   ],
   "source": [
    "# visualize the jumps of cumulative time \n",
    "fig = plt.figure(figsize=(8,3))\n",
    "\n",
    "_ = plt.plot(df.loc[0:100, 'elapsed_time'], linestyle='-', marker='.', markersize=10)\n",
    "_ = plt.xlabel('Row Index', fontsize=16)\n",
    "_ = plt.ylabel('Elapsed Time (seconds)', fontsize=16)\n",
    "_ = plt.title('Time Sample Continuity', fontsize=20)\n",
    "_ = plt.grid()"
   ]
  },
  {
   "cell_type": "markdown",
   "id": "9be0f68b",
   "metadata": {},
   "source": [
    "### Are there major discontinuities in Localization States?"
   ]
  },
  {
   "cell_type": "code",
   "execution_count": 55,
   "id": "310db82d",
   "metadata": {},
   "outputs": [],
   "source": [
    "# Calculate when the time discontinuities occur\n",
    "time_gap_threshold = 15 # seconds\n",
    "filt_time_jump = df['delta_time'] >= time_gap_threshold\n",
    "discontinuty_indices = list(df.loc[filt_time_jump, 'time'].index)"
   ]
  },
  {
   "cell_type": "code",
   "execution_count": 56,
   "id": "09045780",
   "metadata": {},
   "outputs": [],
   "source": [
    "def plot_state_by_index(df, state_column, discontinuities, figsize=(8,3), row_bounds=None, y_lim_scale=0.005):\n",
    "    fig = plt.figure(figsize=figsize)\n",
    "    # Mark the discontinuities\n",
    "    for discont_index in discontinuty_indices:\n",
    "        _ = plt.axvline(discont_index, color='r')\n",
    "    \n",
    "    # Plot the state\n",
    "    _ = plt.plot(df.loc[:, state_column], linestyle='-', marker='.', markersize=10)\n",
    "    _ = plt.xlabel('Row Index', fontsize=16)\n",
    "    _ = plt.ylabel(f'{state_column}', fontsize=16)\n",
    "    _ = plt.title(f'Time Sample Continuity of {state_column}', fontsize=20)\n",
    "    _ = plt.grid()\n",
    "    \n",
    "    # Manage the axes limits\n",
    "    if row_bounds is not None:\n",
    "        _ = plt.xlim(row_bounds)\n",
    "    else:\n",
    "        row_bounds = [0, df.shape[0]-1]\n",
    "        \n",
    "    y_min = np.min(df.loc[row_bounds, state_column])\n",
    "    y_max = np.max(df.loc[row_bounds, state_column])\n",
    "    \n",
    "    _ = plt.ylim([(1-y_lim_scale)*y_min, (1+y_lim_scale)*y_max])\n",
    "    #_ = plt.ylim([y_min, y_max])\n",
    "    "
   ]
  },
  {
   "cell_type": "code",
   "execution_count": 57,
   "id": "33c04e72",
   "metadata": {},
   "outputs": [
    {
     "data": {
      "image/png": "[encoded data removed]",
      "text/plain": [
       "<Figure size 576x216 with 1 Axes>"
      ]
     },
     "metadata": {
      "needs_background": "light"
     },
     "output_type": "display_data"
    }
   ],
   "source": [
    "plot_state_by_index(df, 'elevation', discontinuty_indices, row_bounds=[0, 100])"
   ]
  },
  {
   "cell_type": "code",
   "execution_count": 58,
   "id": "48419685",
   "metadata": {},
   "outputs": [
    {
     "data": {
      "image/png": "[encoded data removed]",
      "text/plain": [
       "<Figure size 576x216 with 1 Axes>"
      ]
     },
     "metadata": {
      "needs_background": "light"
     },
     "output_type": "display_data"
    }
   ],
   "source": [
    "plot_state_by_index(df, 'longitude', discontinuty_indices, row_bounds=[0, 100], y_lim_scale=0.00005)"
   ]
  },
  {
   "cell_type": "code",
   "execution_count": 59,
   "id": "b743070d",
   "metadata": {},
   "outputs": [
    {
     "data": {
      "image/png": "[encoded data removed]",
      "text/plain": [
       "<Figure size 576x216 with 1 Axes>"
      ]
     },
     "metadata": {
      "needs_background": "light"
     },
     "output_type": "display_data"
    }
   ],
   "source": [
    "plot_state_by_index(df, 'latitude', discontinuty_indices, row_bounds=[0, 100], y_lim_scale=0.00005)"
   ]
  },
  {
   "cell_type": "markdown",
   "id": "894a0923",
   "metadata": {},
   "source": [
    "# 4. Segment ID Creation\n",
    "For every segment of the ride where `delta_time` < `time_gap_threshold`, we need to assign an "
   ]
  },
  {
   "cell_type": "code",
   "execution_count": 60,
   "id": "29adc544",
   "metadata": {},
   "outputs": [
    {
     "data": {
      "text/html": [
       "<div>\n",
       "<style scoped>\n",
       "    .dataframe tbody tr th:only-of-type {\n",
       "        vertical-align: middle;\n",
       "    }\n",
       "\n",
       "    .dataframe tbody tr th {\n",
       "        vertical-align: top;\n",
       "    }\n",
       "\n",
       "    .dataframe thead th {\n",
       "        text-align: right;\n",
       "    }\n",
       "</style>\n",
       "<table border=\"1\" class=\"dataframe\">\n",
       "  <thead>\n",
       "    <tr style=\"text-align: right;\">\n",
       "      <th></th>\n",
       "      <th>track</th>\n",
       "      <th>segment_id</th>\n",
       "      <th>time</th>\n",
       "      <th>elevation</th>\n",
       "      <th>latitude</th>\n",
       "      <th>longitude</th>\n",
       "      <th>time_utc</th>\n",
       "      <th>delta_time</th>\n",
       "      <th>elapsed_time</th>\n",
       "    </tr>\n",
       "  </thead>\n",
       "  <tbody>\n",
       "    <tr>\n",
       "      <th>0</th>\n",
       "      <td>2975587283</td>\n",
       "      <td>0</td>\n",
       "      <td>2020-01-02 14:02:58+00:00</td>\n",
       "      <td>224.3</td>\n",
       "      <td>40.042824</td>\n",
       "      <td>-83.027358</td>\n",
       "      <td>1.577974e+09</td>\n",
       "      <td>NaN</td>\n",
       "      <td>NaN</td>\n",
       "    </tr>\n",
       "    <tr>\n",
       "      <th>1</th>\n",
       "      <td>2975587283</td>\n",
       "      <td>0</td>\n",
       "      <td>2020-01-02 14:03:00+00:00</td>\n",
       "      <td>224.2</td>\n",
       "      <td>40.042877</td>\n",
       "      <td>-83.027490</td>\n",
       "      <td>1.577974e+09</td>\n",
       "      <td>2.0</td>\n",
       "      <td>2.0</td>\n",
       "    </tr>\n",
       "    <tr>\n",
       "      <th>2</th>\n",
       "      <td>2975587283</td>\n",
       "      <td>0</td>\n",
       "      <td>2020-01-02 14:03:02+00:00</td>\n",
       "      <td>224.2</td>\n",
       "      <td>40.042914</td>\n",
       "      <td>-83.027581</td>\n",
       "      <td>1.577974e+09</td>\n",
       "      <td>2.0</td>\n",
       "      <td>4.0</td>\n",
       "    </tr>\n",
       "    <tr>\n",
       "      <th>3</th>\n",
       "      <td>2975587283</td>\n",
       "      <td>0</td>\n",
       "      <td>2020-01-02 14:03:04+00:00</td>\n",
       "      <td>224.2</td>\n",
       "      <td>40.042934</td>\n",
       "      <td>-83.027644</td>\n",
       "      <td>1.577974e+09</td>\n",
       "      <td>2.0</td>\n",
       "      <td>6.0</td>\n",
       "    </tr>\n",
       "    <tr>\n",
       "      <th>4</th>\n",
       "      <td>2975587283</td>\n",
       "      <td>0</td>\n",
       "      <td>2020-01-02 14:06:04+00:00</td>\n",
       "      <td>224.2</td>\n",
       "      <td>40.042900</td>\n",
       "      <td>-83.027659</td>\n",
       "      <td>1.577974e+09</td>\n",
       "      <td>180.0</td>\n",
       "      <td>186.0</td>\n",
       "    </tr>\n",
       "  </tbody>\n",
       "</table>\n",
       "</div>"
      ],
      "text/plain": [
       "        track  segment_id                      time  elevation   latitude  \\\n",
       "0  2975587283           0 2020-01-02 14:02:58+00:00      224.3  40.042824   \n",
       "1  2975587283           0 2020-01-02 14:03:00+00:00      224.2  40.042877   \n",
       "2  2975587283           0 2020-01-02 14:03:02+00:00      224.2  40.042914   \n",
       "3  2975587283           0 2020-01-02 14:03:04+00:00      224.2  40.042934   \n",
       "4  2975587283           0 2020-01-02 14:06:04+00:00      224.2  40.042900   \n",
       "\n",
       "   longitude      time_utc  delta_time  elapsed_time  \n",
       "0 -83.027358  1.577974e+09         NaN           NaN  \n",
       "1 -83.027490  1.577974e+09         2.0           2.0  \n",
       "2 -83.027581  1.577974e+09         2.0           4.0  \n",
       "3 -83.027644  1.577974e+09         2.0           6.0  \n",
       "4 -83.027659  1.577974e+09       180.0         186.0  "
      ]
     },
     "execution_count": 60,
     "metadata": {},
     "output_type": "execute_result"
    }
   ],
   "source": [
    "df.head()"
   ]
  },
  {
   "cell_type": "code",
   "execution_count": null,
   "id": "ed777581",
   "metadata": {},
   "outputs": [],
   "source": []
  },
  {
   "cell_type": "code",
   "execution_count": null,
   "id": "38705dff",
   "metadata": {},
   "outputs": [],
   "source": []
  },
  {
   "cell_type": "code",
   "execution_count": null,
   "id": "9257119f",
   "metadata": {},
   "outputs": [],
   "source": []
  }
 ],
 "metadata": {
  "kernelspec": {
   "display_name": "Python 3 (ipykernel)",
   "language": "python",
   "name": "python3"
  },
  "language_info": {
   "codemirror_mode": {
    "name": "ipython",
    "version": 3
   },
   "file_extension": ".py",
   "mimetype": "text/x-python",
   "name": "python",
   "nbconvert_exporter": "python",
   "pygments_lexer": "ipython3",
   "version": "3.10.1"
  }
 },
 "nbformat": 4,
 "nbformat_minor": 5
}
