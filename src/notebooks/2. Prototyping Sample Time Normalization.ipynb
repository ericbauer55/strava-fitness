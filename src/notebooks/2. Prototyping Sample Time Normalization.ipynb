{
 "cells": [
  {
   "cell_type": "code",
   "execution_count": 1,
   "id": "39a1d3f0",
   "metadata": {},
   "outputs": [],
   "source": [
    "import pandas as pd\n",
    "import numpy as np\n",
    "import matplotlib.pyplot as plt\n",
    "import seaborn as sns\n",
    "\n",
    "#pd.set_option(\"display.max_rows\", 1000)\n",
    "pd.set_option(\"display.max_columns\", 100)"
   ]
  },
  {
   "cell_type": "code",
   "execution_count": 2,
   "id": "e17d1d08",
   "metadata": {},
   "outputs": [],
   "source": [
    "file_paths = {'in':'../../data/processed/activities/2975587283.csv'\n",
    "             }"
   ]
  },
  {
   "cell_type": "code",
   "execution_count": 8,
   "id": "9473b321",
   "metadata": {},
   "outputs": [],
   "source": [
    "df = pd.read_csv(file_paths['in'])\n",
    "\n",
    "# guarantee the timestamps are datetime objects\n",
    "df['time'] = pd.to_datetime(df['time'])"
   ]
  },
  {
   "cell_type": "code",
   "execution_count": 9,
   "id": "7aa0a4a0",
   "metadata": {},
   "outputs": [
    {
     "data": {
      "text/html": [
       "<div>\n",
       "<style scoped>\n",
       "    .dataframe tbody tr th:only-of-type {\n",
       "        vertical-align: middle;\n",
       "    }\n",
       "\n",
       "    .dataframe tbody tr th {\n",
       "        vertical-align: top;\n",
       "    }\n",
       "\n",
       "    .dataframe thead th {\n",
       "        text-align: right;\n",
       "    }\n",
       "</style>\n",
       "<table border=\"1\" class=\"dataframe\">\n",
       "  <thead>\n",
       "    <tr style=\"text-align: right;\">\n",
       "      <th></th>\n",
       "      <th>track</th>\n",
       "      <th>segment_id</th>\n",
       "      <th>time</th>\n",
       "      <th>elevation</th>\n",
       "      <th>latitude</th>\n",
       "      <th>longitude</th>\n",
       "    </tr>\n",
       "  </thead>\n",
       "  <tbody>\n",
       "    <tr>\n",
       "      <th>0</th>\n",
       "      <td>2975587283</td>\n",
       "      <td>0</td>\n",
       "      <td>2020-01-02 14:02:58+00:00</td>\n",
       "      <td>224.3</td>\n",
       "      <td>40.042824</td>\n",
       "      <td>-83.027358</td>\n",
       "    </tr>\n",
       "    <tr>\n",
       "      <th>1</th>\n",
       "      <td>2975587283</td>\n",
       "      <td>0</td>\n",
       "      <td>2020-01-02 14:03:00+00:00</td>\n",
       "      <td>224.2</td>\n",
       "      <td>40.042877</td>\n",
       "      <td>-83.027490</td>\n",
       "    </tr>\n",
       "    <tr>\n",
       "      <th>2</th>\n",
       "      <td>2975587283</td>\n",
       "      <td>0</td>\n",
       "      <td>2020-01-02 14:03:02+00:00</td>\n",
       "      <td>224.2</td>\n",
       "      <td>40.042914</td>\n",
       "      <td>-83.027581</td>\n",
       "    </tr>\n",
       "    <tr>\n",
       "      <th>3</th>\n",
       "      <td>2975587283</td>\n",
       "      <td>0</td>\n",
       "      <td>2020-01-02 14:03:04+00:00</td>\n",
       "      <td>224.2</td>\n",
       "      <td>40.042934</td>\n",
       "      <td>-83.027644</td>\n",
       "    </tr>\n",
       "    <tr>\n",
       "      <th>4</th>\n",
       "      <td>2975587283</td>\n",
       "      <td>0</td>\n",
       "      <td>2020-01-02 14:06:04+00:00</td>\n",
       "      <td>224.2</td>\n",
       "      <td>40.042900</td>\n",
       "      <td>-83.027659</td>\n",
       "    </tr>\n",
       "  </tbody>\n",
       "</table>\n",
       "</div>"
      ],
      "text/plain": [
       "        track  segment_id                      time  elevation   latitude  \\\n",
       "0  2975587283           0 2020-01-02 14:02:58+00:00      224.3  40.042824   \n",
       "1  2975587283           0 2020-01-02 14:03:00+00:00      224.2  40.042877   \n",
       "2  2975587283           0 2020-01-02 14:03:02+00:00      224.2  40.042914   \n",
       "3  2975587283           0 2020-01-02 14:03:04+00:00      224.2  40.042934   \n",
       "4  2975587283           0 2020-01-02 14:06:04+00:00      224.2  40.042900   \n",
       "\n",
       "   longitude  \n",
       "0 -83.027358  \n",
       "1 -83.027490  \n",
       "2 -83.027581  \n",
       "3 -83.027644  \n",
       "4 -83.027659  "
      ]
     },
     "execution_count": 9,
     "metadata": {},
     "output_type": "execute_result"
    }
   ],
   "source": [
    "df.head()"
   ]
  },
  {
   "cell_type": "code",
   "execution_count": 10,
   "id": "b19eb64b",
   "metadata": {},
   "outputs": [
    {
     "name": "stdout",
     "output_type": "stream",
     "text": [
      "<class 'pandas.core.frame.DataFrame'>\n",
      "RangeIndex: 872 entries, 0 to 871\n",
      "Data columns (total 6 columns):\n",
      " #   Column      Non-Null Count  Dtype              \n",
      "---  ------      --------------  -----              \n",
      " 0   track       872 non-null    int64              \n",
      " 1   segment_id  872 non-null    int64              \n",
      " 2   time        872 non-null    datetime64[ns, UTC]\n",
      " 3   elevation   872 non-null    float64            \n",
      " 4   latitude    872 non-null    float64            \n",
      " 5   longitude   872 non-null    float64            \n",
      "dtypes: datetime64[ns, UTC](1), float64(3), int64(2)\n",
      "memory usage: 41.0 KB\n"
     ]
    }
   ],
   "source": [
    "df.info()"
   ]
  },
  {
   "cell_type": "code",
   "execution_count": null,
   "id": "7e1ac045",
   "metadata": {},
   "outputs": [],
   "source": []
  }
 ],
 "metadata": {
  "kernelspec": {
   "display_name": "Python 3 (ipykernel)",
   "language": "python",
   "name": "python3"
  },
  "language_info": {
   "codemirror_mode": {
    "name": "ipython",
    "version": 3
   },
   "file_extension": ".py",
   "mimetype": "text/x-python",
   "name": "python",
   "nbconvert_exporter": "python",
   "pygments_lexer": "ipython3",
   "version": "3.10.1"
  }
 },
 "nbformat": 4,
 "nbformat_minor": 5
}
