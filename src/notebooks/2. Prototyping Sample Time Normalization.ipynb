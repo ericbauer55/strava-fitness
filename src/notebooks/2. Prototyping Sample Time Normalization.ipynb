{
 "cells": [
  {
   "cell_type": "markdown",
   "id": "f84036ec",
   "metadata": {},
   "source": [
    "# 0. Reading the Data\n",
    "I will start with ride ID = 2975587283 which is the first ride of 2020 "
   ]
  },
  {
   "cell_type": "code",
   "execution_count": 1,
   "id": "fb9d8cc7",
   "metadata": {},
   "outputs": [],
   "source": [
    "import pandas as pd\n",
    "import numpy as np\n",
    "import matplotlib.pyplot as plt\n",
    "import seaborn as sns\n",
    "\n",
    "#pd.set_option(\"display.max_rows\", 1000)\n",
    "pd.set_option(\"display.max_columns\", 100)"
   ]
  },
  {
   "cell_type": "code",
   "execution_count": 2,
   "id": "acd0f3b2",
   "metadata": {},
   "outputs": [],
   "source": [
    "file_paths = {'in':'../../data/processed/activities/2975587283.csv'\n",
    "             }"
   ]
  },
  {
   "cell_type": "code",
   "execution_count": 3,
   "id": "cbf15715",
   "metadata": {},
   "outputs": [],
   "source": [
    "df = pd.read_csv(file_paths['in'])\n",
    "\n",
    "# guarantee the timestamps are datetime objects\n",
    "df['time'] = pd.to_datetime(df['time'])"
   ]
  },
  {
   "cell_type": "code",
   "execution_count": 4,
   "id": "7ce6fbf3",
   "metadata": {},
   "outputs": [
    {
     "data": {
      "text/html": [
       "<div>\n",
       "<style scoped>\n",
       "    .dataframe tbody tr th:only-of-type {\n",
       "        vertical-align: middle;\n",
       "    }\n",
       "\n",
       "    .dataframe tbody tr th {\n",
       "        vertical-align: top;\n",
       "    }\n",
       "\n",
       "    .dataframe thead th {\n",
       "        text-align: right;\n",
       "    }\n",
       "</style>\n",
       "<table border=\"1\" class=\"dataframe\">\n",
       "  <thead>\n",
       "    <tr style=\"text-align: right;\">\n",
       "      <th></th>\n",
       "      <th>ride_id</th>\n",
       "      <th>segment_id</th>\n",
       "      <th>time</th>\n",
       "      <th>elevation</th>\n",
       "      <th>latitude</th>\n",
       "      <th>longitude</th>\n",
       "    </tr>\n",
       "  </thead>\n",
       "  <tbody>\n",
       "    <tr>\n",
       "      <th>0</th>\n",
       "      <td>2975587283</td>\n",
       "      <td>-1</td>\n",
       "      <td>2020-01-02 14:02:58+00:00</td>\n",
       "      <td>224.3</td>\n",
       "      <td>40.042824</td>\n",
       "      <td>-83.027358</td>\n",
       "    </tr>\n",
       "    <tr>\n",
       "      <th>1</th>\n",
       "      <td>2975587283</td>\n",
       "      <td>-1</td>\n",
       "      <td>2020-01-02 14:03:00+00:00</td>\n",
       "      <td>224.2</td>\n",
       "      <td>40.042877</td>\n",
       "      <td>-83.027490</td>\n",
       "    </tr>\n",
       "    <tr>\n",
       "      <th>2</th>\n",
       "      <td>2975587283</td>\n",
       "      <td>-1</td>\n",
       "      <td>2020-01-02 14:03:02+00:00</td>\n",
       "      <td>224.2</td>\n",
       "      <td>40.042914</td>\n",
       "      <td>-83.027581</td>\n",
       "    </tr>\n",
       "    <tr>\n",
       "      <th>3</th>\n",
       "      <td>2975587283</td>\n",
       "      <td>-1</td>\n",
       "      <td>2020-01-02 14:03:04+00:00</td>\n",
       "      <td>224.2</td>\n",
       "      <td>40.042934</td>\n",
       "      <td>-83.027644</td>\n",
       "    </tr>\n",
       "    <tr>\n",
       "      <th>4</th>\n",
       "      <td>2975587283</td>\n",
       "      <td>-1</td>\n",
       "      <td>2020-01-02 14:06:04+00:00</td>\n",
       "      <td>224.2</td>\n",
       "      <td>40.042900</td>\n",
       "      <td>-83.027659</td>\n",
       "    </tr>\n",
       "  </tbody>\n",
       "</table>\n",
       "</div>"
      ],
      "text/plain": [
       "      ride_id  segment_id                      time  elevation   latitude  \\\n",
       "0  2975587283          -1 2020-01-02 14:02:58+00:00      224.3  40.042824   \n",
       "1  2975587283          -1 2020-01-02 14:03:00+00:00      224.2  40.042877   \n",
       "2  2975587283          -1 2020-01-02 14:03:02+00:00      224.2  40.042914   \n",
       "3  2975587283          -1 2020-01-02 14:03:04+00:00      224.2  40.042934   \n",
       "4  2975587283          -1 2020-01-02 14:06:04+00:00      224.2  40.042900   \n",
       "\n",
       "   longitude  \n",
       "0 -83.027358  \n",
       "1 -83.027490  \n",
       "2 -83.027581  \n",
       "3 -83.027644  \n",
       "4 -83.027659  "
      ]
     },
     "execution_count": 4,
     "metadata": {},
     "output_type": "execute_result"
    }
   ],
   "source": [
    "df.head()"
   ]
  },
  {
   "cell_type": "code",
   "execution_count": 5,
   "id": "5f4a3337",
   "metadata": {},
   "outputs": [
    {
     "name": "stdout",
     "output_type": "stream",
     "text": [
      "<class 'pandas.core.frame.DataFrame'>\n",
      "RangeIndex: 872 entries, 0 to 871\n",
      "Data columns (total 6 columns):\n",
      " #   Column      Non-Null Count  Dtype              \n",
      "---  ------      --------------  -----              \n",
      " 0   ride_id     872 non-null    int64              \n",
      " 1   segment_id  872 non-null    int64              \n",
      " 2   time        872 non-null    datetime64[ns, UTC]\n",
      " 3   elevation   872 non-null    float64            \n",
      " 4   latitude    872 non-null    float64            \n",
      " 5   longitude   872 non-null    float64            \n",
      "dtypes: datetime64[ns, UTC](1), float64(3), int64(2)\n",
      "memory usage: 41.0 KB\n"
     ]
    }
   ],
   "source": [
    "df.info()"
   ]
  },
  {
   "cell_type": "markdown",
   "id": "6cd1704f",
   "metadata": {},
   "source": [
    "# 1. Creating Delta Time"
   ]
  },
  {
   "cell_type": "code",
   "execution_count": 6,
   "id": "8402562d",
   "metadata": {},
   "outputs": [],
   "source": [
    "# first ensure that the dataframe is chronologically sorted\n",
    "df = df.set_index('time').sort_index().reset_index()"
   ]
  },
  {
   "cell_type": "code",
   "execution_count": 7,
   "id": "6420abee",
   "metadata": {},
   "outputs": [],
   "source": [
    "# Temporarily get the number of seconds since Jan. 1, 1970 as the UTC timestamp\n",
    "df['time_utc'] = df['time'].apply(lambda x: x.timestamp())"
   ]
  },
  {
   "cell_type": "code",
   "execution_count": 8,
   "id": "4de3efa2",
   "metadata": {},
   "outputs": [],
   "source": [
    "# Calculate the row-wise difference in time (in seconds)\n",
    "df['delta_time'] = df['time_utc'].diff()"
   ]
  },
  {
   "cell_type": "code",
   "execution_count": 9,
   "id": "69f4accd",
   "metadata": {},
   "outputs": [
    {
     "data": {
      "text/html": [
       "<div>\n",
       "<style scoped>\n",
       "    .dataframe tbody tr th:only-of-type {\n",
       "        vertical-align: middle;\n",
       "    }\n",
       "\n",
       "    .dataframe tbody tr th {\n",
       "        vertical-align: top;\n",
       "    }\n",
       "\n",
       "    .dataframe thead th {\n",
       "        text-align: right;\n",
       "    }\n",
       "</style>\n",
       "<table border=\"1\" class=\"dataframe\">\n",
       "  <thead>\n",
       "    <tr style=\"text-align: right;\">\n",
       "      <th></th>\n",
       "      <th>time</th>\n",
       "      <th>ride_id</th>\n",
       "      <th>segment_id</th>\n",
       "      <th>elevation</th>\n",
       "      <th>latitude</th>\n",
       "      <th>longitude</th>\n",
       "      <th>time_utc</th>\n",
       "      <th>delta_time</th>\n",
       "    </tr>\n",
       "  </thead>\n",
       "  <tbody>\n",
       "    <tr>\n",
       "      <th>0</th>\n",
       "      <td>2020-01-02 14:02:58+00:00</td>\n",
       "      <td>2975587283</td>\n",
       "      <td>-1</td>\n",
       "      <td>224.3</td>\n",
       "      <td>40.042824</td>\n",
       "      <td>-83.027358</td>\n",
       "      <td>1.577974e+09</td>\n",
       "      <td>NaN</td>\n",
       "    </tr>\n",
       "    <tr>\n",
       "      <th>1</th>\n",
       "      <td>2020-01-02 14:03:00+00:00</td>\n",
       "      <td>2975587283</td>\n",
       "      <td>-1</td>\n",
       "      <td>224.2</td>\n",
       "      <td>40.042877</td>\n",
       "      <td>-83.027490</td>\n",
       "      <td>1.577974e+09</td>\n",
       "      <td>2.0</td>\n",
       "    </tr>\n",
       "    <tr>\n",
       "      <th>2</th>\n",
       "      <td>2020-01-02 14:03:02+00:00</td>\n",
       "      <td>2975587283</td>\n",
       "      <td>-1</td>\n",
       "      <td>224.2</td>\n",
       "      <td>40.042914</td>\n",
       "      <td>-83.027581</td>\n",
       "      <td>1.577974e+09</td>\n",
       "      <td>2.0</td>\n",
       "    </tr>\n",
       "    <tr>\n",
       "      <th>3</th>\n",
       "      <td>2020-01-02 14:03:04+00:00</td>\n",
       "      <td>2975587283</td>\n",
       "      <td>-1</td>\n",
       "      <td>224.2</td>\n",
       "      <td>40.042934</td>\n",
       "      <td>-83.027644</td>\n",
       "      <td>1.577974e+09</td>\n",
       "      <td>2.0</td>\n",
       "    </tr>\n",
       "    <tr>\n",
       "      <th>4</th>\n",
       "      <td>2020-01-02 14:06:04+00:00</td>\n",
       "      <td>2975587283</td>\n",
       "      <td>-1</td>\n",
       "      <td>224.2</td>\n",
       "      <td>40.042900</td>\n",
       "      <td>-83.027659</td>\n",
       "      <td>1.577974e+09</td>\n",
       "      <td>180.0</td>\n",
       "    </tr>\n",
       "  </tbody>\n",
       "</table>\n",
       "</div>"
      ],
      "text/plain": [
       "                       time     ride_id  segment_id  elevation   latitude  \\\n",
       "0 2020-01-02 14:02:58+00:00  2975587283          -1      224.3  40.042824   \n",
       "1 2020-01-02 14:03:00+00:00  2975587283          -1      224.2  40.042877   \n",
       "2 2020-01-02 14:03:02+00:00  2975587283          -1      224.2  40.042914   \n",
       "3 2020-01-02 14:03:04+00:00  2975587283          -1      224.2  40.042934   \n",
       "4 2020-01-02 14:06:04+00:00  2975587283          -1      224.2  40.042900   \n",
       "\n",
       "   longitude      time_utc  delta_time  \n",
       "0 -83.027358  1.577974e+09         NaN  \n",
       "1 -83.027490  1.577974e+09         2.0  \n",
       "2 -83.027581  1.577974e+09         2.0  \n",
       "3 -83.027644  1.577974e+09         2.0  \n",
       "4 -83.027659  1.577974e+09       180.0  "
      ]
     },
     "execution_count": 9,
     "metadata": {},
     "output_type": "execute_result"
    }
   ],
   "source": [
    "df.head()"
   ]
  },
  {
   "cell_type": "code",
   "execution_count": 10,
   "id": "ce0e10a1",
   "metadata": {},
   "outputs": [
    {
     "data": {
      "text/plain": [
       "2.0      455\n",
       "1.0      403\n",
       "3.0        8\n",
       "180.0      1\n",
       "23.0       1\n",
       "15.0       1\n",
       "10.0       1\n",
       "29.0       1\n",
       "Name: delta_time, dtype: int64"
      ]
     },
     "execution_count": 10,
     "metadata": {},
     "output_type": "execute_result"
    }
   ],
   "source": [
    "df['delta_time'].value_counts()"
   ]
  },
  {
   "cell_type": "code",
   "execution_count": 11,
   "id": "98d42d70",
   "metadata": {},
   "outputs": [],
   "source": [
    "# drop the temporary time column\n",
    "df.drop(['time_utc'], axis=1, inplace=True)"
   ]
  },
  {
   "cell_type": "code",
   "execution_count": 12,
   "id": "1eb0b441",
   "metadata": {},
   "outputs": [],
   "source": [
    "# fill in the initial value of delta_time with 1.0\n",
    "df['delta_time'] = df['delta_time'].fillna(1.0)"
   ]
  },
  {
   "cell_type": "code",
   "execution_count": 32,
   "id": "212ba73b",
   "metadata": {},
   "outputs": [],
   "source": [
    "# Capturing this as a function to re-use later\n",
    "def create_delta_time(df, time_column='time', fill_first=1.0):\n",
    "    # Temporarily get the number of seconds since Jan. 1, 1970 as the UTC timestamp\n",
    "    df['time_utc'] = df[time_column].apply(lambda x: x.timestamp())\n",
    "    \n",
    "    # Calculate the row-wise difference in time (in seconds)\n",
    "    df['delta_time'] = df['time_utc'].diff()\n",
    "    \n",
    "    # drop the temporary time column\n",
    "    df.drop(['time_utc'], axis=1, inplace=True)\n",
    "    \n",
    "    # fill in the initial value of delta_time with @fill_first\n",
    "    df['delta_time'] = df['delta_time'].fillna(fill_first)\n",
    "    \n",
    "    return df['delta_time']"
   ]
  },
  {
   "cell_type": "code",
   "execution_count": null,
   "id": "430a6bf9",
   "metadata": {},
   "outputs": [],
   "source": []
  },
  {
   "cell_type": "code",
   "execution_count": null,
   "id": "2947e74b",
   "metadata": {},
   "outputs": [],
   "source": []
  },
  {
   "cell_type": "markdown",
   "id": "af827ac8",
   "metadata": {},
   "source": [
    "# 2. Creating the Elapsed Time Column"
   ]
  },
  {
   "cell_type": "code",
   "execution_count": 13,
   "id": "8429734c",
   "metadata": {},
   "outputs": [],
   "source": [
    "# create an elapsed time column\n",
    "df['elapsed_time'] = df['delta_time'].cumsum()"
   ]
  },
  {
   "cell_type": "markdown",
   "id": "abca1e57",
   "metadata": {},
   "source": [
    "# 3. Visualize the Row-wise Time Discontinuities"
   ]
  },
  {
   "cell_type": "code",
   "execution_count": 14,
   "id": "bc589fad",
   "metadata": {},
   "outputs": [
    {
     "data": {
      "image/png": "[encoded data removed]",
      "text/plain": [
       "<Figure size 576x432 with 1 Axes>"
      ]
     },
     "metadata": {
      "needs_background": "light"
     },
     "output_type": "display_data"
    }
   ],
   "source": [
    "# visualize the jumps of cumulative time \n",
    "fig = plt.figure(figsize=(8,6))\n",
    "\n",
    "_ = plt.plot(df['elapsed_time'])\n",
    "_ = plt.xlabel('Row Index', fontsize=16)\n",
    "_ = plt.ylabel('Elapsed Time (seconds)', fontsize=16)\n",
    "_ = plt.title('Time Sample Continuity', fontsize=20)\n",
    "_ = plt.grid()"
   ]
  },
  {
   "cell_type": "code",
   "execution_count": 15,
   "id": "8da4a8f5",
   "metadata": {},
   "outputs": [
    {
     "data": {
      "image/png": "[encoded data removed]",
      "text/plain": [
       "<Figure size 576x216 with 1 Axes>"
      ]
     },
     "metadata": {
      "needs_background": "light"
     },
     "output_type": "display_data"
    }
   ],
   "source": [
    "# visualize the jumps of cumulative time \n",
    "fig = plt.figure(figsize=(8,3))\n",
    "\n",
    "_ = plt.plot(df.loc[0:100, 'elapsed_time'], linestyle='-', marker='.', markersize=10)\n",
    "_ = plt.xlabel('Row Index', fontsize=16)\n",
    "_ = plt.ylabel('Elapsed Time (seconds)', fontsize=16)\n",
    "_ = plt.title('Time Sample Continuity', fontsize=20)\n",
    "_ = plt.grid()"
   ]
  },
  {
   "cell_type": "markdown",
   "id": "63be9826",
   "metadata": {},
   "source": [
    "### Are there major discontinuities in Localization States?"
   ]
  },
  {
   "cell_type": "code",
   "execution_count": 16,
   "id": "7b63abd7",
   "metadata": {},
   "outputs": [],
   "source": [
    "def get_time_gap_indices(df, time_gap_threshold=15):\n",
    "    # Calculate when the time discontinuities occur\n",
    "    filt_time_jump = df['delta_time'] >= time_gap_threshold\n",
    "    time_gap_indices = list(df.loc[filt_time_jump, 'time'].index)\n",
    "    return time_gap_indices"
   ]
  },
  {
   "cell_type": "code",
   "execution_count": 17,
   "id": "98c79458",
   "metadata": {},
   "outputs": [],
   "source": [
    "time_gap_indices = get_time_gap_indices(df, time_gap_threshold=15)"
   ]
  },
  {
   "cell_type": "code",
   "execution_count": 18,
   "id": "84a13b3f",
   "metadata": {},
   "outputs": [],
   "source": [
    "def plot_state_by_index(df, state_column, discontinuities, figsize=(8,3), row_bounds=None, y_lim_scale=0.005):\n",
    "    fig = plt.figure(figsize=figsize)\n",
    "    # Mark the discontinuities\n",
    "    for discont_index in discontinuities:\n",
    "        _ = plt.axvline(discont_index, color='r')\n",
    "    \n",
    "    # Plot the state\n",
    "    _ = plt.plot(df.loc[:, state_column], linestyle='-', marker='.', markersize=10)\n",
    "    _ = plt.xlabel('Row Index', fontsize=16)\n",
    "    _ = plt.ylabel(f'{state_column}', fontsize=16)\n",
    "    _ = plt.title(f'Time Sample Continuity of {state_column}', fontsize=20)\n",
    "    _ = plt.grid()\n",
    "    \n",
    "    # Manage the axes limits\n",
    "    if row_bounds is not None:\n",
    "        _ = plt.xlim(row_bounds)\n",
    "    else:\n",
    "        row_bounds = [0, df.shape[0]-1]\n",
    "        \n",
    "    y_min = np.min(df.loc[row_bounds, state_column])\n",
    "    y_max = np.max(df.loc[row_bounds, state_column])\n",
    "    \n",
    "    _ = plt.ylim([(1-y_lim_scale)*y_min, (1+y_lim_scale)*y_max])\n",
    "    "
   ]
  },
  {
   "cell_type": "code",
   "execution_count": 19,
   "id": "ac15115a",
   "metadata": {},
   "outputs": [
    {
     "data": {
      "image/png": "[encoded data removed]",
      "text/plain": [
       "<Figure size 576x216 with 1 Axes>"
      ]
     },
     "metadata": {
      "needs_background": "light"
     },
     "output_type": "display_data"
    }
   ],
   "source": [
    "plot_state_by_index(df, 'elevation', time_gap_indices, row_bounds=[0, 100])"
   ]
  },
  {
   "cell_type": "code",
   "execution_count": 20,
   "id": "a1223ded",
   "metadata": {},
   "outputs": [
    {
     "data": {
      "image/png": "[encoded data removed]",
      "text/plain": [
       "<Figure size 576x216 with 1 Axes>"
      ]
     },
     "metadata": {
      "needs_background": "light"
     },
     "output_type": "display_data"
    }
   ],
   "source": [
    "plot_state_by_index(df, 'longitude', time_gap_indices, row_bounds=[0, 100], y_lim_scale=0.00005)"
   ]
  },
  {
   "cell_type": "code",
   "execution_count": 21,
   "id": "c96ccb8e",
   "metadata": {},
   "outputs": [
    {
     "data": {
      "image/png": "[encoded data removed]",
      "text/plain": [
       "<Figure size 576x216 with 1 Axes>"
      ]
     },
     "metadata": {
      "needs_background": "light"
     },
     "output_type": "display_data"
    }
   ],
   "source": [
    "plot_state_by_index(df, 'latitude', time_gap_indices, row_bounds=[0, 100], y_lim_scale=0.00005)"
   ]
  },
  {
   "cell_type": "markdown",
   "id": "542941dc",
   "metadata": {},
   "source": [
    "# 4. Segment ID Creation\n",
    "For every segment of the ride where `delta_time` < `time_gap_threshold`, we need to assign it a locally unique, increasing ID. \n",
    "\n",
    "For a segment to be globally unique, concatentate the `ride_id` and `segment_id`"
   ]
  },
  {
   "cell_type": "code",
   "execution_count": 22,
   "id": "93aeb263",
   "metadata": {},
   "outputs": [
    {
     "data": {
      "text/html": [
       "<div>\n",
       "<style scoped>\n",
       "    .dataframe tbody tr th:only-of-type {\n",
       "        vertical-align: middle;\n",
       "    }\n",
       "\n",
       "    .dataframe tbody tr th {\n",
       "        vertical-align: top;\n",
       "    }\n",
       "\n",
       "    .dataframe thead th {\n",
       "        text-align: right;\n",
       "    }\n",
       "</style>\n",
       "<table border=\"1\" class=\"dataframe\">\n",
       "  <thead>\n",
       "    <tr style=\"text-align: right;\">\n",
       "      <th></th>\n",
       "      <th>time</th>\n",
       "      <th>ride_id</th>\n",
       "      <th>segment_id</th>\n",
       "      <th>elevation</th>\n",
       "      <th>latitude</th>\n",
       "      <th>longitude</th>\n",
       "      <th>delta_time</th>\n",
       "      <th>elapsed_time</th>\n",
       "    </tr>\n",
       "  </thead>\n",
       "  <tbody>\n",
       "    <tr>\n",
       "      <th>0</th>\n",
       "      <td>2020-01-02 14:02:58+00:00</td>\n",
       "      <td>2975587283</td>\n",
       "      <td>-1</td>\n",
       "      <td>224.3</td>\n",
       "      <td>40.042824</td>\n",
       "      <td>-83.027358</td>\n",
       "      <td>1.0</td>\n",
       "      <td>1.0</td>\n",
       "    </tr>\n",
       "    <tr>\n",
       "      <th>1</th>\n",
       "      <td>2020-01-02 14:03:00+00:00</td>\n",
       "      <td>2975587283</td>\n",
       "      <td>-1</td>\n",
       "      <td>224.2</td>\n",
       "      <td>40.042877</td>\n",
       "      <td>-83.027490</td>\n",
       "      <td>2.0</td>\n",
       "      <td>3.0</td>\n",
       "    </tr>\n",
       "    <tr>\n",
       "      <th>2</th>\n",
       "      <td>2020-01-02 14:03:02+00:00</td>\n",
       "      <td>2975587283</td>\n",
       "      <td>-1</td>\n",
       "      <td>224.2</td>\n",
       "      <td>40.042914</td>\n",
       "      <td>-83.027581</td>\n",
       "      <td>2.0</td>\n",
       "      <td>5.0</td>\n",
       "    </tr>\n",
       "    <tr>\n",
       "      <th>3</th>\n",
       "      <td>2020-01-02 14:03:04+00:00</td>\n",
       "      <td>2975587283</td>\n",
       "      <td>-1</td>\n",
       "      <td>224.2</td>\n",
       "      <td>40.042934</td>\n",
       "      <td>-83.027644</td>\n",
       "      <td>2.0</td>\n",
       "      <td>7.0</td>\n",
       "    </tr>\n",
       "    <tr>\n",
       "      <th>4</th>\n",
       "      <td>2020-01-02 14:06:04+00:00</td>\n",
       "      <td>2975587283</td>\n",
       "      <td>-1</td>\n",
       "      <td>224.2</td>\n",
       "      <td>40.042900</td>\n",
       "      <td>-83.027659</td>\n",
       "      <td>180.0</td>\n",
       "      <td>187.0</td>\n",
       "    </tr>\n",
       "  </tbody>\n",
       "</table>\n",
       "</div>"
      ],
      "text/plain": [
       "                       time     ride_id  segment_id  elevation   latitude  \\\n",
       "0 2020-01-02 14:02:58+00:00  2975587283          -1      224.3  40.042824   \n",
       "1 2020-01-02 14:03:00+00:00  2975587283          -1      224.2  40.042877   \n",
       "2 2020-01-02 14:03:02+00:00  2975587283          -1      224.2  40.042914   \n",
       "3 2020-01-02 14:03:04+00:00  2975587283          -1      224.2  40.042934   \n",
       "4 2020-01-02 14:06:04+00:00  2975587283          -1      224.2  40.042900   \n",
       "\n",
       "   longitude  delta_time  elapsed_time  \n",
       "0 -83.027358         1.0           1.0  \n",
       "1 -83.027490         2.0           3.0  \n",
       "2 -83.027581         2.0           5.0  \n",
       "3 -83.027644         2.0           7.0  \n",
       "4 -83.027659       180.0         187.0  "
      ]
     },
     "execution_count": 22,
     "metadata": {},
     "output_type": "execute_result"
    }
   ],
   "source": [
    "df.head()"
   ]
  },
  {
   "cell_type": "code",
   "execution_count": 23,
   "id": "3827d2b1",
   "metadata": {},
   "outputs": [],
   "source": [
    "# get the time gap indices\n",
    "time_gap_indices = get_time_gap_indices(df, time_gap_threshold=15)\n",
    "\n",
    "# intialize the initial segment_id. to be incremented for each region of continuous data\n",
    "segment_id_counter = 0\n",
    "# initialize the starting index of the first segment\n",
    "segment_start_index = 0\n",
    "\n",
    "for time_gap_index in time_gap_indices:\n",
    "    # Assign the Segment ID\n",
    "    df.loc[segment_start_index:time_gap_index-1, 'segment_id'] = segment_id_counter\n",
    "    \n",
    "    # update the segment_id counter and start index\n",
    "    segment_id_counter += 1\n",
    "    segment_start_index = time_gap_index\n",
    "    \n",
    "# Since segment_id == -1 by default, this represents the final segment of activity once parsed\n",
    "df['segment_id'] = df['segment_id'].replace({-1:segment_id_counter})\n",
    "\n",
    "# Since the delta_time column is no longer needed to detect discontinuities,\n",
    "# Drop delta_time so we can rebuild it at a segment_id level\n",
    "df.drop(['delta_time'], axis=1, inplace=True)"
   ]
  },
  {
   "cell_type": "code",
   "execution_count": 24,
   "id": "1009094d",
   "metadata": {},
   "outputs": [
    {
     "data": {
      "text/plain": [
       "[4, 36, 219, 869]"
      ]
     },
     "execution_count": 24,
     "metadata": {},
     "output_type": "execute_result"
    }
   ],
   "source": [
    "time_gap_indices"
   ]
  },
  {
   "cell_type": "code",
   "execution_count": 25,
   "id": "45397d11",
   "metadata": {},
   "outputs": [
    {
     "data": {
      "text/html": [
       "<div>\n",
       "<style scoped>\n",
       "    .dataframe tbody tr th:only-of-type {\n",
       "        vertical-align: middle;\n",
       "    }\n",
       "\n",
       "    .dataframe tbody tr th {\n",
       "        vertical-align: top;\n",
       "    }\n",
       "\n",
       "    .dataframe thead th {\n",
       "        text-align: right;\n",
       "    }\n",
       "</style>\n",
       "<table border=\"1\" class=\"dataframe\">\n",
       "  <thead>\n",
       "    <tr style=\"text-align: right;\">\n",
       "      <th></th>\n",
       "      <th>time</th>\n",
       "      <th>ride_id</th>\n",
       "      <th>segment_id</th>\n",
       "      <th>elevation</th>\n",
       "      <th>latitude</th>\n",
       "      <th>longitude</th>\n",
       "      <th>elapsed_time</th>\n",
       "    </tr>\n",
       "  </thead>\n",
       "  <tbody>\n",
       "    <tr>\n",
       "      <th>0</th>\n",
       "      <td>2020-01-02 14:02:58+00:00</td>\n",
       "      <td>2975587283</td>\n",
       "      <td>0</td>\n",
       "      <td>224.3</td>\n",
       "      <td>40.042824</td>\n",
       "      <td>-83.027358</td>\n",
       "      <td>1.0</td>\n",
       "    </tr>\n",
       "    <tr>\n",
       "      <th>1</th>\n",
       "      <td>2020-01-02 14:03:00+00:00</td>\n",
       "      <td>2975587283</td>\n",
       "      <td>0</td>\n",
       "      <td>224.2</td>\n",
       "      <td>40.042877</td>\n",
       "      <td>-83.027490</td>\n",
       "      <td>3.0</td>\n",
       "    </tr>\n",
       "    <tr>\n",
       "      <th>2</th>\n",
       "      <td>2020-01-02 14:03:02+00:00</td>\n",
       "      <td>2975587283</td>\n",
       "      <td>0</td>\n",
       "      <td>224.2</td>\n",
       "      <td>40.042914</td>\n",
       "      <td>-83.027581</td>\n",
       "      <td>5.0</td>\n",
       "    </tr>\n",
       "    <tr>\n",
       "      <th>3</th>\n",
       "      <td>2020-01-02 14:03:04+00:00</td>\n",
       "      <td>2975587283</td>\n",
       "      <td>0</td>\n",
       "      <td>224.2</td>\n",
       "      <td>40.042934</td>\n",
       "      <td>-83.027644</td>\n",
       "      <td>7.0</td>\n",
       "    </tr>\n",
       "    <tr>\n",
       "      <th>4</th>\n",
       "      <td>2020-01-02 14:06:04+00:00</td>\n",
       "      <td>2975587283</td>\n",
       "      <td>1</td>\n",
       "      <td>224.2</td>\n",
       "      <td>40.042900</td>\n",
       "      <td>-83.027659</td>\n",
       "      <td>187.0</td>\n",
       "    </tr>\n",
       "    <tr>\n",
       "      <th>5</th>\n",
       "      <td>2020-01-02 14:06:05+00:00</td>\n",
       "      <td>2975587283</td>\n",
       "      <td>1</td>\n",
       "      <td>224.2</td>\n",
       "      <td>40.042889</td>\n",
       "      <td>-83.027639</td>\n",
       "      <td>188.0</td>\n",
       "    </tr>\n",
       "    <tr>\n",
       "      <th>6</th>\n",
       "      <td>2020-01-02 14:06:07+00:00</td>\n",
       "      <td>2975587283</td>\n",
       "      <td>1</td>\n",
       "      <td>224.2</td>\n",
       "      <td>40.042880</td>\n",
       "      <td>-83.027603</td>\n",
       "      <td>190.0</td>\n",
       "    </tr>\n",
       "    <tr>\n",
       "      <th>7</th>\n",
       "      <td>2020-01-02 14:06:08+00:00</td>\n",
       "      <td>2975587283</td>\n",
       "      <td>1</td>\n",
       "      <td>224.2</td>\n",
       "      <td>40.042873</td>\n",
       "      <td>-83.027558</td>\n",
       "      <td>191.0</td>\n",
       "    </tr>\n",
       "    <tr>\n",
       "      <th>8</th>\n",
       "      <td>2020-01-02 14:06:09+00:00</td>\n",
       "      <td>2975587283</td>\n",
       "      <td>1</td>\n",
       "      <td>224.2</td>\n",
       "      <td>40.042868</td>\n",
       "      <td>-83.027484</td>\n",
       "      <td>192.0</td>\n",
       "    </tr>\n",
       "    <tr>\n",
       "      <th>9</th>\n",
       "      <td>2020-01-02 14:06:11+00:00</td>\n",
       "      <td>2975587283</td>\n",
       "      <td>1</td>\n",
       "      <td>224.2</td>\n",
       "      <td>40.042868</td>\n",
       "      <td>-83.027436</td>\n",
       "      <td>194.0</td>\n",
       "    </tr>\n",
       "  </tbody>\n",
       "</table>\n",
       "</div>"
      ],
      "text/plain": [
       "                       time     ride_id  segment_id  elevation   latitude  \\\n",
       "0 2020-01-02 14:02:58+00:00  2975587283           0      224.3  40.042824   \n",
       "1 2020-01-02 14:03:00+00:00  2975587283           0      224.2  40.042877   \n",
       "2 2020-01-02 14:03:02+00:00  2975587283           0      224.2  40.042914   \n",
       "3 2020-01-02 14:03:04+00:00  2975587283           0      224.2  40.042934   \n",
       "4 2020-01-02 14:06:04+00:00  2975587283           1      224.2  40.042900   \n",
       "5 2020-01-02 14:06:05+00:00  2975587283           1      224.2  40.042889   \n",
       "6 2020-01-02 14:06:07+00:00  2975587283           1      224.2  40.042880   \n",
       "7 2020-01-02 14:06:08+00:00  2975587283           1      224.2  40.042873   \n",
       "8 2020-01-02 14:06:09+00:00  2975587283           1      224.2  40.042868   \n",
       "9 2020-01-02 14:06:11+00:00  2975587283           1      224.2  40.042868   \n",
       "\n",
       "   longitude  elapsed_time  \n",
       "0 -83.027358           1.0  \n",
       "1 -83.027490           3.0  \n",
       "2 -83.027581           5.0  \n",
       "3 -83.027644           7.0  \n",
       "4 -83.027659         187.0  \n",
       "5 -83.027639         188.0  \n",
       "6 -83.027603         190.0  \n",
       "7 -83.027558         191.0  \n",
       "8 -83.027484         192.0  \n",
       "9 -83.027436         194.0  "
      ]
     },
     "execution_count": 25,
     "metadata": {},
     "output_type": "execute_result"
    }
   ],
   "source": [
    "df.head(10)"
   ]
  },
  {
   "cell_type": "code",
   "execution_count": 26,
   "id": "cd58ae45",
   "metadata": {},
   "outputs": [
    {
     "data": {
      "text/html": [
       "<div>\n",
       "<style scoped>\n",
       "    .dataframe tbody tr th:only-of-type {\n",
       "        vertical-align: middle;\n",
       "    }\n",
       "\n",
       "    .dataframe tbody tr th {\n",
       "        vertical-align: top;\n",
       "    }\n",
       "\n",
       "    .dataframe thead th {\n",
       "        text-align: right;\n",
       "    }\n",
       "</style>\n",
       "<table border=\"1\" class=\"dataframe\">\n",
       "  <thead>\n",
       "    <tr style=\"text-align: right;\">\n",
       "      <th></th>\n",
       "      <th>time</th>\n",
       "      <th>ride_id</th>\n",
       "      <th>segment_id</th>\n",
       "      <th>elevation</th>\n",
       "      <th>latitude</th>\n",
       "      <th>longitude</th>\n",
       "      <th>elapsed_time</th>\n",
       "    </tr>\n",
       "  </thead>\n",
       "  <tbody>\n",
       "    <tr>\n",
       "      <th>862</th>\n",
       "      <td>2020-01-02 14:28:49+00:00</td>\n",
       "      <td>2975587283</td>\n",
       "      <td>3</td>\n",
       "      <td>223.7</td>\n",
       "      <td>40.043144</td>\n",
       "      <td>-83.027953</td>\n",
       "      <td>1552.0</td>\n",
       "    </tr>\n",
       "    <tr>\n",
       "      <th>863</th>\n",
       "      <td>2020-01-02 14:28:50+00:00</td>\n",
       "      <td>2975587283</td>\n",
       "      <td>3</td>\n",
       "      <td>223.7</td>\n",
       "      <td>40.043104</td>\n",
       "      <td>-83.027921</td>\n",
       "      <td>1553.0</td>\n",
       "    </tr>\n",
       "    <tr>\n",
       "      <th>864</th>\n",
       "      <td>2020-01-02 14:28:51+00:00</td>\n",
       "      <td>2975587283</td>\n",
       "      <td>3</td>\n",
       "      <td>223.7</td>\n",
       "      <td>40.043072</td>\n",
       "      <td>-83.027885</td>\n",
       "      <td>1554.0</td>\n",
       "    </tr>\n",
       "    <tr>\n",
       "      <th>865</th>\n",
       "      <td>2020-01-02 14:28:52+00:00</td>\n",
       "      <td>2975587283</td>\n",
       "      <td>3</td>\n",
       "      <td>223.7</td>\n",
       "      <td>40.043038</td>\n",
       "      <td>-83.027843</td>\n",
       "      <td>1555.0</td>\n",
       "    </tr>\n",
       "    <tr>\n",
       "      <th>866</th>\n",
       "      <td>2020-01-02 14:28:53+00:00</td>\n",
       "      <td>2975587283</td>\n",
       "      <td>3</td>\n",
       "      <td>223.7</td>\n",
       "      <td>40.043006</td>\n",
       "      <td>-83.027813</td>\n",
       "      <td>1556.0</td>\n",
       "    </tr>\n",
       "    <tr>\n",
       "      <th>867</th>\n",
       "      <td>2020-01-02 14:28:55+00:00</td>\n",
       "      <td>2975587283</td>\n",
       "      <td>3</td>\n",
       "      <td>223.8</td>\n",
       "      <td>40.042975</td>\n",
       "      <td>-83.027800</td>\n",
       "      <td>1558.0</td>\n",
       "    </tr>\n",
       "    <tr>\n",
       "      <th>868</th>\n",
       "      <td>2020-01-02 14:28:57+00:00</td>\n",
       "      <td>2975587283</td>\n",
       "      <td>3</td>\n",
       "      <td>223.8</td>\n",
       "      <td>40.042950</td>\n",
       "      <td>-83.027788</td>\n",
       "      <td>1560.0</td>\n",
       "    </tr>\n",
       "    <tr>\n",
       "      <th>869</th>\n",
       "      <td>2020-01-02 14:29:26+00:00</td>\n",
       "      <td>2975587283</td>\n",
       "      <td>4</td>\n",
       "      <td>223.8</td>\n",
       "      <td>40.042963</td>\n",
       "      <td>-83.027746</td>\n",
       "      <td>1589.0</td>\n",
       "    </tr>\n",
       "    <tr>\n",
       "      <th>870</th>\n",
       "      <td>2020-01-02 14:29:29+00:00</td>\n",
       "      <td>2975587283</td>\n",
       "      <td>4</td>\n",
       "      <td>223.8</td>\n",
       "      <td>40.042928</td>\n",
       "      <td>-83.027765</td>\n",
       "      <td>1592.0</td>\n",
       "    </tr>\n",
       "    <tr>\n",
       "      <th>871</th>\n",
       "      <td>2020-01-02 14:29:32+00:00</td>\n",
       "      <td>2975587283</td>\n",
       "      <td>4</td>\n",
       "      <td>223.8</td>\n",
       "      <td>40.042954</td>\n",
       "      <td>-83.027747</td>\n",
       "      <td>1595.0</td>\n",
       "    </tr>\n",
       "  </tbody>\n",
       "</table>\n",
       "</div>"
      ],
      "text/plain": [
       "                         time     ride_id  segment_id  elevation   latitude  \\\n",
       "862 2020-01-02 14:28:49+00:00  2975587283           3      223.7  40.043144   \n",
       "863 2020-01-02 14:28:50+00:00  2975587283           3      223.7  40.043104   \n",
       "864 2020-01-02 14:28:51+00:00  2975587283           3      223.7  40.043072   \n",
       "865 2020-01-02 14:28:52+00:00  2975587283           3      223.7  40.043038   \n",
       "866 2020-01-02 14:28:53+00:00  2975587283           3      223.7  40.043006   \n",
       "867 2020-01-02 14:28:55+00:00  2975587283           3      223.8  40.042975   \n",
       "868 2020-01-02 14:28:57+00:00  2975587283           3      223.8  40.042950   \n",
       "869 2020-01-02 14:29:26+00:00  2975587283           4      223.8  40.042963   \n",
       "870 2020-01-02 14:29:29+00:00  2975587283           4      223.8  40.042928   \n",
       "871 2020-01-02 14:29:32+00:00  2975587283           4      223.8  40.042954   \n",
       "\n",
       "     longitude  elapsed_time  \n",
       "862 -83.027953        1552.0  \n",
       "863 -83.027921        1553.0  \n",
       "864 -83.027885        1554.0  \n",
       "865 -83.027843        1555.0  \n",
       "866 -83.027813        1556.0  \n",
       "867 -83.027800        1558.0  \n",
       "868 -83.027788        1560.0  \n",
       "869 -83.027746        1589.0  \n",
       "870 -83.027765        1592.0  \n",
       "871 -83.027747        1595.0  "
      ]
     },
     "execution_count": 26,
     "metadata": {},
     "output_type": "execute_result"
    }
   ],
   "source": [
    "df.tail(10)"
   ]
  },
  {
   "cell_type": "code",
   "execution_count": 27,
   "id": "7f4cbafd",
   "metadata": {},
   "outputs": [
    {
     "data": {
      "text/plain": [
       "3    650\n",
       "2    183\n",
       "1     32\n",
       "0      4\n",
       "4      3\n",
       "Name: segment_id, dtype: int64"
      ]
     },
     "execution_count": 27,
     "metadata": {},
     "output_type": "execute_result"
    }
   ],
   "source": [
    "df['segment_id'].value_counts()"
   ]
  },
  {
   "cell_type": "markdown",
   "id": "0c2f12ec",
   "metadata": {},
   "source": [
    "# 5. Time Resampling"
   ]
  },
  {
   "cell_type": "code",
   "execution_count": 28,
   "id": "eed4a354",
   "metadata": {},
   "outputs": [],
   "source": [
    "# set the timestamp as the index for the dataframe\n",
    "df = df.set_index('time')"
   ]
  },
  {
   "cell_type": "code",
   "execution_count": 29,
   "id": "99b6ed10",
   "metadata": {},
   "outputs": [
    {
     "data": {
      "text/html": [
       "<div>\n",
       "<style scoped>\n",
       "    .dataframe tbody tr th:only-of-type {\n",
       "        vertical-align: middle;\n",
       "    }\n",
       "\n",
       "    .dataframe tbody tr th {\n",
       "        vertical-align: top;\n",
       "    }\n",
       "\n",
       "    .dataframe thead th {\n",
       "        text-align: right;\n",
       "    }\n",
       "</style>\n",
       "<table border=\"1\" class=\"dataframe\">\n",
       "  <thead>\n",
       "    <tr style=\"text-align: right;\">\n",
       "      <th></th>\n",
       "      <th>ride_id</th>\n",
       "      <th>segment_id</th>\n",
       "      <th>elevation</th>\n",
       "      <th>latitude</th>\n",
       "      <th>longitude</th>\n",
       "      <th>elapsed_time</th>\n",
       "    </tr>\n",
       "    <tr>\n",
       "      <th>time</th>\n",
       "      <th></th>\n",
       "      <th></th>\n",
       "      <th></th>\n",
       "      <th></th>\n",
       "      <th></th>\n",
       "      <th></th>\n",
       "    </tr>\n",
       "  </thead>\n",
       "  <tbody>\n",
       "    <tr>\n",
       "      <th>2020-01-02 14:02:58+00:00</th>\n",
       "      <td>2975587283</td>\n",
       "      <td>0</td>\n",
       "      <td>224.3</td>\n",
       "      <td>40.042824</td>\n",
       "      <td>-83.027358</td>\n",
       "      <td>1.0</td>\n",
       "    </tr>\n",
       "    <tr>\n",
       "      <th>2020-01-02 14:03:00+00:00</th>\n",
       "      <td>2975587283</td>\n",
       "      <td>0</td>\n",
       "      <td>224.2</td>\n",
       "      <td>40.042877</td>\n",
       "      <td>-83.027490</td>\n",
       "      <td>3.0</td>\n",
       "    </tr>\n",
       "    <tr>\n",
       "      <th>2020-01-02 14:03:02+00:00</th>\n",
       "      <td>2975587283</td>\n",
       "      <td>0</td>\n",
       "      <td>224.2</td>\n",
       "      <td>40.042914</td>\n",
       "      <td>-83.027581</td>\n",
       "      <td>5.0</td>\n",
       "    </tr>\n",
       "    <tr>\n",
       "      <th>2020-01-02 14:03:04+00:00</th>\n",
       "      <td>2975587283</td>\n",
       "      <td>0</td>\n",
       "      <td>224.2</td>\n",
       "      <td>40.042934</td>\n",
       "      <td>-83.027644</td>\n",
       "      <td>7.0</td>\n",
       "    </tr>\n",
       "    <tr>\n",
       "      <th>2020-01-02 14:06:04+00:00</th>\n",
       "      <td>2975587283</td>\n",
       "      <td>1</td>\n",
       "      <td>224.2</td>\n",
       "      <td>40.042900</td>\n",
       "      <td>-83.027659</td>\n",
       "      <td>187.0</td>\n",
       "    </tr>\n",
       "  </tbody>\n",
       "</table>\n",
       "</div>"
      ],
      "text/plain": [
       "                              ride_id  segment_id  elevation   latitude  \\\n",
       "time                                                                      \n",
       "2020-01-02 14:02:58+00:00  2975587283           0      224.3  40.042824   \n",
       "2020-01-02 14:03:00+00:00  2975587283           0      224.2  40.042877   \n",
       "2020-01-02 14:03:02+00:00  2975587283           0      224.2  40.042914   \n",
       "2020-01-02 14:03:04+00:00  2975587283           0      224.2  40.042934   \n",
       "2020-01-02 14:06:04+00:00  2975587283           1      224.2  40.042900   \n",
       "\n",
       "                           longitude  elapsed_time  \n",
       "time                                                \n",
       "2020-01-02 14:02:58+00:00 -83.027358           1.0  \n",
       "2020-01-02 14:03:00+00:00 -83.027490           3.0  \n",
       "2020-01-02 14:03:02+00:00 -83.027581           5.0  \n",
       "2020-01-02 14:03:04+00:00 -83.027644           7.0  \n",
       "2020-01-02 14:06:04+00:00 -83.027659         187.0  "
      ]
     },
     "execution_count": 29,
     "metadata": {},
     "output_type": "execute_result"
    }
   ],
   "source": [
    "df.head()"
   ]
  },
  {
   "cell_type": "code",
   "execution_count": 30,
   "id": "e5d76779",
   "metadata": {},
   "outputs": [
    {
     "data": {
      "text/plain": [
       "(872, 6)"
      ]
     },
     "execution_count": 30,
     "metadata": {},
     "output_type": "execute_result"
    }
   ],
   "source": [
    "df.shape"
   ]
  },
  {
   "cell_type": "code",
   "execution_count": 31,
   "id": "bd98efa7",
   "metadata": {},
   "outputs": [
    {
     "data": {
      "text/html": [
       "<div>\n",
       "<style scoped>\n",
       "    .dataframe tbody tr th:only-of-type {\n",
       "        vertical-align: middle;\n",
       "    }\n",
       "\n",
       "    .dataframe tbody tr th {\n",
       "        vertical-align: top;\n",
       "    }\n",
       "\n",
       "    .dataframe thead th {\n",
       "        text-align: right;\n",
       "    }\n",
       "</style>\n",
       "<table border=\"1\" class=\"dataframe\">\n",
       "  <thead>\n",
       "    <tr style=\"text-align: right;\">\n",
       "      <th></th>\n",
       "      <th>ride_id</th>\n",
       "      <th>segment_id</th>\n",
       "      <th>elevation</th>\n",
       "      <th>latitude</th>\n",
       "      <th>longitude</th>\n",
       "      <th>elapsed_time</th>\n",
       "    </tr>\n",
       "    <tr>\n",
       "      <th>time</th>\n",
       "      <th></th>\n",
       "      <th></th>\n",
       "      <th></th>\n",
       "      <th></th>\n",
       "      <th></th>\n",
       "      <th></th>\n",
       "    </tr>\n",
       "  </thead>\n",
       "  <tbody>\n",
       "    <tr>\n",
       "      <th>2020-01-02 14:02:58+00:00</th>\n",
       "      <td>2.975587e+09</td>\n",
       "      <td>0.0</td>\n",
       "      <td>224.30</td>\n",
       "      <td>40.042824</td>\n",
       "      <td>-83.027358</td>\n",
       "      <td>1.0</td>\n",
       "    </tr>\n",
       "    <tr>\n",
       "      <th>2020-01-02 14:02:59+00:00</th>\n",
       "      <td>2.975587e+09</td>\n",
       "      <td>0.0</td>\n",
       "      <td>224.25</td>\n",
       "      <td>40.042851</td>\n",
       "      <td>-83.027424</td>\n",
       "      <td>2.0</td>\n",
       "    </tr>\n",
       "    <tr>\n",
       "      <th>2020-01-02 14:03:00+00:00</th>\n",
       "      <td>2.975587e+09</td>\n",
       "      <td>0.0</td>\n",
       "      <td>224.20</td>\n",
       "      <td>40.042877</td>\n",
       "      <td>-83.027490</td>\n",
       "      <td>3.0</td>\n",
       "    </tr>\n",
       "    <tr>\n",
       "      <th>2020-01-02 14:03:01+00:00</th>\n",
       "      <td>2.975587e+09</td>\n",
       "      <td>0.0</td>\n",
       "      <td>224.20</td>\n",
       "      <td>40.042896</td>\n",
       "      <td>-83.027535</td>\n",
       "      <td>4.0</td>\n",
       "    </tr>\n",
       "    <tr>\n",
       "      <th>2020-01-02 14:03:02+00:00</th>\n",
       "      <td>2.975587e+09</td>\n",
       "      <td>0.0</td>\n",
       "      <td>224.20</td>\n",
       "      <td>40.042914</td>\n",
       "      <td>-83.027581</td>\n",
       "      <td>5.0</td>\n",
       "    </tr>\n",
       "    <tr>\n",
       "      <th>...</th>\n",
       "      <td>...</td>\n",
       "      <td>...</td>\n",
       "      <td>...</td>\n",
       "      <td>...</td>\n",
       "      <td>...</td>\n",
       "      <td>...</td>\n",
       "    </tr>\n",
       "    <tr>\n",
       "      <th>2020-01-02 14:29:28+00:00</th>\n",
       "      <td>2.975587e+09</td>\n",
       "      <td>4.0</td>\n",
       "      <td>223.80</td>\n",
       "      <td>40.042940</td>\n",
       "      <td>-83.027759</td>\n",
       "      <td>1591.0</td>\n",
       "    </tr>\n",
       "    <tr>\n",
       "      <th>2020-01-02 14:29:29+00:00</th>\n",
       "      <td>2.975587e+09</td>\n",
       "      <td>4.0</td>\n",
       "      <td>223.80</td>\n",
       "      <td>40.042928</td>\n",
       "      <td>-83.027765</td>\n",
       "      <td>1592.0</td>\n",
       "    </tr>\n",
       "    <tr>\n",
       "      <th>2020-01-02 14:29:30+00:00</th>\n",
       "      <td>2.975587e+09</td>\n",
       "      <td>4.0</td>\n",
       "      <td>223.80</td>\n",
       "      <td>40.042937</td>\n",
       "      <td>-83.027759</td>\n",
       "      <td>1593.0</td>\n",
       "    </tr>\n",
       "    <tr>\n",
       "      <th>2020-01-02 14:29:31+00:00</th>\n",
       "      <td>2.975587e+09</td>\n",
       "      <td>4.0</td>\n",
       "      <td>223.80</td>\n",
       "      <td>40.042945</td>\n",
       "      <td>-83.027753</td>\n",
       "      <td>1594.0</td>\n",
       "    </tr>\n",
       "    <tr>\n",
       "      <th>2020-01-02 14:29:32+00:00</th>\n",
       "      <td>2.975587e+09</td>\n",
       "      <td>4.0</td>\n",
       "      <td>223.80</td>\n",
       "      <td>40.042954</td>\n",
       "      <td>-83.027747</td>\n",
       "      <td>1595.0</td>\n",
       "    </tr>\n",
       "  </tbody>\n",
       "</table>\n",
       "<p>1595 rows × 6 columns</p>\n",
       "</div>"
      ],
      "text/plain": [
       "                                ride_id  segment_id  elevation   latitude  \\\n",
       "time                                                                        \n",
       "2020-01-02 14:02:58+00:00  2.975587e+09         0.0     224.30  40.042824   \n",
       "2020-01-02 14:02:59+00:00  2.975587e+09         0.0     224.25  40.042851   \n",
       "2020-01-02 14:03:00+00:00  2.975587e+09         0.0     224.20  40.042877   \n",
       "2020-01-02 14:03:01+00:00  2.975587e+09         0.0     224.20  40.042896   \n",
       "2020-01-02 14:03:02+00:00  2.975587e+09         0.0     224.20  40.042914   \n",
       "...                                 ...         ...        ...        ...   \n",
       "2020-01-02 14:29:28+00:00  2.975587e+09         4.0     223.80  40.042940   \n",
       "2020-01-02 14:29:29+00:00  2.975587e+09         4.0     223.80  40.042928   \n",
       "2020-01-02 14:29:30+00:00  2.975587e+09         4.0     223.80  40.042937   \n",
       "2020-01-02 14:29:31+00:00  2.975587e+09         4.0     223.80  40.042945   \n",
       "2020-01-02 14:29:32+00:00  2.975587e+09         4.0     223.80  40.042954   \n",
       "\n",
       "                           longitude  elapsed_time  \n",
       "time                                                \n",
       "2020-01-02 14:02:58+00:00 -83.027358           1.0  \n",
       "2020-01-02 14:02:59+00:00 -83.027424           2.0  \n",
       "2020-01-02 14:03:00+00:00 -83.027490           3.0  \n",
       "2020-01-02 14:03:01+00:00 -83.027535           4.0  \n",
       "2020-01-02 14:03:02+00:00 -83.027581           5.0  \n",
       "...                              ...           ...  \n",
       "2020-01-02 14:29:28+00:00 -83.027759        1591.0  \n",
       "2020-01-02 14:29:29+00:00 -83.027765        1592.0  \n",
       "2020-01-02 14:29:30+00:00 -83.027759        1593.0  \n",
       "2020-01-02 14:29:31+00:00 -83.027753        1594.0  \n",
       "2020-01-02 14:29:32+00:00 -83.027747        1595.0  \n",
       "\n",
       "[1595 rows x 6 columns]"
      ]
     },
     "execution_count": 31,
     "metadata": {},
     "output_type": "execute_result"
    }
   ],
   "source": [
    "# Test resampling to 1 second across the entire dataframe\n",
    "df.resample('S').interpolate(method ='linear', limit_direction ='forward')"
   ]
  },
  {
   "cell_type": "code",
   "execution_count": 37,
   "id": "b5ab854c",
   "metadata": {},
   "outputs": [],
   "source": [
    "# Pandas equivalent of a Window Function in SQL\n",
    "def apply_func_over_window(df, func, partition_by, order_by):\n",
    "    partition_dict = _partition_dataframe(df, partition_by=partition_by)\n",
    "    partition_dict = _apply_to_partitions(partition_dict=partition_dict, func=func)\n",
    "    df = _combine_partitions(partition_dict=partition_dict, order_by=order_by)\n",
    "    return df\n",
    "\n",
    "def _partition_dataframe(df, partition_by):\n",
    "    df_grouped = df.groupby(partition_by)\n",
    "    groups = df_grouped.groups.keys()\n",
    "    # build the partitioned dataframe where key=categories of @on_column\n",
    "    # and the values are the dataframes where @on_column == category_i\n",
    "    partition_dict = {group:df_grouped.get_group(group) for group in groups}\n",
    "    return partition_dict\n",
    "\n",
    "def _apply_to_partitions(partition_dict, func):\n",
    "    for partition in partition_dict.keys():\n",
    "        # For each group/partition of the partition\n",
    "        partition_dict[partition] = func(partition_dict[partition])\n",
    "    return partition_dict\n",
    "\n",
    "def _combine_partitions(partition_dict, order_by):\n",
    "    # Gather the various dataframes of each partition\n",
    "    dataframes = [df_partition for df_partition in partition_dict.values()]\n",
    "    df = pd.concat(dataframes)\n",
    "    # sort the rows by @sort_by\n",
    "    df = df.set_index(order_by).sort_index().reset_index()\n",
    "    return df"
   ]
  },
  {
   "cell_type": "code",
   "execution_count": 42,
   "id": "eced551c",
   "metadata": {},
   "outputs": [],
   "source": [
    "import pandas as pd\n",
    "from typing import Callable, Dict, List, Optional, Any\n",
    "# Type Aliases\n",
    "Dataframe = pd.DataFrame\n",
    "Transform = Callable[[Dataframe], Dataframe] # f: Dataframe -> Dataframe\n",
    "Partition = Dict[Any, Dataframe]\n",
    "\n",
    "class PandasWindow():\n",
    "    def __init__(self, partition_by:str, order_by:str) -> None:\n",
    "        self.partition_by = partition_by\n",
    "        self.order_by = order_by\n",
    "    \n",
    "    def apply_func(self, df:Dataframe, func:Transform) -> Dataframe:\n",
    "        # PARTITION\n",
    "        partition_dict = self._partition_dataframe(df)\n",
    "        # APPLY\n",
    "        partition_dict = self._apply_to_partitions(partition_dict=partition_dict, func=func)\n",
    "        # COMBINE\n",
    "        df = self._combine_partitions(partition_dict=partition_dict)\n",
    "        return df\n",
    "    \n",
    "    def _partition_dataframe(self, df:Dataframe) -> Partition:\n",
    "        df_grouped = df.groupby(self.partition_by)\n",
    "        groups = df_grouped.groups.keys()\n",
    "        # build the partitioned dataframe where key=categories of @on_column\n",
    "        # and the values are the dataframes where @on_column == category_i\n",
    "        partition_dict = {group:df_grouped.get_group(group) for group in groups}\n",
    "        return partition_dict\n",
    "    \n",
    "    @staticmethod\n",
    "    def _apply_to_partitions(partition_dict:Partition, func:Transform) -> Partition:\n",
    "        for partition in partition_dict.keys():\n",
    "            # For each group/partition of the partition\n",
    "            partition_dict[partition] = func(partition_dict[partition])\n",
    "        return partition_dict\n",
    "    \n",
    "    def _combine_partitions(self, partition_dict:Partition) -> Dataframe:\n",
    "        # Gather the various dataframes of each partition\n",
    "        dataframes = [df_partition for df_partition in partition_dict.values()]\n",
    "        df = pd.concat(dataframes)\n",
    "        # sort the rows by @sort_by\n",
    "        df = df.set_index(self.order_by).sort_index().reset_index()\n",
    "        return df\n",
    "        \n",
    "    "
   ]
  },
  {
   "cell_type": "code",
   "execution_count": null,
   "id": "af41275d",
   "metadata": {},
   "outputs": [],
   "source": []
  },
  {
   "cell_type": "code",
   "execution_count": null,
   "id": "f993782c",
   "metadata": {},
   "outputs": [],
   "source": []
  }
 ],
 "metadata": {
  "kernelspec": {
   "display_name": "Python 3 (ipykernel)",
   "language": "python",
   "name": "python3"
  },
  "language_info": {
   "codemirror_mode": {
    "name": "ipython",
    "version": 3
   },
   "file_extension": ".py",
   "mimetype": "text/x-python",
   "name": "python",
   "nbconvert_exporter": "python",
   "pygments_lexer": "ipython3",
   "version": "3.10.1"
  }
 },
 "nbformat": 4,
 "nbformat_minor": 5
}
