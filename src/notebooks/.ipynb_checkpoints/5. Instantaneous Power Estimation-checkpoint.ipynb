{
 "cells": [
  {
   "cell_type": "code",
   "execution_count": 1,
   "id": "e572543f",
   "metadata": {},
   "outputs": [],
   "source": [
    "import pandas as pd\n",
    "import numpy as np\n",
    "import matplotlib.pyplot as plt\n",
    "import seaborn as sns\n",
    "\n",
    "#pd.set_option(\"display.max_rows\", 1000)\n",
    "pd.set_option(\"display.max_columns\", 100)"
   ]
  },
  {
   "cell_type": "code",
   "execution_count": 2,
   "id": "022ce287",
   "metadata": {},
   "outputs": [],
   "source": [
    "file_paths = {'in':'../../data/cleaned/activities/4439566437.csv'\n",
    "             }\n",
    "\n",
    "df = pd.read_csv(file_paths['in'])\n",
    "\n",
    "# guarantee the timestamps are datetime objects\n",
    "df['time'] = pd.to_datetime(df['time'])"
   ]
  },
  {
   "cell_type": "code",
   "execution_count": 3,
   "id": "6256208c",
   "metadata": {},
   "outputs": [],
   "source": [
    "if 'index' in df.columns:\n",
    "    df.drop(['index'], axis=1, inplace=True)"
   ]
  },
  {
   "cell_type": "code",
   "execution_count": 4,
   "id": "827fa962",
   "metadata": {},
   "outputs": [
    {
     "data": {
      "text/html": [
       "<div>\n",
       "<style scoped>\n",
       "    .dataframe tbody tr th:only-of-type {\n",
       "        vertical-align: middle;\n",
       "    }\n",
       "\n",
       "    .dataframe tbody tr th {\n",
       "        vertical-align: top;\n",
       "    }\n",
       "\n",
       "    .dataframe thead th {\n",
       "        text-align: right;\n",
       "    }\n",
       "</style>\n",
       "<table border=\"1\" class=\"dataframe\">\n",
       "  <thead>\n",
       "    <tr style=\"text-align: right;\">\n",
       "      <th></th>\n",
       "      <th>time</th>\n",
       "      <th>ride_id</th>\n",
       "      <th>segment_id</th>\n",
       "      <th>elevation</th>\n",
       "      <th>latitude</th>\n",
       "      <th>longitude</th>\n",
       "      <th>elapsed_time</th>\n",
       "      <th>delta_time</th>\n",
       "      <th>moving_time</th>\n",
       "      <th>delta_dist</th>\n",
       "      <th>heading</th>\n",
       "      <th>speed</th>\n",
       "      <th>is_cruising</th>\n",
       "      <th>grade</th>\n",
       "      <th>elapsed_ascent</th>\n",
       "      <th>elapsed_descent</th>\n",
       "      <th>elapsed_elevation</th>\n",
       "      <th>training_window_id</th>\n",
       "      <th>filt_speed</th>\n",
       "      <th>filt_grade</th>\n",
       "    </tr>\n",
       "  </thead>\n",
       "  <tbody>\n",
       "    <tr>\n",
       "      <th>0</th>\n",
       "      <td>2020-12-06 18:36:38+00:00</td>\n",
       "      <td>4.439566e+09</td>\n",
       "      <td>0.0</td>\n",
       "      <td>884.8857</td>\n",
       "      <td>40.067950</td>\n",
       "      <td>-83.127786</td>\n",
       "      <td>1.0</td>\n",
       "      <td>1.0</td>\n",
       "      <td>1.0</td>\n",
       "      <td>NaN</td>\n",
       "      <td>NaN</td>\n",
       "      <td>6.259034</td>\n",
       "      <td>False</td>\n",
       "      <td>0.0</td>\n",
       "      <td>0.0</td>\n",
       "      <td>0.0</td>\n",
       "      <td>0.0</td>\n",
       "      <td>6</td>\n",
       "      <td>3.172414</td>\n",
       "      <td>0.0</td>\n",
       "    </tr>\n",
       "    <tr>\n",
       "      <th>1</th>\n",
       "      <td>2020-12-06 18:36:39+00:00</td>\n",
       "      <td>4.439566e+09</td>\n",
       "      <td>0.0</td>\n",
       "      <td>884.8857</td>\n",
       "      <td>40.067975</td>\n",
       "      <td>-83.127779</td>\n",
       "      <td>2.0</td>\n",
       "      <td>1.0</td>\n",
       "      <td>2.0</td>\n",
       "      <td>0.001739</td>\n",
       "      <td>72.979474</td>\n",
       "      <td>6.259034</td>\n",
       "      <td>False</td>\n",
       "      <td>0.0</td>\n",
       "      <td>0.0</td>\n",
       "      <td>0.0</td>\n",
       "      <td>0.0</td>\n",
       "      <td>6</td>\n",
       "      <td>4.504257</td>\n",
       "      <td>0.0</td>\n",
       "    </tr>\n",
       "    <tr>\n",
       "      <th>2</th>\n",
       "      <td>2020-12-06 18:36:40+00:00</td>\n",
       "      <td>4.439566e+09</td>\n",
       "      <td>0.0</td>\n",
       "      <td>884.8857</td>\n",
       "      <td>40.067999</td>\n",
       "      <td>-83.127771</td>\n",
       "      <td>3.0</td>\n",
       "      <td>1.0</td>\n",
       "      <td>3.0</td>\n",
       "      <td>0.001739</td>\n",
       "      <td>72.979474</td>\n",
       "      <td>6.259034</td>\n",
       "      <td>False</td>\n",
       "      <td>0.0</td>\n",
       "      <td>0.0</td>\n",
       "      <td>0.0</td>\n",
       "      <td>0.0</td>\n",
       "      <td>6</td>\n",
       "      <td>5.225672</td>\n",
       "      <td>0.0</td>\n",
       "    </tr>\n",
       "    <tr>\n",
       "      <th>3</th>\n",
       "      <td>2020-12-06 18:36:41+00:00</td>\n",
       "      <td>4.439566e+09</td>\n",
       "      <td>0.0</td>\n",
       "      <td>884.8857</td>\n",
       "      <td>40.068021</td>\n",
       "      <td>-83.127801</td>\n",
       "      <td>4.0</td>\n",
       "      <td>1.0</td>\n",
       "      <td>4.0</td>\n",
       "      <td>0.002197</td>\n",
       "      <td>143.746162</td>\n",
       "      <td>7.909226</td>\n",
       "      <td>False</td>\n",
       "      <td>0.0</td>\n",
       "      <td>0.0</td>\n",
       "      <td>0.0</td>\n",
       "      <td>0.0</td>\n",
       "      <td>6</td>\n",
       "      <td>5.034892</td>\n",
       "      <td>0.0</td>\n",
       "    </tr>\n",
       "    <tr>\n",
       "      <th>4</th>\n",
       "      <td>2020-12-06 18:36:42+00:00</td>\n",
       "      <td>4.439566e+09</td>\n",
       "      <td>0.0</td>\n",
       "      <td>884.8857</td>\n",
       "      <td>40.068023</td>\n",
       "      <td>-83.127808</td>\n",
       "      <td>5.0</td>\n",
       "      <td>1.0</td>\n",
       "      <td>5.0</td>\n",
       "      <td>0.000395</td>\n",
       "      <td>164.054604</td>\n",
       "      <td>1.422308</td>\n",
       "      <td>False</td>\n",
       "      <td>0.0</td>\n",
       "      <td>0.0</td>\n",
       "      <td>0.0</td>\n",
       "      <td>0.0</td>\n",
       "      <td>6</td>\n",
       "      <td>4.021185</td>\n",
       "      <td>0.0</td>\n",
       "    </tr>\n",
       "  </tbody>\n",
       "</table>\n",
       "</div>"
      ],
      "text/plain": [
       "                       time       ride_id  segment_id  elevation   latitude  \\\n",
       "0 2020-12-06 18:36:38+00:00  4.439566e+09         0.0   884.8857  40.067950   \n",
       "1 2020-12-06 18:36:39+00:00  4.439566e+09         0.0   884.8857  40.067975   \n",
       "2 2020-12-06 18:36:40+00:00  4.439566e+09         0.0   884.8857  40.067999   \n",
       "3 2020-12-06 18:36:41+00:00  4.439566e+09         0.0   884.8857  40.068021   \n",
       "4 2020-12-06 18:36:42+00:00  4.439566e+09         0.0   884.8857  40.068023   \n",
       "\n",
       "   longitude  elapsed_time  delta_time  moving_time  delta_dist     heading  \\\n",
       "0 -83.127786           1.0         1.0          1.0         NaN         NaN   \n",
       "1 -83.127779           2.0         1.0          2.0    0.001739   72.979474   \n",
       "2 -83.127771           3.0         1.0          3.0    0.001739   72.979474   \n",
       "3 -83.127801           4.0         1.0          4.0    0.002197  143.746162   \n",
       "4 -83.127808           5.0         1.0          5.0    0.000395  164.054604   \n",
       "\n",
       "      speed  is_cruising  grade  elapsed_ascent  elapsed_descent  \\\n",
       "0  6.259034        False    0.0             0.0              0.0   \n",
       "1  6.259034        False    0.0             0.0              0.0   \n",
       "2  6.259034        False    0.0             0.0              0.0   \n",
       "3  7.909226        False    0.0             0.0              0.0   \n",
       "4  1.422308        False    0.0             0.0              0.0   \n",
       "\n",
       "   elapsed_elevation  training_window_id  filt_speed  filt_grade  \n",
       "0                0.0                   6    3.172414         0.0  \n",
       "1                0.0                   6    4.504257         0.0  \n",
       "2                0.0                   6    5.225672         0.0  \n",
       "3                0.0                   6    5.034892         0.0  \n",
       "4                0.0                   6    4.021185         0.0  "
      ]
     },
     "execution_count": 4,
     "metadata": {},
     "output_type": "execute_result"
    }
   ],
   "source": [
    "df.head()"
   ]
  },
  {
   "cell_type": "markdown",
   "id": "caa2f6ae",
   "metadata": {},
   "source": [
    "### Grab Segment 22 as the longest representative segment"
   ]
  },
  {
   "cell_type": "code",
   "execution_count": 5,
   "id": "198c80d6",
   "metadata": {},
   "outputs": [],
   "source": [
    "df22 = df.loc[df['segment_id']==22,:].reset_index()"
   ]
  },
  {
   "cell_type": "markdown",
   "id": "0720f872",
   "metadata": {},
   "source": [
    "### Acquire the Bike Weight from Activity Log"
   ]
  },
  {
   "cell_type": "code",
   "execution_count": 6,
   "id": "8de3b0a6",
   "metadata": {},
   "outputs": [],
   "source": [
    "ride_id = 4439566437"
   ]
  },
  {
   "cell_type": "code",
   "execution_count": 7,
   "id": "0fc92b3f",
   "metadata": {},
   "outputs": [],
   "source": [
    "df_log = pd.read_csv('../../data/cleaned/activity_log.csv')"
   ]
  },
  {
   "cell_type": "code",
   "execution_count": 9,
   "id": "3a9ef5e1",
   "metadata": {},
   "outputs": [
    {
     "name": "stdout",
     "output_type": "stream",
     "text": [
      "bike weighs 15.8757 kg\n"
     ]
    }
   ],
   "source": [
    "df_log = df_log.set_index('ride_id')\n",
    "bike_weight = df_log.loc[ride_id, 'bike_weight']\n",
    "print(f'bike weighs {bike_weight} kg')"
   ]
  },
  {
   "cell_type": "markdown",
   "id": "0554f3bd",
   "metadata": {},
   "source": [
    "# 1. Define Power Calculation Parameters"
   ]
  },
  {
   "cell_type": "code",
   "execution_count": 13,
   "id": "3a94974e",
   "metadata": {},
   "outputs": [],
   "source": [
    "params = {'total_mass': bike_weight + 86.1826, # kg\n",
    "          'area': 0.4635862, # m^2\n",
    "          'mu_rr': 0.005, # coefficient of rolling friction\n",
    "          'c_drag': 0.95, # coefficient of drag\n",
    "          'rho_air': 1.2, # kg/m^3 air density\n",
    "          'eta_dt': 0.96, # efficiency of drive train\n",
    "          'gravity': 9.8 # m/s^2\n",
    "         }"
   ]
  },
  {
   "cell_type": "markdown",
   "id": "b32c3ce4",
   "metadata": {},
   "source": [
    "# 2. Convert the Imperial Columns to Metric\n",
    "Also convert the grade into an angle"
   ]
  },
  {
   "cell_type": "code",
   "execution_count": 10,
   "id": "12d1ffd9",
   "metadata": {},
   "outputs": [],
   "source": [
    "df22['filt_grade_radians'] = np.arctan(df22['filt_grade'])"
   ]
  },
  {
   "cell_type": "code",
   "execution_count": 14,
   "id": "6cc59e0b",
   "metadata": {},
   "outputs": [],
   "source": [
    "mph2MpS = 0.44704 # 1 MPH = 0.44704 m/s\n",
    "df22['filt_speed_MpS'] = mph2MpS * df22['filt_speed']"
   ]
  },
  {
   "cell_type": "markdown",
   "id": "75590201",
   "metadata": {},
   "source": [
    "# 3. Compute the Forces Resisting Motion"
   ]
  },
  {
   "cell_type": "code",
   "execution_count": 15,
   "id": "305efbc1",
   "metadata": {},
   "outputs": [],
   "source": [
    "df22['F_grav'] = params['total_mass']*params['gravity'] * np.sin(df22['filt_grade_radians'])"
   ]
  },
  {
   "cell_type": "code",
   "execution_count": 16,
   "id": "9c8ddf73",
   "metadata": {},
   "outputs": [
    {
     "data": {
      "text/plain": [
       "0        27.667446\n",
       "1       124.464255\n",
       "2       482.608163\n",
       "3       856.245738\n",
       "4       955.874157\n",
       "           ...    \n",
       "1811      0.000000\n",
       "1812      0.000000\n",
       "1813      0.000000\n",
       "1814      0.000000\n",
       "1815      0.000000\n",
       "Name: F_grav, Length: 1816, dtype: float64"
      ]
     },
     "execution_count": 16,
     "metadata": {},
     "output_type": "execute_result"
    }
   ],
   "source": [
    "df22['F_fric'] = params['total_mass']*params['gravity'] * np.cos(df22['filt_grade_radians'])"
   ]
  },
  {
   "cell_type": "code",
   "execution_count": null,
   "id": "ed01f8ee",
   "metadata": {},
   "outputs": [],
   "source": []
  }
 ],
 "metadata": {
  "kernelspec": {
   "display_name": "Python 3 (ipykernel)",
   "language": "python",
   "name": "python3"
  },
  "language_info": {
   "codemirror_mode": {
    "name": "ipython",
    "version": 3
   },
   "file_extension": ".py",
   "mimetype": "text/x-python",
   "name": "python",
   "nbconvert_exporter": "python",
   "pygments_lexer": "ipython3",
   "version": "3.10.1"
  }
 },
 "nbformat": 4,
 "nbformat_minor": 5
}
