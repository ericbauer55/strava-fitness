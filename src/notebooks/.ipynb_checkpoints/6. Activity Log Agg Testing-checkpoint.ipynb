{
 "cells": [
  {
   "cell_type": "code",
   "execution_count": 1,
   "id": "ab6eede3",
   "metadata": {},
   "outputs": [],
   "source": [
    "import pandas as pd\n",
    "import numpy as np\n",
    "import matplotlib.pyplot as plt\n",
    "import seaborn as sns\n",
    "\n",
    "#pd.set_option(\"display.max_rows\", 1000)\n",
    "pd.set_option(\"display.max_columns\", 100)"
   ]
  },
  {
   "cell_type": "code",
   "execution_count": 2,
   "id": "59e29955",
   "metadata": {},
   "outputs": [],
   "source": [
    "file_paths = {'in':'../../data/cleaned/activities/4439566437.csv'\n",
    "             }\n",
    "\n",
    "df = pd.read_csv(file_paths['in'])\n",
    "\n",
    "# guarantee the timestamps are datetime objects\n",
    "df['time'] = pd.to_datetime(df['time'])"
   ]
  },
  {
   "cell_type": "code",
   "execution_count": 3,
   "id": "25f723f6",
   "metadata": {},
   "outputs": [],
   "source": [
    "if 'index' in df.columns:\n",
    "    df.drop(['index'], axis=1, inplace=True)"
   ]
  },
  {
   "cell_type": "code",
   "execution_count": 4,
   "id": "6c547a1d",
   "metadata": {},
   "outputs": [
    {
     "data": {
      "text/html": [
       "<div>\n",
       "<style scoped>\n",
       "    .dataframe tbody tr th:only-of-type {\n",
       "        vertical-align: middle;\n",
       "    }\n",
       "\n",
       "    .dataframe tbody tr th {\n",
       "        vertical-align: top;\n",
       "    }\n",
       "\n",
       "    .dataframe thead th {\n",
       "        text-align: right;\n",
       "    }\n",
       "</style>\n",
       "<table border=\"1\" class=\"dataframe\">\n",
       "  <thead>\n",
       "    <tr style=\"text-align: right;\">\n",
       "      <th></th>\n",
       "      <th>time</th>\n",
       "      <th>ride_id</th>\n",
       "      <th>segment_id</th>\n",
       "      <th>elevation</th>\n",
       "      <th>latitude</th>\n",
       "      <th>longitude</th>\n",
       "      <th>elapsed_time</th>\n",
       "      <th>delta_time</th>\n",
       "      <th>moving_time</th>\n",
       "      <th>delta_dist</th>\n",
       "      <th>heading</th>\n",
       "      <th>speed</th>\n",
       "      <th>is_cruising</th>\n",
       "      <th>grade</th>\n",
       "      <th>elapsed_ascent</th>\n",
       "      <th>elapsed_descent</th>\n",
       "      <th>elapsed_elevation</th>\n",
       "      <th>training_window_id</th>\n",
       "      <th>filt_speed</th>\n",
       "      <th>filt_grade</th>\n",
       "      <th>inst_power</th>\n",
       "    </tr>\n",
       "  </thead>\n",
       "  <tbody>\n",
       "    <tr>\n",
       "      <th>0</th>\n",
       "      <td>2020-12-06 18:36:38+00:00</td>\n",
       "      <td>4.439566e+09</td>\n",
       "      <td>0.0</td>\n",
       "      <td>884.8857</td>\n",
       "      <td>40.067950</td>\n",
       "      <td>-83.127786</td>\n",
       "      <td>1.0</td>\n",
       "      <td>1.0</td>\n",
       "      <td>1.0</td>\n",
       "      <td>NaN</td>\n",
       "      <td>NaN</td>\n",
       "      <td>6.259034</td>\n",
       "      <td>False</td>\n",
       "      <td>0.0</td>\n",
       "      <td>0.0</td>\n",
       "      <td>0.0</td>\n",
       "      <td>0.0</td>\n",
       "      <td>6</td>\n",
       "      <td>3.172414</td>\n",
       "      <td>0.0</td>\n",
       "      <td>8.172834</td>\n",
       "    </tr>\n",
       "    <tr>\n",
       "      <th>1</th>\n",
       "      <td>2020-12-06 18:36:39+00:00</td>\n",
       "      <td>4.439566e+09</td>\n",
       "      <td>0.0</td>\n",
       "      <td>884.8857</td>\n",
       "      <td>40.067975</td>\n",
       "      <td>-83.127779</td>\n",
       "      <td>2.0</td>\n",
       "      <td>1.0</td>\n",
       "      <td>2.0</td>\n",
       "      <td>0.001739</td>\n",
       "      <td>72.979474</td>\n",
       "      <td>6.259034</td>\n",
       "      <td>False</td>\n",
       "      <td>0.0</td>\n",
       "      <td>0.0</td>\n",
       "      <td>0.0</td>\n",
       "      <td>0.0</td>\n",
       "      <td>6</td>\n",
       "      <td>4.504257</td>\n",
       "      <td>0.0</td>\n",
       "      <td>12.736414</td>\n",
       "    </tr>\n",
       "    <tr>\n",
       "      <th>2</th>\n",
       "      <td>2020-12-06 18:36:40+00:00</td>\n",
       "      <td>4.439566e+09</td>\n",
       "      <td>0.0</td>\n",
       "      <td>884.8857</td>\n",
       "      <td>40.067999</td>\n",
       "      <td>-83.127771</td>\n",
       "      <td>3.0</td>\n",
       "      <td>1.0</td>\n",
       "      <td>3.0</td>\n",
       "      <td>0.001739</td>\n",
       "      <td>72.979474</td>\n",
       "      <td>6.259034</td>\n",
       "      <td>False</td>\n",
       "      <td>0.0</td>\n",
       "      <td>0.0</td>\n",
       "      <td>0.0</td>\n",
       "      <td>0.0</td>\n",
       "      <td>6</td>\n",
       "      <td>5.225672</td>\n",
       "      <td>0.0</td>\n",
       "      <td>15.678322</td>\n",
       "    </tr>\n",
       "    <tr>\n",
       "      <th>3</th>\n",
       "      <td>2020-12-06 18:36:41+00:00</td>\n",
       "      <td>4.439566e+09</td>\n",
       "      <td>0.0</td>\n",
       "      <td>884.8857</td>\n",
       "      <td>40.068021</td>\n",
       "      <td>-83.127801</td>\n",
       "      <td>4.0</td>\n",
       "      <td>1.0</td>\n",
       "      <td>4.0</td>\n",
       "      <td>0.002197</td>\n",
       "      <td>143.746162</td>\n",
       "      <td>7.909226</td>\n",
       "      <td>False</td>\n",
       "      <td>0.0</td>\n",
       "      <td>0.0</td>\n",
       "      <td>0.0</td>\n",
       "      <td>0.0</td>\n",
       "      <td>6</td>\n",
       "      <td>5.034892</td>\n",
       "      <td>0.0</td>\n",
       "      <td>14.863570</td>\n",
       "    </tr>\n",
       "    <tr>\n",
       "      <th>4</th>\n",
       "      <td>2020-12-06 18:36:42+00:00</td>\n",
       "      <td>4.439566e+09</td>\n",
       "      <td>0.0</td>\n",
       "      <td>884.8857</td>\n",
       "      <td>40.068023</td>\n",
       "      <td>-83.127808</td>\n",
       "      <td>5.0</td>\n",
       "      <td>1.0</td>\n",
       "      <td>5.0</td>\n",
       "      <td>0.000395</td>\n",
       "      <td>164.054604</td>\n",
       "      <td>1.422308</td>\n",
       "      <td>False</td>\n",
       "      <td>0.0</td>\n",
       "      <td>0.0</td>\n",
       "      <td>0.0</td>\n",
       "      <td>0.0</td>\n",
       "      <td>6</td>\n",
       "      <td>4.021185</td>\n",
       "      <td>0.0</td>\n",
       "      <td>10.963215</td>\n",
       "    </tr>\n",
       "  </tbody>\n",
       "</table>\n",
       "</div>"
      ],
      "text/plain": [
       "                       time       ride_id  segment_id  elevation   latitude  \\\n",
       "0 2020-12-06 18:36:38+00:00  4.439566e+09         0.0   884.8857  40.067950   \n",
       "1 2020-12-06 18:36:39+00:00  4.439566e+09         0.0   884.8857  40.067975   \n",
       "2 2020-12-06 18:36:40+00:00  4.439566e+09         0.0   884.8857  40.067999   \n",
       "3 2020-12-06 18:36:41+00:00  4.439566e+09         0.0   884.8857  40.068021   \n",
       "4 2020-12-06 18:36:42+00:00  4.439566e+09         0.0   884.8857  40.068023   \n",
       "\n",
       "   longitude  elapsed_time  delta_time  moving_time  delta_dist     heading  \\\n",
       "0 -83.127786           1.0         1.0          1.0         NaN         NaN   \n",
       "1 -83.127779           2.0         1.0          2.0    0.001739   72.979474   \n",
       "2 -83.127771           3.0         1.0          3.0    0.001739   72.979474   \n",
       "3 -83.127801           4.0         1.0          4.0    0.002197  143.746162   \n",
       "4 -83.127808           5.0         1.0          5.0    0.000395  164.054604   \n",
       "\n",
       "      speed  is_cruising  grade  elapsed_ascent  elapsed_descent  \\\n",
       "0  6.259034        False    0.0             0.0              0.0   \n",
       "1  6.259034        False    0.0             0.0              0.0   \n",
       "2  6.259034        False    0.0             0.0              0.0   \n",
       "3  7.909226        False    0.0             0.0              0.0   \n",
       "4  1.422308        False    0.0             0.0              0.0   \n",
       "\n",
       "   elapsed_elevation  training_window_id  filt_speed  filt_grade  inst_power  \n",
       "0                0.0                   6    3.172414         0.0    8.172834  \n",
       "1                0.0                   6    4.504257         0.0   12.736414  \n",
       "2                0.0                   6    5.225672         0.0   15.678322  \n",
       "3                0.0                   6    5.034892         0.0   14.863570  \n",
       "4                0.0                   6    4.021185         0.0   10.963215  "
      ]
     },
     "execution_count": 4,
     "metadata": {},
     "output_type": "execute_result"
    }
   ],
   "source": [
    "df.head()"
   ]
  },
  {
   "cell_type": "markdown",
   "id": "a2df6e86",
   "metadata": {},
   "source": [
    "### Aggregation Ideas:\n",
    "\n",
    "- Start / End Times\n",
    "- Number of Rows, Segments\n",
    "- Final Elapsed Time (s)\n",
    "- Final Moving Time (s)\n",
    "- Final Elapsed Distance (mi)\n",
    "- Average Speed (MPH)\n",
    "- Cruising Speed (MPH)\n",
    "- Max Filtered Speed (MPH)\n",
    "- Total Elapsed Acscent, Descent, Elevation Changes\n",
    "- Training Window ID\n",
    "- Average Power\n",
    "- Best Avg.Power over 20 minute span (FTP)\n"
   ]
  },
  {
   "cell_type": "code",
   "execution_count": 13,
   "id": "d104d894",
   "metadata": {},
   "outputs": [],
   "source": [
    "df_a = pd.DataFrame(data=[{'key':0, 'color':'k'},{'key':1, 'color':'b'},{'key':2, 'color':'y'}])\n",
    "#df_a = df_a.set_index('key')"
   ]
  },
  {
   "cell_type": "code",
   "execution_count": 14,
   "id": "799bd1ef",
   "metadata": {},
   "outputs": [],
   "source": [
    "df_b = pd.DataFrame(data=[{'key':0, 'count':12},{'key':1, 'count':44},{'key':2, 'count':25}])\n",
    "#df_b = df_b.set_index('key')"
   ]
  },
  {
   "cell_type": "code",
   "execution_count": 18,
   "id": "801793c6",
   "metadata": {},
   "outputs": [],
   "source": [
    "#df_a.merge(df_b, on='key')"
   ]
  },
  {
   "cell_type": "markdown",
   "id": "33331278",
   "metadata": {},
   "source": [
    "# Ride Start/ End Times"
   ]
  },
  {
   "cell_type": "code",
   "execution_count": 16,
   "id": "403fa2c2",
   "metadata": {},
   "outputs": [],
   "source": [
    "def get_time_endpoints(df):\n",
    "    start_time = df.loc[0, 'time']\n",
    "    end_time = df.loc[df.shape[0]-1, 'time']\n",
    "    agg_dict = {'start_time':start_time, 'end_time':end_time}\n",
    "    return agg_dict"
   ]
  },
  {
   "cell_type": "code",
   "execution_count": 17,
   "id": "868179bc",
   "metadata": {},
   "outputs": [
    {
     "data": {
      "text/plain": [
       "{'start_time': Timestamp('2020-12-06 18:36:38+0000', tz='UTC'),\n",
       " 'end_time': Timestamp('2020-12-06 18:36:38+0000', tz='UTC')}"
      ]
     },
     "execution_count": 17,
     "metadata": {},
     "output_type": "execute_result"
    }
   ],
   "source": [
    "get_time_endpoints(df)"
   ]
  },
  {
   "cell_type": "markdown",
   "id": "2a3b07a7",
   "metadata": {},
   "source": [
    "# Row/ Segment Counts"
   ]
  },
  {
   "cell_type": "code",
   "execution_count": 73,
   "id": "d72b64ae",
   "metadata": {},
   "outputs": [],
   "source": [
    "def get_row_segment_counts(df):\n",
    "    row_count = df.shape[0]\n",
    "    segment_count = len(df['segment_id'].unique())\n",
    "    agg_dict = {'row_count':row_count, 'segment_count':segment_count}\n",
    "    return agg_dict"
   ]
  },
  {
   "cell_type": "code",
   "execution_count": 74,
   "id": "c6ad1ed8",
   "metadata": {},
   "outputs": [
    {
     "data": {
      "text/plain": [
       "{'row_count': 7013, 'segment_count': 24}"
      ]
     },
     "execution_count": 74,
     "metadata": {},
     "output_type": "execute_result"
    }
   ],
   "source": [
    "get_row_segment_counts(df)"
   ]
  },
  {
   "cell_type": "markdown",
   "id": "08830eb7",
   "metadata": {},
   "source": [
    "# Elapsed Durations"
   ]
  },
  {
   "cell_type": "code",
   "execution_count": 34,
   "id": "63e27e02",
   "metadata": {},
   "outputs": [],
   "source": [
    "def get_durations(df):\n",
    "    last_row = df.shape[0]-1\n",
    "    elapsed_time = df.loc[last_row, 'elapsed_time']\n",
    "    moving_time = df.loc[last_row, 'moving_time'] \n",
    "    elapsed_distance = df['delta_dist'].cumsum().iloc[last_row]\n",
    "    elapsed_ascent = df.loc[last_row, 'elapsed_ascent']\n",
    "    elapsed_descent = df.loc[last_row, 'elapsed_descent']\n",
    "    elapsed_elevation = df.loc[last_row, 'elapsed_elevation']\n",
    "    \n",
    "    agg_dict = {'ride_elapsed_time':elapsed_time, 'ride_moving_time':moving_time, 'elapsed_distance':elapsed_distance, \n",
    "                'elapsed_ascent':elapsed_ascent, 'elapsed_descent':elapsed_descent, 'elapsed_elevation':elapsed_elevation}\n",
    "    return agg_dict"
   ]
  },
  {
   "cell_type": "code",
   "execution_count": 35,
   "id": "ef37107f",
   "metadata": {},
   "outputs": [
    {
     "data": {
      "text/plain": [
       "{'ride_elapsed_time': 8109.0,\n",
       " 'ride_moving_time': 7013.0,\n",
       " 'elapsed_distance': 23.87576344132953,\n",
       " 'elapsed_ascent': 727.0695999999989,\n",
       " 'elapsed_descent': 727.0695999999989,\n",
       " 'elapsed_elevation': 1454.1391999999978}"
      ]
     },
     "execution_count": 35,
     "metadata": {},
     "output_type": "execute_result"
    }
   ],
   "source": [
    "get_durations(df)"
   ]
  },
  {
   "cell_type": "markdown",
   "id": "513de777",
   "metadata": {},
   "source": [
    "# Speed Summary"
   ]
  },
  {
   "cell_type": "code",
   "execution_count": 36,
   "id": "21600889",
   "metadata": {},
   "outputs": [],
   "source": [
    "def get_speed_summary(df):\n",
    "    ride_avg_speed =  np.mean(df.loc[:, 'speed'])\n",
    "    \n",
    "    filt_cruising = df.loc[:,'is_cruising']==True\n",
    "    ride_cruise_speed = np.mean(df.loc[filt_cruising, 'speed'])\n",
    "    \n",
    "    ride_max_speed = np.max(df.loc[:, 'filt_speed'])\n",
    "    \n",
    "    agg_dict = {'ride_avg_speed':ride_avg_speed, 'ride_cruise_speed':ride_cruise_speed, 'ride_max_speed':ride_max_speed}\n",
    "    return agg_dict"
   ]
  },
  {
   "cell_type": "code",
   "execution_count": 37,
   "id": "45123759",
   "metadata": {},
   "outputs": [
    {
     "data": {
      "text/plain": [
       "{'ride_avg_speed': 12.269407362765472,\n",
       " 'ride_cruise_speed': 14.820174850339143,\n",
       " 'ride_max_speed': 26.626494943666746}"
      ]
     },
     "execution_count": 37,
     "metadata": {},
     "output_type": "execute_result"
    }
   ],
   "source": [
    "get_speed_summary(df)"
   ]
  },
  {
   "cell_type": "markdown",
   "id": "ffbbfe73",
   "metadata": {},
   "source": [
    "# Training Window"
   ]
  },
  {
   "cell_type": "code",
   "execution_count": 40,
   "id": "64fbe8af",
   "metadata": {},
   "outputs": [],
   "source": [
    "def get_training_window_id(df):\n",
    "    training_window_id =  df.loc[0, 'training_window_id']\n",
    "    \n",
    "    agg_dict = {'training_window_id':training_window_id}\n",
    "    return agg_dict"
   ]
  },
  {
   "cell_type": "code",
   "execution_count": 41,
   "id": "617d50f6",
   "metadata": {},
   "outputs": [
    {
     "data": {
      "text/plain": [
       "{'training_window_id': 6}"
      ]
     },
     "execution_count": 41,
     "metadata": {},
     "output_type": "execute_result"
    }
   ],
   "source": [
    "get_training_window_id(df)"
   ]
  },
  {
   "cell_type": "markdown",
   "id": "f86ef169",
   "metadata": {},
   "source": [
    "# Basic Power Summary"
   ]
  },
  {
   "cell_type": "code",
   "execution_count": 42,
   "id": "1cde5889",
   "metadata": {},
   "outputs": [],
   "source": [
    "def get_basic_power_summary(df):\n",
    "    ride_avg_power = np.mean(df.loc[:, 'inst_power'])    \n",
    "    ride_max_power = np.max(df.loc[:, 'inst_power'])\n",
    "    \n",
    "    agg_dict = {'ride_avg_power':ride_avg_power, 'ride_max_power':ride_max_power}\n",
    "    return agg_dict"
   ]
  },
  {
   "cell_type": "code",
   "execution_count": 43,
   "id": "00b51636",
   "metadata": {},
   "outputs": [
    {
     "data": {
      "text/plain": [
       "{'ride_avg_power': 106.50571309574859, 'ride_max_power': 1006.2450714830736}"
      ]
     },
     "execution_count": 43,
     "metadata": {},
     "output_type": "execute_result"
    }
   ],
   "source": [
    "get_basic_power_summary(df)"
   ]
  },
  {
   "cell_type": "markdown",
   "id": "dc3e21a0",
   "metadata": {},
   "source": [
    "# FTP Estimation\n",
    "Since 1 row represents 1 second of data... Let's pretend that every row is contiguous in time. \n",
    "\n",
    "Then I want to find the index window 1200 rows wide (20 minutes * 60 sec/min) with the highest average power"
   ]
  },
  {
   "cell_type": "code",
   "execution_count": 70,
   "id": "ec5962a6",
   "metadata": {},
   "outputs": [],
   "source": [
    "def get_power_ftp(df):\n",
    "    # 1200 corresponds to 1200 samples at 1 sec/sample for 20 minutes\n",
    "    power_window = df['inst_power'].rolling(window=1200).mean()\n",
    "    peak_20min_power = np.max(power_window)\n",
    "    \n",
    "    agg_dict = {'peak_20min_power':peak_20min_power}\n",
    "    return agg_dict"
   ]
  },
  {
   "cell_type": "code",
   "execution_count": 71,
   "id": "0e65b801",
   "metadata": {},
   "outputs": [
    {
     "data": {
      "text/plain": [
       "{'peak_20min_power': 137.13728844679656}"
      ]
     },
     "execution_count": 71,
     "metadata": {},
     "output_type": "execute_result"
    }
   ],
   "source": [
    "get_power_ftp(df)"
   ]
  },
  {
   "cell_type": "markdown",
   "id": "349f93fc",
   "metadata": {},
   "source": [
    "### Prototyping below"
   ]
  },
  {
   "cell_type": "code",
   "execution_count": 61,
   "id": "6a1dccae",
   "metadata": {},
   "outputs": [
    {
     "name": "stdout",
     "output_type": "stream",
     "text": [
      "k_max=6611 for 137.13728844679656 Watts\n"
     ]
    }
   ],
   "source": [
    "power_window = df['inst_power'].rolling(window=1200).mean()\n",
    "max_ftp = np.max(power_window)\n",
    "k_max = np.argmax(power_window)\n",
    "print(f'k_max={k_max} for {max_ftp} Watts')"
   ]
  },
  {
   "cell_type": "code",
   "execution_count": 66,
   "id": "7cd3312d",
   "metadata": {},
   "outputs": [
    {
     "data": {
      "text/plain": [
       "137.13728844679653"
      ]
     },
     "execution_count": 66,
     "metadata": {},
     "output_type": "execute_result"
    }
   ],
   "source": [
    "np.mean(df.loc[k_max-1200+1:k_max, 'inst_power'])"
   ]
  },
  {
   "cell_type": "code",
   "execution_count": 58,
   "id": "2bb282ff",
   "metadata": {},
   "outputs": [
    {
     "data": {
      "image/png": "[encoded data removed]",
      "text/plain": [
       "<Figure size 864x432 with 1 Axes>"
      ]
     },
     "metadata": {
      "needs_background": "light"
     },
     "output_type": "display_data"
    }
   ],
   "source": [
    "fig = plt.figure(figsize=(12,6))\n",
    "\n",
    "_ = plt.plot(power_window)\n",
    "_ = plt.grid()\n",
    "_ = plt.xlim([0, df.shape[0]])"
   ]
  },
  {
   "cell_type": "code",
   "execution_count": 59,
   "id": "0af8f186",
   "metadata": {},
   "outputs": [
    {
     "data": {
      "image/png": "[encoded data removed]",
      "text/plain": [
       "<Figure size 864x432 with 1 Axes>"
      ]
     },
     "metadata": {
      "needs_background": "light"
     },
     "output_type": "display_data"
    }
   ],
   "source": [
    "fig = plt.figure(figsize=(12,6))\n",
    "\n",
    "_ = plt.plot(df['inst_power'])\n",
    "_ = plt.grid()\n",
    "_ = plt.xlim([0, df.shape[0]])"
   ]
  },
  {
   "cell_type": "code",
   "execution_count": null,
   "id": "c163cc76",
   "metadata": {},
   "outputs": [],
   "source": []
  },
  {
   "cell_type": "code",
   "execution_count": null,
   "id": "82bd5a28",
   "metadata": {},
   "outputs": [],
   "source": []
  }
 ],
 "metadata": {
  "kernelspec": {
   "display_name": "Python 3 (ipykernel)",
   "language": "python",
   "name": "python3"
  },
  "language_info": {
   "codemirror_mode": {
    "name": "ipython",
    "version": 3
   },
   "file_extension": ".py",
   "mimetype": "text/x-python",
   "name": "python",
   "nbconvert_exporter": "python",
   "pygments_lexer": "ipython3",
   "version": "3.10.1"
  }
 },
 "nbformat": 4,
 "nbformat_minor": 5
}
