{
 "cells": [
  {
   "cell_type": "code",
   "execution_count": 1,
   "id": "fea1a682",
   "metadata": {},
   "outputs": [
    {
     "data": {
      "text/plain": [
       "<matplotlib.image.AxesImage at 0x1ed580ba4d0>"
      ]
     },
     "execution_count": 1,
     "metadata": {},
     "output_type": "execute_result"
    },
    {
     "data": {
      "image/png": "[encoded data removed]",
      "text/plain": [
       "<Figure size 432x288 with 1 Axes>"
      ]
     },
     "metadata": {
      "needs_background": "light"
     },
     "output_type": "display_data"
    }
   ],
   "source": [
    "import matplotlib.image as mpimg\n",
    "import matplotlib.pyplot as plt\n",
    "  \n",
    "# Read Images\n",
    "img_path = '../../images/silouette.bmp'\n",
    "\n",
    "img = mpimg.imread(img_path)\n",
    "  \n",
    "# Output Images\n",
    "plt.imshow(img)"
   ]
  },
  {
   "cell_type": "code",
   "execution_count": 3,
   "id": "e31a3b8e",
   "metadata": {},
   "outputs": [
    {
     "data": {
      "text/plain": [
       "(2151, 1223, 4)"
      ]
     },
     "execution_count": 3,
     "metadata": {},
     "output_type": "execute_result"
    }
   ],
   "source": [
    "img.shape"
   ]
  },
  {
   "cell_type": "code",
   "execution_count": 5,
   "id": "99643211",
   "metadata": {},
   "outputs": [
    {
     "data": {
      "text/plain": [
       "(2151, 1223)"
      ]
     },
     "execution_count": 5,
     "metadata": {},
     "output_type": "execute_result"
    }
   ],
   "source": [
    "img[:,:,0].shape"
   ]
  },
  {
   "cell_type": "code",
   "execution_count": 8,
   "id": "046cf8c1",
   "metadata": {},
   "outputs": [
    {
     "data": {
      "text/plain": [
       "<matplotlib.image.AxesImage at 0x1ed5918b700>"
      ]
     },
     "execution_count": 8,
     "metadata": {},
     "output_type": "execute_result"
    },
    {
     "data": {
      "image/png": "[encoded data removed]",
      "text/plain": [
       "<Figure size 432x288 with 1 Axes>"
      ]
     },
     "metadata": {
      "needs_background": "light"
     },
     "output_type": "display_data"
    }
   ],
   "source": [
    "plt.imshow(img[:,:,2])"
   ]
  },
  {
   "cell_type": "code",
   "execution_count": 10,
   "id": "cd0be30a",
   "metadata": {},
   "outputs": [
    {
     "data": {
      "text/plain": [
       "2630673"
      ]
     },
     "execution_count": 10,
     "metadata": {},
     "output_type": "execute_result"
    }
   ],
   "source": [
    "img[:,:,0].size"
   ]
  },
  {
   "cell_type": "code",
   "execution_count": 13,
   "id": "8eaee9d2",
   "metadata": {},
   "outputs": [
    {
     "data": {
      "text/plain": [
       "<matplotlib.image.AxesImage at 0x1ed591ebbb0>"
      ]
     },
     "execution_count": 13,
     "metadata": {},
     "output_type": "execute_result"
    },
    {
     "data": {
      "image/png": "[encoded data removed]",
      "text/plain": [
       "<Figure size 432x288 with 1 Axes>"
      ]
     },
     "metadata": {
      "needs_background": "light"
     },
     "output_type": "display_data"
    }
   ],
   "source": [
    "plt.imshow(img[500:1000,600:700,0])"
   ]
  },
  {
   "cell_type": "code",
   "execution_count": 17,
   "id": "6c777860",
   "metadata": {},
   "outputs": [
    {
     "data": {
      "text/plain": [
       "0.24567211508233824"
      ]
     },
     "execution_count": 17,
     "metadata": {},
     "output_type": "execute_result"
    }
   ],
   "source": [
    "import numpy as np\n",
    "\n",
    "Rider_Area_Percent = np.mean(img[:,:,0]<10)\n",
    "Rider_Area_Percent"
   ]
  },
  {
   "cell_type": "code",
   "execution_count": 22,
   "id": "074b8024",
   "metadata": {},
   "outputs": [
    {
     "name": "stdout",
     "output_type": "stream",
     "text": [
      "20.298402777777778\n"
     ]
    }
   ],
   "source": [
    "height = img[:,:,0].shape[0]\n",
    "width = img[:,:,0].shape[1]\n",
    "\n",
    "px2ft = (10.0/12)/300.0\n",
    "\n",
    "Total_Area_ft2 = (px2ft*height) * (px2ft*width)\n",
    "\n",
    "print(Total_Area_ft2)"
   ]
  },
  {
   "cell_type": "code",
   "execution_count": 23,
   "id": "9e36ecd4",
   "metadata": {},
   "outputs": [
    {
     "data": {
      "text/plain": [
       "4.986751543209876"
      ]
     },
     "execution_count": 23,
     "metadata": {},
     "output_type": "execute_result"
    }
   ],
   "source": [
    "Ride_Area_ft2 = Rider_Area_Percent * Total_Area_ft2\n",
    "Ride_Area_ft2"
   ]
  },
  {
   "cell_type": "code",
   "execution_count": null,
   "id": "594494f4",
   "metadata": {},
   "outputs": [],
   "source": []
  }
 ],
 "metadata": {
  "kernelspec": {
   "display_name": "Python 3 (ipykernel)",
   "language": "python",
   "name": "python3"
  },
  "language_info": {
   "codemirror_mode": {
    "name": "ipython",
    "version": 3
   },
   "file_extension": ".py",
   "mimetype": "text/x-python",
   "name": "python",
   "nbconvert_exporter": "python",
   "pygments_lexer": "ipython3",
   "version": "3.10.1"
  }
 },
 "nbformat": 4,
 "nbformat_minor": 5
}
