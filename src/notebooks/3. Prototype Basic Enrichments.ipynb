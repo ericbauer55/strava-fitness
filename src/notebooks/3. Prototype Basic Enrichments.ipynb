{
 "cells": [
  {
   "cell_type": "markdown",
   "id": "2de3648e",
   "metadata": {},
   "source": [
    "# 0. Reading the Data\n",
    "I will start with ride ID = 2975587283 which is the first ride of 2020 "
   ]
  },
  {
   "cell_type": "code",
   "execution_count": 1,
   "id": "e40e4578",
   "metadata": {},
   "outputs": [],
   "source": [
    "import pandas as pd\n",
    "import numpy as np\n",
    "import matplotlib.pyplot as plt\n",
    "import seaborn as sns\n",
    "\n",
    "#pd.set_option(\"display.max_rows\", 1000)\n",
    "pd.set_option(\"display.max_columns\", 100)"
   ]
  },
  {
   "cell_type": "code",
   "execution_count": 2,
   "id": "18d99b19",
   "metadata": {},
   "outputs": [],
   "source": [
    "file_paths = {'in':'../../data/enriched/activities/2975587283.csv'\n",
    "             }\n",
    "\n",
    "df = pd.read_csv(file_paths['in'])\n",
    "\n",
    "# guarantee the timestamps are datetime objects\n",
    "df['time'] = pd.to_datetime(df['time'])"
   ]
  },
  {
   "cell_type": "code",
   "execution_count": 3,
   "id": "fe372f5f",
   "metadata": {},
   "outputs": [
    {
     "data": {
      "text/html": [
       "<div>\n",
       "<style scoped>\n",
       "    .dataframe tbody tr th:only-of-type {\n",
       "        vertical-align: middle;\n",
       "    }\n",
       "\n",
       "    .dataframe tbody tr th {\n",
       "        vertical-align: top;\n",
       "    }\n",
       "\n",
       "    .dataframe thead th {\n",
       "        text-align: right;\n",
       "    }\n",
       "</style>\n",
       "<table border=\"1\" class=\"dataframe\">\n",
       "  <thead>\n",
       "    <tr style=\"text-align: right;\">\n",
       "      <th></th>\n",
       "      <th>time</th>\n",
       "      <th>ride_id</th>\n",
       "      <th>segment_id</th>\n",
       "      <th>elevation</th>\n",
       "      <th>latitude</th>\n",
       "      <th>longitude</th>\n",
       "      <th>elapsed_time</th>\n",
       "      <th>delta_time</th>\n",
       "      <th>moving_time</th>\n",
       "    </tr>\n",
       "  </thead>\n",
       "  <tbody>\n",
       "    <tr>\n",
       "      <th>0</th>\n",
       "      <td>2020-01-02 14:02:58+00:00</td>\n",
       "      <td>2.975587e+09</td>\n",
       "      <td>0.0</td>\n",
       "      <td>224.30</td>\n",
       "      <td>40.042824</td>\n",
       "      <td>-83.027358</td>\n",
       "      <td>1.0</td>\n",
       "      <td>1.0</td>\n",
       "      <td>1.0</td>\n",
       "    </tr>\n",
       "    <tr>\n",
       "      <th>1</th>\n",
       "      <td>2020-01-02 14:02:59+00:00</td>\n",
       "      <td>2.975587e+09</td>\n",
       "      <td>0.0</td>\n",
       "      <td>224.25</td>\n",
       "      <td>40.042851</td>\n",
       "      <td>-83.027424</td>\n",
       "      <td>2.0</td>\n",
       "      <td>1.0</td>\n",
       "      <td>2.0</td>\n",
       "    </tr>\n",
       "    <tr>\n",
       "      <th>2</th>\n",
       "      <td>2020-01-02 14:03:00+00:00</td>\n",
       "      <td>2.975587e+09</td>\n",
       "      <td>0.0</td>\n",
       "      <td>224.20</td>\n",
       "      <td>40.042877</td>\n",
       "      <td>-83.027490</td>\n",
       "      <td>3.0</td>\n",
       "      <td>1.0</td>\n",
       "      <td>3.0</td>\n",
       "    </tr>\n",
       "    <tr>\n",
       "      <th>3</th>\n",
       "      <td>2020-01-02 14:03:01+00:00</td>\n",
       "      <td>2.975587e+09</td>\n",
       "      <td>0.0</td>\n",
       "      <td>224.20</td>\n",
       "      <td>40.042896</td>\n",
       "      <td>-83.027535</td>\n",
       "      <td>4.0</td>\n",
       "      <td>1.0</td>\n",
       "      <td>4.0</td>\n",
       "    </tr>\n",
       "    <tr>\n",
       "      <th>4</th>\n",
       "      <td>2020-01-02 14:03:02+00:00</td>\n",
       "      <td>2.975587e+09</td>\n",
       "      <td>0.0</td>\n",
       "      <td>224.20</td>\n",
       "      <td>40.042914</td>\n",
       "      <td>-83.027581</td>\n",
       "      <td>5.0</td>\n",
       "      <td>1.0</td>\n",
       "      <td>5.0</td>\n",
       "    </tr>\n",
       "  </tbody>\n",
       "</table>\n",
       "</div>"
      ],
      "text/plain": [
       "                       time       ride_id  segment_id  elevation   latitude  \\\n",
       "0 2020-01-02 14:02:58+00:00  2.975587e+09         0.0     224.30  40.042824   \n",
       "1 2020-01-02 14:02:59+00:00  2.975587e+09         0.0     224.25  40.042851   \n",
       "2 2020-01-02 14:03:00+00:00  2.975587e+09         0.0     224.20  40.042877   \n",
       "3 2020-01-02 14:03:01+00:00  2.975587e+09         0.0     224.20  40.042896   \n",
       "4 2020-01-02 14:03:02+00:00  2.975587e+09         0.0     224.20  40.042914   \n",
       "\n",
       "   longitude  elapsed_time  delta_time  moving_time  \n",
       "0 -83.027358           1.0         1.0          1.0  \n",
       "1 -83.027424           2.0         1.0          2.0  \n",
       "2 -83.027490           3.0         1.0          3.0  \n",
       "3 -83.027535           4.0         1.0          4.0  \n",
       "4 -83.027581           5.0         1.0          5.0  "
      ]
     },
     "execution_count": 3,
     "metadata": {},
     "output_type": "execute_result"
    }
   ],
   "source": [
    "df.head()"
   ]
  },
  {
   "cell_type": "code",
   "execution_count": 4,
   "id": "07c87856",
   "metadata": {},
   "outputs": [
    {
     "name": "stdout",
     "output_type": "stream",
     "text": [
      "<class 'pandas.core.frame.DataFrame'>\n",
      "RangeIndex: 1352 entries, 0 to 1351\n",
      "Data columns (total 9 columns):\n",
      " #   Column        Non-Null Count  Dtype              \n",
      "---  ------        --------------  -----              \n",
      " 0   time          1352 non-null   datetime64[ns, UTC]\n",
      " 1   ride_id       1352 non-null   float64            \n",
      " 2   segment_id    1352 non-null   float64            \n",
      " 3   elevation     1352 non-null   float64            \n",
      " 4   latitude      1352 non-null   float64            \n",
      " 5   longitude     1352 non-null   float64            \n",
      " 6   elapsed_time  1352 non-null   float64            \n",
      " 7   delta_time    1352 non-null   float64            \n",
      " 8   moving_time   1352 non-null   float64            \n",
      "dtypes: datetime64[ns, UTC](1), float64(8)\n",
      "memory usage: 95.2 KB\n"
     ]
    }
   ],
   "source": [
    "df.info()"
   ]
  },
  {
   "cell_type": "markdown",
   "id": "4a70a166",
   "metadata": {},
   "source": [
    "# 1. Calculating Distance Travelled"
   ]
  },
  {
   "cell_type": "code",
   "execution_count": 5,
   "id": "767638c5",
   "metadata": {},
   "outputs": [],
   "source": [
    "from haversine import haversine\n",
    "\n",
    "def compute_distance(df, latitude='latitude', longitude='longitude', fill_first=0.0):\n",
    "    df = df.copy()\n",
    "    # Copy the previous values of Lat/Long to the current row for vectorized computation\n",
    "    df['lat_old'] = df[latitude].shift()\n",
    "    df['long_old'] = df[longitude].shift()\n",
    "    \n",
    "    # Grab the relevant columns for distance calculation\n",
    "    df_gps = df[['lat_old', 'long_old', latitude, longitude]]\n",
    "    \n",
    "    # Define an anonymous function to execute over each row to calculate the distance between rows\n",
    "    haversine_distance = lambda x: haversine((x[0], x[1]), (x[2], x[3]), unit='mi')\n",
    "    \n",
    "    # Create the distance column, making sure to apply the function row-by-row\n",
    "    df['delta_dist'] = df_gps.apply(haversine_distance, axis=1)\n",
    "    df['delta_dist'] = df['delta_dist'].fillna(fill_first)\n",
    "    \n",
    "    # Remove the old latitude and longitude columns\n",
    "    df.drop(['lat_old','long_old'], axis=1, inplace=True)\n",
    "    return df"
   ]
  },
  {
   "cell_type": "code",
   "execution_count": 6,
   "id": "ce3357bc",
   "metadata": {},
   "outputs": [],
   "source": [
    "df = compute_distance(df)"
   ]
  },
  {
   "cell_type": "code",
   "execution_count": 7,
   "id": "1344b893",
   "metadata": {},
   "outputs": [],
   "source": [
    "# compute the cumulative distance elapsed\n",
    "df['elapsed_distance'] = df['delta_dist'].cumsum()"
   ]
  },
  {
   "cell_type": "code",
   "execution_count": 8,
   "id": "c7496bc9",
   "metadata": {},
   "outputs": [
    {
     "data": {
      "image/png": "[encoded data removed]",
      "text/plain": [
       "<Figure size 576x432 with 1 Axes>"
      ]
     },
     "metadata": {
      "needs_background": "light"
     },
     "output_type": "display_data"
    }
   ],
   "source": [
    "# visualize the jumps of cumulative time \n",
    "fig = plt.figure(figsize=(8,6))\n",
    "\n",
    "_ = plt.plot(df['elapsed_time'], df['elapsed_distance'])\n",
    "_ = plt.xlabel('Elapsed Time (seconds)', fontsize=16)\n",
    "_ = plt.ylabel('Elapsed Distance (miles)', fontsize=16)\n",
    "_ = plt.title('Bike Ride Elapsed States', fontsize=20)\n",
    "_ = plt.grid()"
   ]
  },
  {
   "cell_type": "code",
   "execution_count": 10,
   "id": "0e7600c5",
   "metadata": {},
   "outputs": [
    {
     "data": {
      "text/html": [
       "<div>\n",
       "<style scoped>\n",
       "    .dataframe tbody tr th:only-of-type {\n",
       "        vertical-align: middle;\n",
       "    }\n",
       "\n",
       "    .dataframe tbody tr th {\n",
       "        vertical-align: top;\n",
       "    }\n",
       "\n",
       "    .dataframe thead th {\n",
       "        text-align: right;\n",
       "    }\n",
       "</style>\n",
       "<table border=\"1\" class=\"dataframe\">\n",
       "  <thead>\n",
       "    <tr style=\"text-align: right;\">\n",
       "      <th></th>\n",
       "      <th>time</th>\n",
       "      <th>ride_id</th>\n",
       "      <th>segment_id</th>\n",
       "      <th>elevation</th>\n",
       "      <th>latitude</th>\n",
       "      <th>longitude</th>\n",
       "      <th>elapsed_time</th>\n",
       "      <th>delta_time</th>\n",
       "      <th>moving_time</th>\n",
       "      <th>delta_dist</th>\n",
       "      <th>elapsed_distance</th>\n",
       "    </tr>\n",
       "  </thead>\n",
       "  <tbody>\n",
       "    <tr>\n",
       "      <th>0</th>\n",
       "      <td>2020-01-02 14:02:58+00:00</td>\n",
       "      <td>2.975587e+09</td>\n",
       "      <td>0.0</td>\n",
       "      <td>224.30</td>\n",
       "      <td>40.042824</td>\n",
       "      <td>-83.027358</td>\n",
       "      <td>1.0</td>\n",
       "      <td>1.0</td>\n",
       "      <td>1.0</td>\n",
       "      <td>0.000000</td>\n",
       "      <td>0.000000</td>\n",
       "    </tr>\n",
       "    <tr>\n",
       "      <th>1</th>\n",
       "      <td>2020-01-02 14:02:59+00:00</td>\n",
       "      <td>2.975587e+09</td>\n",
       "      <td>0.0</td>\n",
       "      <td>224.25</td>\n",
       "      <td>40.042851</td>\n",
       "      <td>-83.027424</td>\n",
       "      <td>2.0</td>\n",
       "      <td>1.0</td>\n",
       "      <td>2.0</td>\n",
       "      <td>0.003942</td>\n",
       "      <td>0.003942</td>\n",
       "    </tr>\n",
       "  </tbody>\n",
       "</table>\n",
       "</div>"
      ],
      "text/plain": [
       "                       time       ride_id  segment_id  elevation   latitude  \\\n",
       "0 2020-01-02 14:02:58+00:00  2.975587e+09         0.0     224.30  40.042824   \n",
       "1 2020-01-02 14:02:59+00:00  2.975587e+09         0.0     224.25  40.042851   \n",
       "\n",
       "   longitude  elapsed_time  delta_time  moving_time  delta_dist  \\\n",
       "0 -83.027358           1.0         1.0          1.0    0.000000   \n",
       "1 -83.027424           2.0         1.0          2.0    0.003942   \n",
       "\n",
       "   elapsed_distance  \n",
       "0          0.000000  \n",
       "1          0.003942  "
      ]
     },
     "execution_count": 10,
     "metadata": {},
     "output_type": "execute_result"
    }
   ],
   "source": [
    "df.head(2)"
   ]
  },
  {
   "cell_type": "code",
   "execution_count": 11,
   "id": "1fd3b724",
   "metadata": {},
   "outputs": [
    {
     "data": {
      "text/html": [
       "<div>\n",
       "<style scoped>\n",
       "    .dataframe tbody tr th:only-of-type {\n",
       "        vertical-align: middle;\n",
       "    }\n",
       "\n",
       "    .dataframe tbody tr th {\n",
       "        vertical-align: top;\n",
       "    }\n",
       "\n",
       "    .dataframe thead th {\n",
       "        text-align: right;\n",
       "    }\n",
       "</style>\n",
       "<table border=\"1\" class=\"dataframe\">\n",
       "  <thead>\n",
       "    <tr style=\"text-align: right;\">\n",
       "      <th></th>\n",
       "      <th>time</th>\n",
       "      <th>ride_id</th>\n",
       "      <th>segment_id</th>\n",
       "      <th>elevation</th>\n",
       "      <th>latitude</th>\n",
       "      <th>longitude</th>\n",
       "      <th>elapsed_time</th>\n",
       "      <th>delta_time</th>\n",
       "      <th>moving_time</th>\n",
       "      <th>delta_dist</th>\n",
       "      <th>elapsed_distance</th>\n",
       "    </tr>\n",
       "  </thead>\n",
       "  <tbody>\n",
       "    <tr>\n",
       "      <th>1350</th>\n",
       "      <td>2020-01-02 14:29:31+00:00</td>\n",
       "      <td>2.975587e+09</td>\n",
       "      <td>4.0</td>\n",
       "      <td>223.8</td>\n",
       "      <td>40.042945</td>\n",
       "      <td>-83.027753</td>\n",
       "      <td>1594.0</td>\n",
       "      <td>1.0</td>\n",
       "      <td>1351.0</td>\n",
       "      <td>0.000678</td>\n",
       "      <td>5.275570</td>\n",
       "    </tr>\n",
       "    <tr>\n",
       "      <th>1351</th>\n",
       "      <td>2020-01-02 14:29:32+00:00</td>\n",
       "      <td>2.975587e+09</td>\n",
       "      <td>4.0</td>\n",
       "      <td>223.8</td>\n",
       "      <td>40.042954</td>\n",
       "      <td>-83.027747</td>\n",
       "      <td>1595.0</td>\n",
       "      <td>1.0</td>\n",
       "      <td>1352.0</td>\n",
       "      <td>0.000678</td>\n",
       "      <td>5.276248</td>\n",
       "    </tr>\n",
       "  </tbody>\n",
       "</table>\n",
       "</div>"
      ],
      "text/plain": [
       "                          time       ride_id  segment_id  elevation  \\\n",
       "1350 2020-01-02 14:29:31+00:00  2.975587e+09         4.0      223.8   \n",
       "1351 2020-01-02 14:29:32+00:00  2.975587e+09         4.0      223.8   \n",
       "\n",
       "       latitude  longitude  elapsed_time  delta_time  moving_time  delta_dist  \\\n",
       "1350  40.042945 -83.027753        1594.0         1.0       1351.0    0.000678   \n",
       "1351  40.042954 -83.027747        1595.0         1.0       1352.0    0.000678   \n",
       "\n",
       "      elapsed_distance  \n",
       "1350          5.275570  \n",
       "1351          5.276248  "
      ]
     },
     "execution_count": 11,
     "metadata": {},
     "output_type": "execute_result"
    }
   ],
   "source": [
    "df.tail(2)"
   ]
  },
  {
   "cell_type": "code",
   "execution_count": null,
   "id": "c6b5a1c5",
   "metadata": {},
   "outputs": [],
   "source": []
  },
  {
   "cell_type": "code",
   "execution_count": null,
   "id": "0bb1add3",
   "metadata": {},
   "outputs": [],
   "source": []
  },
  {
   "cell_type": "code",
   "execution_count": null,
   "id": "b3616f5c",
   "metadata": {},
   "outputs": [],
   "source": []
  },
  {
   "cell_type": "code",
   "execution_count": null,
   "id": "3fb97b7b",
   "metadata": {},
   "outputs": [],
   "source": []
  },
  {
   "cell_type": "code",
   "execution_count": null,
   "id": "52112c58",
   "metadata": {},
   "outputs": [],
   "source": []
  },
  {
   "cell_type": "code",
   "execution_count": null,
   "id": "34954997",
   "metadata": {},
   "outputs": [],
   "source": []
  },
  {
   "cell_type": "code",
   "execution_count": null,
   "id": "e451859f",
   "metadata": {},
   "outputs": [],
   "source": []
  },
  {
   "cell_type": "code",
   "execution_count": null,
   "id": "2b365a6e",
   "metadata": {},
   "outputs": [],
   "source": []
  },
  {
   "cell_type": "code",
   "execution_count": null,
   "id": "acc12df8",
   "metadata": {},
   "outputs": [],
   "source": []
  }
 ],
 "metadata": {
  "kernelspec": {
   "display_name": "Python 3 (ipykernel)",
   "language": "python",
   "name": "python3"
  },
  "language_info": {
   "codemirror_mode": {
    "name": "ipython",
    "version": 3
   },
   "file_extension": ".py",
   "mimetype": "text/x-python",
   "name": "python",
   "nbconvert_exporter": "python",
   "pygments_lexer": "ipython3",
   "version": "3.10.1"
  }
 },
 "nbformat": 4,
 "nbformat_minor": 5
}
