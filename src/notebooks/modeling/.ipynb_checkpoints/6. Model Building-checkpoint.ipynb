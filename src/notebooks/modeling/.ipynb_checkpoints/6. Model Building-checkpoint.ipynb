{
 "cells": [
  {
   "cell_type": "code",
   "execution_count": 40,
   "id": "49e58881",
   "metadata": {},
   "outputs": [],
   "source": [
    "import pandas as pd\n",
    "import numpy as np\n",
    "import matplotlib.pyplot as plt\n",
    "import seaborn as sns\n",
    "\n",
    "#pd.set_option(\"display.max_rows\", 1000)\n",
    "pd.set_option(\"display.max_columns\", 100)\n",
    "np.set_printoptions(suppress=True)"
   ]
  },
  {
   "cell_type": "code",
   "execution_count": 2,
   "id": "efd876c8",
   "metadata": {},
   "outputs": [
    {
     "data": {
      "text/html": [
       "<div>\n",
       "<style scoped>\n",
       "    .dataframe tbody tr th:only-of-type {\n",
       "        vertical-align: middle;\n",
       "    }\n",
       "\n",
       "    .dataframe tbody tr th {\n",
       "        vertical-align: top;\n",
       "    }\n",
       "\n",
       "    .dataframe thead th {\n",
       "        text-align: right;\n",
       "    }\n",
       "</style>\n",
       "<table border=\"1\" class=\"dataframe\">\n",
       "  <thead>\n",
       "    <tr style=\"text-align: right;\">\n",
       "      <th></th>\n",
       "      <th>elapsed_distance</th>\n",
       "      <th>moving_time</th>\n",
       "      <th>avg_speed</th>\n",
       "      <th>ride_cruise_speed</th>\n",
       "      <th>ride_avg_power</th>\n",
       "      <th>peak_20min_power</th>\n",
       "      <th>training_window_0</th>\n",
       "      <th>training_window_1</th>\n",
       "      <th>training_window_2</th>\n",
       "      <th>training_window_3</th>\n",
       "      <th>training_window_4</th>\n",
       "      <th>training_window_5</th>\n",
       "      <th>training_window_6</th>\n",
       "      <th>training_window_7</th>\n",
       "      <th>training_window_8</th>\n",
       "      <th>training_window_9</th>\n",
       "      <th>training_window_10</th>\n",
       "      <th>training_window_11</th>\n",
       "      <th>training_window_12</th>\n",
       "      <th>simple_exertion</th>\n",
       "    </tr>\n",
       "  </thead>\n",
       "  <tbody>\n",
       "    <tr>\n",
       "      <th>0</th>\n",
       "      <td>0.301947</td>\n",
       "      <td>0.179185</td>\n",
       "      <td>0.502600</td>\n",
       "      <td>-0.104944</td>\n",
       "      <td>0.559036</td>\n",
       "      <td>0.975233</td>\n",
       "      <td>0.0</td>\n",
       "      <td>0.0</td>\n",
       "      <td>0.0</td>\n",
       "      <td>0.0</td>\n",
       "      <td>1.0</td>\n",
       "      <td>0.0</td>\n",
       "      <td>0.0</td>\n",
       "      <td>0.0</td>\n",
       "      <td>0.0</td>\n",
       "      <td>0.0</td>\n",
       "      <td>0.0</td>\n",
       "      <td>0.0</td>\n",
       "      <td>0.0</td>\n",
       "      <td>2.0</td>\n",
       "    </tr>\n",
       "    <tr>\n",
       "      <th>1</th>\n",
       "      <td>-0.558354</td>\n",
       "      <td>-0.769120</td>\n",
       "      <td>0.864860</td>\n",
       "      <td>0.342861</td>\n",
       "      <td>0.788333</td>\n",
       "      <td>0.903988</td>\n",
       "      <td>0.0</td>\n",
       "      <td>0.0</td>\n",
       "      <td>0.0</td>\n",
       "      <td>0.0</td>\n",
       "      <td>0.0</td>\n",
       "      <td>1.0</td>\n",
       "      <td>0.0</td>\n",
       "      <td>0.0</td>\n",
       "      <td>0.0</td>\n",
       "      <td>0.0</td>\n",
       "      <td>0.0</td>\n",
       "      <td>0.0</td>\n",
       "      <td>0.0</td>\n",
       "      <td>3.0</td>\n",
       "    </tr>\n",
       "    <tr>\n",
       "      <th>2</th>\n",
       "      <td>-0.595791</td>\n",
       "      <td>-0.801851</td>\n",
       "      <td>0.888048</td>\n",
       "      <td>0.804365</td>\n",
       "      <td>1.269131</td>\n",
       "      <td>0.616208</td>\n",
       "      <td>0.0</td>\n",
       "      <td>0.0</td>\n",
       "      <td>0.0</td>\n",
       "      <td>0.0</td>\n",
       "      <td>0.0</td>\n",
       "      <td>0.0</td>\n",
       "      <td>0.0</td>\n",
       "      <td>0.0</td>\n",
       "      <td>0.0</td>\n",
       "      <td>0.0</td>\n",
       "      <td>0.0</td>\n",
       "      <td>1.0</td>\n",
       "      <td>0.0</td>\n",
       "      <td>3.0</td>\n",
       "    </tr>\n",
       "    <tr>\n",
       "      <th>3</th>\n",
       "      <td>-0.125927</td>\n",
       "      <td>-0.295640</td>\n",
       "      <td>0.614986</td>\n",
       "      <td>-0.118132</td>\n",
       "      <td>0.211381</td>\n",
       "      <td>0.310750</td>\n",
       "      <td>0.0</td>\n",
       "      <td>0.0</td>\n",
       "      <td>0.0</td>\n",
       "      <td>0.0</td>\n",
       "      <td>0.0</td>\n",
       "      <td>1.0</td>\n",
       "      <td>0.0</td>\n",
       "      <td>0.0</td>\n",
       "      <td>0.0</td>\n",
       "      <td>0.0</td>\n",
       "      <td>0.0</td>\n",
       "      <td>0.0</td>\n",
       "      <td>0.0</td>\n",
       "      <td>3.0</td>\n",
       "    </tr>\n",
       "    <tr>\n",
       "      <th>4</th>\n",
       "      <td>-1.127194</td>\n",
       "      <td>-1.180276</td>\n",
       "      <td>-0.693269</td>\n",
       "      <td>0.249776</td>\n",
       "      <td>-0.217549</td>\n",
       "      <td>-0.983908</td>\n",
       "      <td>0.0</td>\n",
       "      <td>0.0</td>\n",
       "      <td>0.0</td>\n",
       "      <td>1.0</td>\n",
       "      <td>0.0</td>\n",
       "      <td>0.0</td>\n",
       "      <td>0.0</td>\n",
       "      <td>0.0</td>\n",
       "      <td>0.0</td>\n",
       "      <td>0.0</td>\n",
       "      <td>0.0</td>\n",
       "      <td>0.0</td>\n",
       "      <td>0.0</td>\n",
       "      <td>2.0</td>\n",
       "    </tr>\n",
       "  </tbody>\n",
       "</table>\n",
       "</div>"
      ],
      "text/plain": [
       "   elapsed_distance  moving_time  avg_speed  ride_cruise_speed  \\\n",
       "0          0.301947     0.179185   0.502600          -0.104944   \n",
       "1         -0.558354    -0.769120   0.864860           0.342861   \n",
       "2         -0.595791    -0.801851   0.888048           0.804365   \n",
       "3         -0.125927    -0.295640   0.614986          -0.118132   \n",
       "4         -1.127194    -1.180276  -0.693269           0.249776   \n",
       "\n",
       "   ride_avg_power  peak_20min_power  training_window_0  training_window_1  \\\n",
       "0        0.559036          0.975233                0.0                0.0   \n",
       "1        0.788333          0.903988                0.0                0.0   \n",
       "2        1.269131          0.616208                0.0                0.0   \n",
       "3        0.211381          0.310750                0.0                0.0   \n",
       "4       -0.217549         -0.983908                0.0                0.0   \n",
       "\n",
       "   training_window_2  training_window_3  training_window_4  training_window_5  \\\n",
       "0                0.0                0.0                1.0                0.0   \n",
       "1                0.0                0.0                0.0                1.0   \n",
       "2                0.0                0.0                0.0                0.0   \n",
       "3                0.0                0.0                0.0                1.0   \n",
       "4                0.0                1.0                0.0                0.0   \n",
       "\n",
       "   training_window_6  training_window_7  training_window_8  training_window_9  \\\n",
       "0                0.0                0.0                0.0                0.0   \n",
       "1                0.0                0.0                0.0                0.0   \n",
       "2                0.0                0.0                0.0                0.0   \n",
       "3                0.0                0.0                0.0                0.0   \n",
       "4                0.0                0.0                0.0                0.0   \n",
       "\n",
       "   training_window_10  training_window_11  training_window_12  simple_exertion  \n",
       "0                 0.0                 0.0                 0.0              2.0  \n",
       "1                 0.0                 0.0                 0.0              3.0  \n",
       "2                 0.0                 1.0                 0.0              3.0  \n",
       "3                 0.0                 0.0                 0.0              3.0  \n",
       "4                 0.0                 0.0                 0.0              2.0  "
      ]
     },
     "execution_count": 2,
     "metadata": {},
     "output_type": "execute_result"
    }
   ],
   "source": [
    "file_paths = {\n",
    "              'in_train':'../../../data/prepared/activity_log_train__ml_prepared.csv',\n",
    "              'in_test':'../../../data/prepared/activity_log_test__ml_prepared.csv',\n",
    "              'in_missing':'../../../data/prepared/activity_log_missing__ml_prepared.csv',\n",
    "             }\n",
    "\n",
    "df = pd.read_csv(file_paths['in_train'])\n",
    "\n",
    "df.head()"
   ]
  },
  {
   "cell_type": "code",
   "execution_count": 3,
   "id": "d4419304",
   "metadata": {},
   "outputs": [],
   "source": [
    "target_col = 'simple_exertion'"
   ]
  },
  {
   "cell_type": "code",
   "execution_count": 26,
   "id": "ed5a5cce",
   "metadata": {},
   "outputs": [
    {
     "data": {
      "text/plain": [
       "2.0    73\n",
       "3.0    34\n",
       "1.0    19\n",
       "Name: simple_exertion, dtype: int64"
      ]
     },
     "execution_count": 26,
     "metadata": {},
     "output_type": "execute_result"
    }
   ],
   "source": [
    "df[target_col].value_counts()"
   ]
  },
  {
   "cell_type": "code",
   "execution_count": 27,
   "id": "96389a82",
   "metadata": {},
   "outputs": [
    {
     "data": {
      "text/plain": [
       "2.0    0.579365\n",
       "3.0    0.269841\n",
       "1.0    0.150794\n",
       "Name: simple_exertion, dtype: float64"
      ]
     },
     "execution_count": 27,
     "metadata": {},
     "output_type": "execute_result"
    }
   ],
   "source": [
    "df[target_col].value_counts(normalize=True)"
   ]
  },
  {
   "cell_type": "markdown",
   "id": "1939cbf5",
   "metadata": {},
   "source": [
    "### Extract X and y"
   ]
  },
  {
   "cell_type": "code",
   "execution_count": 19,
   "id": "0c622c8f",
   "metadata": {},
   "outputs": [],
   "source": [
    "X, y = df.drop(target_col, axis=1).values, df[target_col].values"
   ]
  },
  {
   "cell_type": "code",
   "execution_count": 79,
   "id": "b4472457",
   "metadata": {},
   "outputs": [],
   "source": [
    "from sklearn.multiclass import OneVsRestClassifier\n",
    "from sklearn.linear_model import LogisticRegression\n",
    "from sklearn.ensemble import RandomForestClassifier\n",
    "from sklearn.model_selection import cross_val_score, cross_val_predict, StratifiedKFold\n",
    "from sklearn.metrics import f1_score, roc_auc_score, accuracy_score"
   ]
  },
  {
   "cell_type": "code",
   "execution_count": 80,
   "id": "78e226fa",
   "metadata": {},
   "outputs": [],
   "source": [
    "def stratified_train_classifier(X, y, clf, metric='accuracy', k_folds=5):\n",
    "    skf = StratifiedKFold(n_splits=k_folds)\n",
    "    \n",
    "    if metric == 'f1':\n",
    "        scoring_metric = f1_score\n",
    "    elif metric == 'roc_auc':\n",
    "        scoring_metric = roc_auc_score\n",
    "    elif metric == 'accuracy':\n",
    "        scoring_metric = accuracy_score\n",
    "    else:\n",
    "        return -1\n",
    "    \n",
    "    scores = []\n",
    "    for train_index, test_index in skf.split(X, y):\n",
    "        X_train, X_test = X[train_index], X[test_index]\n",
    "        y_train, y_test = y[train_index], y[test_index]\n",
    "        \n",
    "        clf.fit(X_train, y_train)\n",
    "        \n",
    "        y_pred = clf.predict(X_test)\n",
    "        score = scoring_metric(y_test, y_pred)\n",
    "        scores.append(score)\n",
    "    \n",
    "    print(f'For metric \"{metric}\", the mean = {np.mean(scores)}, std.dev. = {np.std(scores)}')\n",
    "        \n",
    "        "
   ]
  },
  {
   "cell_type": "code",
   "execution_count": null,
   "id": "725a7e82",
   "metadata": {},
   "outputs": [],
   "source": []
  },
  {
   "cell_type": "code",
   "execution_count": null,
   "id": "78c12b88",
   "metadata": {},
   "outputs": [],
   "source": []
  },
  {
   "cell_type": "markdown",
   "id": "e0f41bb7",
   "metadata": {},
   "source": [
    "# 1. Logistic Regression"
   ]
  },
  {
   "cell_type": "code",
   "execution_count": 46,
   "id": "6f7d80ff",
   "metadata": {},
   "outputs": [],
   "source": [
    "clf_OvA_logreg = OneVsRestClassifier(LogisticRegression(random_state=42))"
   ]
  },
  {
   "cell_type": "code",
   "execution_count": 47,
   "id": "1fa503cc",
   "metadata": {},
   "outputs": [
    {
     "data": {
      "text/plain": [
       "OneVsRestClassifier(estimator=LogisticRegression(random_state=42))"
      ]
     },
     "execution_count": 47,
     "metadata": {},
     "output_type": "execute_result"
    }
   ],
   "source": [
    "clf_OvA_logreg.fit(X, y)"
   ]
  },
  {
   "cell_type": "code",
   "execution_count": 48,
   "id": "4cf90f7a",
   "metadata": {},
   "outputs": [
    {
     "data": {
      "text/plain": [
       "0.6666666666666666"
      ]
     },
     "execution_count": 48,
     "metadata": {},
     "output_type": "execute_result"
    }
   ],
   "source": [
    "clf_OvA_logreg.score(X,y)"
   ]
  },
  {
   "cell_type": "code",
   "execution_count": 83,
   "id": "c1b90849",
   "metadata": {},
   "outputs": [],
   "source": [
    "#clf_OvA_logreg.decision_function(X[0:])"
   ]
  },
  {
   "cell_type": "code",
   "execution_count": 84,
   "id": "74fbdc1e",
   "metadata": {},
   "outputs": [
    {
     "name": "stdout",
     "output_type": "stream",
     "text": [
      "For metric \"accuracy\", the mean = 0.6193846153846154, std.dev. = 0.06237584117372831\n"
     ]
    }
   ],
   "source": [
    "stratified_train_classifier(X[:, 0:6],y, clf_OvA_logreg)"
   ]
  },
  {
   "cell_type": "markdown",
   "id": "89878911",
   "metadata": {},
   "source": [
    "# 2. Random Forest"
   ]
  },
  {
   "cell_type": "code",
   "execution_count": 64,
   "id": "b128ff8a",
   "metadata": {},
   "outputs": [],
   "source": [
    "clf_rf = RandomForestClassifier(random_state=42)"
   ]
  },
  {
   "cell_type": "code",
   "execution_count": 57,
   "id": "8279cbbb",
   "metadata": {},
   "outputs": [
    {
     "data": {
      "text/plain": [
       "RandomForestClassifier(random_state=42)"
      ]
     },
     "execution_count": 57,
     "metadata": {},
     "output_type": "execute_result"
    }
   ],
   "source": [
    "clf_rf.fit(X,y)"
   ]
  },
  {
   "cell_type": "code",
   "execution_count": 76,
   "id": "c49a494b",
   "metadata": {},
   "outputs": [
    {
     "data": {
      "text/plain": [
       "0.625"
      ]
     },
     "execution_count": 76,
     "metadata": {},
     "output_type": "execute_result"
    }
   ],
   "source": [
    "cross_val_score(clf_rf, X[:, 0:6], y, scoring='accuracy', cv=10).mean()"
   ]
  },
  {
   "cell_type": "code",
   "execution_count": null,
   "id": "458a0059",
   "metadata": {},
   "outputs": [],
   "source": []
  },
  {
   "cell_type": "code",
   "execution_count": 82,
   "id": "ac371a9c",
   "metadata": {},
   "outputs": [
    {
     "name": "stdout",
     "output_type": "stream",
     "text": [
      "For metric \"accuracy\", the mean = 0.6270769230769231, std.dev. = 0.09609462791848927\n"
     ]
    }
   ],
   "source": [
    "stratified_train_classifier(X[:, 0:6],y, clf_rf)"
   ]
  },
  {
   "cell_type": "code",
   "execution_count": null,
   "id": "c0d5f814",
   "metadata": {},
   "outputs": [],
   "source": []
  }
 ],
 "metadata": {
  "kernelspec": {
   "display_name": "Python 3 (ipykernel)",
   "language": "python",
   "name": "python3"
  },
  "language_info": {
   "codemirror_mode": {
    "name": "ipython",
    "version": 3
   },
   "file_extension": ".py",
   "mimetype": "text/x-python",
   "name": "python",
   "nbconvert_exporter": "python",
   "pygments_lexer": "ipython3",
   "version": "3.10.1"
  }
 },
 "nbformat": 4,
 "nbformat_minor": 5
}
