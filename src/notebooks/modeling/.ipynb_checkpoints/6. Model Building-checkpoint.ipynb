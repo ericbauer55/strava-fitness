{
 "cells": [
  {
   "cell_type": "code",
   "execution_count": 40,
   "id": "71983826",
   "metadata": {},
   "outputs": [],
   "source": [
    "import pandas as pd\n",
    "import numpy as np\n",
    "import matplotlib.pyplot as plt\n",
    "import seaborn as sns\n",
    "\n",
    "#pd.set_option(\"display.max_rows\", 1000)\n",
    "pd.set_option(\"display.max_columns\", 100)\n",
    "np.set_printoptions(suppress=True)"
   ]
  },
  {
   "cell_type": "code",
   "execution_count": 2,
   "id": "00f3f37e",
   "metadata": {},
   "outputs": [
    {
     "data": {
      "text/html": [
       "<div>\n",
       "<style scoped>\n",
       "    .dataframe tbody tr th:only-of-type {\n",
       "        vertical-align: middle;\n",
       "    }\n",
       "\n",
       "    .dataframe tbody tr th {\n",
       "        vertical-align: top;\n",
       "    }\n",
       "\n",
       "    .dataframe thead th {\n",
       "        text-align: right;\n",
       "    }\n",
       "</style>\n",
       "<table border=\"1\" class=\"dataframe\">\n",
       "  <thead>\n",
       "    <tr style=\"text-align: right;\">\n",
       "      <th></th>\n",
       "      <th>elapsed_distance</th>\n",
       "      <th>moving_time</th>\n",
       "      <th>avg_speed</th>\n",
       "      <th>ride_cruise_speed</th>\n",
       "      <th>ride_avg_power</th>\n",
       "      <th>peak_20min_power</th>\n",
       "      <th>training_window_0</th>\n",
       "      <th>training_window_1</th>\n",
       "      <th>training_window_2</th>\n",
       "      <th>training_window_3</th>\n",
       "      <th>training_window_4</th>\n",
       "      <th>training_window_5</th>\n",
       "      <th>training_window_6</th>\n",
       "      <th>training_window_7</th>\n",
       "      <th>training_window_8</th>\n",
       "      <th>training_window_9</th>\n",
       "      <th>training_window_10</th>\n",
       "      <th>training_window_11</th>\n",
       "      <th>training_window_12</th>\n",
       "      <th>simple_exertion</th>\n",
       "    </tr>\n",
       "  </thead>\n",
       "  <tbody>\n",
       "    <tr>\n",
       "      <th>0</th>\n",
       "      <td>0.301947</td>\n",
       "      <td>0.179185</td>\n",
       "      <td>0.502600</td>\n",
       "      <td>-0.104944</td>\n",
       "      <td>0.559036</td>\n",
       "      <td>0.975233</td>\n",
       "      <td>0.0</td>\n",
       "      <td>0.0</td>\n",
       "      <td>0.0</td>\n",
       "      <td>0.0</td>\n",
       "      <td>1.0</td>\n",
       "      <td>0.0</td>\n",
       "      <td>0.0</td>\n",
       "      <td>0.0</td>\n",
       "      <td>0.0</td>\n",
       "      <td>0.0</td>\n",
       "      <td>0.0</td>\n",
       "      <td>0.0</td>\n",
       "      <td>0.0</td>\n",
       "      <td>2.0</td>\n",
       "    </tr>\n",
       "    <tr>\n",
       "      <th>1</th>\n",
       "      <td>-0.558354</td>\n",
       "      <td>-0.769120</td>\n",
       "      <td>0.864860</td>\n",
       "      <td>0.342861</td>\n",
       "      <td>0.788333</td>\n",
       "      <td>0.903988</td>\n",
       "      <td>0.0</td>\n",
       "      <td>0.0</td>\n",
       "      <td>0.0</td>\n",
       "      <td>0.0</td>\n",
       "      <td>0.0</td>\n",
       "      <td>1.0</td>\n",
       "      <td>0.0</td>\n",
       "      <td>0.0</td>\n",
       "      <td>0.0</td>\n",
       "      <td>0.0</td>\n",
       "      <td>0.0</td>\n",
       "      <td>0.0</td>\n",
       "      <td>0.0</td>\n",
       "      <td>3.0</td>\n",
       "    </tr>\n",
       "    <tr>\n",
       "      <th>2</th>\n",
       "      <td>-0.595791</td>\n",
       "      <td>-0.801851</td>\n",
       "      <td>0.888048</td>\n",
       "      <td>0.804365</td>\n",
       "      <td>1.269131</td>\n",
       "      <td>0.616208</td>\n",
       "      <td>0.0</td>\n",
       "      <td>0.0</td>\n",
       "      <td>0.0</td>\n",
       "      <td>0.0</td>\n",
       "      <td>0.0</td>\n",
       "      <td>0.0</td>\n",
       "      <td>0.0</td>\n",
       "      <td>0.0</td>\n",
       "      <td>0.0</td>\n",
       "      <td>0.0</td>\n",
       "      <td>0.0</td>\n",
       "      <td>1.0</td>\n",
       "      <td>0.0</td>\n",
       "      <td>3.0</td>\n",
       "    </tr>\n",
       "    <tr>\n",
       "      <th>3</th>\n",
       "      <td>-0.125927</td>\n",
       "      <td>-0.295640</td>\n",
       "      <td>0.614986</td>\n",
       "      <td>-0.118132</td>\n",
       "      <td>0.211381</td>\n",
       "      <td>0.310750</td>\n",
       "      <td>0.0</td>\n",
       "      <td>0.0</td>\n",
       "      <td>0.0</td>\n",
       "      <td>0.0</td>\n",
       "      <td>0.0</td>\n",
       "      <td>1.0</td>\n",
       "      <td>0.0</td>\n",
       "      <td>0.0</td>\n",
       "      <td>0.0</td>\n",
       "      <td>0.0</td>\n",
       "      <td>0.0</td>\n",
       "      <td>0.0</td>\n",
       "      <td>0.0</td>\n",
       "      <td>3.0</td>\n",
       "    </tr>\n",
       "    <tr>\n",
       "      <th>4</th>\n",
       "      <td>-1.127194</td>\n",
       "      <td>-1.180276</td>\n",
       "      <td>-0.693269</td>\n",
       "      <td>0.249776</td>\n",
       "      <td>-0.217549</td>\n",
       "      <td>-0.983908</td>\n",
       "      <td>0.0</td>\n",
       "      <td>0.0</td>\n",
       "      <td>0.0</td>\n",
       "      <td>1.0</td>\n",
       "      <td>0.0</td>\n",
       "      <td>0.0</td>\n",
       "      <td>0.0</td>\n",
       "      <td>0.0</td>\n",
       "      <td>0.0</td>\n",
       "      <td>0.0</td>\n",
       "      <td>0.0</td>\n",
       "      <td>0.0</td>\n",
       "      <td>0.0</td>\n",
       "      <td>2.0</td>\n",
       "    </tr>\n",
       "  </tbody>\n",
       "</table>\n",
       "</div>"
      ],
      "text/plain": [
       "   elapsed_distance  moving_time  avg_speed  ride_cruise_speed  \\\n",
       "0          0.301947     0.179185   0.502600          -0.104944   \n",
       "1         -0.558354    -0.769120   0.864860           0.342861   \n",
       "2         -0.595791    -0.801851   0.888048           0.804365   \n",
       "3         -0.125927    -0.295640   0.614986          -0.118132   \n",
       "4         -1.127194    -1.180276  -0.693269           0.249776   \n",
       "\n",
       "   ride_avg_power  peak_20min_power  training_window_0  training_window_1  \\\n",
       "0        0.559036          0.975233                0.0                0.0   \n",
       "1        0.788333          0.903988                0.0                0.0   \n",
       "2        1.269131          0.616208                0.0                0.0   \n",
       "3        0.211381          0.310750                0.0                0.0   \n",
       "4       -0.217549         -0.983908                0.0                0.0   \n",
       "\n",
       "   training_window_2  training_window_3  training_window_4  training_window_5  \\\n",
       "0                0.0                0.0                1.0                0.0   \n",
       "1                0.0                0.0                0.0                1.0   \n",
       "2                0.0                0.0                0.0                0.0   \n",
       "3                0.0                0.0                0.0                1.0   \n",
       "4                0.0                1.0                0.0                0.0   \n",
       "\n",
       "   training_window_6  training_window_7  training_window_8  training_window_9  \\\n",
       "0                0.0                0.0                0.0                0.0   \n",
       "1                0.0                0.0                0.0                0.0   \n",
       "2                0.0                0.0                0.0                0.0   \n",
       "3                0.0                0.0                0.0                0.0   \n",
       "4                0.0                0.0                0.0                0.0   \n",
       "\n",
       "   training_window_10  training_window_11  training_window_12  simple_exertion  \n",
       "0                 0.0                 0.0                 0.0              2.0  \n",
       "1                 0.0                 0.0                 0.0              3.0  \n",
       "2                 0.0                 1.0                 0.0              3.0  \n",
       "3                 0.0                 0.0                 0.0              3.0  \n",
       "4                 0.0                 0.0                 0.0              2.0  "
      ]
     },
     "execution_count": 2,
     "metadata": {},
     "output_type": "execute_result"
    }
   ],
   "source": [
    "file_paths = {\n",
    "              'in_train':'../../../data/prepared/activity_log_train__ml_prepared.csv',\n",
    "              'in_test':'../../../data/prepared/activity_log_test__ml_prepared.csv',\n",
    "              'in_missing':'../../../data/prepared/activity_log_missing__ml_prepared.csv',\n",
    "             }\n",
    "\n",
    "df = pd.read_csv(file_paths['in_train'])\n",
    "\n",
    "df.head()"
   ]
  },
  {
   "cell_type": "code",
   "execution_count": 3,
   "id": "22d36cd0",
   "metadata": {},
   "outputs": [],
   "source": [
    "target_col = 'simple_exertion'"
   ]
  },
  {
   "cell_type": "code",
   "execution_count": 26,
   "id": "5b35ef4c",
   "metadata": {},
   "outputs": [
    {
     "data": {
      "text/plain": [
       "2.0    73\n",
       "3.0    34\n",
       "1.0    19\n",
       "Name: simple_exertion, dtype: int64"
      ]
     },
     "execution_count": 26,
     "metadata": {},
     "output_type": "execute_result"
    }
   ],
   "source": [
    "df[target_col].value_counts()"
   ]
  },
  {
   "cell_type": "code",
   "execution_count": 27,
   "id": "52298f54",
   "metadata": {},
   "outputs": [
    {
     "data": {
      "text/plain": [
       "2.0    0.579365\n",
       "3.0    0.269841\n",
       "1.0    0.150794\n",
       "Name: simple_exertion, dtype: float64"
      ]
     },
     "execution_count": 27,
     "metadata": {},
     "output_type": "execute_result"
    }
   ],
   "source": [
    "df[target_col].value_counts(normalize=True)"
   ]
  },
  {
   "cell_type": "markdown",
   "id": "d52fb112",
   "metadata": {},
   "source": [
    "### Extract X and y"
   ]
  },
  {
   "cell_type": "code",
   "execution_count": 19,
   "id": "ab66757e",
   "metadata": {},
   "outputs": [],
   "source": [
    "X, y = df.drop(target_col, axis=1).values, df[target_col].values"
   ]
  },
  {
   "cell_type": "code",
   "execution_count": 61,
   "id": "c8408978",
   "metadata": {},
   "outputs": [],
   "source": [
    "from sklearn.multiclass import OneVsRestClassifier\n",
    "from sklearn.linear_model import LogisticRegression\n",
    "from sklearn.ensemble import RandomForestClassifier\n",
    "from sklearn.model_selection import cross_val_score, cross_val_predict, StratifiedKFold\n",
    "from sklearn.metrics import f1_score, roc_auc_score"
   ]
  },
  {
   "cell_type": "code",
   "execution_count": 66,
   "id": "ce45472c",
   "metadata": {},
   "outputs": [],
   "source": [
    "def stratified_train_classifier(X, y, clf, metric='f1_score', k_folds=5):\n",
    "    skf = StratifiedKFold(n_splits=k_folds)\n",
    "    \n",
    "    if metric == 'f1_score':\n",
    "        scoring_metric = f1_score\n",
    "    elif metric == 'roc_auc_score':\n",
    "        scoring_metric = roc_auc_score\n",
    "    else:\n",
    "        return -1\n",
    "    \n",
    "    scores = []\n",
    "    for train_index, test_index in skf.split(X, y):\n",
    "        X_train, X_test = X[train_index], X[test_index]\n",
    "        y_train, y_test = y[train_index], y[test_index]\n",
    "        \n",
    "        clf.fit(X_train, y_train)\n",
    "        \n",
    "        y_pred = clf.predict(X_test)\n",
    "        score = scoring_metric(y_test, y_pred)\n",
    "        scores.append(score)\n",
    "    \n",
    "    print(f'For metric \"{metric}\", the mean = {np.mean(scores)}, std.dev. = {np.std(scores)}')\n",
    "        \n",
    "        "
   ]
  },
  {
   "cell_type": "code",
   "execution_count": null,
   "id": "48f40b7f",
   "metadata": {},
   "outputs": [],
   "source": []
  },
  {
   "cell_type": "code",
   "execution_count": null,
   "id": "2633b5af",
   "metadata": {},
   "outputs": [],
   "source": []
  },
  {
   "cell_type": "markdown",
   "id": "633e19e4",
   "metadata": {},
   "source": [
    "# 1. Logistic Regression"
   ]
  },
  {
   "cell_type": "code",
   "execution_count": 46,
   "id": "6e4d1441",
   "metadata": {},
   "outputs": [],
   "source": [
    "clf_OvA_logreg = OneVsRestClassifier(LogisticRegression(random_state=42))"
   ]
  },
  {
   "cell_type": "code",
   "execution_count": 47,
   "id": "5096015e",
   "metadata": {},
   "outputs": [
    {
     "data": {
      "text/plain": [
       "OneVsRestClassifier(estimator=LogisticRegression(random_state=42))"
      ]
     },
     "execution_count": 47,
     "metadata": {},
     "output_type": "execute_result"
    }
   ],
   "source": [
    "clf_OvA_logreg.fit(X, y)"
   ]
  },
  {
   "cell_type": "code",
   "execution_count": 48,
   "id": "eb126131",
   "metadata": {},
   "outputs": [
    {
     "data": {
      "text/plain": [
       "0.6666666666666666"
      ]
     },
     "execution_count": 48,
     "metadata": {},
     "output_type": "execute_result"
    }
   ],
   "source": [
    "clf_OvA_logreg.score(X,y)"
   ]
  },
  {
   "cell_type": "code",
   "execution_count": 49,
   "id": "89b8e1e4",
   "metadata": {},
   "outputs": [
    {
     "data": {
      "text/plain": [
       "array([[-2.11997939,  0.28188238, -1.4365271 ],\n",
       "       [-3.04187514,  1.0139014 , -0.95920835],\n",
       "       [-2.97237298,  0.32524004, -0.81391814],\n",
       "       [-3.2942377 ,  0.78493024, -0.66819358],\n",
       "       [-1.17285422,  0.69044033, -2.33325478],\n",
       "       [-3.66927731, -0.62513415,  0.3177267 ],\n",
       "       [-3.16419853,  0.01227223, -0.55829641],\n",
       "       [-2.93178397,  0.85330775, -1.38890128],\n",
       "       [-0.09809056,  0.38423217, -2.7883864 ],\n",
       "       [-2.56429385,  0.30376436, -0.71986265],\n",
       "       [-0.22074069,  0.72679054, -3.0593617 ],\n",
       "       [-0.34907731,  0.07041717, -2.47520151],\n",
       "       [-1.86577136, -0.02989104, -0.7445104 ],\n",
       "       [-3.2258184 ,  0.7973021 , -1.00061235],\n",
       "       [-0.75219907,  0.05141342, -1.74501579],\n",
       "       [-2.77662369,  0.85263857, -1.08775347],\n",
       "       [-6.50062168, -1.62815358,  2.47460657],\n",
       "       [-1.61670109, -0.2832159 , -0.82845514],\n",
       "       [-1.8849115 ,  0.31447121, -0.84972288],\n",
       "       [ 0.13982878,  0.03566849, -2.36491582],\n",
       "       [-2.68496427,  0.63041732, -1.24454324],\n",
       "       [-2.54934225,  0.22239271, -0.76022418],\n",
       "       [-3.48125914, -1.08701295,  0.67472519],\n",
       "       [-3.18509027,  0.37973627, -1.05188466],\n",
       "       [-2.11808058,  0.28487812, -1.30804767],\n",
       "       [ 0.86823187, -0.29560853, -2.35040194],\n",
       "       [-1.11623209,  0.07471467, -1.58942643],\n",
       "       [-3.28939383,  1.4218453 , -1.33823071],\n",
       "       [-1.2153199 ,  0.65099979, -2.22372024],\n",
       "       [-2.78387523,  0.62956327, -1.17268954],\n",
       "       [-6.65687642, -0.14677864,  0.96092275],\n",
       "       [-3.02424741,  0.23704306, -0.44380174],\n",
       "       [-2.68816266,  0.95645016, -1.62271336],\n",
       "       [-3.28954632,  0.11297123, -0.33475445],\n",
       "       [-3.54615844,  0.90755015, -2.0781837 ],\n",
       "       [-0.63515487, -0.2736487 , -1.58121636],\n",
       "       [-0.78470055,  1.13593578, -3.05318216],\n",
       "       [-2.30015832,  0.9569421 , -1.7880232 ],\n",
       "       [-2.55577654, -0.11274346, -0.9211921 ],\n",
       "       [-3.14953112, -0.29526713,  0.16975488],\n",
       "       [-1.07602412,  0.51855656, -2.08898257],\n",
       "       [-1.09365968,  0.31523553, -1.9236363 ],\n",
       "       [-2.22537718,  0.52633713, -1.68899689],\n",
       "       [-5.86099247, -1.19506535,  1.44111425],\n",
       "       [-4.40761063, -0.41357803,  0.22327203],\n",
       "       [-8.60886283, -2.20956124,  3.77175032],\n",
       "       [-4.15892154,  0.04981999,  0.12135049],\n",
       "       [-2.23091894, -0.31331068, -0.30653571],\n",
       "       [ 0.60091829, -0.92154292, -1.35609235],\n",
       "       [-1.70613576,  0.33994624, -1.62488788],\n",
       "       [-3.50199812,  0.90311035, -0.8175762 ],\n",
       "       [-3.98686549,  0.96918619, -0.62976214],\n",
       "       [-1.96252188,  1.01281558, -1.62675976],\n",
       "       [-2.20748584,  0.422685  , -1.38375805],\n",
       "       [-2.72857589,  0.62320613, -1.57882459],\n",
       "       [-3.05813426,  0.80717589, -1.07212287],\n",
       "       [-6.62611298,  1.88436914, -0.42846811],\n",
       "       [-1.6518046 ,  0.34754831, -1.57598445],\n",
       "       [-1.29704757,  0.09092479, -1.88551894],\n",
       "       [-2.35732657,  0.48983215, -1.59613394],\n",
       "       [-4.03344029,  1.344265  , -1.06553776],\n",
       "       [-2.04261107,  0.6076182 , -1.68589757],\n",
       "       [-3.6686691 , -0.38066364,  0.02003941],\n",
       "       [-2.79286656,  0.23015589, -0.47788204],\n",
       "       [-1.45382631,  0.86206769, -2.39161419],\n",
       "       [-4.10449876, -0.95501315,  1.05940054],\n",
       "       [-0.92225757,  0.68255928, -2.28473024],\n",
       "       [-2.39613771,  0.2120732 , -0.47384622],\n",
       "       [-1.92252762,  0.48330704, -1.68326178],\n",
       "       [-1.99613471,  0.82018643, -2.04714818],\n",
       "       [-0.51296468,  0.24255828, -2.34737874],\n",
       "       [ 0.00108255, -0.22314535, -2.00242069],\n",
       "       [-3.1038528 ,  0.25723538, -0.57664433],\n",
       "       [-2.90808876,  0.41899943, -1.14817011],\n",
       "       [-8.64824325,  1.38929734,  0.47582987],\n",
       "       [-4.72422296, -0.18258616,  0.34744375],\n",
       "       [-0.91213572,  0.50606638, -1.93666768],\n",
       "       [-2.86139769,  0.08645699, -0.23073138],\n",
       "       [-2.71354696,  0.51709007, -0.87259009],\n",
       "       [-2.43537929,  0.51977951, -0.88112738],\n",
       "       [-1.23660742,  0.90016922, -2.59150522],\n",
       "       [-5.32544504,  0.14571316,  0.29853321],\n",
       "       [-0.15758007,  0.85439635, -2.93769522],\n",
       "       [-1.86896751,  0.07457329, -1.51665807],\n",
       "       [-4.56136714, -0.02706321,  0.29282478],\n",
       "       [-3.72754934,  0.69587795, -0.56813415],\n",
       "       [-1.91953423,  0.7607892 , -1.29445996],\n",
       "       [-0.88685265,  0.53363944, -2.40511198],\n",
       "       [-1.52196834,  0.21891008, -1.59932303],\n",
       "       [-0.42332589,  0.2828641 , -2.12778525],\n",
       "       [-2.00154152,  0.58532991, -1.3702596 ],\n",
       "       [-0.69868889,  0.31096847, -2.4184817 ],\n",
       "       [-2.51553707,  0.0336096 , -0.74508597],\n",
       "       [-3.15375051,  0.67183177, -1.26534765],\n",
       "       [-0.27177435,  0.5544296 , -2.35576629],\n",
       "       [-1.20605398,  0.65206325, -2.09797843],\n",
       "       [-1.59850353,  0.258263  , -1.25346353],\n",
       "       [ 1.00500873,  0.18179146, -4.02354651],\n",
       "       [-4.76975802, -0.24917821,  0.50413735],\n",
       "       [ 0.11197356,  0.50638547, -2.78239952],\n",
       "       [-0.94026448,  0.92528701, -2.87897027],\n",
       "       [-3.15505637,  0.71459392, -0.95008849],\n",
       "       [-3.25812275,  0.50035366, -0.82119382],\n",
       "       [-3.42793519,  0.0448552 , -0.36112023],\n",
       "       [-1.83517098,  0.2489693 , -1.40979363],\n",
       "       [-3.40539743, -0.46831933, -0.17305557],\n",
       "       [-3.94545017,  1.50889517, -1.7104705 ],\n",
       "       [-1.29092386,  0.5636074 , -2.0213307 ],\n",
       "       [-1.4365427 ,  0.58318683, -2.02891627],\n",
       "       [-1.76203139,  0.2079319 , -1.12227013],\n",
       "       [-5.50912579, -0.83271424,  1.44452707],\n",
       "       [-3.42222163,  0.71101411, -0.94520713],\n",
       "       [-0.96202764,  0.38488994, -2.05161858],\n",
       "       [-2.89619421,  0.07344041, -0.34323603],\n",
       "       [-0.97199067,  0.2824817 , -1.99378455],\n",
       "       [-4.14244757,  0.49164663, -0.50075818],\n",
       "       [-3.32882991,  1.52293429, -1.65968564],\n",
       "       [ 0.75307674, -0.0442112 , -2.43713456],\n",
       "       [-4.88127015, -0.86630771,  0.83945561],\n",
       "       [-2.22276966,  0.56320166, -1.38164949],\n",
       "       [-1.42254269,  0.16446728, -1.68327516],\n",
       "       [-1.01366211,  0.56649256, -2.44614213],\n",
       "       [-1.6889225 ,  0.72524093, -2.20513046],\n",
       "       [-1.45372715,  0.81717854, -2.18918496],\n",
       "       [-2.16096238,  0.74720067, -1.65285597],\n",
       "       [-2.29481152,  0.79518661, -1.67819546]])"
      ]
     },
     "execution_count": 49,
     "metadata": {},
     "output_type": "execute_result"
    }
   ],
   "source": [
    "clf_OvA_logreg.decision_function(X[0:])"
   ]
  },
  {
   "cell_type": "code",
   "execution_count": 34,
   "id": "ca8959ed",
   "metadata": {},
   "outputs": [
    {
     "data": {
      "text/plain": [
       "array([2., 3., 3., 3., 2., 2., 2., 2., 1., 2., 1., 1., 3., 3., 1., 2., 3.,\n",
       "       1., 1., 1., 2., 3., 3., 2., 2., 3., 3., 2., 2., 2., 3., 2., 2., 2.,\n",
       "       2., 1., 2., 2., 2., 2., 2., 2., 3., 3., 3., 3., 3., 3., 3., 2., 2.,\n",
       "       2., 1., 2., 3., 3., 3., 2., 1., 2., 2., 2., 2., 3., 2., 3., 2., 3.,\n",
       "       2., 2., 1., 1., 2., 2., 2., 3., 1., 2., 2., 2., 2., 2., 2., 2., 2.,\n",
       "       3., 2., 1., 1., 2., 2., 2., 2., 2., 2., 2., 2., 1., 3., 1., 2., 2.,\n",
       "       2., 3., 2., 2., 2., 3., 2., 2., 3., 3., 2., 3., 2., 3., 2., 1., 3.,\n",
       "       2., 2., 2., 1., 2., 2., 2.])"
      ]
     },
     "execution_count": 34,
     "metadata": {},
     "output_type": "execute_result"
    }
   ],
   "source": [
    "y"
   ]
  },
  {
   "cell_type": "markdown",
   "id": "bbe523f1",
   "metadata": {},
   "source": [
    "# 2. Random Forest"
   ]
  },
  {
   "cell_type": "code",
   "execution_count": 64,
   "id": "80491145",
   "metadata": {},
   "outputs": [],
   "source": [
    "clf_rf = RandomForestClassifier(random_state=42)"
   ]
  },
  {
   "cell_type": "code",
   "execution_count": 57,
   "id": "20e907c3",
   "metadata": {},
   "outputs": [
    {
     "data": {
      "text/plain": [
       "RandomForestClassifier(random_state=42)"
      ]
     },
     "execution_count": 57,
     "metadata": {},
     "output_type": "execute_result"
    }
   ],
   "source": [
    "clf_rf.fit(X,y)"
   ]
  },
  {
   "cell_type": "code",
   "execution_count": 76,
   "id": "40922504",
   "metadata": {},
   "outputs": [
    {
     "data": {
      "text/plain": [
       "0.625"
      ]
     },
     "execution_count": 76,
     "metadata": {},
     "output_type": "execute_result"
    }
   ],
   "source": [
    "cross_val_score(clf_rf, X[:, 0:6], y, scoring='accuracy', cv=10).mean()"
   ]
  },
  {
   "cell_type": "code",
   "execution_count": 68,
   "id": "9dc3de25",
   "metadata": {},
   "outputs": [],
   "source": [
    "#stratified_train_classifier(X,y, clf_rf)"
   ]
  },
  {
   "cell_type": "code",
   "execution_count": 74,
   "id": "93a6eb51",
   "metadata": {},
   "outputs": [
    {
     "data": {
      "text/plain": [
       "(126, 19)"
      ]
     },
     "execution_count": 74,
     "metadata": {},
     "output_type": "execute_result"
    }
   ],
   "source": [
    "X.shape"
   ]
  },
  {
   "cell_type": "code",
   "execution_count": null,
   "id": "a5630149",
   "metadata": {},
   "outputs": [],
   "source": []
  }
 ],
 "metadata": {
  "kernelspec": {
   "display_name": "Python 3 (ipykernel)",
   "language": "python",
   "name": "python3"
  },
  "language_info": {
   "codemirror_mode": {
    "name": "ipython",
    "version": 3
   },
   "file_extension": ".py",
   "mimetype": "text/x-python",
   "name": "python",
   "nbconvert_exporter": "python",
   "pygments_lexer": "ipython3",
   "version": "3.10.1"
  }
 },
 "nbformat": 4,
 "nbformat_minor": 5
}
