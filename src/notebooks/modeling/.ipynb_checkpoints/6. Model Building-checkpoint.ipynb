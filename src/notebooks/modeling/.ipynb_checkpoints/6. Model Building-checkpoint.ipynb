{
 "cells": [
  {
   "cell_type": "code",
   "execution_count": 40,
   "id": "2c4618a3",
   "metadata": {},
   "outputs": [],
   "source": [
    "import pandas as pd\n",
    "import numpy as np\n",
    "import matplotlib.pyplot as plt\n",
    "import seaborn as sns\n",
    "\n",
    "#pd.set_option(\"display.max_rows\", 1000)\n",
    "pd.set_option(\"display.max_columns\", 100)\n",
    "np.set_printoptions(suppress=True)"
   ]
  },
  {
   "cell_type": "code",
   "execution_count": 2,
   "id": "e21f7e17",
   "metadata": {},
   "outputs": [
    {
     "data": {
      "text/html": [
       "<div>\n",
       "<style scoped>\n",
       "    .dataframe tbody tr th:only-of-type {\n",
       "        vertical-align: middle;\n",
       "    }\n",
       "\n",
       "    .dataframe tbody tr th {\n",
       "        vertical-align: top;\n",
       "    }\n",
       "\n",
       "    .dataframe thead th {\n",
       "        text-align: right;\n",
       "    }\n",
       "</style>\n",
       "<table border=\"1\" class=\"dataframe\">\n",
       "  <thead>\n",
       "    <tr style=\"text-align: right;\">\n",
       "      <th></th>\n",
       "      <th>elapsed_distance</th>\n",
       "      <th>moving_time</th>\n",
       "      <th>avg_speed</th>\n",
       "      <th>ride_cruise_speed</th>\n",
       "      <th>ride_avg_power</th>\n",
       "      <th>peak_20min_power</th>\n",
       "      <th>training_window_0</th>\n",
       "      <th>training_window_1</th>\n",
       "      <th>training_window_2</th>\n",
       "      <th>training_window_3</th>\n",
       "      <th>training_window_4</th>\n",
       "      <th>training_window_5</th>\n",
       "      <th>training_window_6</th>\n",
       "      <th>training_window_7</th>\n",
       "      <th>training_window_8</th>\n",
       "      <th>training_window_9</th>\n",
       "      <th>training_window_10</th>\n",
       "      <th>training_window_11</th>\n",
       "      <th>training_window_12</th>\n",
       "      <th>simple_exertion</th>\n",
       "    </tr>\n",
       "  </thead>\n",
       "  <tbody>\n",
       "    <tr>\n",
       "      <th>0</th>\n",
       "      <td>0.301947</td>\n",
       "      <td>0.179185</td>\n",
       "      <td>0.502600</td>\n",
       "      <td>-0.104944</td>\n",
       "      <td>0.559036</td>\n",
       "      <td>0.975233</td>\n",
       "      <td>0.0</td>\n",
       "      <td>0.0</td>\n",
       "      <td>0.0</td>\n",
       "      <td>0.0</td>\n",
       "      <td>1.0</td>\n",
       "      <td>0.0</td>\n",
       "      <td>0.0</td>\n",
       "      <td>0.0</td>\n",
       "      <td>0.0</td>\n",
       "      <td>0.0</td>\n",
       "      <td>0.0</td>\n",
       "      <td>0.0</td>\n",
       "      <td>0.0</td>\n",
       "      <td>2.0</td>\n",
       "    </tr>\n",
       "    <tr>\n",
       "      <th>1</th>\n",
       "      <td>-0.558354</td>\n",
       "      <td>-0.769120</td>\n",
       "      <td>0.864860</td>\n",
       "      <td>0.342861</td>\n",
       "      <td>0.788333</td>\n",
       "      <td>0.903988</td>\n",
       "      <td>0.0</td>\n",
       "      <td>0.0</td>\n",
       "      <td>0.0</td>\n",
       "      <td>0.0</td>\n",
       "      <td>0.0</td>\n",
       "      <td>1.0</td>\n",
       "      <td>0.0</td>\n",
       "      <td>0.0</td>\n",
       "      <td>0.0</td>\n",
       "      <td>0.0</td>\n",
       "      <td>0.0</td>\n",
       "      <td>0.0</td>\n",
       "      <td>0.0</td>\n",
       "      <td>3.0</td>\n",
       "    </tr>\n",
       "    <tr>\n",
       "      <th>2</th>\n",
       "      <td>-0.595791</td>\n",
       "      <td>-0.801851</td>\n",
       "      <td>0.888048</td>\n",
       "      <td>0.804365</td>\n",
       "      <td>1.269131</td>\n",
       "      <td>0.616208</td>\n",
       "      <td>0.0</td>\n",
       "      <td>0.0</td>\n",
       "      <td>0.0</td>\n",
       "      <td>0.0</td>\n",
       "      <td>0.0</td>\n",
       "      <td>0.0</td>\n",
       "      <td>0.0</td>\n",
       "      <td>0.0</td>\n",
       "      <td>0.0</td>\n",
       "      <td>0.0</td>\n",
       "      <td>0.0</td>\n",
       "      <td>1.0</td>\n",
       "      <td>0.0</td>\n",
       "      <td>3.0</td>\n",
       "    </tr>\n",
       "    <tr>\n",
       "      <th>3</th>\n",
       "      <td>-0.125927</td>\n",
       "      <td>-0.295640</td>\n",
       "      <td>0.614986</td>\n",
       "      <td>-0.118132</td>\n",
       "      <td>0.211381</td>\n",
       "      <td>0.310750</td>\n",
       "      <td>0.0</td>\n",
       "      <td>0.0</td>\n",
       "      <td>0.0</td>\n",
       "      <td>0.0</td>\n",
       "      <td>0.0</td>\n",
       "      <td>1.0</td>\n",
       "      <td>0.0</td>\n",
       "      <td>0.0</td>\n",
       "      <td>0.0</td>\n",
       "      <td>0.0</td>\n",
       "      <td>0.0</td>\n",
       "      <td>0.0</td>\n",
       "      <td>0.0</td>\n",
       "      <td>3.0</td>\n",
       "    </tr>\n",
       "    <tr>\n",
       "      <th>4</th>\n",
       "      <td>-1.127194</td>\n",
       "      <td>-1.180276</td>\n",
       "      <td>-0.693269</td>\n",
       "      <td>0.249776</td>\n",
       "      <td>-0.217549</td>\n",
       "      <td>-0.983908</td>\n",
       "      <td>0.0</td>\n",
       "      <td>0.0</td>\n",
       "      <td>0.0</td>\n",
       "      <td>1.0</td>\n",
       "      <td>0.0</td>\n",
       "      <td>0.0</td>\n",
       "      <td>0.0</td>\n",
       "      <td>0.0</td>\n",
       "      <td>0.0</td>\n",
       "      <td>0.0</td>\n",
       "      <td>0.0</td>\n",
       "      <td>0.0</td>\n",
       "      <td>0.0</td>\n",
       "      <td>2.0</td>\n",
       "    </tr>\n",
       "  </tbody>\n",
       "</table>\n",
       "</div>"
      ],
      "text/plain": [
       "   elapsed_distance  moving_time  avg_speed  ride_cruise_speed  \\\n",
       "0          0.301947     0.179185   0.502600          -0.104944   \n",
       "1         -0.558354    -0.769120   0.864860           0.342861   \n",
       "2         -0.595791    -0.801851   0.888048           0.804365   \n",
       "3         -0.125927    -0.295640   0.614986          -0.118132   \n",
       "4         -1.127194    -1.180276  -0.693269           0.249776   \n",
       "\n",
       "   ride_avg_power  peak_20min_power  training_window_0  training_window_1  \\\n",
       "0        0.559036          0.975233                0.0                0.0   \n",
       "1        0.788333          0.903988                0.0                0.0   \n",
       "2        1.269131          0.616208                0.0                0.0   \n",
       "3        0.211381          0.310750                0.0                0.0   \n",
       "4       -0.217549         -0.983908                0.0                0.0   \n",
       "\n",
       "   training_window_2  training_window_3  training_window_4  training_window_5  \\\n",
       "0                0.0                0.0                1.0                0.0   \n",
       "1                0.0                0.0                0.0                1.0   \n",
       "2                0.0                0.0                0.0                0.0   \n",
       "3                0.0                0.0                0.0                1.0   \n",
       "4                0.0                1.0                0.0                0.0   \n",
       "\n",
       "   training_window_6  training_window_7  training_window_8  training_window_9  \\\n",
       "0                0.0                0.0                0.0                0.0   \n",
       "1                0.0                0.0                0.0                0.0   \n",
       "2                0.0                0.0                0.0                0.0   \n",
       "3                0.0                0.0                0.0                0.0   \n",
       "4                0.0                0.0                0.0                0.0   \n",
       "\n",
       "   training_window_10  training_window_11  training_window_12  simple_exertion  \n",
       "0                 0.0                 0.0                 0.0              2.0  \n",
       "1                 0.0                 0.0                 0.0              3.0  \n",
       "2                 0.0                 1.0                 0.0              3.0  \n",
       "3                 0.0                 0.0                 0.0              3.0  \n",
       "4                 0.0                 0.0                 0.0              2.0  "
      ]
     },
     "execution_count": 2,
     "metadata": {},
     "output_type": "execute_result"
    }
   ],
   "source": [
    "file_paths = {\n",
    "              'in_train':'../../../data/prepared/activity_log_train__ml_prepared.csv',\n",
    "              'in_test':'../../../data/prepared/activity_log_test__ml_prepared.csv',\n",
    "              'in_missing':'../../../data/prepared/activity_log_missing__ml_prepared.csv',\n",
    "             }\n",
    "\n",
    "df = pd.read_csv(file_paths['in_train'])\n",
    "\n",
    "df.head()"
   ]
  },
  {
   "cell_type": "code",
   "execution_count": 3,
   "id": "aea9e1e9",
   "metadata": {},
   "outputs": [],
   "source": [
    "target_col = 'simple_exertion'"
   ]
  },
  {
   "cell_type": "code",
   "execution_count": 26,
   "id": "24f0501e",
   "metadata": {},
   "outputs": [
    {
     "data": {
      "text/plain": [
       "2.0    73\n",
       "3.0    34\n",
       "1.0    19\n",
       "Name: simple_exertion, dtype: int64"
      ]
     },
     "execution_count": 26,
     "metadata": {},
     "output_type": "execute_result"
    }
   ],
   "source": [
    "df[target_col].value_counts()"
   ]
  },
  {
   "cell_type": "code",
   "execution_count": 27,
   "id": "80425dd0",
   "metadata": {},
   "outputs": [
    {
     "data": {
      "text/plain": [
       "2.0    0.579365\n",
       "3.0    0.269841\n",
       "1.0    0.150794\n",
       "Name: simple_exertion, dtype: float64"
      ]
     },
     "execution_count": 27,
     "metadata": {},
     "output_type": "execute_result"
    }
   ],
   "source": [
    "df[target_col].value_counts(normalize=True)"
   ]
  },
  {
   "cell_type": "markdown",
   "id": "ddb02662",
   "metadata": {},
   "source": [
    "### Extract X and y"
   ]
  },
  {
   "cell_type": "code",
   "execution_count": 19,
   "id": "c095f093",
   "metadata": {},
   "outputs": [],
   "source": [
    "X, y = df.drop(target_col, axis=1).values, df[target_col].values"
   ]
  },
  {
   "cell_type": "code",
   "execution_count": 93,
   "id": "665383ca",
   "metadata": {},
   "outputs": [],
   "source": [
    "from sklearn.multiclass import OneVsRestClassifier\n",
    "from sklearn.linear_model import LogisticRegression\n",
    "from sklearn.ensemble import RandomForestClassifier\n",
    "from sklearn.model_selection import cross_val_score, cross_val_predict, StratifiedKFold, RepeatedStratifiedKFold\n",
    "from sklearn.model_selection import GridSearchCV\n",
    "from sklearn.metrics import f1_score, roc_auc_score, accuracy_score\n",
    "\n",
    "from sklearn.decomposition import PCA\n",
    "\n"
   ]
  },
  {
   "cell_type": "code",
   "execution_count": 92,
   "id": "98cfb0a7",
   "metadata": {},
   "outputs": [],
   "source": [
    "def stratified_train_classifier(X, y, clf, metric='accuracy', k_folds=5):\n",
    "    skf = StratifiedKFold(n_splits=k_folds, random_state=42, shuffle=True)\n",
    "    \n",
    "    if metric == 'f1':\n",
    "        scoring_metric = f1_score\n",
    "    elif metric == 'roc_auc':\n",
    "        scoring_metric = roc_auc_score\n",
    "    elif metric == 'accuracy':\n",
    "        scoring_metric = accuracy_score\n",
    "    else:\n",
    "        return -1\n",
    "    \n",
    "    scores = []\n",
    "    for train_index, test_index in skf.split(X, y):\n",
    "        X_train, X_test = X[train_index], X[test_index]\n",
    "        y_train, y_test = y[train_index], y[test_index]\n",
    "        \n",
    "        clf.fit(X_train, y_train)\n",
    "        \n",
    "        y_pred = clf.predict(X_test)\n",
    "        score = scoring_metric(y_test, y_pred)\n",
    "        scores.append(score)\n",
    "    \n",
    "    print(f'For metric \"{metric}\", the mean = {np.mean(scores)}, std.dev. = {np.std(scores)}')\n",
    "        \n",
    "        "
   ]
  },
  {
   "cell_type": "code",
   "execution_count": 98,
   "id": "d9409c4f",
   "metadata": {},
   "outputs": [],
   "source": [
    "def PCA_plot(X_train, y_train):\n",
    "    # Create and plot the first 2 Principle Components\n",
    "    pca = PCA(n_components=2)\n",
    "    pca.fit(X_train)\n",
    "    X_pca = pca.transform(X_train)\n",
    "    \n",
    "    # create dataframe for plotting\n",
    "    df_pca = pd.DataFrame(X_pca, columns=['pca_1','pca_2'])\n",
    "    df_pca['labels'] = y_train\n",
    "    df_pca['labels'] = df_pca['labels'].replace({1:'EASY',2:'NORMAL',3:'HARD'})\n",
    "    \n",
    "    # plot the data\n",
    "    fig = plt.figure(figsize=(8,8))\n",
    "    _ = sns.scatterplot(x='pca_1',y='pca_2', data=df_pca, hue='labels', s=50, alpha=0.8)\n",
    "    _ = plt.xlabel('First Principle Component', fontsize=16)\n",
    "    _ = plt.ylabel('Second Principle Component', fontsize=16)\n",
    "    _ = plt.grid()\n",
    "    "
   ]
  },
  {
   "cell_type": "code",
   "execution_count": 99,
   "id": "8b958f89",
   "metadata": {},
   "outputs": [
    {
     "data": {
      "image/png": "[encoded data removed]",
      "text/plain": [
       "<Figure size 576x576 with 1 Axes>"
      ]
     },
     "metadata": {
      "needs_background": "light"
     },
     "output_type": "display_data"
    }
   ],
   "source": [
    "PCA_plot(X,y)"
   ]
  },
  {
   "cell_type": "markdown",
   "id": "57211b00",
   "metadata": {},
   "source": [
    "# 1. Logistic Regression"
   ]
  },
  {
   "cell_type": "code",
   "execution_count": 46,
   "id": "7218816d",
   "metadata": {},
   "outputs": [],
   "source": [
    "clf_OvA_logreg = OneVsRestClassifier(LogisticRegression(random_state=42))"
   ]
  },
  {
   "cell_type": "code",
   "execution_count": 89,
   "id": "d33c07e0",
   "metadata": {},
   "outputs": [
    {
     "name": "stdout",
     "output_type": "stream",
     "text": [
      "For metric \"accuracy\", the mean = 0.6427692307692309, std.dev. = 0.05089866949354389\n"
     ]
    }
   ],
   "source": [
    "stratified_train_classifier(X[:, 0:6],y, clf_OvA_logreg)"
   ]
  },
  {
   "cell_type": "markdown",
   "id": "b55e64b4",
   "metadata": {},
   "source": [
    "# 2. Random Forest"
   ]
  },
  {
   "cell_type": "code",
   "execution_count": 64,
   "id": "279d30a7",
   "metadata": {},
   "outputs": [],
   "source": [
    "clf_rf = RandomForestClassifier(random_state=42)"
   ]
  },
  {
   "cell_type": "code",
   "execution_count": 90,
   "id": "6e098407",
   "metadata": {},
   "outputs": [
    {
     "name": "stdout",
     "output_type": "stream",
     "text": [
      "For metric \"accuracy\", the mean = 0.6267692307692309, std.dev. = 0.05534699577057821\n"
     ]
    }
   ],
   "source": [
    "stratified_train_classifier(X[:, 0:6],y, clf_rf)"
   ]
  },
  {
   "cell_type": "markdown",
   "id": "9e0f3261",
   "metadata": {},
   "source": [
    "-------------------------------------------\n",
    "# 3. Tuning the Models"
   ]
  },
  {
   "cell_type": "code",
   "execution_count": 102,
   "id": "5a76f14a",
   "metadata": {},
   "outputs": [],
   "source": [
    "# set up the CV method\n",
    "cv = RepeatedStratifiedKFold(n_splits=5, n_repeats=2, random_state=42)"
   ]
  },
  {
   "cell_type": "markdown",
   "id": "f973047f",
   "metadata": {},
   "source": [
    "## 3a. Logistic Regression"
   ]
  },
  {
   "cell_type": "code",
   "execution_count": 100,
   "id": "2eedea86",
   "metadata": {},
   "outputs": [],
   "source": [
    "clf = LogisticRegression(solver='saga', random_state=42, max_iter=5000)"
   ]
  },
  {
   "cell_type": "code",
   "execution_count": 101,
   "id": "7438eea7",
   "metadata": {},
   "outputs": [],
   "source": [
    "param_grid = [{'C':[0.0001, 0.001, 0.01, 0.1, 1], 'penalty':['elasticnet'], 'l1_ratio':[0, 0.5, 1]}]"
   ]
  },
  {
   "cell_type": "code",
   "execution_count": 103,
   "id": "664f83da",
   "metadata": {},
   "outputs": [],
   "source": [
    "logreg_gridcv = GridSearchCV(clf, param_grid, cv=cv, n_jobs=-1, \n",
    "                             refit=True, return_train_score=True,\n",
    "                             scoring='accuracy', verbose=3\n",
    "                            )"
   ]
  },
  {
   "cell_type": "code",
   "execution_count": 104,
   "id": "d0df944e",
   "metadata": {},
   "outputs": [
    {
     "name": "stdout",
     "output_type": "stream",
     "text": [
      "Fitting 10 folds for each of 15 candidates, totalling 150 fits\n",
      "{'C': 1, 'l1_ratio': 1, 'penalty': 'elasticnet'}\n"
     ]
    }
   ],
   "source": [
    "# fitting the model for grid search\n",
    "logreg_gridcv.fit(X, y)\n",
    "\n",
    "# print the best parameter set after tuning\n",
    "print(logreg_gridcv.best_params_)"
   ]
  },
  {
   "cell_type": "code",
   "execution_count": 105,
   "id": "d34648ff",
   "metadata": {},
   "outputs": [
    {
     "name": "stdout",
     "output_type": "stream",
     "text": [
      "For params:{'C': 0.0001, 'l1_ratio': 0, 'penalty': 'elasticnet'}\n",
      "\t- Train Accuracy=0.5793663366336632 --> Test Accuracy=0.5793846153846154\n",
      "--------------------------------------------------\n",
      "For params:{'C': 0.0001, 'l1_ratio': 0.5, 'penalty': 'elasticnet'}\n",
      "\t- Train Accuracy=0.5793663366336632 --> Test Accuracy=0.5793846153846154\n",
      "--------------------------------------------------\n",
      "For params:{'C': 0.0001, 'l1_ratio': 1, 'penalty': 'elasticnet'}\n",
      "\t- Train Accuracy=0.5793663366336632 --> Test Accuracy=0.5793846153846154\n",
      "--------------------------------------------------\n",
      "For params:{'C': 0.001, 'l1_ratio': 0, 'penalty': 'elasticnet'}\n",
      "\t- Train Accuracy=0.5793663366336632 --> Test Accuracy=0.5793846153846154\n",
      "--------------------------------------------------\n",
      "For params:{'C': 0.001, 'l1_ratio': 0.5, 'penalty': 'elasticnet'}\n",
      "\t- Train Accuracy=0.5793663366336632 --> Test Accuracy=0.5793846153846154\n",
      "--------------------------------------------------\n",
      "For params:{'C': 0.001, 'l1_ratio': 1, 'penalty': 'elasticnet'}\n",
      "\t- Train Accuracy=0.5793663366336632 --> Test Accuracy=0.5793846153846154\n",
      "--------------------------------------------------\n",
      "For params:{'C': 0.01, 'l1_ratio': 0, 'penalty': 'elasticnet'}\n",
      "\t- Train Accuracy=0.6110693069306931 --> Test Accuracy=0.5952307692307693\n",
      "--------------------------------------------------\n",
      "For params:{'C': 0.01, 'l1_ratio': 0.5, 'penalty': 'elasticnet'}\n",
      "\t- Train Accuracy=0.5793663366336632 --> Test Accuracy=0.5793846153846154\n",
      "--------------------------------------------------\n",
      "For params:{'C': 0.01, 'l1_ratio': 1, 'penalty': 'elasticnet'}\n",
      "\t- Train Accuracy=0.5793663366336632 --> Test Accuracy=0.5793846153846154\n",
      "--------------------------------------------------\n",
      "For params:{'C': 0.1, 'l1_ratio': 0, 'penalty': 'elasticnet'}\n",
      "\t- Train Accuracy=0.6537524752475247 --> Test Accuracy=0.5946153846153845\n",
      "--------------------------------------------------\n",
      "For params:{'C': 0.1, 'l1_ratio': 0.5, 'penalty': 'elasticnet'}\n",
      "\t- Train Accuracy=0.6249504950495048 --> Test Accuracy=0.594923076923077\n",
      "--------------------------------------------------\n",
      "For params:{'C': 0.1, 'l1_ratio': 1, 'penalty': 'elasticnet'}\n",
      "\t- Train Accuracy=0.6110792079207921 --> Test Accuracy=0.5950769230769233\n",
      "--------------------------------------------------\n",
      "For params:{'C': 1, 'l1_ratio': 0, 'penalty': 'elasticnet'}\n",
      "\t- Train Accuracy=0.7053366336633663 --> Test Accuracy=0.5787692307692307\n",
      "--------------------------------------------------\n",
      "For params:{'C': 1, 'l1_ratio': 0.5, 'penalty': 'elasticnet'}\n",
      "\t- Train Accuracy=0.6874653465346534 --> Test Accuracy=0.5829230769230769\n",
      "--------------------------------------------------\n",
      "For params:{'C': 1, 'l1_ratio': 1, 'penalty': 'elasticnet'}\n",
      "\t- Train Accuracy=0.6795445544554455 --> Test Accuracy=0.5989230769230769\n",
      "--------------------------------------------------\n"
     ]
    }
   ],
   "source": [
    "cv_results = logreg_gridcv.cv_results_\n",
    "\n",
    "for train_acc, test_acc, params in zip(cv_results['mean_train_score'], cv_results['mean_test_score'], cv_results['params']):\n",
    "    print(f'For params:{params}')\n",
    "    print(f'\\t- Train Accuracy={train_acc} --> Test Accuracy={test_acc}')\n",
    "    print('-'*50)"
   ]
  },
  {
   "cell_type": "code",
   "execution_count": null,
   "id": "b155513d",
   "metadata": {},
   "outputs": [],
   "source": []
  }
 ],
 "metadata": {
  "kernelspec": {
   "display_name": "Python 3 (ipykernel)",
   "language": "python",
   "name": "python3"
  },
  "language_info": {
   "codemirror_mode": {
    "name": "ipython",
    "version": 3
   },
   "file_extension": ".py",
   "mimetype": "text/x-python",
   "name": "python",
   "nbconvert_exporter": "python",
   "pygments_lexer": "ipython3",
   "version": "3.10.1"
  }
 },
 "nbformat": 4,
 "nbformat_minor": 5
}
