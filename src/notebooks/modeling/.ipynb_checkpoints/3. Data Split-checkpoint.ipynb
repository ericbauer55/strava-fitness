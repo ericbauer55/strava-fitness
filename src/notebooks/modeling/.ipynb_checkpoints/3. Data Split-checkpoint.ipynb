{
 "cells": [
  {
   "cell_type": "code",
   "execution_count": 1,
   "id": "c9e391e5",
   "metadata": {},
   "outputs": [],
   "source": [
    "import pandas as pd\n",
    "import numpy as np\n",
    "import matplotlib.pyplot as plt\n",
    "import seaborn as sns\n",
    "\n",
    "#pd.set_option(\"display.max_rows\", 1000)\n",
    "pd.set_option(\"display.max_columns\", 100)"
   ]
  },
  {
   "cell_type": "code",
   "execution_count": 2,
   "id": "44cdc5be",
   "metadata": {},
   "outputs": [],
   "source": [
    "file_paths = {'in':'../../../data/prepared/activity_log_prepared.csv',\n",
    "              'out_missing':'../../../data/prepared/activity_log_missing.csv',\n",
    "              'out_train':'../../../data/prepared/activity_log_train.csv',\n",
    "              'out_test':'../../../data/prepared/activity_log_test.csv',\n",
    "             }\n",
    "\n",
    "df = pd.read_csv(file_paths['in'])\n",
    "\n",
    "# guarantee the timestamps are datetime objects\n",
    "time_columns = ['start_time','end_time']\n",
    "\n",
    "for time_col in time_columns:\n",
    "    df[time_col] = pd.to_datetime(df[time_col])"
   ]
  },
  {
   "cell_type": "code",
   "execution_count": null,
   "id": "b447b400",
   "metadata": {},
   "outputs": [],
   "source": []
  },
  {
   "cell_type": "code",
   "execution_count": null,
   "id": "b08b3493",
   "metadata": {},
   "outputs": [],
   "source": []
  },
  {
   "cell_type": "code",
   "execution_count": null,
   "id": "d38ff60b",
   "metadata": {},
   "outputs": [],
   "source": []
  }
 ],
 "metadata": {
  "kernelspec": {
   "display_name": "Python 3 (ipykernel)",
   "language": "python",
   "name": "python3"
  },
  "language_info": {
   "codemirror_mode": {
    "name": "ipython",
    "version": 3
   },
   "file_extension": ".py",
   "mimetype": "text/x-python",
   "name": "python",
   "nbconvert_exporter": "python",
   "pygments_lexer": "ipython3",
   "version": "3.10.1"
  }
 },
 "nbformat": 4,
 "nbformat_minor": 5
}
