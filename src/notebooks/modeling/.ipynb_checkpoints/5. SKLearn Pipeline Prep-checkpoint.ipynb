{
 "cells": [
  {
   "cell_type": "code",
   "execution_count": 1,
   "id": "f30e4dbc",
   "metadata": {},
   "outputs": [],
   "source": [
    "import pandas as pd\n",
    "import numpy as np\n",
    "import matplotlib.pyplot as plt\n",
    "import seaborn as sns\n",
    "\n",
    "#pd.set_option(\"display.max_rows\", 1000)\n",
    "pd.set_option(\"display.max_columns\", 100)"
   ]
  },
  {
   "cell_type": "code",
   "execution_count": 2,
   "id": "347c994b",
   "metadata": {},
   "outputs": [],
   "source": [
    "file_paths = {'in_train':'../../../data/prepared/activity_log_train.csv',\n",
    "              'in_test':'../../../data/prepared/activity_log_test.csv',\n",
    "              'in_missing':'../../../data/prepared/activity_log_missing.csv',\n",
    "              'out_train':'../../../data/prepared/activity_log_train__ml_prepared.csv',\n",
    "              'out_test':'../../../data/prepared/activity_log_test__ml_prepared.csv',\n",
    "              'out_missing':'../../../data/prepared/activity_log_missing__ml_prepared.csv',\n",
    "             }\n",
    "\n",
    "df = pd.read_csv(file_paths['in_train'])\n",
    "\n",
    "# guarantee the timestamps are datetime objects\n",
    "time_columns = ['start_time','end_time']\n",
    "\n",
    "for time_col in time_columns:\n",
    "    df[time_col] = pd.to_datetime(df[time_col])"
   ]
  },
  {
   "cell_type": "markdown",
   "id": "1552d2a7",
   "metadata": {},
   "source": [
    "### Replace Peak Power Nulls"
   ]
  },
  {
   "cell_type": "code",
   "execution_count": 3,
   "id": "6714e167",
   "metadata": {},
   "outputs": [],
   "source": [
    "# Need to fill in the missing values for peak_20min_power.\n",
    "# Use intensity * FTP to estimate the missing\n",
    "filt_nan = df['peak_20min_power'].isna()\n",
    "\n",
    "df.loc[filt_nan, 'peak_20min_power'] = df.loc[filt_nan,'ftp_power'] * df.loc[filt_nan, 'intensity']"
   ]
  },
  {
   "cell_type": "code",
   "execution_count": 4,
   "id": "2b9bdc04",
   "metadata": {},
   "outputs": [],
   "source": [
    "cols_to_keep = ['simple_exertion','elapsed_distance','moving_time','avg_speed','ride_cruise_speed','ride_avg_power',\n",
    "                'peak_20min_power', 'training_window_id']"
   ]
  },
  {
   "cell_type": "markdown",
   "id": "31d56410",
   "metadata": {},
   "source": [
    "### Replace Simple Exertion with Enumerated Categories"
   ]
  },
  {
   "cell_type": "code",
   "execution_count": 5,
   "id": "c68fb2d3",
   "metadata": {},
   "outputs": [],
   "source": [
    "df['simple_exertion'] = df['simple_exertion'].replace({'EASY':1, 'NORMAL':2, 'HARD':3})"
   ]
  },
  {
   "cell_type": "code",
   "execution_count": 6,
   "id": "e7910e60",
   "metadata": {},
   "outputs": [],
   "source": [
    "num_cols = ['elapsed_distance','moving_time','avg_speed','ride_cruise_speed','ride_avg_power','peak_20min_power']\n",
    "cat_cols = ['training_window_id']\n",
    "target_col = ['simple_exertion']"
   ]
  },
  {
   "cell_type": "markdown",
   "id": "66be521e",
   "metadata": {},
   "source": [
    "# 2. Pipeline Preparation"
   ]
  },
  {
   "cell_type": "code",
   "execution_count": 7,
   "id": "0fcc2b52",
   "metadata": {},
   "outputs": [],
   "source": [
    "from sklearn.base import BaseEstimator, TransformerMixin\n",
    "\n",
    "class DataFrameSelector(BaseEstimator, TransformerMixin):\n",
    "    def __init__(self, attribute_names):\n",
    "        self.attribute_names = attribute_names\n",
    "        \n",
    "    def fit(self, X, y=None):\n",
    "        return self\n",
    "    \n",
    "    def transform(self, X):\n",
    "        return X[self.attribute_names].values"
   ]
  },
  {
   "cell_type": "code",
   "execution_count": 8,
   "id": "ef2f1e49",
   "metadata": {},
   "outputs": [],
   "source": [
    "from sklearn.pipeline import Pipeline\n",
    "from sklearn.preprocessing import StandardScaler, OneHotEncoder\n",
    "\n",
    "num_pipeline = Pipeline([('selector', DataFrameSelector(num_cols)),\n",
    "                         ('std_scaler', StandardScaler())\n",
    "                        ])\n",
    "\n",
    "nominal_cat_pipeline = Pipeline([('selector', DataFrameSelector(cat_cols)),\n",
    "                                 ('one_hot', OneHotEncoder(sparse=False))\n",
    "                                ])"
   ]
  },
  {
   "cell_type": "code",
   "execution_count": 9,
   "id": "c205a41a",
   "metadata": {},
   "outputs": [],
   "source": [
    "from sklearn.pipeline import FeatureUnion\n",
    "\n",
    "full_pipeline = FeatureUnion(transformer_list=[('numerical_pipeline', num_pipeline), \n",
    "                                               ('categorical_pipeline', nominal_cat_pipeline)\n",
    "                                              ])"
   ]
  },
  {
   "cell_type": "markdown",
   "id": "8210dff4",
   "metadata": {},
   "source": [
    "### Check Nullity "
   ]
  },
  {
   "cell_type": "code",
   "execution_count": 10,
   "id": "104c9efd",
   "metadata": {},
   "outputs": [
    {
     "name": "stdout",
     "output_type": "stream",
     "text": [
      "<class 'pandas.core.frame.DataFrame'>\n",
      "RangeIndex: 126 entries, 0 to 125\n",
      "Data columns (total 8 columns):\n",
      " #   Column              Non-Null Count  Dtype  \n",
      "---  ------              --------------  -----  \n",
      " 0   simple_exertion     126 non-null    int64  \n",
      " 1   elapsed_distance    126 non-null    float64\n",
      " 2   moving_time         126 non-null    int64  \n",
      " 3   avg_speed           126 non-null    float64\n",
      " 4   ride_cruise_speed   126 non-null    float64\n",
      " 5   ride_avg_power      126 non-null    float64\n",
      " 6   peak_20min_power    126 non-null    float64\n",
      " 7   training_window_id  126 non-null    int64  \n",
      "dtypes: float64(5), int64(3)\n",
      "memory usage: 8.0 KB\n"
     ]
    }
   ],
   "source": [
    "df[cols_to_keep].info()"
   ]
  },
  {
   "cell_type": "markdown",
   "id": "28e45e3c",
   "metadata": {},
   "source": [
    "### Apply Pipeline to Prepare Data for ML"
   ]
  },
  {
   "cell_type": "code",
   "execution_count": 11,
   "id": "ef2ad584",
   "metadata": {},
   "outputs": [
    {
     "data": {
      "text/plain": [
       "(126, 19)"
      ]
     },
     "execution_count": 11,
     "metadata": {},
     "output_type": "execute_result"
    }
   ],
   "source": [
    "data_prepared = full_pipeline.fit_transform(df)\n",
    "data_prepared.shape"
   ]
  },
  {
   "cell_type": "code",
   "execution_count": 12,
   "id": "312dd212",
   "metadata": {},
   "outputs": [
    {
     "data": {
      "text/plain": [
       "array([[ 0.30194675,  0.17918467,  0.50259987, ...,  0.        ,\n",
       "         0.        ,  0.        ],\n",
       "       [-0.5583539 , -0.7691198 ,  0.86486012, ...,  0.        ,\n",
       "         0.        ,  0.        ],\n",
       "       [-0.5957914 , -0.80185087,  0.88804778, ...,  0.        ,\n",
       "         1.        ,  0.        ],\n",
       "       ...,\n",
       "       [-0.332341  ,  0.13524432, -1.55925874, ...,  0.        ,\n",
       "         0.        ,  0.        ],\n",
       "       [-0.05286141,  0.17021725, -0.61943897, ...,  1.        ,\n",
       "         0.        ,  0.        ],\n",
       "       [-0.67087782, -0.4561569 , -1.32563783, ...,  0.        ,\n",
       "         0.        ,  0.        ]])"
      ]
     },
     "execution_count": 12,
     "metadata": {},
     "output_type": "execute_result"
    }
   ],
   "source": [
    "data_prepared"
   ]
  },
  {
   "cell_type": "markdown",
   "id": "ff46a63c",
   "metadata": {},
   "source": [
    "# 3. Save Prepared Values"
   ]
  },
  {
   "cell_type": "code",
   "execution_count": 13,
   "id": "e9564d6d",
   "metadata": {},
   "outputs": [
    {
     "name": "stdout",
     "output_type": "stream",
     "text": [
      "['training_window_0', 'training_window_1', 'training_window_2', 'training_window_3', 'training_window_4', 'training_window_5', 'training_window_6', 'training_window_7', 'training_window_8', 'training_window_9', 'training_window_10', 'training_window_11', 'training_window_12']\n"
     ]
    }
   ],
   "source": [
    "training_id_one_hot = ['training_window_'+str(x) for x in list(nominal_cat_pipeline['one_hot'].categories_[0])]\n",
    "print(training_id_one_hot)"
   ]
  },
  {
   "cell_type": "code",
   "execution_count": 14,
   "id": "644a2f08",
   "metadata": {},
   "outputs": [],
   "source": [
    "targets = df[target_col].values"
   ]
  },
  {
   "cell_type": "code",
   "execution_count": 16,
   "id": "58a37f17",
   "metadata": {},
   "outputs": [
    {
     "name": "stdout",
     "output_type": "stream",
     "text": [
      "['elapsed_distance', 'moving_time', 'avg_speed', 'ride_cruise_speed', 'ride_avg_power', 'peak_20min_power', 'training_window_0', 'training_window_1', 'training_window_2', 'training_window_3', 'training_window_4', 'training_window_5', 'training_window_6', 'training_window_7', 'training_window_8', 'training_window_9', 'training_window_10', 'training_window_11', 'training_window_12', 'simple_exertion'] 20\n"
     ]
    }
   ],
   "source": [
    "column_names = num_cols + training_id_one_hot + target_col\n",
    "print(column_names, len(column_names))"
   ]
  },
  {
   "cell_type": "code",
   "execution_count": 17,
   "id": "a4ef9986",
   "metadata": {},
   "outputs": [
    {
     "data": {
      "text/html": [
       "<div>\n",
       "<style scoped>\n",
       "    .dataframe tbody tr th:only-of-type {\n",
       "        vertical-align: middle;\n",
       "    }\n",
       "\n",
       "    .dataframe tbody tr th {\n",
       "        vertical-align: top;\n",
       "    }\n",
       "\n",
       "    .dataframe thead th {\n",
       "        text-align: right;\n",
       "    }\n",
       "</style>\n",
       "<table border=\"1\" class=\"dataframe\">\n",
       "  <thead>\n",
       "    <tr style=\"text-align: right;\">\n",
       "      <th></th>\n",
       "      <th>elapsed_distance</th>\n",
       "      <th>moving_time</th>\n",
       "      <th>avg_speed</th>\n",
       "      <th>ride_cruise_speed</th>\n",
       "      <th>ride_avg_power</th>\n",
       "      <th>peak_20min_power</th>\n",
       "      <th>training_window_0</th>\n",
       "      <th>training_window_1</th>\n",
       "      <th>training_window_2</th>\n",
       "      <th>training_window_3</th>\n",
       "      <th>training_window_4</th>\n",
       "      <th>training_window_5</th>\n",
       "      <th>training_window_6</th>\n",
       "      <th>training_window_7</th>\n",
       "      <th>training_window_8</th>\n",
       "      <th>training_window_9</th>\n",
       "      <th>training_window_10</th>\n",
       "      <th>training_window_11</th>\n",
       "      <th>training_window_12</th>\n",
       "      <th>simple_exertion</th>\n",
       "    </tr>\n",
       "  </thead>\n",
       "  <tbody>\n",
       "    <tr>\n",
       "      <th>0</th>\n",
       "      <td>0.301947</td>\n",
       "      <td>0.179185</td>\n",
       "      <td>0.502600</td>\n",
       "      <td>-0.104944</td>\n",
       "      <td>0.559036</td>\n",
       "      <td>0.975233</td>\n",
       "      <td>0.0</td>\n",
       "      <td>0.0</td>\n",
       "      <td>0.0</td>\n",
       "      <td>0.0</td>\n",
       "      <td>1.0</td>\n",
       "      <td>0.0</td>\n",
       "      <td>0.0</td>\n",
       "      <td>0.0</td>\n",
       "      <td>0.0</td>\n",
       "      <td>0.0</td>\n",
       "      <td>0.0</td>\n",
       "      <td>0.0</td>\n",
       "      <td>0.0</td>\n",
       "      <td>2.0</td>\n",
       "    </tr>\n",
       "    <tr>\n",
       "      <th>1</th>\n",
       "      <td>-0.558354</td>\n",
       "      <td>-0.769120</td>\n",
       "      <td>0.864860</td>\n",
       "      <td>0.342861</td>\n",
       "      <td>0.788333</td>\n",
       "      <td>0.903988</td>\n",
       "      <td>0.0</td>\n",
       "      <td>0.0</td>\n",
       "      <td>0.0</td>\n",
       "      <td>0.0</td>\n",
       "      <td>0.0</td>\n",
       "      <td>1.0</td>\n",
       "      <td>0.0</td>\n",
       "      <td>0.0</td>\n",
       "      <td>0.0</td>\n",
       "      <td>0.0</td>\n",
       "      <td>0.0</td>\n",
       "      <td>0.0</td>\n",
       "      <td>0.0</td>\n",
       "      <td>3.0</td>\n",
       "    </tr>\n",
       "    <tr>\n",
       "      <th>2</th>\n",
       "      <td>-0.595791</td>\n",
       "      <td>-0.801851</td>\n",
       "      <td>0.888048</td>\n",
       "      <td>0.804365</td>\n",
       "      <td>1.269131</td>\n",
       "      <td>0.616208</td>\n",
       "      <td>0.0</td>\n",
       "      <td>0.0</td>\n",
       "      <td>0.0</td>\n",
       "      <td>0.0</td>\n",
       "      <td>0.0</td>\n",
       "      <td>0.0</td>\n",
       "      <td>0.0</td>\n",
       "      <td>0.0</td>\n",
       "      <td>0.0</td>\n",
       "      <td>0.0</td>\n",
       "      <td>0.0</td>\n",
       "      <td>1.0</td>\n",
       "      <td>0.0</td>\n",
       "      <td>3.0</td>\n",
       "    </tr>\n",
       "    <tr>\n",
       "      <th>3</th>\n",
       "      <td>-0.125927</td>\n",
       "      <td>-0.295640</td>\n",
       "      <td>0.614986</td>\n",
       "      <td>-0.118132</td>\n",
       "      <td>0.211381</td>\n",
       "      <td>0.310750</td>\n",
       "      <td>0.0</td>\n",
       "      <td>0.0</td>\n",
       "      <td>0.0</td>\n",
       "      <td>0.0</td>\n",
       "      <td>0.0</td>\n",
       "      <td>1.0</td>\n",
       "      <td>0.0</td>\n",
       "      <td>0.0</td>\n",
       "      <td>0.0</td>\n",
       "      <td>0.0</td>\n",
       "      <td>0.0</td>\n",
       "      <td>0.0</td>\n",
       "      <td>0.0</td>\n",
       "      <td>3.0</td>\n",
       "    </tr>\n",
       "    <tr>\n",
       "      <th>4</th>\n",
       "      <td>-1.127194</td>\n",
       "      <td>-1.180276</td>\n",
       "      <td>-0.693269</td>\n",
       "      <td>0.249776</td>\n",
       "      <td>-0.217549</td>\n",
       "      <td>-0.983908</td>\n",
       "      <td>0.0</td>\n",
       "      <td>0.0</td>\n",
       "      <td>0.0</td>\n",
       "      <td>1.0</td>\n",
       "      <td>0.0</td>\n",
       "      <td>0.0</td>\n",
       "      <td>0.0</td>\n",
       "      <td>0.0</td>\n",
       "      <td>0.0</td>\n",
       "      <td>0.0</td>\n",
       "      <td>0.0</td>\n",
       "      <td>0.0</td>\n",
       "      <td>0.0</td>\n",
       "      <td>2.0</td>\n",
       "    </tr>\n",
       "  </tbody>\n",
       "</table>\n",
       "</div>"
      ],
      "text/plain": [
       "   elapsed_distance  moving_time  avg_speed  ride_cruise_speed  \\\n",
       "0          0.301947     0.179185   0.502600          -0.104944   \n",
       "1         -0.558354    -0.769120   0.864860           0.342861   \n",
       "2         -0.595791    -0.801851   0.888048           0.804365   \n",
       "3         -0.125927    -0.295640   0.614986          -0.118132   \n",
       "4         -1.127194    -1.180276  -0.693269           0.249776   \n",
       "\n",
       "   ride_avg_power  peak_20min_power  training_window_0  training_window_1  \\\n",
       "0        0.559036          0.975233                0.0                0.0   \n",
       "1        0.788333          0.903988                0.0                0.0   \n",
       "2        1.269131          0.616208                0.0                0.0   \n",
       "3        0.211381          0.310750                0.0                0.0   \n",
       "4       -0.217549         -0.983908                0.0                0.0   \n",
       "\n",
       "   training_window_2  training_window_3  training_window_4  training_window_5  \\\n",
       "0                0.0                0.0                1.0                0.0   \n",
       "1                0.0                0.0                0.0                1.0   \n",
       "2                0.0                0.0                0.0                0.0   \n",
       "3                0.0                0.0                0.0                1.0   \n",
       "4                0.0                1.0                0.0                0.0   \n",
       "\n",
       "   training_window_6  training_window_7  training_window_8  training_window_9  \\\n",
       "0                0.0                0.0                0.0                0.0   \n",
       "1                0.0                0.0                0.0                0.0   \n",
       "2                0.0                0.0                0.0                0.0   \n",
       "3                0.0                0.0                0.0                0.0   \n",
       "4                0.0                0.0                0.0                0.0   \n",
       "\n",
       "   training_window_10  training_window_11  training_window_12  simple_exertion  \n",
       "0                 0.0                 0.0                 0.0              2.0  \n",
       "1                 0.0                 0.0                 0.0              3.0  \n",
       "2                 0.0                 1.0                 0.0              3.0  \n",
       "3                 0.0                 0.0                 0.0              3.0  \n",
       "4                 0.0                 0.0                 0.0              2.0  "
      ]
     },
     "execution_count": 17,
     "metadata": {},
     "output_type": "execute_result"
    }
   ],
   "source": [
    "df_prepared = pd.DataFrame(np.c_[data_prepared, targets], columns=column_names)\n",
    "df_prepared.head()"
   ]
  },
  {
   "cell_type": "code",
   "execution_count": 18,
   "id": "1f80bc37",
   "metadata": {},
   "outputs": [],
   "source": [
    "df_prepared.to_csv(file_paths['out_train'], index=False)"
   ]
  },
  {
   "cell_type": "markdown",
   "id": "8d4669bd",
   "metadata": {},
   "source": [
    "# 4. Prepare and Save the Test Data"
   ]
  },
  {
   "cell_type": "code",
   "execution_count": 24,
   "id": "6d098486",
   "metadata": {},
   "outputs": [],
   "source": [
    "df_test = pd.read_csv(file_paths['in_test'])"
   ]
  },
  {
   "cell_type": "code",
   "execution_count": 25,
   "id": "4ae2d805",
   "metadata": {},
   "outputs": [],
   "source": [
    "# Need to fill in the missing values for peak_20min_power.\n",
    "# Use intensity * FTP to estimate the missing\n",
    "filt_nan = df_test['peak_20min_power'].isna()\n",
    "df_test.loc[filt_nan, 'peak_20min_power'] = df_test.loc[filt_nan,'ftp_power'] * df_test.loc[filt_nan, 'intensity']"
   ]
  },
  {
   "cell_type": "code",
   "execution_count": 26,
   "id": "872da0f0",
   "metadata": {},
   "outputs": [],
   "source": [
    "df_test['simple_exertion'] = df_test['simple_exertion'].replace({'EASY':1, 'NORMAL':2, 'HARD':3})\n",
    "targets = df_test[target_col].values"
   ]
  },
  {
   "cell_type": "code",
   "execution_count": 27,
   "id": "ec057b79",
   "metadata": {},
   "outputs": [
    {
     "name": "stdout",
     "output_type": "stream",
     "text": [
      "<class 'pandas.core.frame.DataFrame'>\n",
      "RangeIndex: 54 entries, 0 to 53\n",
      "Data columns (total 8 columns):\n",
      " #   Column              Non-Null Count  Dtype  \n",
      "---  ------              --------------  -----  \n",
      " 0   simple_exertion     54 non-null     int64  \n",
      " 1   elapsed_distance    54 non-null     float64\n",
      " 2   moving_time         54 non-null     int64  \n",
      " 3   avg_speed           54 non-null     float64\n",
      " 4   ride_cruise_speed   54 non-null     float64\n",
      " 5   ride_avg_power      54 non-null     float64\n",
      " 6   peak_20min_power    54 non-null     float64\n",
      " 7   training_window_id  54 non-null     int64  \n",
      "dtypes: float64(5), int64(3)\n",
      "memory usage: 3.5 KB\n"
     ]
    }
   ],
   "source": [
    "df_test[cols_to_keep].info()"
   ]
  },
  {
   "cell_type": "code",
   "execution_count": 28,
   "id": "02008ba3",
   "metadata": {},
   "outputs": [
    {
     "data": {
      "text/plain": [
       "(54, 18)"
      ]
     },
     "execution_count": 28,
     "metadata": {},
     "output_type": "execute_result"
    }
   ],
   "source": [
    "data_prepared = full_pipeline.fit_transform(df_test)\n",
    "data_prepared.shape"
   ]
  },
  {
   "cell_type": "code",
   "execution_count": 31,
   "id": "e7aa3c7e",
   "metadata": {},
   "outputs": [
    {
     "name": "stdout",
     "output_type": "stream",
     "text": [
      "['training_window_1', 'training_window_2', 'training_window_3', 'training_window_4', 'training_window_5', 'training_window_6', 'training_window_7', 'training_window_8', 'training_window_9', 'training_window_10', 'training_window_11', 'training_window_12']\n"
     ]
    }
   ],
   "source": [
    "training_id_one_hot = ['training_window_'+str(x) for x in list(nominal_cat_pipeline['one_hot'].categories_[0])]\n",
    "print(training_id_one_hot)\n",
    "column_names = num_cols + training_id_one_hot + target_col\n",
    "# need to ensure that training_window_0 is added as all zeros"
   ]
  },
  {
   "cell_type": "code",
   "execution_count": 32,
   "id": "00c7ff44",
   "metadata": {},
   "outputs": [
    {
     "data": {
      "text/html": [
       "<div>\n",
       "<style scoped>\n",
       "    .dataframe tbody tr th:only-of-type {\n",
       "        vertical-align: middle;\n",
       "    }\n",
       "\n",
       "    .dataframe tbody tr th {\n",
       "        vertical-align: top;\n",
       "    }\n",
       "\n",
       "    .dataframe thead th {\n",
       "        text-align: right;\n",
       "    }\n",
       "</style>\n",
       "<table border=\"1\" class=\"dataframe\">\n",
       "  <thead>\n",
       "    <tr style=\"text-align: right;\">\n",
       "      <th></th>\n",
       "      <th>elapsed_distance</th>\n",
       "      <th>moving_time</th>\n",
       "      <th>avg_speed</th>\n",
       "      <th>ride_cruise_speed</th>\n",
       "      <th>ride_avg_power</th>\n",
       "      <th>peak_20min_power</th>\n",
       "      <th>training_window_1</th>\n",
       "      <th>training_window_2</th>\n",
       "      <th>training_window_3</th>\n",
       "      <th>training_window_4</th>\n",
       "      <th>training_window_5</th>\n",
       "      <th>training_window_6</th>\n",
       "      <th>training_window_7</th>\n",
       "      <th>training_window_8</th>\n",
       "      <th>training_window_9</th>\n",
       "      <th>training_window_10</th>\n",
       "      <th>training_window_11</th>\n",
       "      <th>training_window_12</th>\n",
       "      <th>simple_exertion</th>\n",
       "    </tr>\n",
       "  </thead>\n",
       "  <tbody>\n",
       "    <tr>\n",
       "      <th>0</th>\n",
       "      <td>-0.583768</td>\n",
       "      <td>-0.600478</td>\n",
       "      <td>-0.009533</td>\n",
       "      <td>-0.858793</td>\n",
       "      <td>-0.328163</td>\n",
       "      <td>-0.616149</td>\n",
       "      <td>0.0</td>\n",
       "      <td>1.0</td>\n",
       "      <td>0.0</td>\n",
       "      <td>0.0</td>\n",
       "      <td>0.0</td>\n",
       "      <td>0.0</td>\n",
       "      <td>0.0</td>\n",
       "      <td>0.0</td>\n",
       "      <td>0.0</td>\n",
       "      <td>0.0</td>\n",
       "      <td>0.0</td>\n",
       "      <td>0.0</td>\n",
       "      <td>2.0</td>\n",
       "    </tr>\n",
       "    <tr>\n",
       "      <th>1</th>\n",
       "      <td>-0.317711</td>\n",
       "      <td>0.039052</td>\n",
       "      <td>-1.259373</td>\n",
       "      <td>-1.102532</td>\n",
       "      <td>-1.286629</td>\n",
       "      <td>-1.775306</td>\n",
       "      <td>0.0</td>\n",
       "      <td>0.0</td>\n",
       "      <td>0.0</td>\n",
       "      <td>0.0</td>\n",
       "      <td>0.0</td>\n",
       "      <td>0.0</td>\n",
       "      <td>0.0</td>\n",
       "      <td>0.0</td>\n",
       "      <td>0.0</td>\n",
       "      <td>0.0</td>\n",
       "      <td>1.0</td>\n",
       "      <td>0.0</td>\n",
       "      <td>1.0</td>\n",
       "    </tr>\n",
       "    <tr>\n",
       "      <th>2</th>\n",
       "      <td>0.651350</td>\n",
       "      <td>0.480656</td>\n",
       "      <td>0.223983</td>\n",
       "      <td>1.935312</td>\n",
       "      <td>1.236084</td>\n",
       "      <td>0.202598</td>\n",
       "      <td>0.0</td>\n",
       "      <td>0.0</td>\n",
       "      <td>0.0</td>\n",
       "      <td>1.0</td>\n",
       "      <td>0.0</td>\n",
       "      <td>0.0</td>\n",
       "      <td>0.0</td>\n",
       "      <td>0.0</td>\n",
       "      <td>0.0</td>\n",
       "      <td>0.0</td>\n",
       "      <td>0.0</td>\n",
       "      <td>0.0</td>\n",
       "      <td>3.0</td>\n",
       "    </tr>\n",
       "    <tr>\n",
       "      <th>3</th>\n",
       "      <td>-0.182067</td>\n",
       "      <td>0.699772</td>\n",
       "      <td>-2.201339</td>\n",
       "      <td>-1.072299</td>\n",
       "      <td>-2.183943</td>\n",
       "      <td>-0.507488</td>\n",
       "      <td>0.0</td>\n",
       "      <td>0.0</td>\n",
       "      <td>0.0</td>\n",
       "      <td>0.0</td>\n",
       "      <td>0.0</td>\n",
       "      <td>0.0</td>\n",
       "      <td>0.0</td>\n",
       "      <td>0.0</td>\n",
       "      <td>1.0</td>\n",
       "      <td>0.0</td>\n",
       "      <td>0.0</td>\n",
       "      <td>0.0</td>\n",
       "      <td>2.0</td>\n",
       "    </tr>\n",
       "    <tr>\n",
       "      <th>4</th>\n",
       "      <td>0.861471</td>\n",
       "      <td>0.334257</td>\n",
       "      <td>1.334372</td>\n",
       "      <td>0.176060</td>\n",
       "      <td>1.183030</td>\n",
       "      <td>0.621841</td>\n",
       "      <td>1.0</td>\n",
       "      <td>0.0</td>\n",
       "      <td>0.0</td>\n",
       "      <td>0.0</td>\n",
       "      <td>0.0</td>\n",
       "      <td>0.0</td>\n",
       "      <td>0.0</td>\n",
       "      <td>0.0</td>\n",
       "      <td>0.0</td>\n",
       "      <td>0.0</td>\n",
       "      <td>0.0</td>\n",
       "      <td>0.0</td>\n",
       "      <td>3.0</td>\n",
       "    </tr>\n",
       "  </tbody>\n",
       "</table>\n",
       "</div>"
      ],
      "text/plain": [
       "   elapsed_distance  moving_time  avg_speed  ride_cruise_speed  \\\n",
       "0         -0.583768    -0.600478  -0.009533          -0.858793   \n",
       "1         -0.317711     0.039052  -1.259373          -1.102532   \n",
       "2          0.651350     0.480656   0.223983           1.935312   \n",
       "3         -0.182067     0.699772  -2.201339          -1.072299   \n",
       "4          0.861471     0.334257   1.334372           0.176060   \n",
       "\n",
       "   ride_avg_power  peak_20min_power  training_window_1  training_window_2  \\\n",
       "0       -0.328163         -0.616149                0.0                1.0   \n",
       "1       -1.286629         -1.775306                0.0                0.0   \n",
       "2        1.236084          0.202598                0.0                0.0   \n",
       "3       -2.183943         -0.507488                0.0                0.0   \n",
       "4        1.183030          0.621841                1.0                0.0   \n",
       "\n",
       "   training_window_3  training_window_4  training_window_5  training_window_6  \\\n",
       "0                0.0                0.0                0.0                0.0   \n",
       "1                0.0                0.0                0.0                0.0   \n",
       "2                0.0                1.0                0.0                0.0   \n",
       "3                0.0                0.0                0.0                0.0   \n",
       "4                0.0                0.0                0.0                0.0   \n",
       "\n",
       "   training_window_7  training_window_8  training_window_9  \\\n",
       "0                0.0                0.0                0.0   \n",
       "1                0.0                0.0                0.0   \n",
       "2                0.0                0.0                0.0   \n",
       "3                0.0                0.0                1.0   \n",
       "4                0.0                0.0                0.0   \n",
       "\n",
       "   training_window_10  training_window_11  training_window_12  simple_exertion  \n",
       "0                 0.0                 0.0                 0.0              2.0  \n",
       "1                 0.0                 1.0                 0.0              1.0  \n",
       "2                 0.0                 0.0                 0.0              3.0  \n",
       "3                 0.0                 0.0                 0.0              2.0  \n",
       "4                 0.0                 0.0                 0.0              3.0  "
      ]
     },
     "execution_count": 32,
     "metadata": {},
     "output_type": "execute_result"
    }
   ],
   "source": [
    "df_prepared = pd.DataFrame(np.c_[data_prepared, targets], columns=column_names)\n",
    "df_prepared.head()"
   ]
  },
  {
   "cell_type": "code",
   "execution_count": 34,
   "id": "05cd46b7",
   "metadata": {},
   "outputs": [],
   "source": [
    "# Insert a training_window_0 column\n",
    "training_window_0_values = np.zeros(df_prepared.shape[0])\n",
    "df_prepared.insert(6, 'training_window_0', training_window_0_values)"
   ]
  },
  {
   "cell_type": "code",
   "execution_count": 36,
   "id": "36945755",
   "metadata": {},
   "outputs": [
    {
     "data": {
      "text/html": [
       "<div>\n",
       "<style scoped>\n",
       "    .dataframe tbody tr th:only-of-type {\n",
       "        vertical-align: middle;\n",
       "    }\n",
       "\n",
       "    .dataframe tbody tr th {\n",
       "        vertical-align: top;\n",
       "    }\n",
       "\n",
       "    .dataframe thead th {\n",
       "        text-align: right;\n",
       "    }\n",
       "</style>\n",
       "<table border=\"1\" class=\"dataframe\">\n",
       "  <thead>\n",
       "    <tr style=\"text-align: right;\">\n",
       "      <th></th>\n",
       "      <th>elapsed_distance</th>\n",
       "      <th>moving_time</th>\n",
       "      <th>avg_speed</th>\n",
       "      <th>ride_cruise_speed</th>\n",
       "      <th>ride_avg_power</th>\n",
       "      <th>peak_20min_power</th>\n",
       "      <th>training_window_0</th>\n",
       "      <th>training_window_1</th>\n",
       "      <th>training_window_2</th>\n",
       "      <th>training_window_3</th>\n",
       "      <th>training_window_4</th>\n",
       "      <th>training_window_5</th>\n",
       "      <th>training_window_6</th>\n",
       "      <th>training_window_7</th>\n",
       "      <th>training_window_8</th>\n",
       "      <th>training_window_9</th>\n",
       "      <th>training_window_10</th>\n",
       "      <th>training_window_11</th>\n",
       "      <th>training_window_12</th>\n",
       "      <th>simple_exertion</th>\n",
       "    </tr>\n",
       "  </thead>\n",
       "  <tbody>\n",
       "    <tr>\n",
       "      <th>0</th>\n",
       "      <td>-0.583768</td>\n",
       "      <td>-0.600478</td>\n",
       "      <td>-0.009533</td>\n",
       "      <td>-0.858793</td>\n",
       "      <td>-0.328163</td>\n",
       "      <td>-0.616149</td>\n",
       "      <td>0.0</td>\n",
       "      <td>0.0</td>\n",
       "      <td>1.0</td>\n",
       "      <td>0.0</td>\n",
       "      <td>0.0</td>\n",
       "      <td>0.0</td>\n",
       "      <td>0.0</td>\n",
       "      <td>0.0</td>\n",
       "      <td>0.0</td>\n",
       "      <td>0.0</td>\n",
       "      <td>0.0</td>\n",
       "      <td>0.0</td>\n",
       "      <td>0.0</td>\n",
       "      <td>2.0</td>\n",
       "    </tr>\n",
       "    <tr>\n",
       "      <th>1</th>\n",
       "      <td>-0.317711</td>\n",
       "      <td>0.039052</td>\n",
       "      <td>-1.259373</td>\n",
       "      <td>-1.102532</td>\n",
       "      <td>-1.286629</td>\n",
       "      <td>-1.775306</td>\n",
       "      <td>0.0</td>\n",
       "      <td>0.0</td>\n",
       "      <td>0.0</td>\n",
       "      <td>0.0</td>\n",
       "      <td>0.0</td>\n",
       "      <td>0.0</td>\n",
       "      <td>0.0</td>\n",
       "      <td>0.0</td>\n",
       "      <td>0.0</td>\n",
       "      <td>0.0</td>\n",
       "      <td>0.0</td>\n",
       "      <td>1.0</td>\n",
       "      <td>0.0</td>\n",
       "      <td>1.0</td>\n",
       "    </tr>\n",
       "    <tr>\n",
       "      <th>2</th>\n",
       "      <td>0.651350</td>\n",
       "      <td>0.480656</td>\n",
       "      <td>0.223983</td>\n",
       "      <td>1.935312</td>\n",
       "      <td>1.236084</td>\n",
       "      <td>0.202598</td>\n",
       "      <td>0.0</td>\n",
       "      <td>0.0</td>\n",
       "      <td>0.0</td>\n",
       "      <td>0.0</td>\n",
       "      <td>1.0</td>\n",
       "      <td>0.0</td>\n",
       "      <td>0.0</td>\n",
       "      <td>0.0</td>\n",
       "      <td>0.0</td>\n",
       "      <td>0.0</td>\n",
       "      <td>0.0</td>\n",
       "      <td>0.0</td>\n",
       "      <td>0.0</td>\n",
       "      <td>3.0</td>\n",
       "    </tr>\n",
       "    <tr>\n",
       "      <th>3</th>\n",
       "      <td>-0.182067</td>\n",
       "      <td>0.699772</td>\n",
       "      <td>-2.201339</td>\n",
       "      <td>-1.072299</td>\n",
       "      <td>-2.183943</td>\n",
       "      <td>-0.507488</td>\n",
       "      <td>0.0</td>\n",
       "      <td>0.0</td>\n",
       "      <td>0.0</td>\n",
       "      <td>0.0</td>\n",
       "      <td>0.0</td>\n",
       "      <td>0.0</td>\n",
       "      <td>0.0</td>\n",
       "      <td>0.0</td>\n",
       "      <td>0.0</td>\n",
       "      <td>1.0</td>\n",
       "      <td>0.0</td>\n",
       "      <td>0.0</td>\n",
       "      <td>0.0</td>\n",
       "      <td>2.0</td>\n",
       "    </tr>\n",
       "    <tr>\n",
       "      <th>4</th>\n",
       "      <td>0.861471</td>\n",
       "      <td>0.334257</td>\n",
       "      <td>1.334372</td>\n",
       "      <td>0.176060</td>\n",
       "      <td>1.183030</td>\n",
       "      <td>0.621841</td>\n",
       "      <td>0.0</td>\n",
       "      <td>1.0</td>\n",
       "      <td>0.0</td>\n",
       "      <td>0.0</td>\n",
       "      <td>0.0</td>\n",
       "      <td>0.0</td>\n",
       "      <td>0.0</td>\n",
       "      <td>0.0</td>\n",
       "      <td>0.0</td>\n",
       "      <td>0.0</td>\n",
       "      <td>0.0</td>\n",
       "      <td>0.0</td>\n",
       "      <td>0.0</td>\n",
       "      <td>3.0</td>\n",
       "    </tr>\n",
       "  </tbody>\n",
       "</table>\n",
       "</div>"
      ],
      "text/plain": [
       "   elapsed_distance  moving_time  avg_speed  ride_cruise_speed  \\\n",
       "0         -0.583768    -0.600478  -0.009533          -0.858793   \n",
       "1         -0.317711     0.039052  -1.259373          -1.102532   \n",
       "2          0.651350     0.480656   0.223983           1.935312   \n",
       "3         -0.182067     0.699772  -2.201339          -1.072299   \n",
       "4          0.861471     0.334257   1.334372           0.176060   \n",
       "\n",
       "   ride_avg_power  peak_20min_power  training_window_0  training_window_1  \\\n",
       "0       -0.328163         -0.616149                0.0                0.0   \n",
       "1       -1.286629         -1.775306                0.0                0.0   \n",
       "2        1.236084          0.202598                0.0                0.0   \n",
       "3       -2.183943         -0.507488                0.0                0.0   \n",
       "4        1.183030          0.621841                0.0                1.0   \n",
       "\n",
       "   training_window_2  training_window_3  training_window_4  training_window_5  \\\n",
       "0                1.0                0.0                0.0                0.0   \n",
       "1                0.0                0.0                0.0                0.0   \n",
       "2                0.0                0.0                1.0                0.0   \n",
       "3                0.0                0.0                0.0                0.0   \n",
       "4                0.0                0.0                0.0                0.0   \n",
       "\n",
       "   training_window_6  training_window_7  training_window_8  training_window_9  \\\n",
       "0                0.0                0.0                0.0                0.0   \n",
       "1                0.0                0.0                0.0                0.0   \n",
       "2                0.0                0.0                0.0                0.0   \n",
       "3                0.0                0.0                0.0                1.0   \n",
       "4                0.0                0.0                0.0                0.0   \n",
       "\n",
       "   training_window_10  training_window_11  training_window_12  simple_exertion  \n",
       "0                 0.0                 0.0                 0.0              2.0  \n",
       "1                 0.0                 1.0                 0.0              1.0  \n",
       "2                 0.0                 0.0                 0.0              3.0  \n",
       "3                 0.0                 0.0                 0.0              2.0  \n",
       "4                 0.0                 0.0                 0.0              3.0  "
      ]
     },
     "execution_count": 36,
     "metadata": {},
     "output_type": "execute_result"
    }
   ],
   "source": [
    "df_prepared.head()"
   ]
  },
  {
   "cell_type": "code",
   "execution_count": 37,
   "id": "42b0d67c",
   "metadata": {},
   "outputs": [
    {
     "data": {
      "text/plain": [
       "(54, 20)"
      ]
     },
     "execution_count": 37,
     "metadata": {},
     "output_type": "execute_result"
    }
   ],
   "source": [
    "df_prepared.shape"
   ]
  },
  {
   "cell_type": "code",
   "execution_count": 38,
   "id": "bec35333",
   "metadata": {},
   "outputs": [],
   "source": [
    "df_prepared.to_csv(file_paths['out_test'], index=False)"
   ]
  },
  {
   "cell_type": "markdown",
   "id": "15a8af23",
   "metadata": {},
   "source": [
    "# 5. Prepare and Save the Missing Dataset"
   ]
  },
  {
   "cell_type": "code",
   "execution_count": 43,
   "id": "4f909861",
   "metadata": {},
   "outputs": [
    {
     "data": {
      "text/html": [
       "<div>\n",
       "<style scoped>\n",
       "    .dataframe tbody tr th:only-of-type {\n",
       "        vertical-align: middle;\n",
       "    }\n",
       "\n",
       "    .dataframe tbody tr th {\n",
       "        vertical-align: top;\n",
       "    }\n",
       "\n",
       "    .dataframe thead th {\n",
       "        text-align: right;\n",
       "    }\n",
       "</style>\n",
       "<table border=\"1\" class=\"dataframe\">\n",
       "  <thead>\n",
       "    <tr style=\"text-align: right;\">\n",
       "      <th></th>\n",
       "      <th>simple_exertion</th>\n",
       "      <th>elapsed_distance</th>\n",
       "      <th>moving_time</th>\n",
       "      <th>avg_speed</th>\n",
       "      <th>ride_cruise_speed</th>\n",
       "      <th>ride_avg_power</th>\n",
       "      <th>peak_20min_power</th>\n",
       "      <th>training_window_id</th>\n",
       "    </tr>\n",
       "  </thead>\n",
       "  <tbody>\n",
       "    <tr>\n",
       "      <th>0</th>\n",
       "      <td>NaN</td>\n",
       "      <td>5.167961</td>\n",
       "      <td>1472</td>\n",
       "      <td>13.119808</td>\n",
       "      <td>14.154069</td>\n",
       "      <td>122.304555</td>\n",
       "      <td>131.178797</td>\n",
       "      <td>0</td>\n",
       "    </tr>\n",
       "    <tr>\n",
       "      <th>1</th>\n",
       "      <td>NaN</td>\n",
       "      <td>5.257609</td>\n",
       "      <td>1481</td>\n",
       "      <td>13.339800</td>\n",
       "      <td>15.443823</td>\n",
       "      <td>113.161863</td>\n",
       "      <td>126.461932</td>\n",
       "      <td>0</td>\n",
       "    </tr>\n",
       "    <tr>\n",
       "      <th>2</th>\n",
       "      <td>NaN</td>\n",
       "      <td>7.209980</td>\n",
       "      <td>2122</td>\n",
       "      <td>12.187326</td>\n",
       "      <td>14.151900</td>\n",
       "      <td>101.118739</td>\n",
       "      <td>112.499284</td>\n",
       "      <td>1</td>\n",
       "    </tr>\n",
       "    <tr>\n",
       "      <th>3</th>\n",
       "      <td>NaN</td>\n",
       "      <td>8.708461</td>\n",
       "      <td>2743</td>\n",
       "      <td>11.017330</td>\n",
       "      <td>14.065320</td>\n",
       "      <td>91.116677</td>\n",
       "      <td>NaN</td>\n",
       "      <td>2</td>\n",
       "    </tr>\n",
       "    <tr>\n",
       "      <th>4</th>\n",
       "      <td>NaN</td>\n",
       "      <td>8.644248</td>\n",
       "      <td>2610</td>\n",
       "      <td>11.706583</td>\n",
       "      <td>14.111624</td>\n",
       "      <td>96.993258</td>\n",
       "      <td>110.849867</td>\n",
       "      <td>2</td>\n",
       "    </tr>\n",
       "  </tbody>\n",
       "</table>\n",
       "</div>"
      ],
      "text/plain": [
       "   simple_exertion  elapsed_distance  moving_time  avg_speed  \\\n",
       "0              NaN          5.167961         1472  13.119808   \n",
       "1              NaN          5.257609         1481  13.339800   \n",
       "2              NaN          7.209980         2122  12.187326   \n",
       "3              NaN          8.708461         2743  11.017330   \n",
       "4              NaN          8.644248         2610  11.706583   \n",
       "\n",
       "   ride_cruise_speed  ride_avg_power  peak_20min_power  training_window_id  \n",
       "0          14.154069      122.304555        131.178797                   0  \n",
       "1          15.443823      113.161863        126.461932                   0  \n",
       "2          14.151900      101.118739        112.499284                   1  \n",
       "3          14.065320       91.116677               NaN                   2  \n",
       "4          14.111624       96.993258        110.849867                   2  "
      ]
     },
     "execution_count": 43,
     "metadata": {},
     "output_type": "execute_result"
    }
   ],
   "source": [
    "df_missing = pd.read_csv(file_paths['in_missing'])\n",
    "df_missing[cols_to_keep].head()"
   ]
  },
  {
   "cell_type": "code",
   "execution_count": 44,
   "id": "f525b071",
   "metadata": {},
   "outputs": [],
   "source": [
    "# Need to fill in the missing values for peak_20min_power.\n",
    "# Use intensity * FTP to estimate the missing\n",
    "filt_nan = df_missing['peak_20min_power'].isna()\n",
    "df_missing.loc[filt_nan, 'peak_20min_power'] = df_missing.loc[filt_nan,'ftp_power'] * df_missing.loc[filt_nan, 'intensity']"
   ]
  },
  {
   "cell_type": "code",
   "execution_count": 46,
   "id": "9e4edc39",
   "metadata": {},
   "outputs": [
    {
     "name": "stdout",
     "output_type": "stream",
     "text": [
      "<class 'pandas.core.frame.DataFrame'>\n",
      "RangeIndex: 38 entries, 0 to 37\n",
      "Data columns (total 8 columns):\n",
      " #   Column              Non-Null Count  Dtype  \n",
      "---  ------              --------------  -----  \n",
      " 0   simple_exertion     0 non-null      float64\n",
      " 1   elapsed_distance    38 non-null     float64\n",
      " 2   moving_time         38 non-null     int64  \n",
      " 3   avg_speed           38 non-null     float64\n",
      " 4   ride_cruise_speed   38 non-null     float64\n",
      " 5   ride_avg_power      38 non-null     float64\n",
      " 6   peak_20min_power    38 non-null     float64\n",
      " 7   training_window_id  38 non-null     int64  \n",
      "dtypes: float64(6), int64(2)\n",
      "memory usage: 2.5 KB\n"
     ]
    }
   ],
   "source": [
    "df_missing[cols_to_keep].info()"
   ]
  },
  {
   "cell_type": "code",
   "execution_count": 47,
   "id": "611b75e6",
   "metadata": {},
   "outputs": [
    {
     "data": {
      "text/plain": [
       "(38, 18)"
      ]
     },
     "execution_count": 47,
     "metadata": {},
     "output_type": "execute_result"
    }
   ],
   "source": [
    "data_prepared = full_pipeline.fit_transform(df_missing)\n",
    "data_prepared.shape"
   ]
  },
  {
   "cell_type": "code",
   "execution_count": 48,
   "id": "ce69790b",
   "metadata": {},
   "outputs": [
    {
     "name": "stdout",
     "output_type": "stream",
     "text": [
      "['training_window_0', 'training_window_1', 'training_window_2', 'training_window_3', 'training_window_4', 'training_window_5', 'training_window_7', 'training_window_8', 'training_window_9', 'training_window_10', 'training_window_11', 'training_window_12']\n"
     ]
    }
   ],
   "source": [
    "training_id_one_hot = ['training_window_'+str(x) for x in list(nominal_cat_pipeline['one_hot'].categories_[0])]\n",
    "print(training_id_one_hot)\n",
    "column_names = num_cols + training_id_one_hot \n",
    "# need to ensure that training_window_6 is added as all zeros"
   ]
  },
  {
   "cell_type": "code",
   "execution_count": 49,
   "id": "b8e9a93a",
   "metadata": {},
   "outputs": [
    {
     "data": {
      "text/html": [
       "<div>\n",
       "<style scoped>\n",
       "    .dataframe tbody tr th:only-of-type {\n",
       "        vertical-align: middle;\n",
       "    }\n",
       "\n",
       "    .dataframe tbody tr th {\n",
       "        vertical-align: top;\n",
       "    }\n",
       "\n",
       "    .dataframe thead th {\n",
       "        text-align: right;\n",
       "    }\n",
       "</style>\n",
       "<table border=\"1\" class=\"dataframe\">\n",
       "  <thead>\n",
       "    <tr style=\"text-align: right;\">\n",
       "      <th></th>\n",
       "      <th>elapsed_distance</th>\n",
       "      <th>moving_time</th>\n",
       "      <th>avg_speed</th>\n",
       "      <th>ride_cruise_speed</th>\n",
       "      <th>ride_avg_power</th>\n",
       "      <th>peak_20min_power</th>\n",
       "      <th>training_window_0</th>\n",
       "      <th>training_window_1</th>\n",
       "      <th>training_window_2</th>\n",
       "      <th>training_window_3</th>\n",
       "      <th>training_window_4</th>\n",
       "      <th>training_window_5</th>\n",
       "      <th>training_window_7</th>\n",
       "      <th>training_window_8</th>\n",
       "      <th>training_window_9</th>\n",
       "      <th>training_window_10</th>\n",
       "      <th>training_window_11</th>\n",
       "      <th>training_window_12</th>\n",
       "    </tr>\n",
       "  </thead>\n",
       "  <tbody>\n",
       "    <tr>\n",
       "      <th>0</th>\n",
       "      <td>-0.588873</td>\n",
       "      <td>-0.763382</td>\n",
       "      <td>1.181918</td>\n",
       "      <td>0.041841</td>\n",
       "      <td>1.300453</td>\n",
       "      <td>0.960239</td>\n",
       "      <td>1.0</td>\n",
       "      <td>0.0</td>\n",
       "      <td>0.0</td>\n",
       "      <td>0.0</td>\n",
       "      <td>0.0</td>\n",
       "      <td>0.0</td>\n",
       "      <td>0.0</td>\n",
       "      <td>0.0</td>\n",
       "      <td>0.0</td>\n",
       "      <td>0.0</td>\n",
       "      <td>0.0</td>\n",
       "      <td>0.0</td>\n",
       "    </tr>\n",
       "    <tr>\n",
       "      <th>1</th>\n",
       "      <td>-0.573702</td>\n",
       "      <td>-0.759225</td>\n",
       "      <td>1.272014</td>\n",
       "      <td>0.772345</td>\n",
       "      <td>0.984611</td>\n",
       "      <td>0.812942</td>\n",
       "      <td>1.0</td>\n",
       "      <td>0.0</td>\n",
       "      <td>0.0</td>\n",
       "      <td>0.0</td>\n",
       "      <td>0.0</td>\n",
       "      <td>0.0</td>\n",
       "      <td>0.0</td>\n",
       "      <td>0.0</td>\n",
       "      <td>0.0</td>\n",
       "      <td>0.0</td>\n",
       "      <td>0.0</td>\n",
       "      <td>0.0</td>\n",
       "    </tr>\n",
       "    <tr>\n",
       "      <th>2</th>\n",
       "      <td>-0.243298</td>\n",
       "      <td>-0.463130</td>\n",
       "      <td>0.800027</td>\n",
       "      <td>0.040612</td>\n",
       "      <td>0.568571</td>\n",
       "      <td>0.376923</td>\n",
       "      <td>0.0</td>\n",
       "      <td>1.0</td>\n",
       "      <td>0.0</td>\n",
       "      <td>0.0</td>\n",
       "      <td>0.0</td>\n",
       "      <td>0.0</td>\n",
       "      <td>0.0</td>\n",
       "      <td>0.0</td>\n",
       "      <td>0.0</td>\n",
       "      <td>0.0</td>\n",
       "      <td>0.0</td>\n",
       "      <td>0.0</td>\n",
       "    </tr>\n",
       "    <tr>\n",
       "      <th>3</th>\n",
       "      <td>0.010294</td>\n",
       "      <td>-0.176274</td>\n",
       "      <td>0.320864</td>\n",
       "      <td>-0.008426</td>\n",
       "      <td>0.223041</td>\n",
       "      <td>-0.290803</td>\n",
       "      <td>0.0</td>\n",
       "      <td>0.0</td>\n",
       "      <td>1.0</td>\n",
       "      <td>0.0</td>\n",
       "      <td>0.0</td>\n",
       "      <td>0.0</td>\n",
       "      <td>0.0</td>\n",
       "      <td>0.0</td>\n",
       "      <td>0.0</td>\n",
       "      <td>0.0</td>\n",
       "      <td>0.0</td>\n",
       "      <td>0.0</td>\n",
       "    </tr>\n",
       "    <tr>\n",
       "      <th>4</th>\n",
       "      <td>-0.000573</td>\n",
       "      <td>-0.237710</td>\n",
       "      <td>0.603142</td>\n",
       "      <td>0.017801</td>\n",
       "      <td>0.426053</td>\n",
       "      <td>0.325416</td>\n",
       "      <td>0.0</td>\n",
       "      <td>0.0</td>\n",
       "      <td>1.0</td>\n",
       "      <td>0.0</td>\n",
       "      <td>0.0</td>\n",
       "      <td>0.0</td>\n",
       "      <td>0.0</td>\n",
       "      <td>0.0</td>\n",
       "      <td>0.0</td>\n",
       "      <td>0.0</td>\n",
       "      <td>0.0</td>\n",
       "      <td>0.0</td>\n",
       "    </tr>\n",
       "  </tbody>\n",
       "</table>\n",
       "</div>"
      ],
      "text/plain": [
       "   elapsed_distance  moving_time  avg_speed  ride_cruise_speed  \\\n",
       "0         -0.588873    -0.763382   1.181918           0.041841   \n",
       "1         -0.573702    -0.759225   1.272014           0.772345   \n",
       "2         -0.243298    -0.463130   0.800027           0.040612   \n",
       "3          0.010294    -0.176274   0.320864          -0.008426   \n",
       "4         -0.000573    -0.237710   0.603142           0.017801   \n",
       "\n",
       "   ride_avg_power  peak_20min_power  training_window_0  training_window_1  \\\n",
       "0        1.300453          0.960239                1.0                0.0   \n",
       "1        0.984611          0.812942                1.0                0.0   \n",
       "2        0.568571          0.376923                0.0                1.0   \n",
       "3        0.223041         -0.290803                0.0                0.0   \n",
       "4        0.426053          0.325416                0.0                0.0   \n",
       "\n",
       "   training_window_2  training_window_3  training_window_4  training_window_5  \\\n",
       "0                0.0                0.0                0.0                0.0   \n",
       "1                0.0                0.0                0.0                0.0   \n",
       "2                0.0                0.0                0.0                0.0   \n",
       "3                1.0                0.0                0.0                0.0   \n",
       "4                1.0                0.0                0.0                0.0   \n",
       "\n",
       "   training_window_7  training_window_8  training_window_9  \\\n",
       "0                0.0                0.0                0.0   \n",
       "1                0.0                0.0                0.0   \n",
       "2                0.0                0.0                0.0   \n",
       "3                0.0                0.0                0.0   \n",
       "4                0.0                0.0                0.0   \n",
       "\n",
       "   training_window_10  training_window_11  training_window_12  \n",
       "0                 0.0                 0.0                 0.0  \n",
       "1                 0.0                 0.0                 0.0  \n",
       "2                 0.0                 0.0                 0.0  \n",
       "3                 0.0                 0.0                 0.0  \n",
       "4                 0.0                 0.0                 0.0  "
      ]
     },
     "execution_count": 49,
     "metadata": {},
     "output_type": "execute_result"
    }
   ],
   "source": [
    "df_prepared = pd.DataFrame(data_prepared, columns=column_names)\n",
    "df_prepared.head()"
   ]
  },
  {
   "cell_type": "code",
   "execution_count": 50,
   "id": "44a08630",
   "metadata": {},
   "outputs": [],
   "source": [
    "# Insert a training_window_0 column\n",
    "training_window_6_values = np.zeros(df_prepared.shape[0])\n",
    "df_prepared.insert(12, 'training_window_6', training_window_6_values)"
   ]
  },
  {
   "cell_type": "code",
   "execution_count": 51,
   "id": "7602cbc1",
   "metadata": {},
   "outputs": [
    {
     "data": {
      "text/plain": [
       "(38, 19)"
      ]
     },
     "execution_count": 51,
     "metadata": {},
     "output_type": "execute_result"
    }
   ],
   "source": [
    "df_prepared.shape"
   ]
  },
  {
   "cell_type": "code",
   "execution_count": 52,
   "id": "75b24070",
   "metadata": {},
   "outputs": [],
   "source": [
    "df_prepared.to_csv(file_paths['out_missing'], index=False)"
   ]
  },
  {
   "cell_type": "code",
   "execution_count": null,
   "id": "8b49e9b2",
   "metadata": {},
   "outputs": [],
   "source": []
  }
 ],
 "metadata": {
  "kernelspec": {
   "display_name": "Python 3 (ipykernel)",
   "language": "python",
   "name": "python3"
  },
  "language_info": {
   "codemirror_mode": {
    "name": "ipython",
    "version": 3
   },
   "file_extension": ".py",
   "mimetype": "text/x-python",
   "name": "python",
   "nbconvert_exporter": "python",
   "pygments_lexer": "ipython3",
   "version": "3.10.1"
  }
 },
 "nbformat": 4,
 "nbformat_minor": 5
}
