{
 "cells": [
  {
   "cell_type": "code",
   "execution_count": 1,
   "id": "0f5cb371",
   "metadata": {},
   "outputs": [],
   "source": [
    "import pandas as pd\n",
    "import numpy as np\n",
    "import matplotlib.pyplot as plt\n",
    "import seaborn as sns\n",
    "\n",
    "#pd.set_option(\"display.max_rows\", 1000)\n",
    "pd.set_option(\"display.max_columns\", 100)"
   ]
  },
  {
   "cell_type": "code",
   "execution_count": 2,
   "id": "775fb852",
   "metadata": {},
   "outputs": [],
   "source": [
    "file_paths = {'in':'../../../data/prepared/activity_log_train.csv'\n",
    "             }\n",
    "\n",
    "df = pd.read_csv(file_paths['in'])\n",
    "\n",
    "# guarantee the timestamps are datetime objects\n",
    "time_columns = ['start_time','end_time']\n",
    "\n",
    "for time_col in time_columns:\n",
    "    df[time_col] = pd.to_datetime(df[time_col])"
   ]
  },
  {
   "cell_type": "markdown",
   "id": "8063e362",
   "metadata": {},
   "source": [
    "### Replace Peak Power Nulls"
   ]
  },
  {
   "cell_type": "code",
   "execution_count": 14,
   "id": "7047be8f",
   "metadata": {},
   "outputs": [],
   "source": [
    "# Need to fill in the missing values for peak_20min_power.\n",
    "# Use intensity * FTP to estimate the missing\n",
    "filt_nan = df['peak_20min_power'].isna()\n",
    "\n",
    "df.loc[filt_nan, 'peak_20min_power'] = df.loc[filt_nan,'ftp_power'] * df.loc[filt_nan, 'intensity']"
   ]
  },
  {
   "cell_type": "code",
   "execution_count": 3,
   "id": "418bffca",
   "metadata": {},
   "outputs": [],
   "source": [
    "cols_to_keep = ['simple_exertion','elapsed_distance','moving_time','avg_speed','ride_cruise_speed','ride_avg_power',\n",
    "                'peak_20min_power', 'training_window_id']"
   ]
  },
  {
   "cell_type": "markdown",
   "id": "5113ce1d",
   "metadata": {},
   "source": [
    "### Replace Simple Exertion with Enumerated Categories"
   ]
  },
  {
   "cell_type": "code",
   "execution_count": 7,
   "id": "1cfa7779",
   "metadata": {},
   "outputs": [
    {
     "data": {
      "text/plain": [
       "0      2\n",
       "1      3\n",
       "2      3\n",
       "3      3\n",
       "4      2\n",
       "      ..\n",
       "121    2\n",
       "122    1\n",
       "123    2\n",
       "124    2\n",
       "125    2\n",
       "Name: simple_exertion, Length: 126, dtype: int64"
      ]
     },
     "execution_count": 7,
     "metadata": {},
     "output_type": "execute_result"
    }
   ],
   "source": [
    "df['simple_exertion'] = df['simple_exertion'].replace({'EASY':1, 'NORMAL':2, 'HARD':3})\n",
    "df['simple_exertion']"
   ]
  },
  {
   "cell_type": "code",
   "execution_count": 8,
   "id": "d4359af3",
   "metadata": {},
   "outputs": [],
   "source": [
    "num_cols = ['elapsed_distance','moving_time','avg_speed','ride_cruise_speed','ride_avg_power','peak_20min_power']\n",
    "cat_cols = ['training_window_id']\n",
    "target_col = ['simple_exertion']"
   ]
  },
  {
   "cell_type": "markdown",
   "id": "1d6d299f",
   "metadata": {},
   "source": [
    "# 2. Pipeline Preparation"
   ]
  },
  {
   "cell_type": "code",
   "execution_count": 9,
   "id": "ed4c165e",
   "metadata": {},
   "outputs": [],
   "source": [
    "from sklearn.base import BaseEstimator, TransformerMixin\n",
    "\n",
    "class DataFrameSelector(BaseEstimator, TransformerMixin):\n",
    "    def __init__(self, attribute_names):\n",
    "        self.attribute_names = attribute_names\n",
    "        \n",
    "    def fit(self, X, y=None):\n",
    "        return self\n",
    "    \n",
    "    def transform(self, X):\n",
    "        return X[self.attribute_names].values"
   ]
  },
  {
   "cell_type": "code",
   "execution_count": 11,
   "id": "03f4c3c5",
   "metadata": {},
   "outputs": [],
   "source": [
    "from sklearn.pipeline import Pipeline\n",
    "from sklearn.preprocessing import StandardScaler, OneHotEncoder\n",
    "\n",
    "num_pipeline = Pipeline([('selector', DataFrameSelector(num_cols)),\n",
    "                         ('std_scaler', StandardScaler())\n",
    "                        ])\n",
    "\n",
    "nominal_cat_pipeline = Pipeline([('selector', DataFrameSelector(cat_cols)),\n",
    "                                 ('one_hot', OneHotEncoder(sparse=False))\n",
    "                                ])"
   ]
  },
  {
   "cell_type": "code",
   "execution_count": 12,
   "id": "ad993caa",
   "metadata": {},
   "outputs": [],
   "source": [
    "from sklearn.pipeline import FeatureUnion\n",
    "\n",
    "full_pipeline = FeatureUnion(transformer_list=[('numerical_pipeline', num_pipeline), \n",
    "                                               ('categorical_pipeline', nominal_cat_pipeline)\n",
    "                                              ])"
   ]
  },
  {
   "cell_type": "markdown",
   "id": "656aaac5",
   "metadata": {},
   "source": [
    "### Check Nullity "
   ]
  },
  {
   "cell_type": "code",
   "execution_count": 15,
   "id": "81386849",
   "metadata": {},
   "outputs": [
    {
     "name": "stdout",
     "output_type": "stream",
     "text": [
      "<class 'pandas.core.frame.DataFrame'>\n",
      "RangeIndex: 126 entries, 0 to 125\n",
      "Data columns (total 8 columns):\n",
      " #   Column              Non-Null Count  Dtype  \n",
      "---  ------              --------------  -----  \n",
      " 0   simple_exertion     126 non-null    int64  \n",
      " 1   elapsed_distance    126 non-null    float64\n",
      " 2   moving_time         126 non-null    int64  \n",
      " 3   avg_speed           126 non-null    float64\n",
      " 4   ride_cruise_speed   126 non-null    float64\n",
      " 5   ride_avg_power      126 non-null    float64\n",
      " 6   peak_20min_power    126 non-null    float64\n",
      " 7   training_window_id  126 non-null    int64  \n",
      "dtypes: float64(5), int64(3)\n",
      "memory usage: 8.0 KB\n"
     ]
    }
   ],
   "source": [
    "df[cols_to_keep].info()"
   ]
  },
  {
   "cell_type": "markdown",
   "id": "f828cc03",
   "metadata": {},
   "source": [
    "### Apply Pipeline to Prepare Data for ML"
   ]
  },
  {
   "cell_type": "code",
   "execution_count": 19,
   "id": "69a77e80",
   "metadata": {},
   "outputs": [
    {
     "data": {
      "text/plain": [
       "(126, 19)"
      ]
     },
     "execution_count": 19,
     "metadata": {},
     "output_type": "execute_result"
    }
   ],
   "source": [
    "data_prepared = full_pipeline.fit_transform(df)\n",
    "data_prepared.shape"
   ]
  },
  {
   "cell_type": "code",
   "execution_count": 20,
   "id": "34e62a41",
   "metadata": {},
   "outputs": [
    {
     "data": {
      "text/plain": [
       "array([[ 0.30194675,  0.17918467,  0.50259987, ...,  0.        ,\n",
       "         0.        ,  0.        ],\n",
       "       [-0.5583539 , -0.7691198 ,  0.86486012, ...,  0.        ,\n",
       "         0.        ,  0.        ],\n",
       "       [-0.5957914 , -0.80185087,  0.88804778, ...,  0.        ,\n",
       "         1.        ,  0.        ],\n",
       "       ...,\n",
       "       [-0.332341  ,  0.13524432, -1.55925874, ...,  0.        ,\n",
       "         0.        ,  0.        ],\n",
       "       [-0.05286141,  0.17021725, -0.61943897, ...,  1.        ,\n",
       "         0.        ,  0.        ],\n",
       "       [-0.67087782, -0.4561569 , -1.32563783, ...,  0.        ,\n",
       "         0.        ,  0.        ]])"
      ]
     },
     "execution_count": 20,
     "metadata": {},
     "output_type": "execute_result"
    }
   ],
   "source": [
    "data_prepared"
   ]
  },
  {
   "cell_type": "markdown",
   "id": "7c507047",
   "metadata": {},
   "source": [
    "# 3. Save Prepared Values"
   ]
  },
  {
   "cell_type": "code",
   "execution_count": 24,
   "id": "0c4ec875",
   "metadata": {},
   "outputs": [
    {
     "name": "stdout",
     "output_type": "stream",
     "text": [
      "['training_window_0', 'training_window_1', 'training_window_2', 'training_window_3', 'training_window_4', 'training_window_5', 'training_window_6', 'training_window_7', 'training_window_8', 'training_window_9', 'training_window_10', 'training_window_11', 'training_window_12']\n"
     ]
    }
   ],
   "source": [
    "training_id_one_hot = ['training_window_'+str(x) for x in list(nominal_cat_pipeline['one_hot'].categories_[0])]\n",
    "print(training_id_one_hot)"
   ]
  },
  {
   "cell_type": "code",
   "execution_count": 26,
   "id": "268abcb0",
   "metadata": {},
   "outputs": [],
   "source": [
    "targets = df[target_col].values"
   ]
  },
  {
   "cell_type": "code",
   "execution_count": 29,
   "id": "7594dbaa",
   "metadata": {},
   "outputs": [
    {
     "name": "stdout",
     "output_type": "stream",
     "text": [
      "['elapsed_distance', 'moving_time', 'avg_speed', 'ride_cruise_speed', 'ride_avg_power', 'peak_20min_power', 'training_window_0', 'training_window_1', 'training_window_2', 'training_window_3', 'training_window_4', 'training_window_5', 'training_window_6', 'training_window_7', 'training_window_8', 'training_window_9', 'training_window_10', 'training_window_11', 'training_window_12', 'simple_exertion']\n"
     ]
    }
   ],
   "source": [
    "column_names = num_cols + training_id_one_hot + target_col\n",
    "print(column_names)"
   ]
  },
  {
   "cell_type": "code",
   "execution_count": null,
   "id": "245d9223",
   "metadata": {},
   "outputs": [],
   "source": []
  }
 ],
 "metadata": {
  "kernelspec": {
   "display_name": "Python 3 (ipykernel)",
   "language": "python",
   "name": "python3"
  },
  "language_info": {
   "codemirror_mode": {
    "name": "ipython",
    "version": 3
   },
   "file_extension": ".py",
   "mimetype": "text/x-python",
   "name": "python",
   "nbconvert_exporter": "python",
   "pygments_lexer": "ipython3",
   "version": "3.10.1"
  }
 },
 "nbformat": 4,
 "nbformat_minor": 5
}
