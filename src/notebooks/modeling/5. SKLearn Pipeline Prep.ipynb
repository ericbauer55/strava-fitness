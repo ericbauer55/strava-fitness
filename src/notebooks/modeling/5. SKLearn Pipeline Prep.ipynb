{
 "cells": [
  {
   "cell_type": "code",
   "execution_count": 1,
   "id": "264a36b4",
   "metadata": {},
   "outputs": [],
   "source": [
    "import pandas as pd\n",
    "import numpy as np\n",
    "import matplotlib.pyplot as plt\n",
    "import seaborn as sns\n",
    "\n",
    "#pd.set_option(\"display.max_rows\", 1000)\n",
    "pd.set_option(\"display.max_columns\", 100)"
   ]
  },
  {
   "cell_type": "code",
   "execution_count": 32,
   "id": "25596768",
   "metadata": {},
   "outputs": [],
   "source": [
    "file_paths = {'in_train':'../../../data/prepared/activity_log_train.csv',\n",
    "              'in_test':'../../../data/prepared/activity_log_test.csv',\n",
    "              'out_train':'../../../data/prepared/activity_log_train__ml_prepared.csv',\n",
    "              'out_test':'../../../data/prepared/activity_log_test__ml_prepared.csv'\n",
    "             }\n",
    "\n",
    "df = pd.read_csv(file_paths['in_train'])\n",
    "\n",
    "# guarantee the timestamps are datetime objects\n",
    "time_columns = ['start_time','end_time']\n",
    "\n",
    "for time_col in time_columns:\n",
    "    df[time_col] = pd.to_datetime(df[time_col])"
   ]
  },
  {
   "cell_type": "markdown",
   "id": "93b1f2b0",
   "metadata": {},
   "source": [
    "### Replace Peak Power Nulls"
   ]
  },
  {
   "cell_type": "code",
   "execution_count": 14,
   "id": "e7d27c34",
   "metadata": {},
   "outputs": [],
   "source": [
    "# Need to fill in the missing values for peak_20min_power.\n",
    "# Use intensity * FTP to estimate the missing\n",
    "filt_nan = df['peak_20min_power'].isna()\n",
    "\n",
    "df.loc[filt_nan, 'peak_20min_power'] = df.loc[filt_nan,'ftp_power'] * df.loc[filt_nan, 'intensity']"
   ]
  },
  {
   "cell_type": "code",
   "execution_count": 3,
   "id": "244361ee",
   "metadata": {},
   "outputs": [],
   "source": [
    "cols_to_keep = ['simple_exertion','elapsed_distance','moving_time','avg_speed','ride_cruise_speed','ride_avg_power',\n",
    "                'peak_20min_power', 'training_window_id']"
   ]
  },
  {
   "cell_type": "markdown",
   "id": "76bea830",
   "metadata": {},
   "source": [
    "### Replace Simple Exertion with Enumerated Categories"
   ]
  },
  {
   "cell_type": "code",
   "execution_count": 7,
   "id": "ca083674",
   "metadata": {},
   "outputs": [
    {
     "data": {
      "text/plain": [
       "0      2\n",
       "1      3\n",
       "2      3\n",
       "3      3\n",
       "4      2\n",
       "      ..\n",
       "121    2\n",
       "122    1\n",
       "123    2\n",
       "124    2\n",
       "125    2\n",
       "Name: simple_exertion, Length: 126, dtype: int64"
      ]
     },
     "execution_count": 7,
     "metadata": {},
     "output_type": "execute_result"
    }
   ],
   "source": [
    "df['simple_exertion'] = df['simple_exertion'].replace({'EASY':1, 'NORMAL':2, 'HARD':3})\n",
    "df['simple_exertion']"
   ]
  },
  {
   "cell_type": "code",
   "execution_count": 8,
   "id": "f132f480",
   "metadata": {},
   "outputs": [],
   "source": [
    "num_cols = ['elapsed_distance','moving_time','avg_speed','ride_cruise_speed','ride_avg_power','peak_20min_power']\n",
    "cat_cols = ['training_window_id']\n",
    "target_col = ['simple_exertion']"
   ]
  },
  {
   "cell_type": "markdown",
   "id": "017252d2",
   "metadata": {},
   "source": [
    "# 2. Pipeline Preparation"
   ]
  },
  {
   "cell_type": "code",
   "execution_count": 9,
   "id": "648861df",
   "metadata": {},
   "outputs": [],
   "source": [
    "from sklearn.base import BaseEstimator, TransformerMixin\n",
    "\n",
    "class DataFrameSelector(BaseEstimator, TransformerMixin):\n",
    "    def __init__(self, attribute_names):\n",
    "        self.attribute_names = attribute_names\n",
    "        \n",
    "    def fit(self, X, y=None):\n",
    "        return self\n",
    "    \n",
    "    def transform(self, X):\n",
    "        return X[self.attribute_names].values"
   ]
  },
  {
   "cell_type": "code",
   "execution_count": 11,
   "id": "6fcf4442",
   "metadata": {},
   "outputs": [],
   "source": [
    "from sklearn.pipeline import Pipeline\n",
    "from sklearn.preprocessing import StandardScaler, OneHotEncoder\n",
    "\n",
    "num_pipeline = Pipeline([('selector', DataFrameSelector(num_cols)),\n",
    "                         ('std_scaler', StandardScaler())\n",
    "                        ])\n",
    "\n",
    "nominal_cat_pipeline = Pipeline([('selector', DataFrameSelector(cat_cols)),\n",
    "                                 ('one_hot', OneHotEncoder(sparse=False))\n",
    "                                ])"
   ]
  },
  {
   "cell_type": "code",
   "execution_count": 12,
   "id": "5597c9fe",
   "metadata": {},
   "outputs": [],
   "source": [
    "from sklearn.pipeline import FeatureUnion\n",
    "\n",
    "full_pipeline = FeatureUnion(transformer_list=[('numerical_pipeline', num_pipeline), \n",
    "                                               ('categorical_pipeline', nominal_cat_pipeline)\n",
    "                                              ])"
   ]
  },
  {
   "cell_type": "markdown",
   "id": "88d482f1",
   "metadata": {},
   "source": [
    "### Check Nullity "
   ]
  },
  {
   "cell_type": "code",
   "execution_count": 15,
   "id": "6fee3818",
   "metadata": {},
   "outputs": [
    {
     "name": "stdout",
     "output_type": "stream",
     "text": [
      "<class 'pandas.core.frame.DataFrame'>\n",
      "RangeIndex: 126 entries, 0 to 125\n",
      "Data columns (total 8 columns):\n",
      " #   Column              Non-Null Count  Dtype  \n",
      "---  ------              --------------  -----  \n",
      " 0   simple_exertion     126 non-null    int64  \n",
      " 1   elapsed_distance    126 non-null    float64\n",
      " 2   moving_time         126 non-null    int64  \n",
      " 3   avg_speed           126 non-null    float64\n",
      " 4   ride_cruise_speed   126 non-null    float64\n",
      " 5   ride_avg_power      126 non-null    float64\n",
      " 6   peak_20min_power    126 non-null    float64\n",
      " 7   training_window_id  126 non-null    int64  \n",
      "dtypes: float64(5), int64(3)\n",
      "memory usage: 8.0 KB\n"
     ]
    }
   ],
   "source": [
    "df[cols_to_keep].info()"
   ]
  },
  {
   "cell_type": "markdown",
   "id": "de0be55c",
   "metadata": {},
   "source": [
    "### Apply Pipeline to Prepare Data for ML"
   ]
  },
  {
   "cell_type": "code",
   "execution_count": 19,
   "id": "cd774936",
   "metadata": {},
   "outputs": [
    {
     "data": {
      "text/plain": [
       "(126, 19)"
      ]
     },
     "execution_count": 19,
     "metadata": {},
     "output_type": "execute_result"
    }
   ],
   "source": [
    "data_prepared = full_pipeline.fit_transform(df)\n",
    "data_prepared.shape"
   ]
  },
  {
   "cell_type": "code",
   "execution_count": 20,
   "id": "189d44c2",
   "metadata": {},
   "outputs": [
    {
     "data": {
      "text/plain": [
       "array([[ 0.30194675,  0.17918467,  0.50259987, ...,  0.        ,\n",
       "         0.        ,  0.        ],\n",
       "       [-0.5583539 , -0.7691198 ,  0.86486012, ...,  0.        ,\n",
       "         0.        ,  0.        ],\n",
       "       [-0.5957914 , -0.80185087,  0.88804778, ...,  0.        ,\n",
       "         1.        ,  0.        ],\n",
       "       ...,\n",
       "       [-0.332341  ,  0.13524432, -1.55925874, ...,  0.        ,\n",
       "         0.        ,  0.        ],\n",
       "       [-0.05286141,  0.17021725, -0.61943897, ...,  1.        ,\n",
       "         0.        ,  0.        ],\n",
       "       [-0.67087782, -0.4561569 , -1.32563783, ...,  0.        ,\n",
       "         0.        ,  0.        ]])"
      ]
     },
     "execution_count": 20,
     "metadata": {},
     "output_type": "execute_result"
    }
   ],
   "source": [
    "data_prepared"
   ]
  },
  {
   "cell_type": "markdown",
   "id": "c207961b",
   "metadata": {},
   "source": [
    "# 3. Save Prepared Values"
   ]
  },
  {
   "cell_type": "code",
   "execution_count": 24,
   "id": "81edfac3",
   "metadata": {},
   "outputs": [
    {
     "name": "stdout",
     "output_type": "stream",
     "text": [
      "['training_window_0', 'training_window_1', 'training_window_2', 'training_window_3', 'training_window_4', 'training_window_5', 'training_window_6', 'training_window_7', 'training_window_8', 'training_window_9', 'training_window_10', 'training_window_11', 'training_window_12']\n"
     ]
    }
   ],
   "source": [
    "training_id_one_hot = ['training_window_'+str(x) for x in list(nominal_cat_pipeline['one_hot'].categories_[0])]\n",
    "print(training_id_one_hot)"
   ]
  },
  {
   "cell_type": "code",
   "execution_count": 26,
   "id": "3519bde6",
   "metadata": {},
   "outputs": [],
   "source": [
    "targets = df[target_col].values"
   ]
  },
  {
   "cell_type": "code",
   "execution_count": 29,
   "id": "66081656",
   "metadata": {},
   "outputs": [
    {
     "name": "stdout",
     "output_type": "stream",
     "text": [
      "['elapsed_distance', 'moving_time', 'avg_speed', 'ride_cruise_speed', 'ride_avg_power', 'peak_20min_power', 'training_window_0', 'training_window_1', 'training_window_2', 'training_window_3', 'training_window_4', 'training_window_5', 'training_window_6', 'training_window_7', 'training_window_8', 'training_window_9', 'training_window_10', 'training_window_11', 'training_window_12', 'simple_exertion']\n"
     ]
    }
   ],
   "source": [
    "column_names = num_cols + training_id_one_hot + target_col\n",
    "print(column_names)"
   ]
  },
  {
   "cell_type": "code",
   "execution_count": 30,
   "id": "259c5339",
   "metadata": {},
   "outputs": [
    {
     "data": {
      "text/html": [
       "<div>\n",
       "<style scoped>\n",
       "    .dataframe tbody tr th:only-of-type {\n",
       "        vertical-align: middle;\n",
       "    }\n",
       "\n",
       "    .dataframe tbody tr th {\n",
       "        vertical-align: top;\n",
       "    }\n",
       "\n",
       "    .dataframe thead th {\n",
       "        text-align: right;\n",
       "    }\n",
       "</style>\n",
       "<table border=\"1\" class=\"dataframe\">\n",
       "  <thead>\n",
       "    <tr style=\"text-align: right;\">\n",
       "      <th></th>\n",
       "      <th>elapsed_distance</th>\n",
       "      <th>moving_time</th>\n",
       "      <th>avg_speed</th>\n",
       "      <th>ride_cruise_speed</th>\n",
       "      <th>ride_avg_power</th>\n",
       "      <th>peak_20min_power</th>\n",
       "      <th>training_window_0</th>\n",
       "      <th>training_window_1</th>\n",
       "      <th>training_window_2</th>\n",
       "      <th>training_window_3</th>\n",
       "      <th>training_window_4</th>\n",
       "      <th>training_window_5</th>\n",
       "      <th>training_window_6</th>\n",
       "      <th>training_window_7</th>\n",
       "      <th>training_window_8</th>\n",
       "      <th>training_window_9</th>\n",
       "      <th>training_window_10</th>\n",
       "      <th>training_window_11</th>\n",
       "      <th>training_window_12</th>\n",
       "      <th>simple_exertion</th>\n",
       "    </tr>\n",
       "  </thead>\n",
       "  <tbody>\n",
       "    <tr>\n",
       "      <th>0</th>\n",
       "      <td>0.301947</td>\n",
       "      <td>0.179185</td>\n",
       "      <td>0.502600</td>\n",
       "      <td>-0.104944</td>\n",
       "      <td>0.559036</td>\n",
       "      <td>0.975233</td>\n",
       "      <td>0.0</td>\n",
       "      <td>0.0</td>\n",
       "      <td>0.0</td>\n",
       "      <td>0.0</td>\n",
       "      <td>1.0</td>\n",
       "      <td>0.0</td>\n",
       "      <td>0.0</td>\n",
       "      <td>0.0</td>\n",
       "      <td>0.0</td>\n",
       "      <td>0.0</td>\n",
       "      <td>0.0</td>\n",
       "      <td>0.0</td>\n",
       "      <td>0.0</td>\n",
       "      <td>2.0</td>\n",
       "    </tr>\n",
       "    <tr>\n",
       "      <th>1</th>\n",
       "      <td>-0.558354</td>\n",
       "      <td>-0.769120</td>\n",
       "      <td>0.864860</td>\n",
       "      <td>0.342861</td>\n",
       "      <td>0.788333</td>\n",
       "      <td>0.903988</td>\n",
       "      <td>0.0</td>\n",
       "      <td>0.0</td>\n",
       "      <td>0.0</td>\n",
       "      <td>0.0</td>\n",
       "      <td>0.0</td>\n",
       "      <td>1.0</td>\n",
       "      <td>0.0</td>\n",
       "      <td>0.0</td>\n",
       "      <td>0.0</td>\n",
       "      <td>0.0</td>\n",
       "      <td>0.0</td>\n",
       "      <td>0.0</td>\n",
       "      <td>0.0</td>\n",
       "      <td>3.0</td>\n",
       "    </tr>\n",
       "    <tr>\n",
       "      <th>2</th>\n",
       "      <td>-0.595791</td>\n",
       "      <td>-0.801851</td>\n",
       "      <td>0.888048</td>\n",
       "      <td>0.804365</td>\n",
       "      <td>1.269131</td>\n",
       "      <td>0.616208</td>\n",
       "      <td>0.0</td>\n",
       "      <td>0.0</td>\n",
       "      <td>0.0</td>\n",
       "      <td>0.0</td>\n",
       "      <td>0.0</td>\n",
       "      <td>0.0</td>\n",
       "      <td>0.0</td>\n",
       "      <td>0.0</td>\n",
       "      <td>0.0</td>\n",
       "      <td>0.0</td>\n",
       "      <td>0.0</td>\n",
       "      <td>1.0</td>\n",
       "      <td>0.0</td>\n",
       "      <td>3.0</td>\n",
       "    </tr>\n",
       "    <tr>\n",
       "      <th>3</th>\n",
       "      <td>-0.125927</td>\n",
       "      <td>-0.295640</td>\n",
       "      <td>0.614986</td>\n",
       "      <td>-0.118132</td>\n",
       "      <td>0.211381</td>\n",
       "      <td>0.310750</td>\n",
       "      <td>0.0</td>\n",
       "      <td>0.0</td>\n",
       "      <td>0.0</td>\n",
       "      <td>0.0</td>\n",
       "      <td>0.0</td>\n",
       "      <td>1.0</td>\n",
       "      <td>0.0</td>\n",
       "      <td>0.0</td>\n",
       "      <td>0.0</td>\n",
       "      <td>0.0</td>\n",
       "      <td>0.0</td>\n",
       "      <td>0.0</td>\n",
       "      <td>0.0</td>\n",
       "      <td>3.0</td>\n",
       "    </tr>\n",
       "    <tr>\n",
       "      <th>4</th>\n",
       "      <td>-1.127194</td>\n",
       "      <td>-1.180276</td>\n",
       "      <td>-0.693269</td>\n",
       "      <td>0.249776</td>\n",
       "      <td>-0.217549</td>\n",
       "      <td>-0.983908</td>\n",
       "      <td>0.0</td>\n",
       "      <td>0.0</td>\n",
       "      <td>0.0</td>\n",
       "      <td>1.0</td>\n",
       "      <td>0.0</td>\n",
       "      <td>0.0</td>\n",
       "      <td>0.0</td>\n",
       "      <td>0.0</td>\n",
       "      <td>0.0</td>\n",
       "      <td>0.0</td>\n",
       "      <td>0.0</td>\n",
       "      <td>0.0</td>\n",
       "      <td>0.0</td>\n",
       "      <td>2.0</td>\n",
       "    </tr>\n",
       "  </tbody>\n",
       "</table>\n",
       "</div>"
      ],
      "text/plain": [
       "   elapsed_distance  moving_time  avg_speed  ride_cruise_speed  \\\n",
       "0          0.301947     0.179185   0.502600          -0.104944   \n",
       "1         -0.558354    -0.769120   0.864860           0.342861   \n",
       "2         -0.595791    -0.801851   0.888048           0.804365   \n",
       "3         -0.125927    -0.295640   0.614986          -0.118132   \n",
       "4         -1.127194    -1.180276  -0.693269           0.249776   \n",
       "\n",
       "   ride_avg_power  peak_20min_power  training_window_0  training_window_1  \\\n",
       "0        0.559036          0.975233                0.0                0.0   \n",
       "1        0.788333          0.903988                0.0                0.0   \n",
       "2        1.269131          0.616208                0.0                0.0   \n",
       "3        0.211381          0.310750                0.0                0.0   \n",
       "4       -0.217549         -0.983908                0.0                0.0   \n",
       "\n",
       "   training_window_2  training_window_3  training_window_4  training_window_5  \\\n",
       "0                0.0                0.0                1.0                0.0   \n",
       "1                0.0                0.0                0.0                1.0   \n",
       "2                0.0                0.0                0.0                0.0   \n",
       "3                0.0                0.0                0.0                1.0   \n",
       "4                0.0                1.0                0.0                0.0   \n",
       "\n",
       "   training_window_6  training_window_7  training_window_8  training_window_9  \\\n",
       "0                0.0                0.0                0.0                0.0   \n",
       "1                0.0                0.0                0.0                0.0   \n",
       "2                0.0                0.0                0.0                0.0   \n",
       "3                0.0                0.0                0.0                0.0   \n",
       "4                0.0                0.0                0.0                0.0   \n",
       "\n",
       "   training_window_10  training_window_11  training_window_12  simple_exertion  \n",
       "0                 0.0                 0.0                 0.0              2.0  \n",
       "1                 0.0                 0.0                 0.0              3.0  \n",
       "2                 0.0                 1.0                 0.0              3.0  \n",
       "3                 0.0                 0.0                 0.0              3.0  \n",
       "4                 0.0                 0.0                 0.0              2.0  "
      ]
     },
     "execution_count": 30,
     "metadata": {},
     "output_type": "execute_result"
    }
   ],
   "source": [
    "df_prepared = pd.DataFrame(np.c_[data_prepared, targets], columns=column_names)\n",
    "df_prepared.head()"
   ]
  },
  {
   "cell_type": "code",
   "execution_count": 33,
   "id": "dd698b63",
   "metadata": {},
   "outputs": [],
   "source": [
    "df_prepared.to_csv(file_paths['out_train'], index=False)"
   ]
  },
  {
   "cell_type": "code",
   "execution_count": null,
   "id": "62713ff9",
   "metadata": {},
   "outputs": [],
   "source": []
  }
 ],
 "metadata": {
  "kernelspec": {
   "display_name": "Python 3 (ipykernel)",
   "language": "python",
   "name": "python3"
  },
  "language_info": {
   "codemirror_mode": {
    "name": "ipython",
    "version": 3
   },
   "file_extension": ".py",
   "mimetype": "text/x-python",
   "name": "python",
   "nbconvert_exporter": "python",
   "pygments_lexer": "ipython3",
   "version": "3.10.1"
  }
 },
 "nbformat": 4,
 "nbformat_minor": 5
}
