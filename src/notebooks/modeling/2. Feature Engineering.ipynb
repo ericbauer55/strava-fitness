{
 "cells": [
  {
   "cell_type": "code",
   "execution_count": 17,
   "id": "639dddc4",
   "metadata": {},
   "outputs": [],
   "source": [
    "import pandas as pd\n",
    "import numpy as np\n",
    "import matplotlib.pyplot as plt\n",
    "import seaborn as sns\n",
    "\n",
    "#pd.set_option(\"display.max_rows\", 1000)\n",
    "pd.set_option(\"display.max_columns\", 100)"
   ]
  },
  {
   "cell_type": "code",
   "execution_count": 2,
   "id": "c42022fc",
   "metadata": {},
   "outputs": [],
   "source": [
    "file_paths = {'in':'../../../data/prepared/activity_log_prepared.csv',\n",
    "              'out':'../../../data/prepared/activity_log_prepared.csv'\n",
    "             }\n",
    "\n",
    "df = pd.read_csv(file_paths['in'])\n",
    "\n",
    "# guarantee the timestamps are datetime objects\n",
    "time_columns = ['start_time','end_time']\n",
    "\n",
    "for time_col in time_columns:\n",
    "    df[time_col] = pd.to_datetime(df[time_col])"
   ]
  },
  {
   "cell_type": "code",
   "execution_count": 3,
   "id": "e8dc54c6",
   "metadata": {},
   "outputs": [
    {
     "data": {
      "text/html": [
       "<div>\n",
       "<style scoped>\n",
       "    .dataframe tbody tr th:only-of-type {\n",
       "        vertical-align: middle;\n",
       "    }\n",
       "\n",
       "    .dataframe tbody tr th {\n",
       "        vertical-align: top;\n",
       "    }\n",
       "\n",
       "    .dataframe thead th {\n",
       "        text-align: right;\n",
       "    }\n",
       "</style>\n",
       "<table border=\"1\" class=\"dataframe\">\n",
       "  <thead>\n",
       "    <tr style=\"text-align: right;\">\n",
       "      <th></th>\n",
       "      <th>ride_id</th>\n",
       "      <th>row_count</th>\n",
       "      <th>segment_count</th>\n",
       "      <th>start_time</th>\n",
       "      <th>end_time</th>\n",
       "      <th>elapsed_time</th>\n",
       "      <th>moving_time</th>\n",
       "      <th>elapsed_distance</th>\n",
       "      <th>elapsed_ascent</th>\n",
       "      <th>elapsed_descent</th>\n",
       "      <th>max_speed</th>\n",
       "      <th>avg_speed</th>\n",
       "      <th>ride_cruise_speed</th>\n",
       "      <th>avg_power</th>\n",
       "      <th>ride_avg_power</th>\n",
       "      <th>ride_max_power</th>\n",
       "      <th>peak_20min_power</th>\n",
       "      <th>training_window_id</th>\n",
       "      <th>perceived_exertion</th>\n",
       "      <th>simple_exertion</th>\n",
       "      <th>perceived_relative_effort</th>\n",
       "      <th>ride_work</th>\n",
       "    </tr>\n",
       "  </thead>\n",
       "  <tbody>\n",
       "    <tr>\n",
       "      <th>0</th>\n",
       "      <td>2975587283</td>\n",
       "      <td>1352</td>\n",
       "      <td>5</td>\n",
       "      <td>2020-01-02 14:02:58+00:00</td>\n",
       "      <td>2020-01-02 14:29:32+00:00</td>\n",
       "      <td>1642</td>\n",
       "      <td>1411</td>\n",
       "      <td>5.266647</td>\n",
       "      <td>137.1458</td>\n",
       "      <td>138.7863</td>\n",
       "      <td>20.132460</td>\n",
       "      <td>14.045509</td>\n",
       "      <td>14.547075</td>\n",
       "      <td>NaN</td>\n",
       "      <td>116.870855</td>\n",
       "      <td>5.520265e+02</td>\n",
       "      <td>124.782357</td>\n",
       "      <td>0</td>\n",
       "      <td>7.0</td>\n",
       "      <td>HARD</td>\n",
       "      <td>45.0</td>\n",
       "      <td>191.901944</td>\n",
       "    </tr>\n",
       "    <tr>\n",
       "      <th>1</th>\n",
       "      <td>2992935347</td>\n",
       "      <td>1426</td>\n",
       "      <td>5</td>\n",
       "      <td>2020-01-08 13:20:26+00:00</td>\n",
       "      <td>2020-01-08 13:49:06+00:00</td>\n",
       "      <td>1728</td>\n",
       "      <td>1472</td>\n",
       "      <td>5.167961</td>\n",
       "      <td>215.2336</td>\n",
       "      <td>153.2227</td>\n",
       "      <td>31.764548</td>\n",
       "      <td>13.119808</td>\n",
       "      <td>14.154069</td>\n",
       "      <td>NaN</td>\n",
       "      <td>122.304555</td>\n",
       "      <td>9.702958e+02</td>\n",
       "      <td>131.178797</td>\n",
       "      <td>0</td>\n",
       "      <td>NaN</td>\n",
       "      <td>NaN</td>\n",
       "      <td>NaN</td>\n",
       "      <td>211.342270</td>\n",
       "    </tr>\n",
       "    <tr>\n",
       "      <th>2</th>\n",
       "      <td>2994399692</td>\n",
       "      <td>1423</td>\n",
       "      <td>7</td>\n",
       "      <td>2020-01-08 22:08:17+00:00</td>\n",
       "      <td>2020-01-08 22:35:04+00:00</td>\n",
       "      <td>1608</td>\n",
       "      <td>1481</td>\n",
       "      <td>5.257609</td>\n",
       "      <td>158.4723</td>\n",
       "      <td>219.4989</td>\n",
       "      <td>25.501115</td>\n",
       "      <td>13.339800</td>\n",
       "      <td>15.443823</td>\n",
       "      <td>NaN</td>\n",
       "      <td>113.161863</td>\n",
       "      <td>1.299650e+03</td>\n",
       "      <td>126.461932</td>\n",
       "      <td>0</td>\n",
       "      <td>NaN</td>\n",
       "      <td>NaN</td>\n",
       "      <td>NaN</td>\n",
       "      <td>181.964276</td>\n",
       "    </tr>\n",
       "    <tr>\n",
       "      <th>3</th>\n",
       "      <td>3248077156</td>\n",
       "      <td>2580</td>\n",
       "      <td>5</td>\n",
       "      <td>2020-04-02 21:38:02+00:00</td>\n",
       "      <td>2020-04-02 23:03:45+00:00</td>\n",
       "      <td>5143</td>\n",
       "      <td>2544</td>\n",
       "      <td>6.759676</td>\n",
       "      <td>329.4124</td>\n",
       "      <td>274.6197</td>\n",
       "      <td>29.974995</td>\n",
       "      <td>9.548413</td>\n",
       "      <td>13.495738</td>\n",
       "      <td>NaN</td>\n",
       "      <td>100.591028</td>\n",
       "      <td>2.608934e+05</td>\n",
       "      <td>737.913342</td>\n",
       "      <td>1</td>\n",
       "      <td>5.0</td>\n",
       "      <td>NORMAL</td>\n",
       "      <td>45.0</td>\n",
       "      <td>517.339656</td>\n",
       "    </tr>\n",
       "    <tr>\n",
       "      <th>4</th>\n",
       "      <td>3255473930</td>\n",
       "      <td>6416</td>\n",
       "      <td>12</td>\n",
       "      <td>2020-04-04 17:23:43+00:00</td>\n",
       "      <td>2020-04-04 19:59:16+00:00</td>\n",
       "      <td>9348</td>\n",
       "      <td>6356</td>\n",
       "      <td>22.730090</td>\n",
       "      <td>575.1593</td>\n",
       "      <td>576.4717</td>\n",
       "      <td>32.211935</td>\n",
       "      <td>12.764180</td>\n",
       "      <td>14.009717</td>\n",
       "      <td>NaN</td>\n",
       "      <td>100.591028</td>\n",
       "      <td>3.328601e+06</td>\n",
       "      <td>121.068376</td>\n",
       "      <td>1</td>\n",
       "      <td>5.0</td>\n",
       "      <td>NORMAL</td>\n",
       "      <td>114.0</td>\n",
       "      <td>940.324927</td>\n",
       "    </tr>\n",
       "  </tbody>\n",
       "</table>\n",
       "</div>"
      ],
      "text/plain": [
       "      ride_id  row_count  segment_count                start_time  \\\n",
       "0  2975587283       1352              5 2020-01-02 14:02:58+00:00   \n",
       "1  2992935347       1426              5 2020-01-08 13:20:26+00:00   \n",
       "2  2994399692       1423              7 2020-01-08 22:08:17+00:00   \n",
       "3  3248077156       2580              5 2020-04-02 21:38:02+00:00   \n",
       "4  3255473930       6416             12 2020-04-04 17:23:43+00:00   \n",
       "\n",
       "                   end_time  elapsed_time  moving_time  elapsed_distance  \\\n",
       "0 2020-01-02 14:29:32+00:00          1642         1411          5.266647   \n",
       "1 2020-01-08 13:49:06+00:00          1728         1472          5.167961   \n",
       "2 2020-01-08 22:35:04+00:00          1608         1481          5.257609   \n",
       "3 2020-04-02 23:03:45+00:00          5143         2544          6.759676   \n",
       "4 2020-04-04 19:59:16+00:00          9348         6356         22.730090   \n",
       "\n",
       "   elapsed_ascent  elapsed_descent  max_speed  avg_speed  ride_cruise_speed  \\\n",
       "0        137.1458         138.7863  20.132460  14.045509          14.547075   \n",
       "1        215.2336         153.2227  31.764548  13.119808          14.154069   \n",
       "2        158.4723         219.4989  25.501115  13.339800          15.443823   \n",
       "3        329.4124         274.6197  29.974995   9.548413          13.495738   \n",
       "4        575.1593         576.4717  32.211935  12.764180          14.009717   \n",
       "\n",
       "   avg_power  ride_avg_power  ride_max_power  peak_20min_power  \\\n",
       "0        NaN      116.870855    5.520265e+02        124.782357   \n",
       "1        NaN      122.304555    9.702958e+02        131.178797   \n",
       "2        NaN      113.161863    1.299650e+03        126.461932   \n",
       "3        NaN      100.591028    2.608934e+05        737.913342   \n",
       "4        NaN      100.591028    3.328601e+06        121.068376   \n",
       "\n",
       "   training_window_id  perceived_exertion simple_exertion  \\\n",
       "0                   0                 7.0            HARD   \n",
       "1                   0                 NaN             NaN   \n",
       "2                   0                 NaN             NaN   \n",
       "3                   1                 5.0          NORMAL   \n",
       "4                   1                 5.0          NORMAL   \n",
       "\n",
       "   perceived_relative_effort   ride_work  \n",
       "0                       45.0  191.901944  \n",
       "1                        NaN  211.342270  \n",
       "2                        NaN  181.964276  \n",
       "3                       45.0  517.339656  \n",
       "4                      114.0  940.324927  "
      ]
     },
     "execution_count": 3,
     "metadata": {},
     "output_type": "execute_result"
    }
   ],
   "source": [
    "df.head()"
   ]
  },
  {
   "cell_type": "code",
   "execution_count": 4,
   "id": "143c99c6",
   "metadata": {},
   "outputs": [
    {
     "data": {
      "text/plain": [
       "(218, 22)"
      ]
     },
     "execution_count": 4,
     "metadata": {},
     "output_type": "execute_result"
    }
   ],
   "source": [
    "df.shape"
   ]
  },
  {
   "cell_type": "markdown",
   "id": "7e7ce227",
   "metadata": {},
   "source": [
    "# Time Since Last Ride"
   ]
  },
  {
   "cell_type": "code",
   "execution_count": 10,
   "id": "85017073",
   "metadata": {},
   "outputs": [],
   "source": [
    "# ensure that the data is sorted chronologically\n",
    "df = df.set_index('start_time').sort_index().reset_index()"
   ]
  },
  {
   "cell_type": "code",
   "execution_count": 15,
   "id": "93a63434",
   "metadata": {},
   "outputs": [],
   "source": [
    "# create a temporary column for the Last end time in UTC seconds\n",
    "df['last_ride_end'] = df['end_time'].apply(lambda x: x.timestamp()).shift()"
   ]
  },
  {
   "cell_type": "code",
   "execution_count": 18,
   "id": "78c97c46",
   "metadata": {},
   "outputs": [],
   "source": [
    "sec2hour = 1.0/3600 # convert seconds to hours\n",
    "df['hours_since_last_ride'] = sec2hour*(df['start_time'].apply(lambda x: x.timestamp()) - df['last_ride_end'])"
   ]
  },
  {
   "cell_type": "code",
   "execution_count": 22,
   "id": "4ebe19aa",
   "metadata": {},
   "outputs": [
    {
     "data": {
      "text/plain": [
       "0    10000.000000\n",
       "1      142.848333\n",
       "2        8.319722\n",
       "3     2039.049444\n",
       "4       42.332778\n",
       "5      169.151111\n",
       "6       16.069722\n",
       "7       25.643611\n",
       "8       26.543611\n",
       "9       46.363889\n",
       "Name: hours_since_last_ride, dtype: float64"
      ]
     },
     "execution_count": 22,
     "metadata": {},
     "output_type": "execute_result"
    }
   ],
   "source": [
    "df['hours_since_last_ride'] = df['hours_since_last_ride'].fillna(10000) # assume any contribution to fatigue/fitness is 0 ...\n",
    "df['hours_since_last_ride'].head(10)"
   ]
  },
  {
   "cell_type": "code",
   "execution_count": 23,
   "id": "2d063383",
   "metadata": {},
   "outputs": [],
   "source": [
    "df.drop(['last_ride_end'], axis=1, inplace=True) # drop temporary column"
   ]
  },
  {
   "cell_type": "markdown",
   "id": "01dec0af",
   "metadata": {},
   "source": [
    "# Active Time Ratio"
   ]
  },
  {
   "cell_type": "code",
   "execution_count": 24,
   "id": "0cd23e2c",
   "metadata": {},
   "outputs": [],
   "source": [
    "df['active_time_ratio'] = df['moving_time'] / df['elapsed_time']"
   ]
  },
  {
   "cell_type": "markdown",
   "id": "2ce4f4bb",
   "metadata": {},
   "source": [
    "# FTP Calculation & Intensity"
   ]
  },
  {
   "cell_type": "markdown",
   "id": "ba7e2c82",
   "metadata": {},
   "source": [
    "### FTP Calculation and Cleaning"
   ]
  },
  {
   "cell_type": "code",
   "execution_count": 35,
   "id": "83ba8099",
   "metadata": {},
   "outputs": [
    {
     "data": {
      "text/html": [
       "<div>\n",
       "<style scoped>\n",
       "    .dataframe tbody tr th:only-of-type {\n",
       "        vertical-align: middle;\n",
       "    }\n",
       "\n",
       "    .dataframe tbody tr th {\n",
       "        vertical-align: top;\n",
       "    }\n",
       "\n",
       "    .dataframe thead th {\n",
       "        text-align: right;\n",
       "    }\n",
       "</style>\n",
       "<table border=\"1\" class=\"dataframe\">\n",
       "  <thead>\n",
       "    <tr style=\"text-align: right;\">\n",
       "      <th></th>\n",
       "      <th>peak_20min_power</th>\n",
       "    </tr>\n",
       "    <tr>\n",
       "      <th>training_window_id</th>\n",
       "      <th></th>\n",
       "    </tr>\n",
       "  </thead>\n",
       "  <tbody>\n",
       "    <tr>\n",
       "      <th>0</th>\n",
       "      <td>131.178797</td>\n",
       "    </tr>\n",
       "    <tr>\n",
       "      <th>1</th>\n",
       "      <td>134.266490</td>\n",
       "    </tr>\n",
       "    <tr>\n",
       "      <th>2</th>\n",
       "      <td>150.497627</td>\n",
       "    </tr>\n",
       "    <tr>\n",
       "      <th>3</th>\n",
       "      <td>161.323024</td>\n",
       "    </tr>\n",
       "    <tr>\n",
       "      <th>4</th>\n",
       "      <td>146.082425</td>\n",
       "    </tr>\n",
       "    <tr>\n",
       "      <th>5</th>\n",
       "      <td>144.460600</td>\n",
       "    </tr>\n",
       "    <tr>\n",
       "      <th>6</th>\n",
       "      <td>155.238673</td>\n",
       "    </tr>\n",
       "    <tr>\n",
       "      <th>7</th>\n",
       "      <td>153.464051</td>\n",
       "    </tr>\n",
       "    <tr>\n",
       "      <th>8</th>\n",
       "      <td>150.159838</td>\n",
       "    </tr>\n",
       "    <tr>\n",
       "      <th>9</th>\n",
       "      <td>136.265702</td>\n",
       "    </tr>\n",
       "    <tr>\n",
       "      <th>10</th>\n",
       "      <td>149.020887</td>\n",
       "    </tr>\n",
       "    <tr>\n",
       "      <th>11</th>\n",
       "      <td>169.020795</td>\n",
       "    </tr>\n",
       "    <tr>\n",
       "      <th>12</th>\n",
       "      <td>141.357758</td>\n",
       "    </tr>\n",
       "  </tbody>\n",
       "</table>\n",
       "</div>"
      ],
      "text/plain": [
       "                    peak_20min_power\n",
       "training_window_id                  \n",
       "0                         131.178797\n",
       "1                         134.266490\n",
       "2                         150.497627\n",
       "3                         161.323024\n",
       "4                         146.082425\n",
       "5                         144.460600\n",
       "6                         155.238673\n",
       "7                         153.464051\n",
       "8                         150.159838\n",
       "9                         136.265702\n",
       "10                        149.020887\n",
       "11                        169.020795\n",
       "12                        141.357758"
      ]
     },
     "execution_count": 35,
     "metadata": {},
     "output_type": "execute_result"
    }
   ],
   "source": [
    "ftp_cols = ['training_window_id','peak_20min_power']\n",
    "df[ftp_cols].groupby('training_window_id').max()"
   ]
  },
  {
   "cell_type": "code",
   "execution_count": 30,
   "id": "4c8ef922",
   "metadata": {},
   "outputs": [
    {
     "data": {
      "text/html": [
       "<div>\n",
       "<style scoped>\n",
       "    .dataframe tbody tr th:only-of-type {\n",
       "        vertical-align: middle;\n",
       "    }\n",
       "\n",
       "    .dataframe tbody tr th {\n",
       "        vertical-align: top;\n",
       "    }\n",
       "\n",
       "    .dataframe thead th {\n",
       "        text-align: right;\n",
       "    }\n",
       "</style>\n",
       "<table border=\"1\" class=\"dataframe\">\n",
       "  <thead>\n",
       "    <tr style=\"text-align: right;\">\n",
       "      <th></th>\n",
       "      <th>training_window_id</th>\n",
       "      <th>peak_20min_power</th>\n",
       "    </tr>\n",
       "  </thead>\n",
       "  <tbody>\n",
       "    <tr>\n",
       "      <th>count</th>\n",
       "      <td>218.000000</td>\n",
       "      <td>186.000000</td>\n",
       "    </tr>\n",
       "    <tr>\n",
       "      <th>mean</th>\n",
       "      <td>5.573394</td>\n",
       "      <td>2151.790733</td>\n",
       "    </tr>\n",
       "    <tr>\n",
       "      <th>std</th>\n",
       "      <td>3.327947</td>\n",
       "      <td>22610.432217</td>\n",
       "    </tr>\n",
       "    <tr>\n",
       "      <th>min</th>\n",
       "      <td>0.000000</td>\n",
       "      <td>34.464474</td>\n",
       "    </tr>\n",
       "    <tr>\n",
       "      <th>25%</th>\n",
       "      <td>3.000000</td>\n",
       "      <td>106.434848</td>\n",
       "    </tr>\n",
       "    <tr>\n",
       "      <th>50%</th>\n",
       "      <td>5.000000</td>\n",
       "      <td>128.536546</td>\n",
       "    </tr>\n",
       "    <tr>\n",
       "      <th>75%</th>\n",
       "      <td>9.000000</td>\n",
       "      <td>144.037048</td>\n",
       "    </tr>\n",
       "    <tr>\n",
       "      <th>max</th>\n",
       "      <td>12.000000</td>\n",
       "      <td>302729.659500</td>\n",
       "    </tr>\n",
       "  </tbody>\n",
       "</table>\n",
       "</div>"
      ],
      "text/plain": [
       "       training_window_id  peak_20min_power\n",
       "count          218.000000        186.000000\n",
       "mean             5.573394       2151.790733\n",
       "std              3.327947      22610.432217\n",
       "min              0.000000         34.464474\n",
       "25%              3.000000        106.434848\n",
       "50%              5.000000        128.536546\n",
       "75%              9.000000        144.037048\n",
       "max             12.000000     302729.659500"
      ]
     },
     "execution_count": 30,
     "metadata": {},
     "output_type": "execute_result"
    }
   ],
   "source": [
    "df[ftp_cols].describe()"
   ]
  },
  {
   "cell_type": "code",
   "execution_count": 33,
   "id": "e38e7878",
   "metadata": {},
   "outputs": [
    {
     "data": {
      "image/png": "[encoded data removed]",
      "text/plain": [
       "<Figure size 720x432 with 1 Axes>"
      ]
     },
     "metadata": {
      "needs_background": "light"
     },
     "output_type": "display_data"
    }
   ],
   "source": [
    "fig = plt.figure(figsize=(10,6))\n",
    "\n",
    "_ = sns.ecdfplot(data=df, x='peak_20min_power')\n",
    "_ = plt.grid()\n",
    "_ = plt.xlim([0,200])\n",
    "\n",
    "# A 170 Watt threshold would like work here"
   ]
  },
  {
   "cell_type": "code",
   "execution_count": 34,
   "id": "0f1efecb",
   "metadata": {},
   "outputs": [],
   "source": [
    "# replace outlier peak powers with null\n",
    "filt_peak_power_outlier = df['peak_20min_power']  >= 170\n",
    "df.loc[filt_peak_power_outlier, 'peak_20min_power'] = np.nan"
   ]
  },
  {
   "cell_type": "code",
   "execution_count": 37,
   "id": "8813a0ab",
   "metadata": {},
   "outputs": [
    {
     "data": {
      "text/html": [
       "<div>\n",
       "<style scoped>\n",
       "    .dataframe tbody tr th:only-of-type {\n",
       "        vertical-align: middle;\n",
       "    }\n",
       "\n",
       "    .dataframe tbody tr th {\n",
       "        vertical-align: top;\n",
       "    }\n",
       "\n",
       "    .dataframe thead th {\n",
       "        text-align: right;\n",
       "    }\n",
       "</style>\n",
       "<table border=\"1\" class=\"dataframe\">\n",
       "  <thead>\n",
       "    <tr style=\"text-align: right;\">\n",
       "      <th></th>\n",
       "      <th>ftp_power</th>\n",
       "    </tr>\n",
       "    <tr>\n",
       "      <th>training_window_id</th>\n",
       "      <th></th>\n",
       "    </tr>\n",
       "  </thead>\n",
       "  <tbody>\n",
       "    <tr>\n",
       "      <th>0</th>\n",
       "      <td>131.178797</td>\n",
       "    </tr>\n",
       "    <tr>\n",
       "      <th>1</th>\n",
       "      <td>134.266490</td>\n",
       "    </tr>\n",
       "    <tr>\n",
       "      <th>2</th>\n",
       "      <td>150.497627</td>\n",
       "    </tr>\n",
       "    <tr>\n",
       "      <th>3</th>\n",
       "      <td>161.323024</td>\n",
       "    </tr>\n",
       "    <tr>\n",
       "      <th>4</th>\n",
       "      <td>146.082425</td>\n",
       "    </tr>\n",
       "    <tr>\n",
       "      <th>5</th>\n",
       "      <td>144.460600</td>\n",
       "    </tr>\n",
       "    <tr>\n",
       "      <th>6</th>\n",
       "      <td>155.238673</td>\n",
       "    </tr>\n",
       "    <tr>\n",
       "      <th>7</th>\n",
       "      <td>153.464051</td>\n",
       "    </tr>\n",
       "    <tr>\n",
       "      <th>8</th>\n",
       "      <td>150.159838</td>\n",
       "    </tr>\n",
       "    <tr>\n",
       "      <th>9</th>\n",
       "      <td>136.265702</td>\n",
       "    </tr>\n",
       "    <tr>\n",
       "      <th>10</th>\n",
       "      <td>149.020887</td>\n",
       "    </tr>\n",
       "    <tr>\n",
       "      <th>11</th>\n",
       "      <td>169.020795</td>\n",
       "    </tr>\n",
       "    <tr>\n",
       "      <th>12</th>\n",
       "      <td>141.357758</td>\n",
       "    </tr>\n",
       "  </tbody>\n",
       "</table>\n",
       "</div>"
      ],
      "text/plain": [
       "                     ftp_power\n",
       "training_window_id            \n",
       "0                   131.178797\n",
       "1                   134.266490\n",
       "2                   150.497627\n",
       "3                   161.323024\n",
       "4                   146.082425\n",
       "5                   144.460600\n",
       "6                   155.238673\n",
       "7                   153.464051\n",
       "8                   150.159838\n",
       "9                   136.265702\n",
       "10                  149.020887\n",
       "11                  169.020795\n",
       "12                  141.357758"
      ]
     },
     "execution_count": 37,
     "metadata": {},
     "output_type": "execute_result"
    }
   ],
   "source": [
    "df_ftp = df[ftp_cols].groupby('training_window_id').max().rename(columns={'peak_20min_power':'ftp_power'})\n",
    "df_ftp"
   ]
  },
  {
   "cell_type": "code",
   "execution_count": 39,
   "id": "7e6ba3be",
   "metadata": {},
   "outputs": [],
   "source": [
    "df = df.merge(df_ftp, on='training_window_id')"
   ]
  },
  {
   "cell_type": "markdown",
   "id": "3a742d2b",
   "metadata": {},
   "source": [
    "### Intensity Calculation"
   ]
  },
  {
   "cell_type": "code",
   "execution_count": 40,
   "id": "bf40eef1",
   "metadata": {},
   "outputs": [],
   "source": [
    "df['intensity'] = df['ride_avg_power'] / df['ftp_power']"
   ]
  },
  {
   "cell_type": "code",
   "execution_count": 42,
   "id": "470e6c19",
   "metadata": {},
   "outputs": [
    {
     "data": {
      "image/png": "[encoded data removed]",
      "text/plain": [
       "<Figure size 720x432 with 1 Axes>"
      ]
     },
     "metadata": {
      "needs_background": "light"
     },
     "output_type": "display_data"
    }
   ],
   "source": [
    "fig = plt.figure(figsize=(10,6))\n",
    "\n",
    "_ = sns.ecdfplot(data=df, x='intensity', hue='simple_exertion')\n",
    "_ = plt.grid()\n",
    "_ = plt.xlim([0,1])\n",
    "\n",
    "# A 170 Watt threshold would like work here"
   ]
  },
  {
   "cell_type": "code",
   "execution_count": null,
   "id": "17b56d0c",
   "metadata": {},
   "outputs": [],
   "source": []
  }
 ],
 "metadata": {
  "kernelspec": {
   "display_name": "Python 3 (ipykernel)",
   "language": "python",
   "name": "python3"
  },
  "language_info": {
   "codemirror_mode": {
    "name": "ipython",
    "version": 3
   },
   "file_extension": ".py",
   "mimetype": "text/x-python",
   "name": "python",
   "nbconvert_exporter": "python",
   "pygments_lexer": "ipython3",
   "version": "3.10.1"
  }
 },
 "nbformat": 4,
 "nbformat_minor": 5
}
