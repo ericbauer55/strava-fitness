{
 "cells": [
  {
   "cell_type": "code",
   "execution_count": 130,
   "id": "baa2a9a8",
   "metadata": {},
   "outputs": [],
   "source": [
    "import pandas as pd\n",
    "import numpy as np\n",
    "import matplotlib.pyplot as plt\n",
    "import seaborn as sns\n",
    "\n",
    "#pd.set_option(\"display.max_rows\", 1000)\n",
    "pd.set_option(\"display.max_columns\", 100)"
   ]
  },
  {
   "cell_type": "code",
   "execution_count": 131,
   "id": "4a203b76",
   "metadata": {},
   "outputs": [],
   "source": [
    "file_paths = {'in':'../../data/raw/activity_log.csv',\n",
    "              'out':'../../data/processed/activity_log.csv'\n",
    "             }"
   ]
  },
  {
   "cell_type": "code",
   "execution_count": 132,
   "id": "23e62329",
   "metadata": {},
   "outputs": [],
   "source": [
    "df = pd.read_csv(file_paths['in'])"
   ]
  },
  {
   "cell_type": "code",
   "execution_count": 133,
   "id": "c913cf0e",
   "metadata": {},
   "outputs": [
    {
     "data": {
      "text/plain": [
       "(284, 83)"
      ]
     },
     "execution_count": 133,
     "metadata": {},
     "output_type": "execute_result"
    }
   ],
   "source": [
    "df.shape"
   ]
  },
  {
   "cell_type": "code",
   "execution_count": 134,
   "id": "db6ea41f",
   "metadata": {},
   "outputs": [
    {
     "data": {
      "text/html": [
       "<div>\n",
       "<style scoped>\n",
       "    .dataframe tbody tr th:only-of-type {\n",
       "        vertical-align: middle;\n",
       "    }\n",
       "\n",
       "    .dataframe tbody tr th {\n",
       "        vertical-align: top;\n",
       "    }\n",
       "\n",
       "    .dataframe thead th {\n",
       "        text-align: right;\n",
       "    }\n",
       "</style>\n",
       "<table border=\"1\" class=\"dataframe\">\n",
       "  <thead>\n",
       "    <tr style=\"text-align: right;\">\n",
       "      <th></th>\n",
       "      <th>Activity ID</th>\n",
       "      <th>Activity Date</th>\n",
       "      <th>Activity Name</th>\n",
       "      <th>Activity Type</th>\n",
       "      <th>Activity Description</th>\n",
       "      <th>Elapsed Time</th>\n",
       "      <th>Distance</th>\n",
       "      <th>Max Heart Rate</th>\n",
       "      <th>Relative Effort</th>\n",
       "      <th>Commute</th>\n",
       "      <th>Activity Gear</th>\n",
       "      <th>Filename</th>\n",
       "      <th>Athlete Weight</th>\n",
       "      <th>Bike Weight</th>\n",
       "      <th>Elapsed Time.1</th>\n",
       "      <th>Moving Time</th>\n",
       "      <th>Distance.1</th>\n",
       "      <th>Max Speed</th>\n",
       "      <th>Average Speed</th>\n",
       "      <th>Elevation Gain</th>\n",
       "      <th>Elevation Loss</th>\n",
       "      <th>Elevation Low</th>\n",
       "      <th>Elevation High</th>\n",
       "      <th>Max Grade</th>\n",
       "      <th>Average Grade</th>\n",
       "      <th>Average Positive Grade</th>\n",
       "      <th>Average Negative Grade</th>\n",
       "      <th>Max Cadence</th>\n",
       "      <th>Average Cadence</th>\n",
       "      <th>Max Heart Rate.1</th>\n",
       "      <th>Average Heart Rate</th>\n",
       "      <th>Max Watts</th>\n",
       "      <th>Average Watts</th>\n",
       "      <th>Calories</th>\n",
       "      <th>Max Temperature</th>\n",
       "      <th>Average Temperature</th>\n",
       "      <th>Relative Effort.1</th>\n",
       "      <th>Total Work</th>\n",
       "      <th>Number of Runs</th>\n",
       "      <th>Uphill Time</th>\n",
       "      <th>Downhill Time</th>\n",
       "      <th>Other Time</th>\n",
       "      <th>Perceived Exertion</th>\n",
       "      <th>&lt;span class=\"translation_missing\" title=\"translation missing: en-US.lib.export.portability_exporter.activities.horton_values.type\"&gt;Type&lt;/span&gt;</th>\n",
       "      <th>&lt;span class=\"translation_missing\" title=\"translation missing: en-US.lib.export.portability_exporter.activities.horton_values.start_time\"&gt;Start Time&lt;/span&gt;</th>\n",
       "      <th>Weighted Average Power</th>\n",
       "      <th>Power Count</th>\n",
       "      <th>Prefer Perceived Exertion</th>\n",
       "      <th>Perceived Relative Effort</th>\n",
       "      <th>Commute.1</th>\n",
       "      <th>Total Weight Lifted</th>\n",
       "      <th>From Upload</th>\n",
       "      <th>Grade Adjusted Distance</th>\n",
       "      <th>Weather Observation Time</th>\n",
       "      <th>Weather Condition</th>\n",
       "      <th>Weather Temperature</th>\n",
       "      <th>Apparent Temperature</th>\n",
       "      <th>Dewpoint</th>\n",
       "      <th>Humidity</th>\n",
       "      <th>Weather Pressure</th>\n",
       "      <th>Wind Speed</th>\n",
       "      <th>Wind Gust</th>\n",
       "      <th>Wind Bearing</th>\n",
       "      <th>Precipitation Intensity</th>\n",
       "      <th>Sunrise Time</th>\n",
       "      <th>Sunset Time</th>\n",
       "      <th>Moon Phase</th>\n",
       "      <th>Bike</th>\n",
       "      <th>Gear</th>\n",
       "      <th>Precipitation Probability</th>\n",
       "      <th>Precipitation Type</th>\n",
       "      <th>Cloud Cover</th>\n",
       "      <th>Weather Visibility</th>\n",
       "      <th>UV Index</th>\n",
       "      <th>Weather Ozone</th>\n",
       "      <th>&lt;span class=\"translation_missing\" title=\"translation missing: en-US.lib.export.portability_exporter.activities.horton_values.jump_count\"&gt;Jump Count&lt;/span&gt;</th>\n",
       "      <th>&lt;span class=\"translation_missing\" title=\"translation missing: en-US.lib.export.portability_exporter.activities.horton_values.total_grit\"&gt;Total Grit&lt;/span&gt;</th>\n",
       "      <th>&lt;span class=\"translation_missing\" title=\"translation missing: en-US.lib.export.portability_exporter.activities.horton_values.avg_flow\"&gt;Avg Flow&lt;/span&gt;</th>\n",
       "      <th>&lt;span class=\"translation_missing\" title=\"translation missing: en-US.lib.export.portability_exporter.activities.horton_values.flagged\"&gt;Flagged&lt;/span&gt;</th>\n",
       "      <th>&lt;span class=\"translation_missing\" title=\"translation missing: en-US.lib.export.portability_exporter.activities.horton_values.avg_elapsed_speed\"&gt;Avg Elapsed Speed&lt;/span&gt;</th>\n",
       "      <th>&lt;span class=\"translation_missing\" title=\"translation missing: en-US.lib.export.portability_exporter.activities.horton_values.dirt_distance\"&gt;Dirt Distance&lt;/span&gt;</th>\n",
       "      <th>&lt;span class=\"translation_missing\" title=\"translation missing: en-US.lib.export.portability_exporter.activities.horton_values.newly_explored_distance\"&gt;Newly Explored Distance&lt;/span&gt;</th>\n",
       "      <th>&lt;span class=\"translation_missing\" title=\"translation missing: en-US.lib.export.portability_exporter.activities.horton_values.newly_explored_dirt_distance\"&gt;Newly Explored Dirt Distance&lt;/span&gt;</th>\n",
       "    </tr>\n",
       "  </thead>\n",
       "  <tbody>\n",
       "    <tr>\n",
       "      <th>0</th>\n",
       "      <td>1595697949</td>\n",
       "      <td>May 25, 2018, 7:47:31 PM</td>\n",
       "      <td>Rock wall</td>\n",
       "      <td>Ride</td>\n",
       "      <td>NaN</td>\n",
       "      <td>2578</td>\n",
       "      <td>11.25</td>\n",
       "      <td>NaN</td>\n",
       "      <td>NaN</td>\n",
       "      <td>False</td>\n",
       "      <td>NaN</td>\n",
       "      <td>activities/1595697949.gpx</td>\n",
       "      <td>89.811302</td>\n",
       "      <td>15.8757</td>\n",
       "      <td>2578.0</td>\n",
       "      <td>1908</td>\n",
       "      <td>11251.299800</td>\n",
       "      <td>10.0</td>\n",
       "      <td>NaN</td>\n",
       "      <td>43.765896</td>\n",
       "      <td>NaN</td>\n",
       "      <td>213.899994</td>\n",
       "      <td>227.300003</td>\n",
       "      <td>19.4</td>\n",
       "      <td>-0.047994</td>\n",
       "      <td>NaN</td>\n",
       "      <td>NaN</td>\n",
       "      <td>NaN</td>\n",
       "      <td>NaN</td>\n",
       "      <td>NaN</td>\n",
       "      <td>NaN</td>\n",
       "      <td>NaN</td>\n",
       "      <td>NaN</td>\n",
       "      <td>NaN</td>\n",
       "      <td>NaN</td>\n",
       "      <td>NaN</td>\n",
       "      <td>NaN</td>\n",
       "      <td>NaN</td>\n",
       "      <td>NaN</td>\n",
       "      <td>NaN</td>\n",
       "      <td>NaN</td>\n",
       "      <td>NaN</td>\n",
       "      <td>NaN</td>\n",
       "      <td>NaN</td>\n",
       "      <td>NaN</td>\n",
       "      <td>NaN</td>\n",
       "      <td>NaN</td>\n",
       "      <td>NaN</td>\n",
       "      <td>NaN</td>\n",
       "      <td>0.0</td>\n",
       "      <td>NaN</td>\n",
       "      <td>NaN</td>\n",
       "      <td>NaN</td>\n",
       "      <td>NaN</td>\n",
       "      <td>NaN</td>\n",
       "      <td>NaN</td>\n",
       "      <td>NaN</td>\n",
       "      <td>NaN</td>\n",
       "      <td>NaN</td>\n",
       "      <td>NaN</td>\n",
       "      <td>NaN</td>\n",
       "      <td>NaN</td>\n",
       "      <td>NaN</td>\n",
       "      <td>NaN</td>\n",
       "      <td>NaN</td>\n",
       "      <td>NaN</td>\n",
       "      <td>NaN</td>\n",
       "      <td>NaN</td>\n",
       "      <td>NaN</td>\n",
       "      <td>NaN</td>\n",
       "      <td>NaN</td>\n",
       "      <td>NaN</td>\n",
       "      <td>NaN</td>\n",
       "      <td>NaN</td>\n",
       "      <td>NaN</td>\n",
       "      <td>NaN</td>\n",
       "      <td>NaN</td>\n",
       "      <td>NaN</td>\n",
       "      <td>NaN</td>\n",
       "      <td>NaN</td>\n",
       "      <td>NaN</td>\n",
       "      <td>NaN</td>\n",
       "      <td>NaN</td>\n",
       "    </tr>\n",
       "    <tr>\n",
       "      <th>1</th>\n",
       "      <td>1617777375</td>\n",
       "      <td>Jun 4, 2018, 11:40:17 PM</td>\n",
       "      <td>Hole back from Grand view point</td>\n",
       "      <td>Hike</td>\n",
       "      <td>NaN</td>\n",
       "      <td>3775</td>\n",
       "      <td>5.13</td>\n",
       "      <td>NaN</td>\n",
       "      <td>NaN</td>\n",
       "      <td>False</td>\n",
       "      <td>NaN</td>\n",
       "      <td>activities/1617777375.gpx</td>\n",
       "      <td>89.811302</td>\n",
       "      <td>15.8757</td>\n",
       "      <td>3775.0</td>\n",
       "      <td>3640</td>\n",
       "      <td>5130.899902</td>\n",
       "      <td>2.8</td>\n",
       "      <td>NaN</td>\n",
       "      <td>26.226250</td>\n",
       "      <td>NaN</td>\n",
       "      <td>2086.000000</td>\n",
       "      <td>2278.500000</td>\n",
       "      <td>17.4</td>\n",
       "      <td>-3.667973</td>\n",
       "      <td>NaN</td>\n",
       "      <td>NaN</td>\n",
       "      <td>NaN</td>\n",
       "      <td>NaN</td>\n",
       "      <td>NaN</td>\n",
       "      <td>NaN</td>\n",
       "      <td>NaN</td>\n",
       "      <td>NaN</td>\n",
       "      <td>566.191467</td>\n",
       "      <td>NaN</td>\n",
       "      <td>NaN</td>\n",
       "      <td>NaN</td>\n",
       "      <td>NaN</td>\n",
       "      <td>NaN</td>\n",
       "      <td>NaN</td>\n",
       "      <td>NaN</td>\n",
       "      <td>NaN</td>\n",
       "      <td>NaN</td>\n",
       "      <td>NaN</td>\n",
       "      <td>NaN</td>\n",
       "      <td>NaN</td>\n",
       "      <td>NaN</td>\n",
       "      <td>NaN</td>\n",
       "      <td>NaN</td>\n",
       "      <td>0.0</td>\n",
       "      <td>NaN</td>\n",
       "      <td>NaN</td>\n",
       "      <td>NaN</td>\n",
       "      <td>NaN</td>\n",
       "      <td>NaN</td>\n",
       "      <td>NaN</td>\n",
       "      <td>NaN</td>\n",
       "      <td>NaN</td>\n",
       "      <td>NaN</td>\n",
       "      <td>NaN</td>\n",
       "      <td>NaN</td>\n",
       "      <td>NaN</td>\n",
       "      <td>NaN</td>\n",
       "      <td>NaN</td>\n",
       "      <td>NaN</td>\n",
       "      <td>NaN</td>\n",
       "      <td>NaN</td>\n",
       "      <td>NaN</td>\n",
       "      <td>NaN</td>\n",
       "      <td>NaN</td>\n",
       "      <td>NaN</td>\n",
       "      <td>NaN</td>\n",
       "      <td>NaN</td>\n",
       "      <td>NaN</td>\n",
       "      <td>NaN</td>\n",
       "      <td>NaN</td>\n",
       "      <td>NaN</td>\n",
       "      <td>NaN</td>\n",
       "      <td>NaN</td>\n",
       "      <td>NaN</td>\n",
       "      <td>NaN</td>\n",
       "      <td>NaN</td>\n",
       "      <td>NaN</td>\n",
       "    </tr>\n",
       "  </tbody>\n",
       "</table>\n",
       "</div>"
      ],
      "text/plain": [
       "   Activity ID             Activity Date                    Activity Name  \\\n",
       "0   1595697949  May 25, 2018, 7:47:31 PM                        Rock wall   \n",
       "1   1617777375  Jun 4, 2018, 11:40:17 PM  Hole back from Grand view point   \n",
       "\n",
       "  Activity Type Activity Description  Elapsed Time  Distance  Max Heart Rate  \\\n",
       "0          Ride                  NaN          2578     11.25             NaN   \n",
       "1          Hike                  NaN          3775      5.13             NaN   \n",
       "\n",
       "   Relative Effort  Commute Activity Gear                   Filename  \\\n",
       "0              NaN    False           NaN  activities/1595697949.gpx   \n",
       "1              NaN    False           NaN  activities/1617777375.gpx   \n",
       "\n",
       "   Athlete Weight  Bike Weight  Elapsed Time.1  Moving Time    Distance.1  \\\n",
       "0       89.811302      15.8757          2578.0         1908  11251.299800   \n",
       "1       89.811302      15.8757          3775.0         3640   5130.899902   \n",
       "\n",
       "   Max Speed  Average Speed  Elevation Gain  Elevation Loss  Elevation Low  \\\n",
       "0       10.0            NaN       43.765896             NaN     213.899994   \n",
       "1        2.8            NaN       26.226250             NaN    2086.000000   \n",
       "\n",
       "   Elevation High  Max Grade  Average Grade  Average Positive Grade  \\\n",
       "0      227.300003       19.4      -0.047994                     NaN   \n",
       "1     2278.500000       17.4      -3.667973                     NaN   \n",
       "\n",
       "   Average Negative Grade  Max Cadence  Average Cadence  Max Heart Rate.1  \\\n",
       "0                     NaN          NaN              NaN               NaN   \n",
       "1                     NaN          NaN              NaN               NaN   \n",
       "\n",
       "   Average Heart Rate  Max Watts  Average Watts    Calories  Max Temperature  \\\n",
       "0                 NaN        NaN            NaN         NaN              NaN   \n",
       "1                 NaN        NaN            NaN  566.191467              NaN   \n",
       "\n",
       "   Average Temperature  Relative Effort.1  Total Work  Number of Runs  \\\n",
       "0                  NaN                NaN         NaN             NaN   \n",
       "1                  NaN                NaN         NaN             NaN   \n",
       "\n",
       "   Uphill Time  Downhill Time  Other Time  Perceived Exertion  \\\n",
       "0          NaN            NaN         NaN                 NaN   \n",
       "1          NaN            NaN         NaN                 NaN   \n",
       "\n",
       "   <span class=\"translation_missing\" title=\"translation missing: en-US.lib.export.portability_exporter.activities.horton_values.type\">Type</span>  \\\n",
       "0                                                NaN                                                                                                \n",
       "1                                                NaN                                                                                                \n",
       "\n",
       "   <span class=\"translation_missing\" title=\"translation missing: en-US.lib.export.portability_exporter.activities.horton_values.start_time\">Start Time</span>  \\\n",
       "0                                                NaN                                                                                                            \n",
       "1                                                NaN                                                                                                            \n",
       "\n",
       "   Weighted Average Power  Power Count  Prefer Perceived Exertion  \\\n",
       "0                     NaN          NaN                        NaN   \n",
       "1                     NaN          NaN                        NaN   \n",
       "\n",
       "   Perceived Relative Effort  Commute.1  Total Weight Lifted  From Upload  \\\n",
       "0                        NaN        0.0                  NaN          NaN   \n",
       "1                        NaN        0.0                  NaN          NaN   \n",
       "\n",
       "   Grade Adjusted Distance  Weather Observation Time  Weather Condition  \\\n",
       "0                      NaN                       NaN                NaN   \n",
       "1                      NaN                       NaN                NaN   \n",
       "\n",
       "   Weather Temperature  Apparent Temperature  Dewpoint  Humidity  \\\n",
       "0                  NaN                   NaN       NaN       NaN   \n",
       "1                  NaN                   NaN       NaN       NaN   \n",
       "\n",
       "   Weather Pressure  Wind Speed  Wind Gust  Wind Bearing  \\\n",
       "0               NaN         NaN        NaN           NaN   \n",
       "1               NaN         NaN        NaN           NaN   \n",
       "\n",
       "   Precipitation Intensity  Sunrise Time  Sunset Time  Moon Phase  Bike  Gear  \\\n",
       "0                      NaN           NaN          NaN         NaN   NaN   NaN   \n",
       "1                      NaN           NaN          NaN         NaN   NaN   NaN   \n",
       "\n",
       "   Precipitation Probability  Precipitation Type  Cloud Cover  \\\n",
       "0                        NaN                 NaN          NaN   \n",
       "1                        NaN                 NaN          NaN   \n",
       "\n",
       "   Weather Visibility  UV Index  Weather Ozone  \\\n",
       "0                 NaN       NaN            NaN   \n",
       "1                 NaN       NaN            NaN   \n",
       "\n",
       "   <span class=\"translation_missing\" title=\"translation missing: en-US.lib.export.portability_exporter.activities.horton_values.jump_count\">Jump Count</span>  \\\n",
       "0                                                NaN                                                                                                            \n",
       "1                                                NaN                                                                                                            \n",
       "\n",
       "   <span class=\"translation_missing\" title=\"translation missing: en-US.lib.export.portability_exporter.activities.horton_values.total_grit\">Total Grit</span>  \\\n",
       "0                                                NaN                                                                                                            \n",
       "1                                                NaN                                                                                                            \n",
       "\n",
       "   <span class=\"translation_missing\" title=\"translation missing: en-US.lib.export.portability_exporter.activities.horton_values.avg_flow\">Avg Flow</span>  \\\n",
       "0                                                NaN                                                                                                        \n",
       "1                                                NaN                                                                                                        \n",
       "\n",
       "   <span class=\"translation_missing\" title=\"translation missing: en-US.lib.export.portability_exporter.activities.horton_values.flagged\">Flagged</span>  \\\n",
       "0                                                NaN                                                                                                      \n",
       "1                                                NaN                                                                                                      \n",
       "\n",
       "   <span class=\"translation_missing\" title=\"translation missing: en-US.lib.export.portability_exporter.activities.horton_values.avg_elapsed_speed\">Avg Elapsed Speed</span>  \\\n",
       "0                                                NaN                                                                                                                          \n",
       "1                                                NaN                                                                                                                          \n",
       "\n",
       "   <span class=\"translation_missing\" title=\"translation missing: en-US.lib.export.portability_exporter.activities.horton_values.dirt_distance\">Dirt Distance</span>  \\\n",
       "0                                                NaN                                                                                                                  \n",
       "1                                                NaN                                                                                                                  \n",
       "\n",
       "   <span class=\"translation_missing\" title=\"translation missing: en-US.lib.export.portability_exporter.activities.horton_values.newly_explored_distance\">Newly Explored Distance</span>  \\\n",
       "0                                                NaN                                                                                                                                      \n",
       "1                                                NaN                                                                                                                                      \n",
       "\n",
       "   <span class=\"translation_missing\" title=\"translation missing: en-US.lib.export.portability_exporter.activities.horton_values.newly_explored_dirt_distance\">Newly Explored Dirt Distance</span>  \n",
       "0                                                NaN                                                                                                                                               \n",
       "1                                                NaN                                                                                                                                               "
      ]
     },
     "execution_count": 134,
     "metadata": {},
     "output_type": "execute_result"
    }
   ],
   "source": [
    "df.head(2)"
   ]
  },
  {
   "cell_type": "markdown",
   "id": "87c922b3",
   "metadata": {},
   "source": [
    "# 1. Collecting Columns of Interest\n",
    "Not every column of the 83 is relevant. This will be the process to remove non-useful columns and normalize the names of the remaining"
   ]
  },
  {
   "cell_type": "code",
   "execution_count": 135,
   "id": "8fe4cac0",
   "metadata": {},
   "outputs": [
    {
     "name": "stdout",
     "output_type": "stream",
     "text": [
      "['Activity ID', 'Activity Date', 'Activity Name', 'Activity Type', 'Activity Description', 'Elapsed Time', 'Distance', 'Max Heart Rate', 'Relative Effort', 'Commute', 'Activity Gear', 'Filename', 'Athlete Weight', 'Bike Weight', 'Elapsed Time.1', 'Moving Time', 'Distance.1', 'Max Speed', 'Average Speed', 'Elevation Gain', 'Elevation Loss', 'Elevation Low', 'Elevation High', 'Max Grade', 'Average Grade', 'Average Positive Grade', 'Average Negative Grade', 'Max Cadence', 'Average Cadence', 'Max Heart Rate.1', 'Average Heart Rate', 'Max Watts', 'Average Watts', 'Calories', 'Max Temperature', 'Average Temperature', 'Relative Effort.1', 'Total Work', 'Number of Runs', 'Uphill Time', 'Downhill Time', 'Other Time', 'Perceived Exertion', '<span class=\"translation_missing\" title=\"translation missing: en-US.lib.export.portability_exporter.activities.horton_values.type\">Type</span>', '<span class=\"translation_missing\" title=\"translation missing: en-US.lib.export.portability_exporter.activities.horton_values.start_time\">Start Time</span>', 'Weighted Average Power', 'Power Count', 'Prefer Perceived Exertion', 'Perceived Relative Effort', 'Commute.1', 'Total Weight Lifted', 'From Upload', 'Grade Adjusted Distance', 'Weather Observation Time', 'Weather Condition', 'Weather Temperature', 'Apparent Temperature', 'Dewpoint', 'Humidity', 'Weather Pressure', 'Wind Speed', 'Wind Gust', 'Wind Bearing', 'Precipitation Intensity', 'Sunrise Time', 'Sunset Time', 'Moon Phase', 'Bike', 'Gear', 'Precipitation Probability', 'Precipitation Type', 'Cloud Cover', 'Weather Visibility', 'UV Index', 'Weather Ozone', '<span class=\"translation_missing\" title=\"translation missing: en-US.lib.export.portability_exporter.activities.horton_values.jump_count\">Jump Count</span>', '<span class=\"translation_missing\" title=\"translation missing: en-US.lib.export.portability_exporter.activities.horton_values.total_grit\">Total Grit</span>', '<span class=\"translation_missing\" title=\"translation missing: en-US.lib.export.portability_exporter.activities.horton_values.avg_flow\">Avg Flow</span>', '<span class=\"translation_missing\" title=\"translation missing: en-US.lib.export.portability_exporter.activities.horton_values.flagged\">Flagged</span>', '<span class=\"translation_missing\" title=\"translation missing: en-US.lib.export.portability_exporter.activities.horton_values.avg_elapsed_speed\">Avg Elapsed Speed</span>', '<span class=\"translation_missing\" title=\"translation missing: en-US.lib.export.portability_exporter.activities.horton_values.dirt_distance\">Dirt Distance</span>', '<span class=\"translation_missing\" title=\"translation missing: en-US.lib.export.portability_exporter.activities.horton_values.newly_explored_distance\">Newly Explored Distance</span>', '<span class=\"translation_missing\" title=\"translation missing: en-US.lib.export.portability_exporter.activities.horton_values.newly_explored_dirt_distance\">Newly Explored Dirt Distance</span>']\n"
     ]
    }
   ],
   "source": [
    "print(list(df.columns))"
   ]
  },
  {
   "cell_type": "code",
   "execution_count": 136,
   "id": "367e103c",
   "metadata": {},
   "outputs": [],
   "source": [
    "# remove any columns that contain \"<span\" in their name...\n",
    "cols_of_interest = [x for x in df.columns if '<span' not in x]"
   ]
  },
  {
   "cell_type": "code",
   "execution_count": 137,
   "id": "966d2789",
   "metadata": {},
   "outputs": [],
   "source": [
    "# subset the dataframe to remove these <span> columns\n",
    "df = df[cols_of_interest]"
   ]
  },
  {
   "cell_type": "code",
   "execution_count": 138,
   "id": "50097435",
   "metadata": {},
   "outputs": [
    {
     "name": "stdout",
     "output_type": "stream",
     "text": [
      "['Activity ID', 'Activity Date', 'Activity Name', 'Activity Type', 'Activity Description', 'Elapsed Time', 'Distance', 'Max Heart Rate', 'Relative Effort', 'Commute', 'Activity Gear', 'Filename', 'Athlete Weight', 'Bike Weight', 'Elapsed Time.1', 'Moving Time', 'Distance.1', 'Max Speed', 'Average Speed', 'Elevation Gain', 'Elevation Loss', 'Elevation Low', 'Elevation High', 'Max Grade', 'Average Grade', 'Average Positive Grade', 'Average Negative Grade', 'Max Cadence', 'Average Cadence', 'Max Heart Rate.1', 'Average Heart Rate', 'Max Watts', 'Average Watts', 'Calories', 'Max Temperature', 'Average Temperature', 'Relative Effort.1', 'Total Work', 'Number of Runs', 'Uphill Time', 'Downhill Time', 'Other Time', 'Perceived Exertion', 'Weighted Average Power', 'Power Count', 'Prefer Perceived Exertion', 'Perceived Relative Effort', 'Commute.1', 'Total Weight Lifted', 'From Upload', 'Grade Adjusted Distance', 'Weather Observation Time', 'Weather Condition', 'Weather Temperature', 'Apparent Temperature', 'Dewpoint', 'Humidity', 'Weather Pressure', 'Wind Speed', 'Wind Gust', 'Wind Bearing', 'Precipitation Intensity', 'Sunrise Time', 'Sunset Time', 'Moon Phase', 'Bike', 'Gear', 'Precipitation Probability', 'Precipitation Type', 'Cloud Cover', 'Weather Visibility', 'UV Index', 'Weather Ozone']\n"
     ]
    }
   ],
   "source": [
    "print(cols_of_interest)"
   ]
  },
  {
   "cell_type": "code",
   "execution_count": 139,
   "id": "d8858213",
   "metadata": {},
   "outputs": [
    {
     "name": "stdout",
     "output_type": "stream",
     "text": [
      "['activity_id', 'activity_date', 'activity_name', 'activity_type', 'activity_description', 'elapsed_time', 'distance', 'max_heart_rate', 'relative_effort', 'commute', 'activity_gear', 'filename', 'athlete_weight', 'bike_weight', 'elapsed_time_1', 'moving_time', 'distance_1', 'max_speed', 'average_speed', 'elevation_gain', 'elevation_loss', 'elevation_low', 'elevation_high', 'max_grade', 'average_grade', 'average_positive_grade', 'average_negative_grade', 'max_cadence', 'average_cadence', 'max_heart_rate_1', 'average_heart_rate', 'max_watts', 'average_watts', 'calories', 'max_temperature', 'average_temperature', 'relative_effort_1', 'total_work', 'number_of_runs', 'uphill_time', 'downhill_time', 'other_time', 'perceived_exertion', 'weighted_average_power', 'power_count', 'prefer_perceived_exertion', 'perceived_relative_effort', 'commute_1', 'total_weight_lifted', 'from_upload', 'grade_adjusted_distance', 'weather_observation_time', 'weather_condition', 'weather_temperature', 'apparent_temperature', 'dewpoint', 'humidity', 'weather_pressure', 'wind_speed', 'wind_gust', 'wind_bearing', 'precipitation_intensity', 'sunrise_time', 'sunset_time', 'moon_phase', 'bike', 'gear', 'precipitation_probability', 'precipitation_type', 'cloud_cover', 'weather_visibility', 'uv_index', 'weather_ozone']\n"
     ]
    }
   ],
   "source": [
    "# make all column names lower case. Additionally, replace any '.' or ' ' characters with '_'\n",
    "cols_of_interest = [x.lower().replace(' ','_').replace('.','_') for x in cols_of_interest]\n",
    "print(cols_of_interest)"
   ]
  },
  {
   "cell_type": "code",
   "execution_count": 140,
   "id": "770234bd",
   "metadata": {},
   "outputs": [
    {
     "name": "stdout",
     "output_type": "stream",
     "text": [
      "['activity_id', 'activity_date', 'activity_name', 'activity_type', 'activity_description', 'elapsed_time', 'distance', 'max_heart_rate', 'relative_effort', 'commute', 'activity_gear', 'filename', 'athlete_weight', 'bike_weight', 'elapsed_time_1', 'moving_time', 'distance_1', 'max_speed', 'avg_speed', 'elevation_gain', 'elevation_loss', 'elevation_low', 'elevation_high', 'max_grade', 'avg_grade', 'avg_positive_grade', 'avg_negative_grade', 'max_cadence', 'avg_cadence', 'max_heart_rate_1', 'avg_heart_rate', 'max_watts', 'avg_watts', 'calories', 'max_temperature', 'avg_temperature', 'relative_effort_1', 'total_work', 'number_of_runs', 'uphill_time', 'downhill_time', 'other_time', 'perceived_exertion', 'weighted_avg_power', 'power_count', 'prefer_perceived_exertion', 'perceived_relative_effort', 'commute_1', 'total_weight_lifted', 'from_upload', 'grade_adjusted_distance', 'weather_observation_time', 'weather_condition', 'weather_temperature', 'apparent_temperature', 'dewpoint', 'humidity', 'weather_pressure', 'wind_speed', 'wind_gust', 'wind_bearing', 'precipitation_intensity', 'sunrise_time', 'sunset_time', 'moon_phase', 'bike', 'gear', 'precipitation_probability', 'precipitation_type', 'cloud_cover', 'weather_visibility', 'uv_index', 'weather_ozone']\n"
     ]
    }
   ],
   "source": [
    "# Shorten the column names by replacing 'average' with 'avg'\n",
    "cols_of_interest = [x.replace('average','avg') for x in cols_of_interest]\n",
    "print(cols_of_interest)"
   ]
  },
  {
   "cell_type": "code",
   "execution_count": 141,
   "id": "ab5a1175",
   "metadata": {},
   "outputs": [],
   "source": [
    "# Rename the columns to their lower-case, shorter forms\n",
    "df.columns = cols_of_interest"
   ]
  },
  {
   "cell_type": "code",
   "execution_count": 142,
   "id": "1ba6dcf6",
   "metadata": {},
   "outputs": [
    {
     "data": {
      "text/html": [
       "<div>\n",
       "<style scoped>\n",
       "    .dataframe tbody tr th:only-of-type {\n",
       "        vertical-align: middle;\n",
       "    }\n",
       "\n",
       "    .dataframe tbody tr th {\n",
       "        vertical-align: top;\n",
       "    }\n",
       "\n",
       "    .dataframe thead th {\n",
       "        text-align: right;\n",
       "    }\n",
       "</style>\n",
       "<table border=\"1\" class=\"dataframe\">\n",
       "  <thead>\n",
       "    <tr style=\"text-align: right;\">\n",
       "      <th></th>\n",
       "      <th>activity_id</th>\n",
       "      <th>activity_date</th>\n",
       "      <th>activity_name</th>\n",
       "      <th>activity_type</th>\n",
       "      <th>activity_description</th>\n",
       "      <th>elapsed_time</th>\n",
       "      <th>distance</th>\n",
       "      <th>max_heart_rate</th>\n",
       "      <th>relative_effort</th>\n",
       "      <th>commute</th>\n",
       "      <th>activity_gear</th>\n",
       "      <th>filename</th>\n",
       "      <th>athlete_weight</th>\n",
       "      <th>bike_weight</th>\n",
       "      <th>elapsed_time_1</th>\n",
       "      <th>moving_time</th>\n",
       "      <th>distance_1</th>\n",
       "      <th>max_speed</th>\n",
       "      <th>avg_speed</th>\n",
       "      <th>elevation_gain</th>\n",
       "      <th>elevation_loss</th>\n",
       "      <th>elevation_low</th>\n",
       "      <th>elevation_high</th>\n",
       "      <th>max_grade</th>\n",
       "      <th>avg_grade</th>\n",
       "      <th>avg_positive_grade</th>\n",
       "      <th>avg_negative_grade</th>\n",
       "      <th>max_cadence</th>\n",
       "      <th>avg_cadence</th>\n",
       "      <th>max_heart_rate_1</th>\n",
       "      <th>avg_heart_rate</th>\n",
       "      <th>max_watts</th>\n",
       "      <th>avg_watts</th>\n",
       "      <th>calories</th>\n",
       "      <th>max_temperature</th>\n",
       "      <th>avg_temperature</th>\n",
       "      <th>relative_effort_1</th>\n",
       "      <th>total_work</th>\n",
       "      <th>number_of_runs</th>\n",
       "      <th>uphill_time</th>\n",
       "      <th>downhill_time</th>\n",
       "      <th>other_time</th>\n",
       "      <th>perceived_exertion</th>\n",
       "      <th>weighted_avg_power</th>\n",
       "      <th>power_count</th>\n",
       "      <th>prefer_perceived_exertion</th>\n",
       "      <th>perceived_relative_effort</th>\n",
       "      <th>commute_1</th>\n",
       "      <th>total_weight_lifted</th>\n",
       "      <th>from_upload</th>\n",
       "      <th>grade_adjusted_distance</th>\n",
       "      <th>weather_observation_time</th>\n",
       "      <th>weather_condition</th>\n",
       "      <th>weather_temperature</th>\n",
       "      <th>apparent_temperature</th>\n",
       "      <th>dewpoint</th>\n",
       "      <th>humidity</th>\n",
       "      <th>weather_pressure</th>\n",
       "      <th>wind_speed</th>\n",
       "      <th>wind_gust</th>\n",
       "      <th>wind_bearing</th>\n",
       "      <th>precipitation_intensity</th>\n",
       "      <th>sunrise_time</th>\n",
       "      <th>sunset_time</th>\n",
       "      <th>moon_phase</th>\n",
       "      <th>bike</th>\n",
       "      <th>gear</th>\n",
       "      <th>precipitation_probability</th>\n",
       "      <th>precipitation_type</th>\n",
       "      <th>cloud_cover</th>\n",
       "      <th>weather_visibility</th>\n",
       "      <th>uv_index</th>\n",
       "      <th>weather_ozone</th>\n",
       "    </tr>\n",
       "  </thead>\n",
       "  <tbody>\n",
       "    <tr>\n",
       "      <th>0</th>\n",
       "      <td>1595697949</td>\n",
       "      <td>May 25, 2018, 7:47:31 PM</td>\n",
       "      <td>Rock wall</td>\n",
       "      <td>Ride</td>\n",
       "      <td>NaN</td>\n",
       "      <td>2578</td>\n",
       "      <td>11.25</td>\n",
       "      <td>NaN</td>\n",
       "      <td>NaN</td>\n",
       "      <td>False</td>\n",
       "      <td>NaN</td>\n",
       "      <td>activities/1595697949.gpx</td>\n",
       "      <td>89.811302</td>\n",
       "      <td>15.8757</td>\n",
       "      <td>2578.0</td>\n",
       "      <td>1908</td>\n",
       "      <td>11251.299800</td>\n",
       "      <td>10.0</td>\n",
       "      <td>NaN</td>\n",
       "      <td>43.765896</td>\n",
       "      <td>NaN</td>\n",
       "      <td>213.899994</td>\n",
       "      <td>227.300003</td>\n",
       "      <td>19.4</td>\n",
       "      <td>-0.047994</td>\n",
       "      <td>NaN</td>\n",
       "      <td>NaN</td>\n",
       "      <td>NaN</td>\n",
       "      <td>NaN</td>\n",
       "      <td>NaN</td>\n",
       "      <td>NaN</td>\n",
       "      <td>NaN</td>\n",
       "      <td>NaN</td>\n",
       "      <td>NaN</td>\n",
       "      <td>NaN</td>\n",
       "      <td>NaN</td>\n",
       "      <td>NaN</td>\n",
       "      <td>NaN</td>\n",
       "      <td>NaN</td>\n",
       "      <td>NaN</td>\n",
       "      <td>NaN</td>\n",
       "      <td>NaN</td>\n",
       "      <td>NaN</td>\n",
       "      <td>NaN</td>\n",
       "      <td>NaN</td>\n",
       "      <td>NaN</td>\n",
       "      <td>NaN</td>\n",
       "      <td>0.0</td>\n",
       "      <td>NaN</td>\n",
       "      <td>NaN</td>\n",
       "      <td>NaN</td>\n",
       "      <td>NaN</td>\n",
       "      <td>NaN</td>\n",
       "      <td>NaN</td>\n",
       "      <td>NaN</td>\n",
       "      <td>NaN</td>\n",
       "      <td>NaN</td>\n",
       "      <td>NaN</td>\n",
       "      <td>NaN</td>\n",
       "      <td>NaN</td>\n",
       "      <td>NaN</td>\n",
       "      <td>NaN</td>\n",
       "      <td>NaN</td>\n",
       "      <td>NaN</td>\n",
       "      <td>NaN</td>\n",
       "      <td>NaN</td>\n",
       "      <td>NaN</td>\n",
       "      <td>NaN</td>\n",
       "      <td>NaN</td>\n",
       "      <td>NaN</td>\n",
       "      <td>NaN</td>\n",
       "      <td>NaN</td>\n",
       "      <td>NaN</td>\n",
       "    </tr>\n",
       "    <tr>\n",
       "      <th>1</th>\n",
       "      <td>1617777375</td>\n",
       "      <td>Jun 4, 2018, 11:40:17 PM</td>\n",
       "      <td>Hole back from Grand view point</td>\n",
       "      <td>Hike</td>\n",
       "      <td>NaN</td>\n",
       "      <td>3775</td>\n",
       "      <td>5.13</td>\n",
       "      <td>NaN</td>\n",
       "      <td>NaN</td>\n",
       "      <td>False</td>\n",
       "      <td>NaN</td>\n",
       "      <td>activities/1617777375.gpx</td>\n",
       "      <td>89.811302</td>\n",
       "      <td>15.8757</td>\n",
       "      <td>3775.0</td>\n",
       "      <td>3640</td>\n",
       "      <td>5130.899902</td>\n",
       "      <td>2.8</td>\n",
       "      <td>NaN</td>\n",
       "      <td>26.226250</td>\n",
       "      <td>NaN</td>\n",
       "      <td>2086.000000</td>\n",
       "      <td>2278.500000</td>\n",
       "      <td>17.4</td>\n",
       "      <td>-3.667973</td>\n",
       "      <td>NaN</td>\n",
       "      <td>NaN</td>\n",
       "      <td>NaN</td>\n",
       "      <td>NaN</td>\n",
       "      <td>NaN</td>\n",
       "      <td>NaN</td>\n",
       "      <td>NaN</td>\n",
       "      <td>NaN</td>\n",
       "      <td>566.191467</td>\n",
       "      <td>NaN</td>\n",
       "      <td>NaN</td>\n",
       "      <td>NaN</td>\n",
       "      <td>NaN</td>\n",
       "      <td>NaN</td>\n",
       "      <td>NaN</td>\n",
       "      <td>NaN</td>\n",
       "      <td>NaN</td>\n",
       "      <td>NaN</td>\n",
       "      <td>NaN</td>\n",
       "      <td>NaN</td>\n",
       "      <td>NaN</td>\n",
       "      <td>NaN</td>\n",
       "      <td>0.0</td>\n",
       "      <td>NaN</td>\n",
       "      <td>NaN</td>\n",
       "      <td>NaN</td>\n",
       "      <td>NaN</td>\n",
       "      <td>NaN</td>\n",
       "      <td>NaN</td>\n",
       "      <td>NaN</td>\n",
       "      <td>NaN</td>\n",
       "      <td>NaN</td>\n",
       "      <td>NaN</td>\n",
       "      <td>NaN</td>\n",
       "      <td>NaN</td>\n",
       "      <td>NaN</td>\n",
       "      <td>NaN</td>\n",
       "      <td>NaN</td>\n",
       "      <td>NaN</td>\n",
       "      <td>NaN</td>\n",
       "      <td>NaN</td>\n",
       "      <td>NaN</td>\n",
       "      <td>NaN</td>\n",
       "      <td>NaN</td>\n",
       "      <td>NaN</td>\n",
       "      <td>NaN</td>\n",
       "      <td>NaN</td>\n",
       "      <td>NaN</td>\n",
       "    </tr>\n",
       "  </tbody>\n",
       "</table>\n",
       "</div>"
      ],
      "text/plain": [
       "   activity_id             activity_date                    activity_name  \\\n",
       "0   1595697949  May 25, 2018, 7:47:31 PM                        Rock wall   \n",
       "1   1617777375  Jun 4, 2018, 11:40:17 PM  Hole back from Grand view point   \n",
       "\n",
       "  activity_type activity_description  elapsed_time  distance  max_heart_rate  \\\n",
       "0          Ride                  NaN          2578     11.25             NaN   \n",
       "1          Hike                  NaN          3775      5.13             NaN   \n",
       "\n",
       "   relative_effort  commute activity_gear                   filename  \\\n",
       "0              NaN    False           NaN  activities/1595697949.gpx   \n",
       "1              NaN    False           NaN  activities/1617777375.gpx   \n",
       "\n",
       "   athlete_weight  bike_weight  elapsed_time_1  moving_time    distance_1  \\\n",
       "0       89.811302      15.8757          2578.0         1908  11251.299800   \n",
       "1       89.811302      15.8757          3775.0         3640   5130.899902   \n",
       "\n",
       "   max_speed  avg_speed  elevation_gain  elevation_loss  elevation_low  \\\n",
       "0       10.0        NaN       43.765896             NaN     213.899994   \n",
       "1        2.8        NaN       26.226250             NaN    2086.000000   \n",
       "\n",
       "   elevation_high  max_grade  avg_grade  avg_positive_grade  \\\n",
       "0      227.300003       19.4  -0.047994                 NaN   \n",
       "1     2278.500000       17.4  -3.667973                 NaN   \n",
       "\n",
       "   avg_negative_grade  max_cadence  avg_cadence  max_heart_rate_1  \\\n",
       "0                 NaN          NaN          NaN               NaN   \n",
       "1                 NaN          NaN          NaN               NaN   \n",
       "\n",
       "   avg_heart_rate  max_watts  avg_watts    calories  max_temperature  \\\n",
       "0             NaN        NaN        NaN         NaN              NaN   \n",
       "1             NaN        NaN        NaN  566.191467              NaN   \n",
       "\n",
       "   avg_temperature  relative_effort_1  total_work  number_of_runs  \\\n",
       "0              NaN                NaN         NaN             NaN   \n",
       "1              NaN                NaN         NaN             NaN   \n",
       "\n",
       "   uphill_time  downhill_time  other_time  perceived_exertion  \\\n",
       "0          NaN            NaN         NaN                 NaN   \n",
       "1          NaN            NaN         NaN                 NaN   \n",
       "\n",
       "   weighted_avg_power  power_count  prefer_perceived_exertion  \\\n",
       "0                 NaN          NaN                        NaN   \n",
       "1                 NaN          NaN                        NaN   \n",
       "\n",
       "   perceived_relative_effort  commute_1  total_weight_lifted  from_upload  \\\n",
       "0                        NaN        0.0                  NaN          NaN   \n",
       "1                        NaN        0.0                  NaN          NaN   \n",
       "\n",
       "   grade_adjusted_distance  weather_observation_time  weather_condition  \\\n",
       "0                      NaN                       NaN                NaN   \n",
       "1                      NaN                       NaN                NaN   \n",
       "\n",
       "   weather_temperature  apparent_temperature  dewpoint  humidity  \\\n",
       "0                  NaN                   NaN       NaN       NaN   \n",
       "1                  NaN                   NaN       NaN       NaN   \n",
       "\n",
       "   weather_pressure  wind_speed  wind_gust  wind_bearing  \\\n",
       "0               NaN         NaN        NaN           NaN   \n",
       "1               NaN         NaN        NaN           NaN   \n",
       "\n",
       "   precipitation_intensity  sunrise_time  sunset_time  moon_phase  bike  gear  \\\n",
       "0                      NaN           NaN          NaN         NaN   NaN   NaN   \n",
       "1                      NaN           NaN          NaN         NaN   NaN   NaN   \n",
       "\n",
       "   precipitation_probability  precipitation_type  cloud_cover  \\\n",
       "0                        NaN                 NaN          NaN   \n",
       "1                        NaN                 NaN          NaN   \n",
       "\n",
       "   weather_visibility  uv_index  weather_ozone  \n",
       "0                 NaN       NaN            NaN  \n",
       "1                 NaN       NaN            NaN  "
      ]
     },
     "execution_count": 142,
     "metadata": {},
     "output_type": "execute_result"
    }
   ],
   "source": [
    "df.head(2)"
   ]
  },
  {
   "cell_type": "markdown",
   "id": "c09ac26e",
   "metadata": {},
   "source": [
    "# 2. Checking Column Sparsity"
   ]
  },
  {
   "cell_type": "code",
   "execution_count": 143,
   "id": "b84176b9",
   "metadata": {},
   "outputs": [
    {
     "data": {
      "image/png": "[encoded data removed]",
      "text/plain": [
       "<Figure size 1080x648 with 2 Axes>"
      ]
     },
     "metadata": {
      "needs_background": "light"
     },
     "output_type": "display_data"
    }
   ],
   "source": [
    "fig = plt.figure(figsize=(15,9))\n",
    "_ = sns.heatmap(df.isna())"
   ]
  },
  {
   "cell_type": "code",
   "execution_count": 144,
   "id": "94a052d9",
   "metadata": {},
   "outputs": [
    {
     "name": "stdout",
     "output_type": "stream",
     "text": [
      "Removed 21 columns missing 100% of their data.\n",
      "There are 52 columns left.\n"
     ]
    }
   ],
   "source": [
    "# Check each column for 100% Sparsity (all rows == NULL) and remove the column if true\n",
    "n_cols_before = len(df.columns)\n",
    "non_null_columns = []\n",
    "\n",
    "for column in df.columns:\n",
    "    if np.mean(df[column].isna()) < 1.0:\n",
    "        non_null_columns.append(column)\n",
    "\n",
    "df = df[non_null_columns]\n",
    "print(f'Removed {n_cols_before-len(non_null_columns)} columns missing 100% of their data.')\n",
    "print(f'There are {len(non_null_columns)} columns left.')"
   ]
  },
  {
   "cell_type": "code",
   "execution_count": 145,
   "id": "2212711f",
   "metadata": {},
   "outputs": [
    {
     "data": {
      "image/png": "[encoded data removed]",
      "text/plain": [
       "<Figure size 864x648 with 2 Axes>"
      ]
     },
     "metadata": {
      "needs_background": "light"
     },
     "output_type": "display_data"
    }
   ],
   "source": [
    "fig = plt.figure(figsize=(12,9))\n",
    "_ = sns.heatmap(df.isna())"
   ]
  },
  {
   "cell_type": "markdown",
   "id": "92ef7d8b",
   "metadata": {},
   "source": [
    "# 3. Pandas Profiling"
   ]
  },
  {
   "cell_type": "code",
   "execution_count": 146,
   "id": "5c10993c",
   "metadata": {},
   "outputs": [
    {
     "data": {
      "application/vnd.jupyter.widget-view+json": {
       "model_id": "5a5ce933267d4cb49623aeccbb34fb5d",
       "version_major": 2,
       "version_minor": 0
      },
      "text/plain": [
       "Summarize dataset:   0%|          | 0/5 [00:00<?, ?it/s]"
      ]
     },
     "metadata": {},
     "output_type": "display_data"
    },
    {
     "data": {
      "application/vnd.jupyter.widget-view+json": {
       "model_id": "d7684e7a3b6943799bae0507b192f7bf",
       "version_major": 2,
       "version_minor": 0
      },
      "text/plain": [
       "Generate report structure:   0%|          | 0/1 [00:00<?, ?it/s]"
      ]
     },
     "metadata": {},
     "output_type": "display_data"
    },
    {
     "data": {
      "application/vnd.jupyter.widget-view+json": {
       "model_id": "539353d521a749afb2cfd4aae80ceb11",
       "version_major": 2,
       "version_minor": 0
      },
      "text/plain": [
       "Render HTML:   0%|          | 0/1 [00:00<?, ?it/s]"
      ]
     },
     "metadata": {},
     "output_type": "display_data"
    },
    {
     "data": {
      "application/vnd.jupyter.widget-view+json": {
       "model_id": "f706c162039f4a449be40268e9bbf40d",
       "version_major": 2,
       "version_minor": 0
      },
      "text/plain": [
       "Export report to file:   0%|          | 0/1 [00:00<?, ?it/s]"
      ]
     },
     "metadata": {},
     "output_type": "display_data"
    }
   ],
   "source": [
    "from pandas_profiling import ProfileReport\n",
    "prof = ProfileReport(df, minimal=True)\n",
    "prof.to_file(output_file='../../data/raw/profiled_activity_log.html')"
   ]
  },
  {
   "cell_type": "markdown",
   "id": "2f7d70a3",
   "metadata": {},
   "source": [
    "### Profiled Activity Log Observation\n",
    "- `activity_id` is a unique identifier (unique globally to all Strava activities)\n",
    "- `activity_date` is a useful column that can also generate Time-of-Day and Day-of-Week columns/insights\n",
    "- `activity_name` is not as useful, but the length of the name can sometimes indicate how tired or rushed I was after finishing a ride\n",
    "- `activity_type` is composed of 259 rides that we care about\n",
    "- `activity_description` is not useful, but perhaps the len of it is?\n",
    "- `elapsed_time` is right skewed with a median time of nearly 1 hour. (units appear to be in seconds)\n",
    "- `distance` is again right skewed, but the median is 13.935. Units appear to be in kilometers. (This is verified by checking against a known 50 mile ride)\n",
    "- `commute` is useless. **DROP**\n",
    "- `activity_gear` lists which bike I used (2 options). Useful to match to the different masses of each bike, but that is recorded in `bike_weight` so this can be dropped. **DROP**\n",
    "- `filename` is a relative path the `activity_id`.gpx file. This is redundant. **DROP**\n",
    "- `athlete_weight` appears to my singular weight in kilograms. I will need to revise this with a better estimate over time. **DROP and revise**\n",
    "- `bike_weight` is the weight of my different bikes in kilograms\n",
    "- `elapsed_time_1` appears to mostly be redudant to `elapsed_time`, however there are 18 missing values which could explain the slight quartile differences. **DROP**\n",
    "- `moving_time` is the subset of `elapsed_time` in which I was actually biking.\n",
    "- `distance_1` is the distance in meters. **DROP**\n",
    "- `max_speed` is the max speed of a ride in meters per second. These values seem to be very tightly distributed with low skew and a few outliers\n",
    "- `avg_speed` is the mean speed of a ride in meters per second (median value of this column is 5.35 m/s --> 11.96 MPH). This is left skewed with a sharp fall off for faster average rides\n",
    "- `elevation_gain` is the cumulative ascent in meters\n",
    "- `elevation_loss` is the cumulative descent, also in meters\n",
    "- `elevation_low` and `elevation_high` are the min and max elevations for a ride, in meters. These are probably not too useful, but keep them for now.\n",
    "- `max_grade` and `avg_grade` are the max and average % slope of the terrain seen over the ride (unitless)\n",
    "- `avg_watts` is the average power estimate of the ride as given by Strava. Seems to be normally distributed around a mean of 97.8 Watts and with a standard deviation of 16.044 Watts\n",
    "- `calories` is the estimated energy expended over the ride. Given by Strava. The shape of this distribution is similar to `distance` and `elapsed_time`\n",
    "- `perceived_exertion` is my user rating of \"ride difficulty\" when submitting the ride. Strava has a scale for it. Ranges from 1 to 10 as integers\n",
    "    - Recommend transforming to 4 categories: EASY(<5), NORMAL(5 & 6), HARD(7 & 8), MAX(9 & 10)\n",
    "    - Check out the distributions of `avg_watts` for each category of exertion\n",
    "- `prefer_perceived_exertion` is not clearly useful **DROP**\n",
    "- `perceived_relative_effort` is a continuous scale that estimates how much cardiovascular work went into a ride ([link](https://support.strava.com/hc/en-us/articles/360000197364-Relative-Effort)). Since I lack heart rate date, this is based on `perceived_exertion`\n",
    "- `commute_1` useless again so **DROP**\n",
    "- `from_upload` is a flag that is True when the data is uploaded as a tracked activity. It is False when I upload an activity manually. This will be useful as a filter\n",
    "- `grade_adjusted_distance` is mostly missing and I'm not sure what it represents. **DROP**\n",
    "- `weather_observation_time` is a timestamp in UTC seconds. The first 90 values are missing because I was not a subscribed Strava member until April 26th, 2020.\n",
    "- `weather_condition` appears to be a categorical variable from 1 to 6. Not sure what each enumerated category is though. **DROP**\n",
    "- `weather_temperature` is the temperature at the observation time (Celcius)\n",
    "- `apparent_temperature` is likely the wind-chill adjust temperature (Celcius)\n",
    "- `dewpoint` the dewpoint is the temperature (Celcius) that air would need to be cooled to achieve 100% relative humidity. Dew points closer to the weather temperature will be more humid and oppressive to ride in\n",
    "- `humidity` seems to vary between 0.0 and 1.0, indicating it is the relative humidity\n",
    "- `weather_pressure` is the atmospheric pressure in what appears to be millibars\n",
    "- `wind_speed` is the speed component of wind velocity measured in meters per second\n",
    "- `wind_gust` is the peak gust speeds of the ride in meters per second\n",
    "- `wind_bearing` is the direction of the wind's velocity. It seems to be measured in degress where the mean value is 190. Since wind mostly came out of the West in Columbus, OH this might indicate that 180 is West?\n",
    "- `precipitation_intensity` is mostly 0 since I don't typically ride in the rain. **DROP**\n",
    "- `sunrise_time` is the UTC timestamp for sunrise\n",
    "- `sunset_time` is the UTC timestamp for sunset\n",
    "- `moon_phase` seems to be a percentage of the moon cycle. **DROP**\n",
    "- `bike` might be a UUID of my bikes on Strava **DROP**\n",
    "- `precipitation_probability` is not relevant... **DROP**\n",
    "- `precipitation_type` is a categorical variable that isn't relevant **DROP**\n",
    "- `cloud_cover` is the percentage of cloud cover on the ride. This could be good for a UV factor or relative shade factor, but probably isn't needed. **DROP**\n",
    "- `weather_visibility` is probably the range in meters of clear sight. **DROP**\n",
    "- `uv_index` is the scale from 0 to 9 of UV intensity. I probably didn't wear sunscreen for most of these rides. **DROP**\n",
    "- `weather_ozone` is probably the concentration of ozone in some metric units. **DROP**"
   ]
  },
  {
   "cell_type": "markdown",
   "id": "e6481f2d",
   "metadata": {},
   "source": [
    "# 4. Final Transformations\n",
    "**Note**: we will keep metric units as the same units unless for plotting purposes. This is because the Average Power is in Watts, a metric quantity"
   ]
  },
  {
   "cell_type": "markdown",
   "id": "286b0cae",
   "metadata": {},
   "source": [
    "## 4a. Grabbing the Columns of Interest"
   ]
  },
  {
   "cell_type": "code",
   "execution_count": 147,
   "id": "2d1af27f",
   "metadata": {},
   "outputs": [],
   "source": [
    "cols_to_keep = ['activity_id', 'activity_date', 'activity_name', 'activity_type', 'activity_description', 'from_upload',\n",
    "                'elapsed_time', 'distance', 'bike_weight', 'moving_time', 'max_speed', 'avg_speed', \n",
    "                'elevation_gain', 'elevation_loss', 'elevation_low', 'elevation_high', 'max_grade', 'avg_grade', \n",
    "                'avg_watts', 'calories', 'perceived_exertion', 'perceived_relative_effort',\n",
    "                'weather_observation_time', 'weather_temperature','apparent_temperature','humidity','weather_pressure', \n",
    "                'wind_speed', 'wind_gust', 'wind_bearing', 'sunrise_time', 'sunset_time',\n",
    "               ]"
   ]
  },
  {
   "cell_type": "code",
   "execution_count": 148,
   "id": "c55dd18b",
   "metadata": {},
   "outputs": [],
   "source": [
    "df = df[cols_to_keep]"
   ]
  },
  {
   "cell_type": "markdown",
   "id": "c9f584da",
   "metadata": {},
   "source": [
    "## 4b. Filtering out for Tracked Rides\n",
    "I only want to analyze the bike ride activities that were not manually uploaded"
   ]
  },
  {
   "cell_type": "code",
   "execution_count": 149,
   "id": "ee92e993",
   "metadata": {},
   "outputs": [],
   "source": [
    "# construct the filters\n",
    "filt_ride_type = df.loc[:,'activity_type'] == 'Ride'\n",
    "filt_non_manual_upload = df.loc[:, 'from_upload'] == 1\n",
    "filt_overall = filt_ride_type & filt_non_manual_upload"
   ]
  },
  {
   "cell_type": "code",
   "execution_count": 150,
   "id": "3e173a8d",
   "metadata": {},
   "outputs": [],
   "source": [
    "# apply the filters\n",
    "df = df.loc[filt_overall, :].reset_index()"
   ]
  },
  {
   "cell_type": "code",
   "execution_count": 151,
   "id": "f4345322",
   "metadata": {},
   "outputs": [],
   "source": [
    "# get rid of these now constant columns\n",
    "df.drop(['activity_type','from_upload'], axis=1, inplace=True)"
   ]
  },
  {
   "cell_type": "code",
   "execution_count": 152,
   "id": "d122563b",
   "metadata": {},
   "outputs": [
    {
     "data": {
      "text/plain": [
       "(226, 31)"
      ]
     },
     "execution_count": 152,
     "metadata": {},
     "output_type": "execute_result"
    }
   ],
   "source": [
    "df.shape"
   ]
  },
  {
   "cell_type": "code",
   "execution_count": 153,
   "id": "52abf262",
   "metadata": {},
   "outputs": [
    {
     "data": {
      "image/png": "[encoded data removed]",
      "text/plain": [
       "<Figure size 720x432 with 2 Axes>"
      ]
     },
     "metadata": {
      "needs_background": "light"
     },
     "output_type": "display_data"
    }
   ],
   "source": [
    "fig = plt.figure(figsize=(10,6))\n",
    "_ = sns.heatmap(df.isna())"
   ]
  },
  {
   "cell_type": "code",
   "execution_count": null,
   "id": "95873d83",
   "metadata": {},
   "outputs": [],
   "source": []
  }
 ],
 "metadata": {
  "kernelspec": {
   "display_name": "Python 3 (ipykernel)",
   "language": "python",
   "name": "python3"
  },
  "language_info": {
   "codemirror_mode": {
    "name": "ipython",
    "version": 3
   },
   "file_extension": ".py",
   "mimetype": "text/x-python",
   "name": "python",
   "nbconvert_exporter": "python",
   "pygments_lexer": "ipython3",
   "version": "3.10.1"
  }
 },
 "nbformat": 4,
 "nbformat_minor": 5
}
