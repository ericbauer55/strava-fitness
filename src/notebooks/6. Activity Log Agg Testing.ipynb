{
 "cells": [
  {
   "cell_type": "code",
   "execution_count": 1,
   "id": "53c47ed6",
   "metadata": {},
   "outputs": [],
   "source": [
    "import pandas as pd\n",
    "import numpy as np\n",
    "import matplotlib.pyplot as plt\n",
    "import seaborn as sns\n",
    "\n",
    "#pd.set_option(\"display.max_rows\", 1000)\n",
    "pd.set_option(\"display.max_columns\", 100)"
   ]
  },
  {
   "cell_type": "code",
   "execution_count": 2,
   "id": "5a731670",
   "metadata": {},
   "outputs": [],
   "source": [
    "file_paths = {'in':'../../data/cleaned/activities/4439566437.csv'\n",
    "             }\n",
    "\n",
    "df = pd.read_csv(file_paths['in'])\n",
    "\n",
    "# guarantee the timestamps are datetime objects\n",
    "df['time'] = pd.to_datetime(df['time'])"
   ]
  },
  {
   "cell_type": "code",
   "execution_count": 3,
   "id": "bc31d2bd",
   "metadata": {},
   "outputs": [],
   "source": [
    "if 'index' in df.columns:\n",
    "    df.drop(['index'], axis=1, inplace=True)"
   ]
  },
  {
   "cell_type": "code",
   "execution_count": 4,
   "id": "b9e1674d",
   "metadata": {},
   "outputs": [
    {
     "data": {
      "text/html": [
       "<div>\n",
       "<style scoped>\n",
       "    .dataframe tbody tr th:only-of-type {\n",
       "        vertical-align: middle;\n",
       "    }\n",
       "\n",
       "    .dataframe tbody tr th {\n",
       "        vertical-align: top;\n",
       "    }\n",
       "\n",
       "    .dataframe thead th {\n",
       "        text-align: right;\n",
       "    }\n",
       "</style>\n",
       "<table border=\"1\" class=\"dataframe\">\n",
       "  <thead>\n",
       "    <tr style=\"text-align: right;\">\n",
       "      <th></th>\n",
       "      <th>time</th>\n",
       "      <th>ride_id</th>\n",
       "      <th>segment_id</th>\n",
       "      <th>elevation</th>\n",
       "      <th>latitude</th>\n",
       "      <th>longitude</th>\n",
       "      <th>elapsed_time</th>\n",
       "      <th>delta_time</th>\n",
       "      <th>moving_time</th>\n",
       "      <th>delta_dist</th>\n",
       "      <th>heading</th>\n",
       "      <th>speed</th>\n",
       "      <th>is_cruising</th>\n",
       "      <th>grade</th>\n",
       "      <th>elapsed_ascent</th>\n",
       "      <th>elapsed_descent</th>\n",
       "      <th>elapsed_elevation</th>\n",
       "      <th>training_window_id</th>\n",
       "      <th>filt_speed</th>\n",
       "      <th>filt_grade</th>\n",
       "      <th>inst_power</th>\n",
       "    </tr>\n",
       "  </thead>\n",
       "  <tbody>\n",
       "    <tr>\n",
       "      <th>0</th>\n",
       "      <td>2020-12-06 18:36:38+00:00</td>\n",
       "      <td>4.439566e+09</td>\n",
       "      <td>0.0</td>\n",
       "      <td>884.8857</td>\n",
       "      <td>40.067950</td>\n",
       "      <td>-83.127786</td>\n",
       "      <td>1.0</td>\n",
       "      <td>1.0</td>\n",
       "      <td>1.0</td>\n",
       "      <td>NaN</td>\n",
       "      <td>NaN</td>\n",
       "      <td>6.259034</td>\n",
       "      <td>False</td>\n",
       "      <td>0.0</td>\n",
       "      <td>0.0</td>\n",
       "      <td>0.0</td>\n",
       "      <td>0.0</td>\n",
       "      <td>6</td>\n",
       "      <td>3.172414</td>\n",
       "      <td>0.0</td>\n",
       "      <td>8.172834</td>\n",
       "    </tr>\n",
       "    <tr>\n",
       "      <th>1</th>\n",
       "      <td>2020-12-06 18:36:39+00:00</td>\n",
       "      <td>4.439566e+09</td>\n",
       "      <td>0.0</td>\n",
       "      <td>884.8857</td>\n",
       "      <td>40.067975</td>\n",
       "      <td>-83.127779</td>\n",
       "      <td>2.0</td>\n",
       "      <td>1.0</td>\n",
       "      <td>2.0</td>\n",
       "      <td>0.001739</td>\n",
       "      <td>72.979474</td>\n",
       "      <td>6.259034</td>\n",
       "      <td>False</td>\n",
       "      <td>0.0</td>\n",
       "      <td>0.0</td>\n",
       "      <td>0.0</td>\n",
       "      <td>0.0</td>\n",
       "      <td>6</td>\n",
       "      <td>4.504257</td>\n",
       "      <td>0.0</td>\n",
       "      <td>12.736414</td>\n",
       "    </tr>\n",
       "    <tr>\n",
       "      <th>2</th>\n",
       "      <td>2020-12-06 18:36:40+00:00</td>\n",
       "      <td>4.439566e+09</td>\n",
       "      <td>0.0</td>\n",
       "      <td>884.8857</td>\n",
       "      <td>40.067999</td>\n",
       "      <td>-83.127771</td>\n",
       "      <td>3.0</td>\n",
       "      <td>1.0</td>\n",
       "      <td>3.0</td>\n",
       "      <td>0.001739</td>\n",
       "      <td>72.979474</td>\n",
       "      <td>6.259034</td>\n",
       "      <td>False</td>\n",
       "      <td>0.0</td>\n",
       "      <td>0.0</td>\n",
       "      <td>0.0</td>\n",
       "      <td>0.0</td>\n",
       "      <td>6</td>\n",
       "      <td>5.225672</td>\n",
       "      <td>0.0</td>\n",
       "      <td>15.678322</td>\n",
       "    </tr>\n",
       "    <tr>\n",
       "      <th>3</th>\n",
       "      <td>2020-12-06 18:36:41+00:00</td>\n",
       "      <td>4.439566e+09</td>\n",
       "      <td>0.0</td>\n",
       "      <td>884.8857</td>\n",
       "      <td>40.068021</td>\n",
       "      <td>-83.127801</td>\n",
       "      <td>4.0</td>\n",
       "      <td>1.0</td>\n",
       "      <td>4.0</td>\n",
       "      <td>0.002197</td>\n",
       "      <td>143.746162</td>\n",
       "      <td>7.909226</td>\n",
       "      <td>False</td>\n",
       "      <td>0.0</td>\n",
       "      <td>0.0</td>\n",
       "      <td>0.0</td>\n",
       "      <td>0.0</td>\n",
       "      <td>6</td>\n",
       "      <td>5.034892</td>\n",
       "      <td>0.0</td>\n",
       "      <td>14.863570</td>\n",
       "    </tr>\n",
       "    <tr>\n",
       "      <th>4</th>\n",
       "      <td>2020-12-06 18:36:42+00:00</td>\n",
       "      <td>4.439566e+09</td>\n",
       "      <td>0.0</td>\n",
       "      <td>884.8857</td>\n",
       "      <td>40.068023</td>\n",
       "      <td>-83.127808</td>\n",
       "      <td>5.0</td>\n",
       "      <td>1.0</td>\n",
       "      <td>5.0</td>\n",
       "      <td>0.000395</td>\n",
       "      <td>164.054604</td>\n",
       "      <td>1.422308</td>\n",
       "      <td>False</td>\n",
       "      <td>0.0</td>\n",
       "      <td>0.0</td>\n",
       "      <td>0.0</td>\n",
       "      <td>0.0</td>\n",
       "      <td>6</td>\n",
       "      <td>4.021185</td>\n",
       "      <td>0.0</td>\n",
       "      <td>10.963215</td>\n",
       "    </tr>\n",
       "  </tbody>\n",
       "</table>\n",
       "</div>"
      ],
      "text/plain": [
       "                       time       ride_id  segment_id  elevation   latitude  \\\n",
       "0 2020-12-06 18:36:38+00:00  4.439566e+09         0.0   884.8857  40.067950   \n",
       "1 2020-12-06 18:36:39+00:00  4.439566e+09         0.0   884.8857  40.067975   \n",
       "2 2020-12-06 18:36:40+00:00  4.439566e+09         0.0   884.8857  40.067999   \n",
       "3 2020-12-06 18:36:41+00:00  4.439566e+09         0.0   884.8857  40.068021   \n",
       "4 2020-12-06 18:36:42+00:00  4.439566e+09         0.0   884.8857  40.068023   \n",
       "\n",
       "   longitude  elapsed_time  delta_time  moving_time  delta_dist     heading  \\\n",
       "0 -83.127786           1.0         1.0          1.0         NaN         NaN   \n",
       "1 -83.127779           2.0         1.0          2.0    0.001739   72.979474   \n",
       "2 -83.127771           3.0         1.0          3.0    0.001739   72.979474   \n",
       "3 -83.127801           4.0         1.0          4.0    0.002197  143.746162   \n",
       "4 -83.127808           5.0         1.0          5.0    0.000395  164.054604   \n",
       "\n",
       "      speed  is_cruising  grade  elapsed_ascent  elapsed_descent  \\\n",
       "0  6.259034        False    0.0             0.0              0.0   \n",
       "1  6.259034        False    0.0             0.0              0.0   \n",
       "2  6.259034        False    0.0             0.0              0.0   \n",
       "3  7.909226        False    0.0             0.0              0.0   \n",
       "4  1.422308        False    0.0             0.0              0.0   \n",
       "\n",
       "   elapsed_elevation  training_window_id  filt_speed  filt_grade  inst_power  \n",
       "0                0.0                   6    3.172414         0.0    8.172834  \n",
       "1                0.0                   6    4.504257         0.0   12.736414  \n",
       "2                0.0                   6    5.225672         0.0   15.678322  \n",
       "3                0.0                   6    5.034892         0.0   14.863570  \n",
       "4                0.0                   6    4.021185         0.0   10.963215  "
      ]
     },
     "execution_count": 4,
     "metadata": {},
     "output_type": "execute_result"
    }
   ],
   "source": [
    "df.head()"
   ]
  },
  {
   "cell_type": "markdown",
   "id": "d0f71f9f",
   "metadata": {},
   "source": [
    "### Aggregation Ideas:\n",
    "\n",
    "- Start / End Times\n",
    "- Number of Rows, Segments\n",
    "- Final Elapsed Time (s)\n",
    "- Final Moving Time (s)\n",
    "- Final Elapsed Distance (mi)\n",
    "- Average Speed (MPH)\n",
    "- Cruising Speed (MPH)\n",
    "- Max Filtered Speed (MPH)\n",
    "- Total Elapsed Acscent, Descent, Elevation Changes\n",
    "- Training Window ID\n",
    "- Average Power\n",
    "- Best Avg.Power over 20 minute span (FTP)\n"
   ]
  },
  {
   "cell_type": "code",
   "execution_count": 13,
   "id": "a3b1e043",
   "metadata": {},
   "outputs": [],
   "source": [
    "df_a = pd.DataFrame(data=[{'key':0, 'color':'k'},{'key':1, 'color':'b'},{'key':2, 'color':'y'}])\n",
    "#df_a = df_a.set_index('key')"
   ]
  },
  {
   "cell_type": "code",
   "execution_count": 14,
   "id": "11ddd887",
   "metadata": {},
   "outputs": [],
   "source": [
    "df_b = pd.DataFrame(data=[{'key':0, 'count':12},{'key':1, 'count':44},{'key':2, 'count':25}])\n",
    "#df_b = df_b.set_index('key')"
   ]
  },
  {
   "cell_type": "code",
   "execution_count": 18,
   "id": "a19b8fce",
   "metadata": {},
   "outputs": [],
   "source": [
    "#df_a.merge(df_b, on='key')"
   ]
  },
  {
   "cell_type": "markdown",
   "id": "85620d43",
   "metadata": {},
   "source": [
    "# Ride Start/ End Times"
   ]
  },
  {
   "cell_type": "code",
   "execution_count": 16,
   "id": "aa41b427",
   "metadata": {},
   "outputs": [],
   "source": [
    "def get_time_endpoints(df):\n",
    "    start_time = df.loc[0, 'time']\n",
    "    end_time = df.loc[df.shape[0]-1, 'time']\n",
    "    agg_dict = {'start_time':start_time, 'end_time':end_time}\n",
    "    return agg_dict"
   ]
  },
  {
   "cell_type": "code",
   "execution_count": 17,
   "id": "4bbfc4fd",
   "metadata": {},
   "outputs": [
    {
     "data": {
      "text/plain": [
       "{'start_time': Timestamp('2020-12-06 18:36:38+0000', tz='UTC'),\n",
       " 'end_time': Timestamp('2020-12-06 18:36:38+0000', tz='UTC')}"
      ]
     },
     "execution_count": 17,
     "metadata": {},
     "output_type": "execute_result"
    }
   ],
   "source": [
    "get_time_endpoints(df)"
   ]
  },
  {
   "cell_type": "markdown",
   "id": "a5b42fc6",
   "metadata": {},
   "source": [
    "# Row/ Segment Counts"
   ]
  },
  {
   "cell_type": "code",
   "execution_count": 21,
   "id": "38143829",
   "metadata": {},
   "outputs": [],
   "source": [
    "def get_row_sequence_counts(df):\n",
    "    row_count = df.shape[0]\n",
    "    segment_count = len(df['segment_id'].unique())\n",
    "    agg_dict = {'row_count':row_count, 'segment_count':segment_count}\n",
    "    return agg_dict"
   ]
  },
  {
   "cell_type": "code",
   "execution_count": 22,
   "id": "ca5cf2c9",
   "metadata": {},
   "outputs": [
    {
     "data": {
      "text/plain": [
       "{'row_count': 7013, 'segment_count': 24}"
      ]
     },
     "execution_count": 22,
     "metadata": {},
     "output_type": "execute_result"
    }
   ],
   "source": [
    "get_row_sequence_counts(df)"
   ]
  },
  {
   "cell_type": "markdown",
   "id": "2435d690",
   "metadata": {},
   "source": [
    "# Elapsed Durations"
   ]
  },
  {
   "cell_type": "code",
   "execution_count": 34,
   "id": "3578edab",
   "metadata": {},
   "outputs": [],
   "source": [
    "def get_durations(df):\n",
    "    last_row = df.shape[0]-1\n",
    "    elapsed_time = df.loc[last_row, 'elapsed_time']\n",
    "    moving_time = df.loc[last_row, 'moving_time'] \n",
    "    elapsed_distance = df['delta_dist'].cumsum().iloc[last_row]\n",
    "    elapsed_ascent = df.loc[last_row, 'elapsed_ascent']\n",
    "    elapsed_descent = df.loc[last_row, 'elapsed_descent']\n",
    "    elapsed_elevation = df.loc[last_row, 'elapsed_elevation']\n",
    "    \n",
    "    agg_dict = {'ride_elapsed_time':elapsed_time, 'ride_moving_time':moving_time, 'elapsed_distance':elapsed_distance, \n",
    "                'elapsed_ascent':elapsed_ascent, 'elapsed_descent':elapsed_descent, 'elapsed_elevation':elapsed_elevation}\n",
    "    return agg_dict"
   ]
  },
  {
   "cell_type": "code",
   "execution_count": 35,
   "id": "53704b71",
   "metadata": {},
   "outputs": [
    {
     "data": {
      "text/plain": [
       "{'ride_elapsed_time': 8109.0,\n",
       " 'ride_moving_time': 7013.0,\n",
       " 'elapsed_distance': 23.87576344132953,\n",
       " 'elapsed_ascent': 727.0695999999989,\n",
       " 'elapsed_descent': 727.0695999999989,\n",
       " 'elapsed_elevation': 1454.1391999999978}"
      ]
     },
     "execution_count": 35,
     "metadata": {},
     "output_type": "execute_result"
    }
   ],
   "source": [
    "get_durations(df)"
   ]
  },
  {
   "cell_type": "markdown",
   "id": "604ea13f",
   "metadata": {},
   "source": [
    "# Speed Summary"
   ]
  },
  {
   "cell_type": "code",
   "execution_count": 36,
   "id": "c83e3877",
   "metadata": {},
   "outputs": [],
   "source": [
    "def get_speed_summary(df):\n",
    "    ride_avg_speed =  np.mean(df.loc[:, 'speed'])\n",
    "    \n",
    "    filt_cruising = df.loc[:,'is_cruising']==True\n",
    "    ride_cruise_speed = np.mean(df.loc[filt_cruising, 'speed'])\n",
    "    \n",
    "    ride_max_speed = np.max(df.loc[:, 'filt_speed'])\n",
    "    \n",
    "    agg_dict = {'ride_avg_speed':ride_avg_speed, 'ride_cruise_speed':ride_cruise_speed, 'ride_max_speed':ride_max_speed}\n",
    "    return agg_dict"
   ]
  },
  {
   "cell_type": "code",
   "execution_count": 37,
   "id": "36a6c8a6",
   "metadata": {},
   "outputs": [
    {
     "data": {
      "text/plain": [
       "{'ride_avg_speed': 12.269407362765472,\n",
       " 'ride_cruise_speed': 14.820174850339143,\n",
       " 'ride_max_speed': 26.626494943666746}"
      ]
     },
     "execution_count": 37,
     "metadata": {},
     "output_type": "execute_result"
    }
   ],
   "source": [
    "get_speed_summary(df)"
   ]
  },
  {
   "cell_type": "code",
   "execution_count": null,
   "id": "1c1573be",
   "metadata": {},
   "outputs": [],
   "source": []
  },
  {
   "cell_type": "code",
   "execution_count": null,
   "id": "7491a06c",
   "metadata": {},
   "outputs": [],
   "source": []
  }
 ],
 "metadata": {
  "kernelspec": {
   "display_name": "Python 3 (ipykernel)",
   "language": "python",
   "name": "python3"
  },
  "language_info": {
   "codemirror_mode": {
    "name": "ipython",
    "version": 3
   },
   "file_extension": ".py",
   "mimetype": "text/x-python",
   "name": "python",
   "nbconvert_exporter": "python",
   "pygments_lexer": "ipython3",
   "version": "3.10.1"
  }
 },
 "nbformat": 4,
 "nbformat_minor": 5
}
