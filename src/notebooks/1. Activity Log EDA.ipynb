{
 "cells": [
  {
   "cell_type": "markdown",
   "id": "c80a0821",
   "metadata": {},
   "source": [
    "# 0. Reading the Data"
   ]
  },
  {
   "cell_type": "code",
   "execution_count": 1,
   "id": "072fcdb7",
   "metadata": {},
   "outputs": [],
   "source": [
    "import pandas as pd\n",
    "import numpy as np\n",
    "import matplotlib.pyplot as plt\n",
    "import seaborn as sns\n",
    "\n",
    "#pd.set_option(\"display.max_rows\", 1000)\n",
    "pd.set_option(\"display.max_columns\", 100)"
   ]
  },
  {
   "cell_type": "code",
   "execution_count": 2,
   "id": "89c2e53f",
   "metadata": {},
   "outputs": [],
   "source": [
    "file_paths = {'in':'../../data/processed/activity_log.csv'\n",
    "             }"
   ]
  },
  {
   "cell_type": "code",
   "execution_count": 3,
   "id": "196f42a9",
   "metadata": {},
   "outputs": [],
   "source": [
    "df = pd.read_csv(file_paths['in'])"
   ]
  },
  {
   "cell_type": "code",
   "execution_count": 4,
   "id": "b37c3bf9",
   "metadata": {},
   "outputs": [
    {
     "data": {
      "text/html": [
       "<div>\n",
       "<style scoped>\n",
       "    .dataframe tbody tr th:only-of-type {\n",
       "        vertical-align: middle;\n",
       "    }\n",
       "\n",
       "    .dataframe tbody tr th {\n",
       "        vertical-align: top;\n",
       "    }\n",
       "\n",
       "    .dataframe thead th {\n",
       "        text-align: right;\n",
       "    }\n",
       "</style>\n",
       "<table border=\"1\" class=\"dataframe\">\n",
       "  <thead>\n",
       "    <tr style=\"text-align: right;\">\n",
       "      <th></th>\n",
       "      <th>ride_id</th>\n",
       "      <th>ride_date</th>\n",
       "      <th>elapsed_time</th>\n",
       "      <th>distance</th>\n",
       "      <th>bike_weight</th>\n",
       "      <th>moving_time</th>\n",
       "      <th>max_speed</th>\n",
       "      <th>avg_speed</th>\n",
       "      <th>elevation_gain</th>\n",
       "      <th>elevation_loss</th>\n",
       "      <th>elevation_low</th>\n",
       "      <th>elevation_high</th>\n",
       "      <th>max_grade</th>\n",
       "      <th>avg_grade</th>\n",
       "      <th>avg_power</th>\n",
       "      <th>calories</th>\n",
       "      <th>perceived_exertion</th>\n",
       "      <th>perceived_relative_effort</th>\n",
       "      <th>weather_observation_time</th>\n",
       "      <th>weather_temperature</th>\n",
       "      <th>apparent_temperature</th>\n",
       "      <th>humidity</th>\n",
       "      <th>weather_pressure</th>\n",
       "      <th>wind_speed</th>\n",
       "      <th>wind_gust</th>\n",
       "      <th>wind_bearing</th>\n",
       "      <th>sunrise_time</th>\n",
       "      <th>sunset_time</th>\n",
       "      <th>act_name_len</th>\n",
       "      <th>has_description</th>\n",
       "      <th>simple_exertion</th>\n",
       "    </tr>\n",
       "  </thead>\n",
       "  <tbody>\n",
       "    <tr>\n",
       "      <th>0</th>\n",
       "      <td>2975587283</td>\n",
       "      <td>2020-01-02 14:02:58</td>\n",
       "      <td>1642</td>\n",
       "      <td>8.49</td>\n",
       "      <td>15.8757</td>\n",
       "      <td>1411</td>\n",
       "      <td>9.0</td>\n",
       "      <td>6.023033</td>\n",
       "      <td>19.557501</td>\n",
       "      <td>NaN</td>\n",
       "      <td>220.199997</td>\n",
       "      <td>231.500000</td>\n",
       "      <td>5.300000</td>\n",
       "      <td>-0.005883</td>\n",
       "      <td>NaN</td>\n",
       "      <td>NaN</td>\n",
       "      <td>7.0</td>\n",
       "      <td>45.0</td>\n",
       "      <td>NaN</td>\n",
       "      <td>NaN</td>\n",
       "      <td>NaN</td>\n",
       "      <td>NaN</td>\n",
       "      <td>NaN</td>\n",
       "      <td>NaN</td>\n",
       "      <td>NaN</td>\n",
       "      <td>NaN</td>\n",
       "      <td>NaN</td>\n",
       "      <td>NaN</td>\n",
       "      <td>25</td>\n",
       "      <td>True</td>\n",
       "      <td>HARD</td>\n",
       "    </tr>\n",
       "    <tr>\n",
       "      <th>1</th>\n",
       "      <td>2992935347</td>\n",
       "      <td>2020-01-08 13:20:26</td>\n",
       "      <td>1728</td>\n",
       "      <td>8.42</td>\n",
       "      <td>15.8757</td>\n",
       "      <td>1472</td>\n",
       "      <td>14.2</td>\n",
       "      <td>5.725408</td>\n",
       "      <td>46.301785</td>\n",
       "      <td>NaN</td>\n",
       "      <td>217.899994</td>\n",
       "      <td>242.800003</td>\n",
       "      <td>5.300000</td>\n",
       "      <td>0.224258</td>\n",
       "      <td>NaN</td>\n",
       "      <td>NaN</td>\n",
       "      <td>NaN</td>\n",
       "      <td>NaN</td>\n",
       "      <td>NaN</td>\n",
       "      <td>NaN</td>\n",
       "      <td>NaN</td>\n",
       "      <td>NaN</td>\n",
       "      <td>NaN</td>\n",
       "      <td>NaN</td>\n",
       "      <td>NaN</td>\n",
       "      <td>NaN</td>\n",
       "      <td>NaN</td>\n",
       "      <td>NaN</td>\n",
       "      <td>18</td>\n",
       "      <td>True</td>\n",
       "      <td>NaN</td>\n",
       "    </tr>\n",
       "    <tr>\n",
       "      <th>2</th>\n",
       "      <td>2994399692</td>\n",
       "      <td>2020-01-08 22:08:17</td>\n",
       "      <td>1608</td>\n",
       "      <td>8.52</td>\n",
       "      <td>15.8757</td>\n",
       "      <td>1481</td>\n",
       "      <td>11.4</td>\n",
       "      <td>5.756246</td>\n",
       "      <td>26.526310</td>\n",
       "      <td>NaN</td>\n",
       "      <td>217.899994</td>\n",
       "      <td>242.899994</td>\n",
       "      <td>16.700001</td>\n",
       "      <td>-0.218182</td>\n",
       "      <td>NaN</td>\n",
       "      <td>NaN</td>\n",
       "      <td>NaN</td>\n",
       "      <td>NaN</td>\n",
       "      <td>NaN</td>\n",
       "      <td>NaN</td>\n",
       "      <td>NaN</td>\n",
       "      <td>NaN</td>\n",
       "      <td>NaN</td>\n",
       "      <td>NaN</td>\n",
       "      <td>NaN</td>\n",
       "      <td>NaN</td>\n",
       "      <td>NaN</td>\n",
       "      <td>NaN</td>\n",
       "      <td>19</td>\n",
       "      <td>True</td>\n",
       "      <td>NaN</td>\n",
       "    </tr>\n",
       "    <tr>\n",
       "      <th>3</th>\n",
       "      <td>3248077156</td>\n",
       "      <td>2020-04-02 21:38:02</td>\n",
       "      <td>5143</td>\n",
       "      <td>10.36</td>\n",
       "      <td>15.8757</td>\n",
       "      <td>2544</td>\n",
       "      <td>13.4</td>\n",
       "      <td>4.074764</td>\n",
       "      <td>72.450409</td>\n",
       "      <td>55.750401</td>\n",
       "      <td>241.500000</td>\n",
       "      <td>277.100006</td>\n",
       "      <td>32.099998</td>\n",
       "      <td>0.161101</td>\n",
       "      <td>NaN</td>\n",
       "      <td>NaN</td>\n",
       "      <td>5.0</td>\n",
       "      <td>45.0</td>\n",
       "      <td>NaN</td>\n",
       "      <td>NaN</td>\n",
       "      <td>NaN</td>\n",
       "      <td>NaN</td>\n",
       "      <td>NaN</td>\n",
       "      <td>NaN</td>\n",
       "      <td>NaN</td>\n",
       "      <td>NaN</td>\n",
       "      <td>NaN</td>\n",
       "      <td>NaN</td>\n",
       "      <td>27</td>\n",
       "      <td>False</td>\n",
       "      <td>NORMAL</td>\n",
       "    </tr>\n",
       "    <tr>\n",
       "      <th>4</th>\n",
       "      <td>3255473930</td>\n",
       "      <td>2020-04-04 17:23:43</td>\n",
       "      <td>9348</td>\n",
       "      <td>34.95</td>\n",
       "      <td>15.8757</td>\n",
       "      <td>6356</td>\n",
       "      <td>14.4</td>\n",
       "      <td>5.498946</td>\n",
       "      <td>105.704369</td>\n",
       "      <td>106.103996</td>\n",
       "      <td>263.200012</td>\n",
       "      <td>306.000000</td>\n",
       "      <td>27.900000</td>\n",
       "      <td>-0.001144</td>\n",
       "      <td>NaN</td>\n",
       "      <td>NaN</td>\n",
       "      <td>5.0</td>\n",
       "      <td>114.0</td>\n",
       "      <td>NaN</td>\n",
       "      <td>NaN</td>\n",
       "      <td>NaN</td>\n",
       "      <td>NaN</td>\n",
       "      <td>NaN</td>\n",
       "      <td>NaN</td>\n",
       "      <td>NaN</td>\n",
       "      <td>NaN</td>\n",
       "      <td>NaN</td>\n",
       "      <td>NaN</td>\n",
       "      <td>21</td>\n",
       "      <td>True</td>\n",
       "      <td>NORMAL</td>\n",
       "    </tr>\n",
       "  </tbody>\n",
       "</table>\n",
       "</div>"
      ],
      "text/plain": [
       "      ride_id            ride_date  elapsed_time  distance  bike_weight  \\\n",
       "0  2975587283  2020-01-02 14:02:58          1642      8.49      15.8757   \n",
       "1  2992935347  2020-01-08 13:20:26          1728      8.42      15.8757   \n",
       "2  2994399692  2020-01-08 22:08:17          1608      8.52      15.8757   \n",
       "3  3248077156  2020-04-02 21:38:02          5143     10.36      15.8757   \n",
       "4  3255473930  2020-04-04 17:23:43          9348     34.95      15.8757   \n",
       "\n",
       "   moving_time  max_speed  avg_speed  elevation_gain  elevation_loss  \\\n",
       "0         1411        9.0   6.023033       19.557501             NaN   \n",
       "1         1472       14.2   5.725408       46.301785             NaN   \n",
       "2         1481       11.4   5.756246       26.526310             NaN   \n",
       "3         2544       13.4   4.074764       72.450409       55.750401   \n",
       "4         6356       14.4   5.498946      105.704369      106.103996   \n",
       "\n",
       "   elevation_low  elevation_high  max_grade  avg_grade  avg_power  calories  \\\n",
       "0     220.199997      231.500000   5.300000  -0.005883        NaN       NaN   \n",
       "1     217.899994      242.800003   5.300000   0.224258        NaN       NaN   \n",
       "2     217.899994      242.899994  16.700001  -0.218182        NaN       NaN   \n",
       "3     241.500000      277.100006  32.099998   0.161101        NaN       NaN   \n",
       "4     263.200012      306.000000  27.900000  -0.001144        NaN       NaN   \n",
       "\n",
       "   perceived_exertion  perceived_relative_effort weather_observation_time  \\\n",
       "0                 7.0                       45.0                      NaN   \n",
       "1                 NaN                        NaN                      NaN   \n",
       "2                 NaN                        NaN                      NaN   \n",
       "3                 5.0                       45.0                      NaN   \n",
       "4                 5.0                      114.0                      NaN   \n",
       "\n",
       "   weather_temperature  apparent_temperature  humidity  weather_pressure  \\\n",
       "0                  NaN                   NaN       NaN               NaN   \n",
       "1                  NaN                   NaN       NaN               NaN   \n",
       "2                  NaN                   NaN       NaN               NaN   \n",
       "3                  NaN                   NaN       NaN               NaN   \n",
       "4                  NaN                   NaN       NaN               NaN   \n",
       "\n",
       "   wind_speed  wind_gust  wind_bearing sunrise_time sunset_time  act_name_len  \\\n",
       "0         NaN        NaN           NaN          NaN         NaN            25   \n",
       "1         NaN        NaN           NaN          NaN         NaN            18   \n",
       "2         NaN        NaN           NaN          NaN         NaN            19   \n",
       "3         NaN        NaN           NaN          NaN         NaN            27   \n",
       "4         NaN        NaN           NaN          NaN         NaN            21   \n",
       "\n",
       "   has_description simple_exertion  \n",
       "0             True            HARD  \n",
       "1             True             NaN  \n",
       "2             True             NaN  \n",
       "3            False          NORMAL  \n",
       "4             True          NORMAL  "
      ]
     },
     "execution_count": 4,
     "metadata": {},
     "output_type": "execute_result"
    }
   ],
   "source": [
    "df.head()"
   ]
  },
  {
   "cell_type": "code",
   "execution_count": 5,
   "id": "9f222ac9",
   "metadata": {},
   "outputs": [],
   "source": [
    "# Ensure that the timestamp columns are datetime objects, not strings\n",
    "make_timestamp = lambda x: pd.to_datetime(x)\n",
    "time_cols = ['ride_date', 'weather_observation_time', 'sunrise_time', 'sunset_time']\n",
    "\n",
    "for column in time_cols:\n",
    "    df[column] = make_timestamp(df[column])\n"
   ]
  },
  {
   "cell_type": "code",
   "execution_count": 6,
   "id": "be0b6c87",
   "metadata": {},
   "outputs": [
    {
     "name": "stdout",
     "output_type": "stream",
     "text": [
      "<class 'pandas.core.frame.DataFrame'>\n",
      "RangeIndex: 226 entries, 0 to 225\n",
      "Data columns (total 31 columns):\n",
      " #   Column                     Non-Null Count  Dtype         \n",
      "---  ------                     --------------  -----         \n",
      " 0   ride_id                    226 non-null    int64         \n",
      " 1   ride_date                  226 non-null    datetime64[ns]\n",
      " 2   elapsed_time               226 non-null    int64         \n",
      " 3   distance                   226 non-null    float64       \n",
      " 4   bike_weight                226 non-null    float64       \n",
      " 5   moving_time                226 non-null    int64         \n",
      " 6   max_speed                  226 non-null    float64       \n",
      " 7   avg_speed                  226 non-null    float64       \n",
      " 8   elevation_gain             223 non-null    float64       \n",
      " 9   elevation_loss             223 non-null    float64       \n",
      " 10  elevation_low              226 non-null    float64       \n",
      " 11  elevation_high             226 non-null    float64       \n",
      " 12  max_grade                  226 non-null    float64       \n",
      " 13  avg_grade                  226 non-null    float64       \n",
      " 14  avg_power                  209 non-null    float64       \n",
      " 15  calories                   209 non-null    float64       \n",
      " 16  perceived_exertion         186 non-null    float64       \n",
      " 17  perceived_relative_effort  186 non-null    float64       \n",
      " 18  weather_observation_time   193 non-null    datetime64[ns]\n",
      " 19  weather_temperature        193 non-null    float64       \n",
      " 20  apparent_temperature       193 non-null    float64       \n",
      " 21  humidity                   193 non-null    float64       \n",
      " 22  weather_pressure           193 non-null    float64       \n",
      " 23  wind_speed                 193 non-null    float64       \n",
      " 24  wind_gust                  193 non-null    float64       \n",
      " 25  wind_bearing               193 non-null    float64       \n",
      " 26  sunrise_time               193 non-null    datetime64[ns]\n",
      " 27  sunset_time                193 non-null    datetime64[ns]\n",
      " 28  act_name_len               226 non-null    int64         \n",
      " 29  has_description            226 non-null    bool          \n",
      " 30  simple_exertion            186 non-null    object        \n",
      "dtypes: bool(1), datetime64[ns](4), float64(21), int64(4), object(1)\n",
      "memory usage: 53.3+ KB\n"
     ]
    }
   ],
   "source": [
    "df.info()"
   ]
  },
  {
   "cell_type": "markdown",
   "id": "052c40eb",
   "metadata": {},
   "source": [
    "# 1. Rides over Time"
   ]
  },
  {
   "cell_type": "code",
   "execution_count": 9,
   "id": "9d6c2c0d",
   "metadata": {},
   "outputs": [],
   "source": [
    "# Create the distance over time dataframe\n",
    "# 1. Ensure we are in miles for the best intuition\n",
    "km2mi = 0.621371\n",
    "df_distance = df[['ride_date','distance']].copy()\n",
    "df_distance['distance_mi'] = km2mi * df['distance']\n",
    "\n",
    "# 2. Make sure the datetime column is the index\n",
    "df_distance = df_distance.set_index('ride_date').sort_index()"
   ]
  },
  {
   "cell_type": "code",
   "execution_count": 10,
   "id": "c44fbd7b",
   "metadata": {},
   "outputs": [
    {
     "data": {
      "text/plain": [
       "(729, 2)"
      ]
     },
     "execution_count": 10,
     "metadata": {},
     "output_type": "execute_result"
    }
   ],
   "source": [
    "# 2. Resample the distance travelled in a daily period\n",
    "# helpful reference: https://www.youtube.com/watch?v=l4dvMiSDBzs\n",
    "# We want LEFT closed-ness and labels since we want all data between [date k 00:00:00, date k+1 00:00:00)\n",
    "df_distance = df_distance.resample('D', closed='left', label='left').sum()\n",
    "df_distance.shape"
   ]
  },
  {
   "cell_type": "code",
   "execution_count": 11,
   "id": "fce0b0a8",
   "metadata": {},
   "outputs": [],
   "source": [
    "# 3. Get rid of the 0 sum entries that bloated the dataframe. (We don't want to plot them)\n",
    "filt_zero_distance = df_distance.loc[:,'distance_mi'] == 0.0\n",
    "df_distance = df_distance.loc[~filt_zero_distance, :]\n",
    "\n",
    "# 4. Reset the Index for plotting\n",
    "df_distance = df_distance.reset_index()"
   ]
  },
  {
   "cell_type": "code",
   "execution_count": 12,
   "id": "26095b0e",
   "metadata": {},
   "outputs": [
    {
     "data": {
      "image/png": "[encoded data removed]",
      "text/plain": [
       "<Figure size 864x576 with 1 Axes>"
      ]
     },
     "metadata": {
      "needs_background": "light"
     },
     "output_type": "display_data"
    }
   ],
   "source": [
    "fig = plt.figure(figsize=(12,8))\n",
    "_ = sns.scatterplot(x='ride_date', y='distance_mi', data=df_distance, s=50, alpha=0.8)\n",
    "_ = sns.rugplot(x='ride_date', data=df)\n",
    "_ = plt.grid()\n",
    "_ = plt.ylim([-2, 55])\n",
    "_ = plt.title('Daily Ride Mileage vs. Time', fontsize=20)\n",
    "_ = plt.xlabel('Time', fontsize=16)\n",
    "_ = plt.ylabel('Daily Distance (miles)', fontsize=16)"
   ]
  },
  {
   "cell_type": "markdown",
   "id": "9cc89aa0",
   "metadata": {},
   "source": [
    "# 2. Ride Difficulty over Time"
   ]
  },
  {
   "cell_type": "code",
   "execution_count": 13,
   "id": "7518811a",
   "metadata": {},
   "outputs": [],
   "source": [
    "df['distance_mi'] = km2mi * df['distance']"
   ]
  },
  {
   "cell_type": "code",
   "execution_count": 17,
   "id": "939094f3",
   "metadata": {},
   "outputs": [
    {
     "data": {
      "image/png": "[encoded data removed]",
      "text/plain": [
       "<Figure size 864x576 with 1 Axes>"
      ]
     },
     "metadata": {
      "needs_background": "light"
     },
     "output_type": "display_data"
    }
   ],
   "source": [
    "fig = plt.figure(figsize=(12,8))\n",
    "_ = sns.scatterplot(x='ride_date', y='distance_mi', data=df.sample(frac=1, random_state=42), s=50, \n",
    "                    alpha=0.8, hue='simple_exertion')\n",
    "_ = plt.grid()\n",
    "_ = plt.ylim([-2, 55])\n",
    "_ = plt.title('Ride Mileage vs. Time', fontsize=20)\n",
    "_ = plt.xlabel('Time', fontsize=16)\n",
    "_ = plt.ylabel('Distance (miles)', fontsize=16)"
   ]
  },
  {
   "cell_type": "code",
   "execution_count": null,
   "id": "51115488",
   "metadata": {},
   "outputs": [],
   "source": []
  },
  {
   "cell_type": "code",
   "execution_count": null,
   "id": "13309433",
   "metadata": {},
   "outputs": [],
   "source": []
  }
 ],
 "metadata": {
  "kernelspec": {
   "display_name": "Python 3 (ipykernel)",
   "language": "python",
   "name": "python3"
  },
  "language_info": {
   "codemirror_mode": {
    "name": "ipython",
    "version": 3
   },
   "file_extension": ".py",
   "mimetype": "text/x-python",
   "name": "python",
   "nbconvert_exporter": "python",
   "pygments_lexer": "ipython3",
   "version": "3.10.1"
  }
 },
 "nbformat": 4,
 "nbformat_minor": 5
}
